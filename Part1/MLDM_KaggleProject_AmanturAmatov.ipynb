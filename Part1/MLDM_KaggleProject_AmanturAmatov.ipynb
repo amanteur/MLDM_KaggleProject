{
  "nbformat": 4,
  "nbformat_minor": 0,
  "metadata": {
    "colab": {
      "name": "MLDM_KaggleProject.ipynb",
      "provenance": [],
      "collapsed_sections": [
        "DqnyrXZXfUv-",
        "RjKUwD3kugAN",
        "cI9eQkZop0GH"
      ],
      "toc_visible": true,
      "mount_file_id": "1lB15xCetfU4hR4WzIXfGEXhhtqIOEcHp",
      "authorship_tag": "ABX9TyNsSfTCD4goiCSx7aEHnTx+",
      "include_colab_link": true
    },
    "kernelspec": {
      "name": "python3",
      "display_name": "Python 3"
    },
    "language_info": {
      "name": "python"
    }
  },
  "cells": [
    {
      "cell_type": "markdown",
      "metadata": {
        "id": "view-in-github",
        "colab_type": "text"
      },
      "source": [
        "<a href=\"https://colab.research.google.com/github/amanteur/MLDM_KaggleProject/blob/main/MLDM_KaggleProject.ipynb\" target=\"_parent\"><img src=\"https://colab.research.google.com/assets/colab-badge.svg\" alt=\"Open In Colab\"/></a>"
      ]
    },
    {
      "cell_type": "code",
      "metadata": {
        "id": "2HD7skS6e-iL"
      },
      "source": [
        "import numpy as np\n",
        "import pandas as pd\n",
        "import matplotlib.pyplot as plt\n",
        "import seaborn as sns"
      ],
      "execution_count": 1,
      "outputs": []
    },
    {
      "cell_type": "code",
      "metadata": {
        "id": "CufewPkQf4ES"
      },
      "source": [
        "PATH = '/content/drive/MyDrive/datasets/kaggle_musrec/'"
      ],
      "execution_count": 2,
      "outputs": []
    },
    {
      "cell_type": "code",
      "metadata": {
        "id": "llJLHHjRfYxG"
      },
      "source": [
        "songs = pd.read_csv(PATH + 'songs.csv')\n",
        "members = pd.read_csv(PATH + 'members.csv', parse_dates=['registration_init_time', 'expiration_date'])\n",
        "songs_extra = pd.read_csv(PATH + 'song_extra_info.csv')\n",
        "train = pd.read_csv(PATH + 'train.csv')\n",
        "test = pd.read_csv(PATH + 'test.csv')"
      ],
      "execution_count": 3,
      "outputs": []
    },
    {
      "cell_type": "markdown",
      "metadata": {
        "id": "DqnyrXZXfUv-"
      },
      "source": [
        "# EDA"
      ]
    },
    {
      "cell_type": "markdown",
      "metadata": {
        "id": "mXOOMkYGiJKC"
      },
      "source": [
        "## Songs information"
      ]
    },
    {
      "cell_type": "code",
      "metadata": {
        "colab": {
          "base_uri": "https://localhost:8080/",
          "height": 330
        },
        "id": "RjYaejDYhRoU",
        "outputId": "e8b8948d-f4e3-4a93-9c78-a31e6136b3c5"
      },
      "source": [
        "songs.head()"
      ],
      "execution_count": 4,
      "outputs": [
        {
          "output_type": "execute_result",
          "data": {
            "text/html": [
              "<div>\n",
              "<style scoped>\n",
              "    .dataframe tbody tr th:only-of-type {\n",
              "        vertical-align: middle;\n",
              "    }\n",
              "\n",
              "    .dataframe tbody tr th {\n",
              "        vertical-align: top;\n",
              "    }\n",
              "\n",
              "    .dataframe thead th {\n",
              "        text-align: right;\n",
              "    }\n",
              "</style>\n",
              "<table border=\"1\" class=\"dataframe\">\n",
              "  <thead>\n",
              "    <tr style=\"text-align: right;\">\n",
              "      <th></th>\n",
              "      <th>song_id</th>\n",
              "      <th>song_length</th>\n",
              "      <th>genre_ids</th>\n",
              "      <th>artist_name</th>\n",
              "      <th>composer</th>\n",
              "      <th>lyricist</th>\n",
              "      <th>language</th>\n",
              "    </tr>\n",
              "  </thead>\n",
              "  <tbody>\n",
              "    <tr>\n",
              "      <th>0</th>\n",
              "      <td>CXoTN1eb7AI+DntdU1vbcwGRV4SCIDxZu+YD8JP8r4E=</td>\n",
              "      <td>247640</td>\n",
              "      <td>465</td>\n",
              "      <td>張信哲 (Jeff Chang)</td>\n",
              "      <td>董貞</td>\n",
              "      <td>何啟弘</td>\n",
              "      <td>3.0</td>\n",
              "    </tr>\n",
              "    <tr>\n",
              "      <th>1</th>\n",
              "      <td>o0kFgae9QtnYgRkVPqLJwa05zIhRlUjfF7O1tDw0ZDU=</td>\n",
              "      <td>197328</td>\n",
              "      <td>444</td>\n",
              "      <td>BLACKPINK</td>\n",
              "      <td>TEDDY|  FUTURE BOUNCE|  Bekuh BOOM</td>\n",
              "      <td>TEDDY</td>\n",
              "      <td>31.0</td>\n",
              "    </tr>\n",
              "    <tr>\n",
              "      <th>2</th>\n",
              "      <td>DwVvVurfpuz+XPuFvucclVQEyPqcpUkHR0ne1RQzPs0=</td>\n",
              "      <td>231781</td>\n",
              "      <td>465</td>\n",
              "      <td>SUPER JUNIOR</td>\n",
              "      <td>NaN</td>\n",
              "      <td>NaN</td>\n",
              "      <td>31.0</td>\n",
              "    </tr>\n",
              "    <tr>\n",
              "      <th>3</th>\n",
              "      <td>dKMBWoZyScdxSkihKG+Vf47nc18N9q4m58+b4e7dSSE=</td>\n",
              "      <td>273554</td>\n",
              "      <td>465</td>\n",
              "      <td>S.H.E</td>\n",
              "      <td>湯小康</td>\n",
              "      <td>徐世珍</td>\n",
              "      <td>3.0</td>\n",
              "    </tr>\n",
              "    <tr>\n",
              "      <th>4</th>\n",
              "      <td>W3bqWd3T+VeHFzHAUfARgW9AvVRaF4N5Yzm4Mr6Eo/o=</td>\n",
              "      <td>140329</td>\n",
              "      <td>726</td>\n",
              "      <td>貴族精選</td>\n",
              "      <td>Traditional</td>\n",
              "      <td>Traditional</td>\n",
              "      <td>52.0</td>\n",
              "    </tr>\n",
              "  </tbody>\n",
              "</table>\n",
              "</div>"
            ],
            "text/plain": [
              "                                        song_id  ...  language\n",
              "0  CXoTN1eb7AI+DntdU1vbcwGRV4SCIDxZu+YD8JP8r4E=  ...       3.0\n",
              "1  o0kFgae9QtnYgRkVPqLJwa05zIhRlUjfF7O1tDw0ZDU=  ...      31.0\n",
              "2  DwVvVurfpuz+XPuFvucclVQEyPqcpUkHR0ne1RQzPs0=  ...      31.0\n",
              "3  dKMBWoZyScdxSkihKG+Vf47nc18N9q4m58+b4e7dSSE=  ...       3.0\n",
              "4  W3bqWd3T+VeHFzHAUfARgW9AvVRaF4N5Yzm4Mr6Eo/o=  ...      52.0\n",
              "\n",
              "[5 rows x 7 columns]"
            ]
          },
          "metadata": {},
          "execution_count": 4
        }
      ]
    },
    {
      "cell_type": "markdown",
      "metadata": {
        "id": "_59joTeDicin"
      },
      "source": [
        "Let me move through every column in this Dataframe."
      ]
    },
    {
      "cell_type": "code",
      "metadata": {
        "colab": {
          "base_uri": "https://localhost:8080/"
        },
        "id": "G1zhEkkXiOfX",
        "outputId": "8e9fe0fc-d460-4a4f-808c-5d2735209931"
      },
      "source": [
        "?# checking NaNs\n",
        "songs.isna().sum()"
      ],
      "execution_count": null,
      "outputs": [
        {
          "output_type": "execute_result",
          "data": {
            "text/plain": [
              "song_id              0\n",
              "song_length          0\n",
              "genre_ids        94116\n",
              "artist_name          0\n",
              "composer       1071354\n",
              "lyricist       1945268\n",
              "language             1\n",
              "dtype: int64"
            ]
          },
          "metadata": {},
          "execution_count": 10
        }
      ]
    },
    {
      "cell_type": "markdown",
      "metadata": {
        "id": "gwEwlKK8j5pm"
      },
      "source": [
        "Songs length (in ms)"
      ]
    },
    {
      "cell_type": "code",
      "metadata": {
        "colab": {
          "base_uri": "https://localhost:8080/"
        },
        "id": "XcC1uTBNj7uG",
        "outputId": "5a02862b-5603-4ef4-f28f-1937835bf1b3"
      },
      "source": [
        "# finding the longest and the shortest songs\n",
        "min_song_length_sec = songs.song_length.min()/1000\n",
        "max_song_length_sec = songs.song_length.max()/1000\n",
        "\n",
        "print(min_song_length_sec, max_song_length_sec)"
      ],
      "execution_count": null,
      "outputs": [
        {
          "output_type": "stream",
          "name": "stdout",
          "text": [
            "0.185 12173.85\n"
          ]
        }
      ]
    },
    {
      "cell_type": "code",
      "metadata": {
        "colab": {
          "base_uri": "https://localhost:8080/",
          "height": 372
        },
        "id": "ujt9ejipiwyd",
        "outputId": "98308fbb-679e-4bcf-d0ae-af949601dc04"
      },
      "source": [
        "# sns.set(rc={'figure.figsize':(100,8)})\n",
        "length_bins = np.logspace(np.log10(min_song_length_sec),np.log10(max_song_length_sec+1),100)\n",
        "sns.displot(songs.song_length/1000, bins=length_bins, kde=False, height=5, aspect=1.5)\n",
        "plt.xlabel('song length, s')\n",
        "plt.ylabel('# of songs')\n",
        "plt.yscale('log')\n",
        "plt.xscale('log')\n",
        "plt.show()"
      ],
      "execution_count": null,
      "outputs": [
        {
          "output_type": "display_data",
          "data": {
            "image/png": "[encoded data removed]",
            "text/plain": [
              "<Figure size 540x360 with 1 Axes>"
            ]
          },
          "metadata": {}
        }
      ]
    },
    {
      "cell_type": "markdown",
      "metadata": {
        "id": "R-EkG4N3lZkf"
      },
      "source": [
        "What about genres?"
      ]
    },
    {
      "cell_type": "code",
      "metadata": {
        "colab": {
          "base_uri": "https://localhost:8080/"
        },
        "id": "Pr03ELzAirOy",
        "outputId": "1224bf65-e68c-4d88-8979-5ca5a844b9b8"
      },
      "source": [
        "songs.groupby('genre_ids')['genre_ids'].count()"
      ],
      "execution_count": null,
      "outputs": [
        {
          "output_type": "execute_result",
          "data": {
            "text/plain": [
              "genre_ids\n",
              "1000                89\n",
              "1000|2154|751        6\n",
              "1007               693\n",
              "1011             34013\n",
              "1011|2189|367        4\n",
              "                 ...  \n",
              "979               1295\n",
              "986                577\n",
              "986|1955             3\n",
              "993                  3\n",
              "993|751            578\n",
              "Name: genre_ids, Length: 1045, dtype: int64"
            ]
          },
          "metadata": {},
          "execution_count": 38
        }
      ]
    },
    {
      "cell_type": "markdown",
      "metadata": {
        "id": "U1pCLtifmNOc"
      },
      "source": [
        "Song can have more than one genre...\n",
        "Let me figure out exactly how much."
      ]
    },
    {
      "cell_type": "code",
      "metadata": {
        "id": "lMPQVpUcme_E"
      },
      "source": [
        "songs['genre_ids_len'] = songs['genre_ids'].str.split('|').str.len()"
      ],
      "execution_count": null,
      "outputs": []
    },
    {
      "cell_type": "code",
      "metadata": {
        "colab": {
          "base_uri": "https://localhost:8080/"
        },
        "id": "zPElZcB6n34o",
        "outputId": "95d2dc4b-9587-4b6b-e003-15bcc6d176e2"
      },
      "source": [
        "songs.groupby('genre_ids_len')['genre_ids_len'].count()"
      ],
      "execution_count": null,
      "outputs": [
        {
          "output_type": "execute_result",
          "data": {
            "text/plain": [
              "genre_ids_len\n",
              "1.0    2029328\n",
              "2.0     138833\n",
              "3.0      24064\n",
              "4.0       8748\n",
              "5.0       1068\n",
              "6.0         90\n",
              "7.0         62\n",
              "8.0         11\n",
              "Name: genre_ids_len, dtype: int64"
            ]
          },
          "metadata": {},
          "execution_count": 52
        }
      ]
    },
    {
      "cell_type": "code",
      "metadata": {
        "colab": {
          "base_uri": "https://localhost:8080/",
          "height": 354
        },
        "id": "lT86jbjTnCp4",
        "outputId": "7da338fc-21d3-42b8-f14b-da84b3bdf64c"
      },
      "source": [
        "sns.displot(songs['genre_ids_len'], kde=False, height=5, aspect=1.5)\n",
        "plt.xlabel('genre count')\n",
        "plt.ylabel('# of songs')\n",
        "plt.yscale('log')\n",
        "plt.show()"
      ],
      "execution_count": null,
      "outputs": [
        {
          "output_type": "display_data",
          "data": {
            "image/png": "[encoded data removed]",
            "text/plain": [
              "<Figure size 540x360 with 1 Axes>"
            ]
          },
          "metadata": {}
        }
      ]
    },
    {
      "cell_type": "markdown",
      "metadata": {
        "id": "oPkoe1uJoFCX"
      },
      "source": [
        "What about artist names?  "
      ]
    },
    {
      "cell_type": "code",
      "metadata": {
        "colab": {
          "base_uri": "https://localhost:8080/"
        },
        "id": "0APXK_lkoawi",
        "outputId": "54ac8b43-f7aa-4624-ebd0-d5d938ee031d"
      },
      "source": [
        "songs.groupby('artist_name')['artist_name'].count()"
      ],
      "execution_count": null,
      "outputs": [
        {
          "output_type": "execute_result",
          "data": {
            "text/plain": [
              "artist_name\n",
              " 2 THE EXTREME,Master Chief & iLLest Game,,52\\nYoTOt7FvGTn4CF/H738WaFyMmJ/1V53FR6pAUEY6OTg=,247248,1609,EU93NE,Eugenio Chiais,Eugenio Chiais,52\\nve1P98JDZ5FVZcSByTwLbXfKcwo4AXuzrr2+Nn06Z6M=,275957,2022,Candlebox,,,52\\nAB7SHiM3izyDLrAiQYGzJXY5fGbrkHykoQmGqK+ioD0=,464491,2072,Emptyset,Paul Purgas| James Ginzburg,,-1\\ngY/e1iWkVIEArqlvjUF9R3A/+H6hbE0Kyd65U6RP1aA=,949975,958,Berliner Philharmoniker/Herbert Von Karajan,Johannes Brahms,,-1\\nVT1Xh63/oERxH0hjwFTGIFYPLVmboRe+debxACO9rkQ=,18854,1259,YG,,,52\\nNbmn5m1+5rmNhdsAZuCUGB1vQNGj4caYliTPSCUM0t4=,212880,1609,Various Artists,A. Liggett| C. Novelli,,52\\nd5O9CIdLt3vVVo/Ndf2u2TFRG4afHznCbkyADdpSEd0=,348392,2122,Everette Harp,,,52\\nBxjKxZto2Tc4pTBpdKktm7ZsTQAVUKC8P8znkNgGNDc=,117968,2022,The Mountain Goats,,,52\\noeOY3jR+nvmeQ2FcHsYTXc2GXdhXCckJKsKkzyX3Qsk=,210813,465,Natasha Bedingfield,,,52\\ndiPYIEHvUUGkItjGStm0wI+BVLSY6jSOCfROo0zgOUc=,60081,1572|275,Warner/Chappell Productions,,,52\\nY078Hwgp2C7RO2hkz3kvkDUzAFJfTnFgFqHqNn2XnZI=,265543,1259,K.I.Z.,Gee Futuristic| Nico Seyfrid| Kevbeats| Moses Schneider,,52\\nIcnbhG7W4tZC73jvLz1WK/qzxemyGTdPKsybc4A9nnA=,216084,465,Groove Edition,,,52\\nNV9Pla13I0uXITFhQoBV6HIq0Zqjyxc4IJU1rZIelG8=,189381,465,Luna Aura,,,52\\nukVvND1sDHueqiKeetPQa0uXm+qpcPZum4ewNOHwZyk=,221425,2022,Black Laurel,Rade Nicholas Pejic| Gregory Groves Yde| Nathan Simon Ruger,,52\\nqY7mWGBatY6uFrAEm64bBnJVwRRB2+ZQKtrXlf4L0DA=,167834,2022,Hall & Oates,,,52\\nw/239cgid9kTGHfZTKagE9rz6WeGjchzQ9/Xa+ZH3EY=,325067,2122,Dominic Miller,Dominic Miller,,52\\nzk1goWdkhihfpU9weKCpaYT3KW4XDYRX/u0BWlsDkcM=,218360,465,Taio Cruz,,,52\\nk8/jHQKnYbnBIE90v6DjfWQizoPmyghAHmuavijnKpI=,187663,691,Troop,,,-1\\npsRHhbWjqUDRUATJ86oF3Bb+yTc4ejpmN77jS8Y4grc=,188453,465,Serge Gainsbourg|Jane Birkin,Serge Gainsbourg,,52\\nwtCa/9bbq268DQs+Yvxudht5WvziBKj1lm1cMv42aUk=,228763,2172,Mac Dre,,,52\\nKp8wT5LyqPU9Gj6bhMyzxxWzvtOnM4hyKSke+KBMQS4=,231836,940|1152,Yoga Asanas Music Paradise,Marco Rinaldo,,-1\\ngXYuV8i2+GHDFo8sSqDxtn4ZfequSfDyqvsDtF7oMu0=,241766,,Morgan Page,Morgan Page,,-1\\nJiO4pdsJm/q/s0uAmKgCoraKn1XEpgeZ49gmHv2MvtQ=,187895,465,Elton John,Elton John,,52\\nkK2K50e653DpMleXdYLxobrqg6agJ++VBU3ByKVqwfA=,123506,958,Various Artists,,,-1\\nI1tziqVEBuMp+rBh7jOwXGgjQ32mGPQR84gCHMQqxsg=,184924,2130,Freddy King,,,52\\n+dOgO7AOFgOuw+kRV3qLZ8DRacwTdgpCOFIIsnc5rAU=,259970,465,Ultimate Pop Hits! Factory,,,52\\n22ZHcyO3FSIpIWNG5/FdjLGsHu8yRRBY9V+idDKogQw=,108948,1152,Native American Flute,,,-1\\nbKUlBR6uN9pxm0vI9TGBLWL8TlFKpgTI+XmtXH06CZ0=,249940,1138,No Te Va Gustar,,,52\\ntN5Y7LU+KfDXej8xvFH3V3Siwpm0oOUNv8EURmzgQA0=,163108,242,Various Artists,Hugh Martin,,52\\nIn76TgCiKo9Jnm7VHQ6AYsLgTvJswhpseYWmEbkiY2E=,127895,,White Noise Nature Sounds Baby Sleep,,,-1\\nROEBoyvUOJBj61y9VVtlGfq0h1miNTw7Pl0Qi2Nn+fA=,266472,1609,Ken Loi,K. Loi| T. Daniel,,52\\nBY6WIlMWVP2zvb9EJ3VjbExCbpSa82MGbAGtbI2dObg=,256496,1609,Rockstroh,Xaver Willebrand| Ronny Rockstroh| C.Krystek,,-1\\nW1yck+upBIH7yfVg6Rdr4nvdpdET8FZc73G4S/7xW48=,286348,2022,Havok,,,52\\n+ReCwCIEhUbgrK3JMrMWHpy7Iipd7pWa6aeK+bF83N8=,276375,958,Walter Gieseking,Claude Debussy,,-1\\nZT0ZisicVQ+wi+taYMdbkQ7Ve8nZ1TeEhDyK0EHt1jY=,259227,1259,Angelous,,,52\\npoQ0FTcvHdJ4rdJjaOuhNEE6tr5kpz4mYDcHIfhaB50=,241394,1609,TobiasBlue,,,52\\nwPCaKA4D0lMNtSmvshuYpqto0WW6a1htVsJ/7Ws5XKU=,178329,958,The Brothers Four,,,-1\\nC+tOBbMbrxb0ab/GWwFsQvIEXMXz6NDJttBzvGpRPhU=,278361,2022,Guitar Instrumentals,,,52\\n9OPbYmU549haXDFMntYLkY0p0yvoIZN0WtXp4rgcv90=,208747,465,Hutten Hits 2008,,,52\\nt5vfxgF+ik4YNxs9sQAf2q+QmV7XKDMWlV+3OhWbD28=,302231,1259,Tragedy Khadafi,,,52\\nBwgWjlmDglr0Jm+udr/28PeMJHqSgSWOLrTVH7YDDg4=,174428,465,Various Artists,Berry Abernathy,,52\\nmj7szJXS8A5jnaLGNf0CeJZO2tCW0Oe/i+uvkHMwiwM=,389537,1616,DJ Sneak Phil Weeks Joss Moog,,,52\\n8pcabHkkGADIobDVCtUVmZB6SKlsTYoXbAr7SEdKFhg=,160078,691,Merry Christmas,,,52\\nvmDFm89Tfw8kcgDb0s0WPoP5/xxIXsbJNpo/TTBAPQY=,379971,1616|2058,Various Artists,Lars Helbig,,-1\\n4IuItmiy5ZRYfO/1JhU+y9HN1eG+C+TEKXykFqz1eBc=,269908,726,Jammy Jams,,,-1\\n75Kb1pvGFbVcD9oRJ4igQMAZMjQLd5OeiI2SllQPm54=,165326,465,Nana Mouskouri,Theodorakis,,52\\nlhqhIWRCmkx4kPyvddH4nnmCi3uWEM5z5lZSpTMHoW4=,259970,2072,Malin Hole,Alisha Geis,,52\\nrKn1rWPHZv+IswW66AxSXf9wd18NbywtjcBWBf2zJic=,213577,465,Groove Edition,,,52\\no3aliI0CjiBP/sNcATkMy7twg6tzblZiO1QUWiGLnRQ=,237772,,Drop The Lime,,,-1\\n6kn411QHczdWVEGp27WjinYkTKN3OhZTBZPrSXq5cmY=,406987,,Stars of the Lid,,,52\\nRqYRreVSIs9MZq4WdJKN1nWAMTH4qXwOaV1iWq3wh84=,159567,880|102,Aretha Franklin,J. Leslie McFarland,,52\\nyUECLw5/aGpB4rLSogVwpqYj5ofjcxGutQZTtFFG7og=,185573,423,Amrywiol / Various Artists,Guillermo Isaac Hung Valerino| Kirell Aguila Medina| Marbiel Tejeda Marcane,,52\\ngXY7JcSCt2vIvLFQX5YYocB8EvQZ6K0UaAs6Z7dGEz4=,59907,921,Gary Yershon,Gary Yershon,,52\\n84mxT+YyQdycTTjvmx/7FT8bwN/1prstBYx9XT+hceM=,215202,2122,Vincent Ingala,A. Goodman| H. Ray & W. Morris,,52\\nzvMd/eS5ZVJLNAqmca2bTHqPJUOE3tXKE7ZEqfu9BVU=,247327,,เจี๊ยบ วรรธนา,,เชษฐา ยารสเอก,45\\niLUAFscrtgKFxnEsukNmoWvH7c292WvB8xHOFc2+1wU=,214238,423,Shakira,夏奇拉|Dillon O'Brian,夏奇拉,52\\nNxMu91ARUWSjrfMnyEbxmVydwdLpd5/MNm/inG3u6lA=,237400,359,Cankun,Vincent Caylet,,52\\nx6dw1JCqLsbQcX6BTqrdzNz+W7O5NVuKacOPkQEiQ2A=,174602,726,Pop Urban Combo,,,-1\\nx3jOx0A6EAJlbSpR5pPVTQ0PGECj8MElaAomOaLvXi8=,222169,465,The Love Band,,,52\\nglVkKr4dpkw0he7a+i7s1HDeccy5yCz3/ETd/gzgqko=,269630,465,Lhasa,,,52\\nWTqZxh9H9ZYptfgqTlhwJYRynPO0nolVpfW2F1e2Z8g=,139598,1011,Lynn Anderson,,,52\\nWxpKdWtZFQL6AFdEIvAmModeZPd2UHa18gN5r6zl8rI=,406778,,西崎崇子,Mingxin Du,,-1\\nes7HYzfhEaAZEc+k0DrQAemNG+z6xTVD/pyhIJddwsQ=,218453,465|139,The Brothers Johnson,Quincy Jones| Henry George Johnson| Louis E. Johnson,,52\\nmiSqhOvDCWU2E8GsOF7WQwY6AzvQoZGzWR5eS20vtDo=,157257,2122,Bar Music,,,52\\nHyyTRGcTHX6FHQ5aF9XjqLKmBpTWwQds9pE04CJu+iE=,79969,465,Darren Checkley,,,52\\n9K1QNAfiHdsT+O62KhHNisBfysW7HsuchXKzE7DR1Sw=,227091,1609|2107,Various Artists,,,-1\\nTBi15QCtj5Z7rJY8jTJXGUc6LEqpxDv5VZgqeYRQCn0=,1237066,1152,RelaxMyCat,,,-1\\n4+hWr1s6Oz0c47nlKzMghVzRge0bo9QtjdZobbCsHgA=,141792,726,Oscar Brand,,,-1\\nkLpuoeMVkfdJCVWuwzpOoONH0YoZsL+WcOIBQ/0+od8=,250125,94,The Impressions,Will Holt,,52\\nvcgF12Nlt3gStVy/OCfrjCo5XtD2cN1Jm/dkEpuYXB0=,178422,139,B.B. King,B.B. King / Riley King / Jules Taub,B.B. King / Riley King / Jules Taub,52\\ngF+/bRzfB7xJsROOCK22bz+4DwUDSVxZF0sXLOdSQNk=,165093,2122,Sarah Vaughan,,,52\\nvM9mL/tdYZCFvVsqqiSKU9aIzFifCZabOHQ+ydVe7MU=,256255,1180,Monkey,,,52\\n4hWi931yd6BdAi4Cp1SUKf7PYX6TVsuoMon0Mm4CBHs=,257648,1616,Various Artists,Mikkel Eriksen,,-1\\nfnJTlJi32V+wepUlgfKFbuEc9p/t5pDhBaOMdjkpLhk=,259691,2122,Nina Simone,Richard Rodgers,,52\\ncrssiJ9PvR6ww9sbT1u4MwuZYBxK5c9POVb/mYeZuAo=,81548,940,Various Artists,Alessandro Forti| Francesco De Luca,,-1\\nqFdeiHP7nExXTJEJ10mam3chZDldJQWQjhUkD3CM8ZY=,454504,,Ken Plus Ichiro,Ken Plus Ichiro,,17\\nEWenJYVeicdGuYqRiUrkyYhulr77eVCV8rTXtnRvTlM=,308918,1152|947,Music-Themes,,,-1\\nfeC9DtA/jGvahiiV6fw9vl2BfFGCZGsuEGxzfxmfb0Q=,175751,1609,Eelke Kleijn,,,52\\nti3Qol33fedLIUKodXAXTb7i8iYWkcxpZedUV+1bN2M=,206236,1259,Arttu Lindeman,Arttu Lindeman| Henri Lanz| Olli-Matti Kalliosaari| Kalle Mäkipelto| Tiina Vainikainen| Simo Pirhonen| Iiro Paakkari| Arttu Istala,Arttu Lindeman| Henri Lanz| Olli-Matti Kalliosaari| Kalle Mäkipelto| Tiina Vainikainen| Simo Pirhonen| Iiro Paakkari| Arttu Istala,52\\nSMxT/BJgAaGnGG1sl5/ZeaXXxcTzsrjl9jyZQBlHAzE=,398141,2122,Herbie Hancock,何比漢考克,,-1\\nGqCsq3C2bT1Eiv/qcM9FEYSK+AbJk+BA6x7zBeg8I/8=,209908,465,Mozart La Para,,,52\\nw/CotWiYabNitWPUNGI19ocMpVqJrR/BrQJ05sZv8dA=,293500,1259,25G| Jason Voriz| Billy Joe,,,52\\nVOAyT+lEk/h6UCBb8KOhVKiJ6O9QJvaAMebmaq+1noo=,176285,465,New York Jazz Lounge,I. Berlin,,52\\nsZsujk9GcL76t/s8WDLQPvHXhneftplqNxySUwwx/6Y=,285698,864|857|850|843,Falcom Sound Team jdk,Falcom Sound Team jdk,,17\\nAluaDyLZNRk7gsEkXQSeMQaexcuMJSN7EVPHUyG8/JI=,202849,352|275|1995|1572,Otto Raw,Otto Raw,,52\\natFQFXP6Asd7UzKYg4K1rGIZaoHGt4xgJWdRiGBuKJ0=,346999,1609,Dash Berlin,,,52\\nNzuYupqAKGXJMSqv+w4Qz8+ijPW31+w+y70vVsdLdcA=,229442,465,Lim JaeBeum,Ji Soo Kim,Lee Sang Yeol| Park Geun Chul,31\\nsviOqeIo1g6Qqpv8w1JB85tKS8Z9Un2OcOuDPQBqrBo=,361813,2122,Frank Emilio Flynn,,,-1\\na6GBsJABMKsepPj7cRLeH3qCUXQkuubJRXpFZjZ0++k=,189857,359,Duke Garwood,Duke Garwood,Duke Garwood,52\\n0ImRK+g6jXyhNNXvpyxxM+oyzljF2ua+KihLGmY69u0=,260527,2122,Erroll Garner,Erroll Garner,,52\\nSkytUhrluHYW5LBgq8a4PNYxndBXAcZqbpOzDMN8IYo=,146599,2022,Mail Order Brides,,,52\\nmecPM6EAo4ozq7sFi/GPNarbzp5Vi11U/wFSpeWB6XA=,158824,465,Neil Sedaka,,,52\\ni+N4jEM4dk84t2eipfybOUnsfY0DNn1qWnkV20fVkfQ=,170434,691,100 Christmas,Charles Brown| Gene C. Redd,,52\\no+vISwTw85WsD0bgvjxAol8LTfE9lKmoxz00HRHFkGM=,173035,444,5urprise,,,31\\nqlNavB8zwZb+iSuviGolqZZh1UURruZjxQcLKCITdqo=,80155,545,Jonnie W.,,,-1\\nF0DdpYKHq9ga3vPmRBxlVPmUIhxn3inDmF5tMcKGLfo=,136440,1011,Patsy Cline,F. Williams,F. Williams,52\\ntUUyRaeqkPP9zzt6ico2aLGEHEBGKoDycAUzw781piQ=,328672,1616|2058,Various Artists,Jesús Alberto Gorocica López,,52\\nhm+KoJine3AXkSYZwQ6LqczUvbx+2YhqvimcgcdSmkM=,286023,465,陳以生,,,10\\ntxrnCHyE8x4OjIa/aLJASDLr5u/ZjFj+fSJZSSR+/SA=,257462,1162,Lisa Simone,Lisa Simone,Rob Kelly,52\\nCWAQma5+qZ3Sh0O/h9ofqNggiH85SUSVb+CFRz/2oG8=,258113,2122,Richard Holmes & Gene Ammons,Gene Ammons,,52\\n+3+Jhhcxfs8Uc2Yupmrp8o82SXNZt5IZl06LyqQnEXs=,441051,1609,EDM 2015,,,52\\n9CUdq3h5Qdg/noaFMpqMqumLa301HPBD5t9Q9NNFWo0=,202478,691,The Irreconcilables,,,-1\\n8YYz8GF5RoXexnqC+Z0/VmWJeyQh+eXNyioKzf+fwq4=,5387,829,Various Artists,Joseph Nelson Hagood,,52\\n5nJTjMtgdQjW22qYy6jK01ztzOWrpZGgdI27K7hghwQ=,169273,958,Ludwig Van Beethoven,,,-1\\nfmgAEL6BhJu1UR52UXPqCJfbL6k2YgV0C+1FVw+WYyE=,228809,465,Kenny Chesney,,,52\\nzvC9YD+3ScHAhFGamPPMmBTJ/f/Msa3b4y1URsm7y84=,246151,359,Night Riots,,,52\\nTC+FXWRcWkXkzYMtYENfsFkTjNB/9c0EASihQXVK6Tg=,213624,726,Karaoke Masters,,,-1\\nOZN/2jYTX8LaK+doE/dhCMIN6x80OkII3y6POMozT+w=,304460,698,Paul Anka,Irving Berlin,,52\\n5PHri16UVifchwVAxpp7hTh/d6m20gMJoD0gL2Am1tY=,226429,1609,The Glitch Mob,,,52\\nwGv9yCFb20+il7dHDojGFQ5+JISIWbwabyrtBXEY8a0=,149472,1011,The Statler Brothers,John R. Cash| Roy Cash| Jr.,John R. Cash| Roy Cash| Jr.,52\\nke8mphAyElwzjhwVDSklD05Wj6j6Fl/2Yb2iUOqkGYI=,236751,2022,Frankie Goes To Hollywood,,,52\\n0YTuIiwjmWFtEyczpmjem++IWfcyEaXBaFJCcdgofPg=,157152,893,Lenny Dee,Eddie DeLange| George Duning| Hudson| Mills,,52\\nCmP4iSul2Dml1D1psds37/44HfprL8YAiMuOXGESR2o=,145152,1138,MC Deco & MC Luco,,,-1\\nG4ooYf2owd/ZSD3EdZ2L5zTHruWPGR5+0iHKGT0NceA=,240698,465,Clannad,,,52\\nY6ph+5i5BKjpsHvY19veonLl1pl1vAF8RAI+89XAtqs=,259039,958,John Williams,John Williams,,-1\\nEAFBl80PxznmVe9yIY4c4EihnwAO2vMcOgr/k4Nozus=,204335,958,Orchestra sinfonica di Roma della Rai| Sergiu Celibidache| Wolfgang Schneiderhan,Joseph Haydn,,-1\\nWbYvw8rVHU7Jj7HVehTbS+Gq8KznP9JivYxN5yFVsc4=,263314,2022,Badfinger,Pete Ham,,52\\n3tmHZREUNrOFgOiCs9VXi8mwTC7bFykb+rpkkRCRvno=,180279,1259,Walden Ash,Walden Norman Ash,,52\\nUFmCp4ZDaRwCFHqrxZUoWLBr/ZF17udBQLAMeGYaatw=,213890,,Ernest V. Stoneman,,,52\\nXQcEc57v50fVJr7OzQhIbr3VqD5ITtQ6Kt2ngsu3BHU=,161239,139,Al Jarreau,Al Green| Al Jackson| Willie Mitchell,,52\\nNOQ8MRNYb41HhLorxKy7CGqbbP3UHDYAkjzw+hrnV2E=,409507,1259,Angel Haze,Angel Haze| Mike Dean| Wynter Gordon,,52\\nzRQmts5IjudKy1iK2rYqXPWp+TwYgT5DAYe84ak02ok=,215178,1011,Jake Owen,Ryan Hurd|Matt McGinn|Steve Moakler,Ryan Hurd|Matt McGinn|Steve Moakler,52\\nmC9hrm2m+NPvPUlxfRV3Sj1Ha+cF5dmxXHrkK7q1ooM=,292850,958,Steven Mercurio|Joseph Calleja|BBC Concert Orchestra,Rolf Løvland,,-1\\ntNay6tU1OGYRJ/ADDqHF1FQRj3dV9eH0VevVRYnscJk=,152230,,Brenda Lee,Owens| Hollis,,52\\nPYi1DdKdEclmt6X2t2FUvZ1506rzW5zu9XeKKpVMBf0=,124551,1155,Various Artists,Alessandro Alessandroni,,52\\n58YtSyXRMKWK4us50YQLFJid6olcMmtwpkIRpyBl04U=,315115,1152|947,Bernd Scholl,,,-1\\nSEWKCKXICg8eWVi/2Vb9GxGrkMj7o/4CCKP7mpoJwkE=,218731,465|139,The Temptations Marvin Gaye The Supremes Lionel Richie Diana Ross,Nile Rodgers| Bernard Edwards Jr.,,52\\n5utiLF7fh05rToE50YnkvuEOsKhJmQLxWh1w2qYKhnA=,343666,,Linda Ronstadt,,,52\\nsIstoLt134OfZXyetCoUqBuDas1he9uZot5EkFdp7+o=,183771,921,Various Artists,,,52\\nmv3ghJbCnLEe5gEKfog+0tf8V847RpdGu1HMQKvzENc=,84056,873,Reverend Lucas Noth,,,-1\\nxXBADsUSxnr3UeJsjjYYGvG4xo3OCvAf+HP6vgXJDq0=,373307,139,Quincy Jones,Rod Temperton,,52\\n3IS9BYln6m/wTPwHfZ8Msb7Cw14PjmdYKmE2l3ZL204=,395389,465,Camille,Camille Dalmais,,52\\nLIWXgrPZvxwnvNwfIVaDqx4/Q4ixShpBwpoGXe4uW00=,818039,958,Cyprien Katsaris,,,-1\\n/U/B6mvGCijGdIrX6K+k6uynCvdXdCRsFL8ITv/k1LU=,269630,465,Mega,M. Nasir,,59\\nwa9zqcTRE8wj8+IgOWg00Yg42SZmbwZzqII69kIhAAg=,267493,,Silent Storm,,,52\\nhwypn1FlbC9w2XJ0BPQvupKB2QzZXDvvijBPk/jgy78=,63251,726,Kids Choir,Traditional,,-1\\noeu8bxfD8jj+SrAb1Lo9S8MxXl2IQ1SvLwnXCBGLToA=,314398,2022,Thompson,Teddy Thompson,,52\\nPUxmHjMe3yH3diTS/tBdjvp4Q4w8EHuV2LBCqMVECoY=,183301,1609,Cameo Culture,David Robertson,,52\\nRnHUXHvDgDYh7+/gCOnTrOadi6SxGs3xE+04Brp8k8o=,181681,242,Chart Topping Karaoke,,,-1\\nhz2hWE+2e3l6yHOmjggnWnM1i/fAGSnubKGClopqZzs=,170434,2022,Земфира,Земфира Рамазанова,,52\\nZHJvraF/xfOAp7wJ9lZPb84DCyYsCfIGfltXtnC51NY=,214180,1011,Restless Heart,Hill / Rudd,,52\\ntfx4ZLep8uvxkmPAxkdj8GM2i+4ei+jzJNs0idNmnf8=,194211,1609,The Noisy Freaks,,,-1\\neXEJbkrsesAQHD+MicKgN1aRJ6UyyRtSCeP9ywgj/KU=,248999,,Alessio Bax,Alexander Scriabin,,-1\\nWAODPmWvqSAyGYeiGp7R89bsvAOhl/yzACTEheLNP9k=,237008,958,100 Best Vivaldi,Antonio Vivaldi,,-1\\nJT/sdnYcdz+birjzBTXHFAdu6CBu0UIhudROW3iE7VE=,295089,465,Tower Of Power,E. Castillo|S. Kupka|S. Knape,E. Castillo|S. Kupka|S. Knape,52\\nPAP5R77N/Yfo39BseeiS3UIK9uiRdRdUsxMzAsC6gK4=,156212,465|2130,B.B. King,Bill Doggett| Louis Jordan,,-1\\n9i4T46r2VDUl/UvJ6FCKnPXb5j/hKcckZ/K9wzVg68o=,317974,2122,Etta James,,,-1\\n0765EmcwwNViz+hUTOBFu4k0NJSiVPUghh3er2SGcqg=,234057,359,Jupiter Jones,Eigner|Sascha,Mueller|Nicholas,52\\nzJY+myMYgIkWsUH5Fe8z4BFS9ftFIskZfiClr36mmxA=,203859,786|2122,Sad Music Zone,Marco Rinaldo,,52\\nh1cfrflmUpY31kR7NMrbHb7wM5otwzdg+iSxASvqgBo=,155016,958,Maria Callas,,,-1\\nF/olpXMXqOm4E2Cqo4D+x40dOOgp1li8JbCldVcp7VM=,262292,409,Grand Corps Malade,Ibrahim Maalouf,,-1\\nT2StJzOOa637P6V2yyBayv7dbFTzGGASCunFzaOjWZM=,144573,958,Hiro Kurosaki/William Christie,George Frideric Handel,,-1\\nTNy/sMJTDUTR5mKwLT8N4AhgW/y6b6Sumhrhp8dKyMI=,132167,864|857|850|843,穢翼のユースティア,小高光太郎,,-1\\nwiXKdbVZGM1wXGAQ1qSLvEPLD+lG3p2gKrYdYYS6Fl4=,485947,958,The Royal Festival Orchestra| Conducted By William Bowles,Ludwig van Beethoven,,-1\\n31uuWbIXLhORj1nCJwp9LlsKF2Yw0kRjcEGae3V9Qeg=,264707,1572|275,Oklahoma,,,52\\nmcGgYPHBWXsaTrvBLeodcHwIcLDx9+kTVrNtZOGD6AU=,310497,1609,Various Artists,A. van Buuren/B. de Goeij,,52\\n4tp4w06W4PV9ZmsGdWI0DR0+8lvrkxZEEp9KQvZ5t8g=,224676,2122,Thelonious Monk,Thelonious Monk,,52\\ni7IaurZUxvyJF2NTN2UpH5ZcYTm3EXsgVJLxFquKEBA=,224304,958,Amandine Beyer| Giuliano Carmignola| Gli incogniti,Antonio Vivaldi,,-1\\nzLImQPB4AvMtFu3oNVQ4SfOD4tz2CCmZPoToNv5y/6U=,244691,921,John Barry,,,52\\nBHwZabCq+WF4iAfVUQwpiiwDdJ+PISBxAv9tMG+OFaI=,116657,698,Peggy Lee,Bernard| Smith,,52\\nJmWAUajEomgOdC3NL7GojldmB6Qvg9gLWBVkr004hcQ=,336689,958,Maria Callas,,,-1\\nBrCyZsKeFUwK33PE4f+p8ITIJjMyZosAR/i3fqkS1Rg=,344212,2022,Rush,Geddy Lee| Neil Peart| Alex Lifeson,,52\\nhfVOCbslByKjyJSIv1M2qNuAN+wH4rrP+M+oGu6dyS4=,37709,488|545,Jane Austen,,,-1\\ntsQwqtHa7upyJ7ATMNh/70EuU9QmvCh21/+HACeaoV4=,262373,,Exam Study Soft Jazz Music,,,52\\na0ze6FF51PXmwS6t8/pi74ph2Qw760AHwXFp7q9V9ss=,152216,1969,Balzac,西山裕介,西山裕介,52\\nJFWhtEShm1ArKEgWZQ9nAlZgueWfP3RhM1jnPLJbM2s=,221333,465,Color Tango de Roberto Álvarez,,,52\\nzPui1xGj24uMDuWEnNiRUGBRY0X7IUG5owdi/zAhFNc=,423811,1955,Galdr,,,52\\nB9vAcqxTkxXSwijgyVIhDv9h1JgbS1axNDEdZH3qM0c=,285570,465,TMC Movie Tunez,S.Morris|S.Wonder,,52\\nozfP8sr57kYtRN7+PAxlQWyXIknzqjLtU1qvtDGgxYE=,133654,1011,Johnny Horton,Johnny Horton| Carl Belew| Faron Young,,52\\n0whELHrNTd07eJm7iIxM7bWxpfaTdFB08K+w4mqfxF0=,149537,958,Pierre Laniau,Robert de Visée,,-1\\nUWCwfOJHGx2haoie2DZX26ggYfKsfxwA140qSKlkoQg=,259866,,@Jazz| Alternative Jazz Lounge| Jazz Lounge,,,52\\n2hOYl0QJD2ATS+PrK4Uf6tl4XTl13fDX2AApTVYF9EM=,301723,465,Fleetwood Mac,Peter Green,Clifford Adams,52\\nCa0qhTtIEdWvXKXaKhbqQH5N4HbPDEEUSYqHsm0jLk8=,423625,2122,The King's Singers / The WDR Big Band,,,-1\\nfK8qS8yiUWNDKB+V/nmNfeBI5/MefT2Sa4Cbis1h/Oo=,213995,698,Frank Sinatra,Edmund Sears| Richard Storrs Willis,,52\\nWgfMhfPSoK/w2ebUNYoececBMDZn9uuth6daydPLBYc=,75859,1609,Delroy Edwards,Delroy Edwards,,52\\nwBjNOX5D8RjlDUpm3jnRIZ/pdsujihXaBYuxSkbZXLo=,277618,1152,Eyuphuro,,,-1\\nzCJUM8/H43X6/qRoC96eAvENSBrEMfORSXvNCEjjW1Q=,321201,691,Christmas Kids,,,52\\ndbE/81FoccmuTxcRn9ktTZk3/lVN9F64bUpDnjDADjQ=,245864,940,Brad White  and  Pierre Grill,,,-1\\nwdiZN/ggMT6pSBkrqLrl0G674JN+aYKH/oN//kuY2ew=,286627,1259,SlimSkyView,,,52\\nWygiMB+zdArQqGTe+3s/HBp1lMxPENC9WtF5yJ3RVLE=,198949,1259,Карандаш,,,52\\nuBm9G5+u5YSnmt5UZUgRkP+Ocw+//74r2HO4uz+P2Fc=,205322,,Kids Party Music Players,,,52\\ndo+OyL6sGYdedu4vAqWcey2KR/ywwVy1mSm/ffCrrZU=,1109472,,Various Artists,Piotr Ilyich Tchaikovsky,,-1\\n1mveuxJEg+MWgPhKYnV5DsYn0Qc6pX1O7PgCr07U+Io=,213890,388,Nashville Session Stars,,,52\\nnDKxaaypWCnfxKp25ekE0nAhQN15NgbOpaHWdYDisJE=,191146,1011,Various Artists,Trent Dabbs| Caitlyn Smith,,52\\nIGZpWh5jAZFhwjHIws3FoI82nqeS8nV3qc389eFdBsk=,390060,2072,Masso,,,52\\ntNXZL3O8JckxqbMrmwnNypSCm+9Fp4benqPDB8BFOvA=,444525,2022,Joe Jackson,,,52\\nsMUxPhzGPHTmk8mUrwxI9CNaOHjRJ/UDvn0GaIWF/XU=,246909,958,Ignacy Jan Paderewski,,,-1\\n+m7hw9Bg8SM+rRrfFvT6zuzttwkdmd24n/Imyx5yvP4=,338024,940,Sleep Meditate Relax,,,-1\\njiWsZUw8+OkbTciSB7Mp9PFxZfuQRK91u/RMXfMbi38=,96757,921,Romantic Music,,,-1\\nd8TVW3utkkf0yXnVLDA193RlGsrav+M45hw3tbpaGuk=,159242,465,Gary Williams,ハロルド・アーレン/リチャード・ロジャース,,52\\nK29BjouVRaeErF/6VtebX1UyjbIW3QUxDVHGhNmpa0s=,217313,465,Various Artists,Traditional,,52\\ngWFC3KSYHuyOHiguBjZg5K/D9ILR0BMjaaIsGmgj33s=,273240,958,Sviatoslav Richter,,,-1\\nua3nw271JMTMpE+Ha4rxcNDG6H56a7oCgI4piDEleVc=,210837,1609,Armin van Buuren,A. Amr Fathalla| F. Wassef Naguib| S. McLaren,,52\\nu4lWfV4g2JQ+nXMjXhKW7lpbpsIANjPtGgdQP8ACwns=,257253,958,Ignacy Jan Paderewski,,,-1\\nZR0AZkPmFVVo5zNgJivvYhc5z8qLi+Ma1T0WbHfs9GU=,265566,465,Andy Street,,,52\\nNfVQFoy0u4NIEvUpNYxZ727SoUrx90KVHJWzl/7STC8=,282447,1609,MC Jair da Rocha,,,52\\ncU2iU1N/IZ8emXRvZFEQBsn9Y1KYlzYmmja+bcOMZ4w=,146099,465,Marty Wilde,George Khoury| John Phillip Baptiste,,52\\ntNXM0H42LV0i+YOkNqk++8VHwTjQBmx6MD0mprJIgDQ=,212509,698,Various Artists,Traditional,,52\\ndUNaUb/ilxZkbeNeVCGSMv/SQmfm40f9NLsOWNARbb4=,188175,958,Richard Galliano,Richard Galliano,,-1\\nf+rEhtZbCP0SOr5PlRhBpvVzs/CwgAmTyvuIxHK2xqw=,182345,465,Blue Affair & Sasha Dith feat. Carlprit,Stephan Endemann| Dragan Hecimovic,Stephan Endemann| Dragan Hecimovic,52\\nQHCliCukiIyKiWxtr2EfZ1o2zcQKqk8Op3XhvhK/S0Y=,222447,1152,Tonia and the Beat,,,-1\\nv9bPRWfoQCkHsAq1pZbf4JMKKTosFui7ogOkqKeKbZM=,205543,1152,Bülent Ersoy,,,-1\\n4zfkRF6LnZNsFye8LF6/69hb9iVHzvfmQR5Q0iFbN54=,129288,465,Rainbow Cartoon,David| Livingston,,52\\nJLWcconlNKNTbQktYP6PUhXT0Xf2zJVJWEbnZDujnlg=,191240,1609,Kosheen,,,-1\\n9VGBtW+94PUYKiAmFXTql0JBXsrSQZ4u49ETbq2Fx30=,356380,465,Jonny Lang,Margaret Sampson|Tinsley Ellis,,52\\nLpV9ZmscxUN1JL7dR2PcKvAQ18BkQkF9kKC8GPq0KDw=,392974,1609,Various Artists,,,52\\nXm8q00IXN6pV4HK8QbBzY5/DaoT4IzV4Vl6QjIhmGq4=,185945,1616|2109,Dubstep Hitz,Dubstep Hitz,,-1\\n4GnoMzWxVm6qyvPsCCwNkARGvK2LOXnyoOxlvzx1TOA=,116088,1152,Valentines Day Romantic Piano Academy,Giuliano Sacchetto-Giordano Trivellato,,-1\\nXC38ik40mZQtVA1/71lqaLFTupklwlYQa4bQ6oKZuLg=,364646,786,Irish Blessings,,,-1\\nDgaQmxxLLOxshcdNoySsHmmO4oYXQGuoJwLpg1uIjiE=,344862,1572|275,Eldren,,,52\\nSscQRMn4yNZnzamwHjzHjUJeAiSVGdDVL7QncxdLI0Y=,318850,2122,Wallace Roney,,,-1\\nJ+xF9sPS0VpA2ycfA2hKJgbCZSfyvLejmbnjXSnkSag=,112117,1152,Valentines Day Romantic Piano Academy,Giuliano Sacchetto-Giordano Trivellato,,-1\\nfMGXIjtDtuVAT6pKxI9evE5SBT6Y4PKqwxvc8Ij9jzs=,197648,1180,Stephen Marley,Stephen Marley| Desmond Smith,,52\\nPyhZzBWA9NoHAQY4ThxWjjJCJFo54M2Nh77Qwq63kI0=,218070,1011,American Country Hits,,,52\\n57Yl3O9hNRnAyoa+GitNS7rhvvFACVeAAnEHptL8mUw=,155271,958,Frederic Chopin,,,-1\\nyCl91JNHnU0ZHOB4lg91IzY8Wur8Duq6Hgz9oDXd6Tc=,515808,465,Pet Shop Boys,,,52\\nFoHCaH4clSaPA6cz2j+JwvAcqCOChnq7A7tW7vsdj1I=,199235,786,Sergio Rafael Orchestra,,,-1\\nS6flZllNywrIQHJo8MQ9xgJx3WmZs5VqSzHEEfmbwZ4=,190310,423,Gypsy Flamenco Masters,Ricao,,52\\n2A9r24L2j992+ytuYDGlXHuK2CPQJzO2eH+avR9oHw0=,221518,921,Randy Edelman,Randy Edelman,,52\\nmU2AVfnmtYcCLrcqdODQ/eVoNZkqTkb6YAlG3yttBlM=,268794,465,New Tribute Kings,New Tribute Kings,,52\\nkZgpzf0WlqEKOqDwff6DB83GGEdL6ueQFhHMGK++UB8=,240848,2122,Jazz for Restaurants,,,52\\ndYzavoWqxBBlJDuroUfoNu3IQNV4Y2t1z+RFEwiOF8o=,275899,465,INC Karaoke Group,,,52\\nvg8yU3EPmu4bfcxbf1cq+f37p/fcG/fMI3YlmJqL3TM=,236773,359,HEM,Dan Mess,,52\\nR8IGun1Xpd1n2GLRCalce1cg6xEJ+iK+Rm5b5g58+2c=,171642,465,Various Artists,,,52\\nn4JlPVqYzGsly/uUqBE4xxq2/hJd7G1nJvim9RbOlss=,251611,2022,Ten Years After,,,52\\nzpbInz8qfNa7VTWzyruLZPOzJN9ZdeSaVw/FLPj8Udo=,209397,465,Velcra,O.D,O.D,52\\nS2e9xLNy0aWoN0jmFL6I6y9y+Cd1o/6FHj3MFrhvQyE=,158267,1259,D.Kellz,,,52\\n3M+J5NSC5RssD6aKpWbekGI/TgD5GD0kq5IdrGEnv3M=,160548,465,ZZ Top,,,52\\nlDuhzBrdKFWJIsIjHCVGOpAtSrvYYGzlksYkhU1E1Ko=,485947,1616|2072,Various Artists,Claud Thurmond,,-1\\nietfBRSpieF1PzvuoorYmTCgvq7oRIAh8ttxj/sn4L0=,273031,,Sexy Jazz Music,,,52\\n4GI5mmF1Sx8hctpX61et1fcyvucPugMQREHEAvrPCPg=,226951,1259,Discreet,,,52\\nNb5K83msOxhnZ7WMB0TfAgEiL687NwhlIJzz6j7E5Yg=,541675,1609,Shympulz,Axel Enchelmaier,,52\\nGmMHkG4HNzMTHxL62U/JDSFoewOgxOnbNDWiA8usf0s=,421511,2022,Rowland S. Howard / Lydia Lunch,,,52\\nKnKEc/6nfMz+ngj8uPiNT9OzMhkKu8ZH0lE4M7Nes/E=,206378,1259,Amiel Divine,,,52\\nqxu7Kg8Wgdj7xEjw1FXSBT9UZpW5Q/JWSpEC+xYKHi8=,222540,1572|275,Myrone,,,52\\ne6hXf1BSk6eqtQQn+aaUfVbdZivcFqpx19YkGaGQHJ8=,172756,388,Dean Martin,Unknown,,52\\nfADta04ZYVyF+9tu9xpE9txeQdR1XVB3aR025vZwnYQ=,426213,465,Classics for a Rainy Day,,,52\\npftStiMfitTHxP0yjsKOgiAbRdaSjBfHuA/OtTGktnY=,296960,786|2086|374,洪億展,,,-1\\nVh1/Z6YVK4MSp3eLpIBh4TYeAwzmaSg3NpZ1xfjG3EU=,241345,958,Roger Doyle,Roger Doyle,,-1\\nSPD2iBoEsw/mELl4R8Tkjw+MxM/YbJs51owy9cNEXe4=,86843,726,Various Artists,,,-1\\nCz3zMWYihISJ4afv76V7XPaP8fHWizGFzZbwvKtOE7s=,159196,958,Novectacle,Tadafumi Sugai,,-1\\n0PSmtxAwg8OqaHkjyKLbsEn45dz/se09BTlsMuc6N2I=,221204,139,Marie Dahlstrom,,,52\\nZ2lMm5hjMrjybPhTnenh4u+LsPaOz+Pe85SY/VUix2c=,345234,2122,Bill Evans Trio,Leigh Adrian Harline| Ned Washington,,52\\nNOq2I1wo44U0c1j/1wa2QTD+ip+zAFaOJ7VkK01Af7A=,313941,1609,the mantle brothers,the mantle brothers,,17\\nVIgXRWVjMNfbqHnwbJtUvi54k1JA6Csb2SCzarzwaF0=,428083,1616,Various Artists,Dimitri Andreas,,52\\nSFC4CeYz5u6LMCBiPWPZolZ7VQXNzM450zP0cpL4Xxc=,236286,465,Imelda Papin,Danny Subido,,52\\nSGxnN1SQiVtjKplyySItBv/6EDuEQAvkQ1nu+iUshik=,230899,1259,Andre Nickatina and Mac Dre,Just Luv,,52\\nDHq4+axdk09TxwsxUbI+pWdzROsckleX+T1fm7u0/So=,483718,1572|275,Dope Stars Inc.,,,52\\n0PYrCMXLqntnMdLUSOViYYJWQpQ4BFCsH4hbCsJPiLc=,321802,873,David Phelps,,,52\\n0bk/aXQF9v+npH9K3eClAQXHeaot+H1Ijuewqz0TAv4=,421256,1152|947,Ancient Future,Randy Mead,,-1\\nLzpx9sD39WmPMoDmdqHBVatVt62h+pg0aJhYnNgPLJE=,528092,388|873,Yoga Dance Trainer,Neuromancer,,-1\\nzZueNnm5DXgC7SpCD+FmRSea4ptwt2FYS7f9Dl07Dkg=,294591,465,Lisa Stansfield,Lisa Stansfield| Richard Darbyshire| Ian Devaney,Lisa Stansfield| Richard Darbyshire| Ian Devaney,52\\nGN4FROmvE+pBZirUZ31ua343ah1j+yfSy4W6c5HO7Kw=,158902,1609|1969|2100,Soccer96,Dan Leavers| Max Hallett,,52\\n6Yinaq/7TXcb5uuaTLyz4t/JXjIFPdg/e6X+wnyPEUQ=,198669,1259,Sfera Ebbasta| Charlie Charles,Charlie Charles,,52\\nbNTLXrkm3h8poZwngOuW4xUsS1u035wMyiBHtxRPmlM=,213263,,Various Artists,,,52\\nyNwi61Cb9gCPU2YNzptU+/doghGd2ZbJDFLWOz0jdOc=,240431,465,HITS,,,52\\nF16SE9qjoPKeTHlukYeCM1IIqX10CwN27+AJ2E4Aixw=,186723,388,Various Artists,,,52\\nyaE9onmDnokX019Xpq6JVYe2fctrP09egDxCNQ0je/c=,170620,1259,Workmans Comp,,,52\\n0QXWBv3JMrgec5HAS/7cXIH4hMo6iRSV3wcaN+xXokE=,390687,2122,Manami Morita,Ｍａｎａｍｉ　Ｍｏｒｉｔａ,―,17\\nTMDsbvcnesTyBs6YCeZD/AqeiolcvPY4WR/4qD0Zz7g=,92136,242,Christmas Music| Christmas Piano Music| Christmas Hits & Christmas Songs,,,-1\\nwOotQQjkHMqLukxYrr6Mq7hi6+A/qE6rZ/QchitmOaA=,216224,465,Lally,Calin George Emanuel| Todorut Doru Florin,,52\\nr3zmWCpdRb7qbKajA5Q+H9EK5DTOzYLLDAE+LsRkb3E=,359235,1609,Shinichiro Yokota,,,17\\n3Jm1sKGEnHqXfM/dvvoOr2v8Iw38t4PJE5ANGSP4D04=,202942,1259,Niska,Furlax,,52\\npYOmMkjQn5LYtAfalaboBlW7kRT7Jj/QbN1lrZ+qE2A=,221309,940,Dreams of Nature,,,-1\\nN42FfbUIqU+hBdDrN82BIEGL4kqQd7E0ePKSglP5UbY=,249469,2022,Depeche Mode,Martin L. Gore,Martin L. Gore,52\\n01vDaZkxrEkQHKKZa3ckhPTqDx6RNuXFld2zOTmEKL4=,297377,465,Gianmaria Testa,Gianmaria Testa,Gianmaria Testa,52\\nsbbq8gt9Gf2ZS2A0gS+FUNLYNxR9OZpFRsddDBzkCPY=,212230,465,Beautiful Love:The Indie Love Songs Collection,Ryan Adams,,52\\n9x6235uPcpwWUHOG+Gf48Zn8cDGGQLb4xoL2hB/D7jI=,214517,1011,Jeff Bates,,,52\\nWo3oZcWmsDKubNEj1Tl+nHsUfmAvvpg9WTsUFetaRHo=,284379,2022,Various,Alex Callier| Raymond Geerts| Burt Bacharach| Hal David| P. Henry,Alex Callier| Raymond Geerts| Burt Bacharach| Hal David| P. Henry,52\\n+wlbTn85+kx6Vx4IGGqvfSKvwWjDmGqoLZXHwAvFAQw=,160217,1259,Shaolin & Pra (Killa'Gramm),ШаолинЬ,ШаолинЬ,52\\nUOc7awEEebq6oAL9xyUlJ8k+rAsmTsbfhyT2mV4J5qw=,583378,2022,Emerson| Lake & Palmer,,,52\\nDTmz0dP14pmjOo2UhmFm417NaK4yNwaARU38iSPTLV4=,195790,1259,Lil Tan,,,52\\nZw9xSxIjnCf2J9/Kg2FbOf+Lb5VNOwvpSqT+GOBITbo=,193515,465,Julie Andrews,,,52\\nH1wAsCR9t1+1ugFs+7q2wOZtH670/LJ0hTmJ3EqIdQI=,205194,465,Edith Piaf,,,52\\nN5n/0HFwbc8Bj9eRoeI0HuYIJBYOOIxyA3aw7e1n724=,219475,1259,Niska,Derek Beats,,52\\njjxEv+tHgx1AAr5r8nvrQrIGYJrUy179vWbWo8z4/kE=,234522,691,The X-Mas Snow Band,,,-1\\nOtLPFbGc3Y0JCFRG785mLrpsGAUgMZ1q0XAdqUnl+es=,178607,1145,Edith Piaf,Edith Piaf| Charles Dumont,,-1\\nzhmAFZQWIZxZrUv59imyXyWiYbp4YAAItIgLjbg/L+8=,295079,1609,Her Magic Wand,,,52\\nm26HqBNRqYPdVzIP+MVl6TF5u3m0NgE3jQgPmKa92VY=,94923,1572|275,Pablo Arrieta Music,,,52\\nEiUsHG+AQFpOMxjghDx4NqSCuxpBfcThBmDhJ+z7+3k=,299259,465,DJ ReMix Factory,,,52\\nEircKAT6fpLH5SvCWV/dpCG3CM78Dl5WyrJW+/vew3g=,62137,958,Glenn Gould,,,-1\\nkyLOtERjYVGpDYoNqJ5uqNnDv04vcKBjzCuw2Jnp3Ec=,180186,423,Gypsy Flamenco Masters,Manolo,,52\\nz2NPVIsrkyc/SY1tVHCebv7MJABF050rHC2NVcyaojQ=,244767,1152,OMFO,,,-1\\n3/qspFd5il62wZLs0sdhtLGIZZ/leMgwrUIkmnMcWz0=,231594,873,Lyrical Rook,,,-1\\nVeGVubQN9kvtVXE/s8bwBGgxTgkQ1b9UEeB4OBLPiQo=,164675,2122,Jo Stafford,Jerome Kern| Otto Harbach,,52\\nvjGS7SMlf9hCgFW9I1zogvfVXol9Bgt2PDVAFBTWQkc=,169134,940,Piero Montanari,,,-1\\n6My4rKpxewOtpoPBQeh4WRzU1Icisi87f37601hpGqk=,247385,139|125|109,Regina Belle,,,52\\n7xBPSC8QCc4T2nnCPK6YmVVv+cAS8ZljKw4K18TM/zE=,221797,465,Spinning Workout,Costanzo Cussy Nicodemo,,52\\nd7ApK5JGAcbGO1yq9pTJUW5x5PBvq7dM9Et+KI+wXdo=,725577,958,Sviatoslav Richter,César Franck,,-1\\nFnGHiyh3AgQJfBLlYqcL1t49C+4++BrpKmFkdmOT7nY=,207957,2022,The Clash,,,52\\nYjTxC5LMT6JCrh42YPvWDyL/XN5T/eUHGedxEmTt68k=,174367,465,Michael Parkinson: My Life In Music,,,52\\nYGMG6mAA8J6PdGZ90hOiUd1Av8ajQzKYYBbXGIS4+co=,177771,2122,Julie London,Mack Gordon| Harry Warren,,52\\n7UdpxtUtVvRsOxExuNSwGZfwFcpM/7zvzTwuEbYrQqY=,197555,1152,Gippy Grewal,,,38\\n32h7F126Kda0rFQEz8ZzSaGCG6Ab2rP/73oZVeUeZcg=,349042,465|2122,Stan Getz,Antonio Carlos Jobim| Newton Mendonca,,-1\\nwHUT/VxqcEVk/UZLVh/uZqWWUBgilS8XVXqPR2FkLBE=,242509,465,Hadise,Sinan Akcil,Sinan Akcil|Sinan Akcil,52\\nJUYmIG9hbF1SKoC0E0xoPhlV4sNJN0bSz5+KHQ1HCQ4=,253805,465,Dr Dreamz,,,52\\nMywPevJf7ij1XvDXiDRn6WrSFYYgYnqm4UwUxxo2wiA=,416600,1609,Work Out Music,,,52\\nWLUjGFIWI9KBXIrMTehYTQdiMV5T/YkXjwbnTI1Ptok=,647874,958,Paavo jarvi,Carl Nielsen,,-1\\ndlc0F/bfTi66JLYmdpYZUuoP/LRgUVmKruopFdenGkk=,255059,465,晏陽,,,52\\nb/izQw06ngZG3Uk5fDbW1X62CPKEGhu2tdtyWuk1P3U=,178050,1103,Gamla fina låtar 3,Traditional,,52\\n0pbQBsq8wVQnsAiw+2lDkoAkiDTMT+yIecL4cylBc/M=,227578,,Good Morning Jazz Academy| Instrumental Mood| Relaxing Instrumental Jazz Ensemble,,,52\\n0sQVDWIeZ83bvlvn88m3mrfNXja4GvxEN5cmYumZNpc=,214659,465,Rick Astley,Rick Astley| Fisher,Rick Astley| Fisher,52\\nJvm1SERbRSuCMxp0tD87xctPoMPj+B7LH18ra948V1c=,1199914,947,Acerting Art,,,-1\\n+5IAJ1YrATnD34Kyy0WJvmRAxam8HDfh9upPhMFxXI0=,182230,958,Gabriel Fauré| Erik Satie| Camille Saint-Saëns| Johann Sebastian Bach| Frédéric Chopin| Franz Schubert| Ludwig van Beethoven| Felix Mendelssohn| Franz Liszt| Liszt| Wolfgang Amadeus Mozart| Maurice Ravel| Robert Schumann| Richard Wagner,Bach,,-1\\ngMfcO+rNddSdZQmBD1l433Uu8Pz+eqHguMHtn/rowKg=,180558,465,証聲音樂圖書館 ECHO MUSIC,George Timothy,,52\\nfUysq7fyNCpFqUTEgmZ/koWdNX5riJ/OYJyoZ8aUmyg=,223983,958,Ensemble Oni Wytars,Athanasius Kircher,,-1\\nPQKp2b9x3ytAktYp0Fo5taMk+A1DOJZ/8Ba1ko6RuPk=,199691,465,Тамерлан и Алена,Толоконникова Елена Константиновна,,52\\nuVLm+7bE+6CrO3GfADqCd3Y1KmH0VkJurlLn06CB4NY=,67200,958,Various Artists,Peter Tchaikovsky,,-1\\nrzgAUswBfnKJfHqOBSpZD/yerEXjerIkw7VIwzYIHaQ=,416659,1152|947,Gary Malkin,,,-1\\n+rvrhpSq4SmOtk9NQSZVijX7616TCfwvQWU+BKUy+dk=,164397,465,FLORANTE,,,52\\n9yr3sLxXczqFYhf0ebDSoHrq4rQ1VJScL8UbRtJ6H5o=,150372,2122,Frank Sinatra,Arnold Sundgaard| Alec Wilder,,52\\npW5rBh7n0rawSzjauR8mdziJMH7KikDRRlNqkusEL90=,204056,465,Sunkanmi,,,52\\nTk4dRb7vOUPmjfwkO2MYcN59t42b3rPfCq7x6CGxPJc=,287973,1152,Grupo Los Kawsay,,,-1\\nCGH7yt5aqLPAgz4pAtvKB6/dl5eLydPUfvOxdA85nDM=,190682,,The Ronettes,Cynthia Weil| Barry Mann| Phil Spector,,52\\nE5y+eqEccTirXJccnG2D+vb9qMNi0ihDaae6Nn9iXSc=,146007,2022,Acid Mothers Temple,,,52\\nWH8n3JT6GdAICXJmg1Bd5ts29uiaPef69SQphCu83Ls=,206785,786|2122,French Piano Jazz Music Oasis,Marco Rinaldo,,52\\narIh1Vu50blfRO3oGSMIQR4tXMAhVaOUYetvIY9hewY=,229413,958,Phoebe Carrai,,,-1\\nNWV9xnpKL7hNFk8sX8Q2DmObV/T8Q1T6t+cZcehAIy4=,231270,465,ByTheWay,Skeeny Boy| Feng Ya Ou Ferenc| Szikszai Péter| Szűcs Norbert| Vavra Bence,,52\\nldjSYSLcoPBSE+ayq7/NNoCOge4yFZH1nA/m4mfQKxE=,295729,2176|2093,Various Artists,Hal Ritson,,-1\\nP35PyRkpe/RUvvA/yneVVNF/CIsH4MvGrSZoTP7mtWk=,252560,465,Lou Reed,Lou Reed,Lou Reed,52\\nj/nqyVgRTPibVWXrH0XhmAlsh/uWJfyy/58Uftmxp10=,140062,2122,Julie London,Joe McCoy,,-1\\nW4vWuFjk0QDT6J6XFUh1+0KLmSbSUzcBjBQPLO+5gQ8=,249242,465,House M.D.,,,52\\neics/OvgrTod+/mFfqnvpfmyhxPdWKEbaS8LPjUBmNU=,175124,1259,Bavgate,,,52\\nSFNV0PL0nYpuGw2IZR3Z+y1wVyRAUYxXkmjUAl9JHF8=,745361,958,The Royal Festival Orchestra| Conducted By William Bowles,Johannes Brahms,,-1\\nh8v3MZtqN1xidzNvWKQ9GINZuthVZci3bPbpYPol7uA=,223468,465,Mirac,Erol Parlak,,52\\nBU6NGanRm3yMT6C1E7r9RFNzRtqKZUznp74urzVq9eE=,272927,,Dinner Music,,,52\\no60HkDfptEeqqcmO6my2mKq6/zx+QJNK3y9JaW51Pbg=,522263,2022,Emerson| Lake & Palmer,,,52\\neq7mW01TUH4XJYukvLLKJPIBWmjV1+Aan+X/lHq+AFc=,159137,2022,Rhett Price,,,52\\nty2E+vo10fUJRw7TGJiLXx1TFpM05a3UBYZDCv4sBhU=,271568,2122,Chet Baker,,,52\\nplgs36yF+jifViBF7OwTC1tCiTeT6PZ77JQVNhWqKCo=,182177,1572,Kim Gray,,,52\\nL3y1ZZk66R0u1qrB+WOLwiZ5cllcwtGml497x67goZ4=,148584,,Johnny Lee,,,52\\nOx9eB+F9jx/gF1nte+o0zMpUGvm03Rf7b674CTAlbVg=,276735,465,China Crisis,Kevin Wilkinson| Gary Johnson| Gary Daly| Eddie Lundon| Brian McNeil,,52\\n7V/AxlM1lPuG4s9MwxuM8KSj5lbLWkONUPm4e5tlXmc=,49632,940,Instrumental|Piano Music|Romantic Piano Music,,,-1\\nT8FuxcUXayV5CZcv8PQIXFybPSRB5dmfqQ4x5ojlFeg=,128545,,Johnny Hallyday,Bobby Darin| Georges Aber,,52\\nXvnz8koE37cbZGzgkxWjkKwJ+Q6ASvnJr73pHNDHhwk=,231920,118,Dj First Mike,DR,,52\\ntm21lhhJF/KpkHx2sbybq9NRk9E/P6+1iPBjaxaZr3g=,415149,1609,Channel X,André Quasar| Miko| Miko| André Quasar,,52\\n4UDlyvwGOa3rxRHF4M/s0Lfe8giXmd2GZkvq3OT9Pig=,222040,2022,Jacob Jeffries Band,Jacob Jeffries,,52\\npeZ7EG72TzSVWLRY8lZzj6ueU699IqTn1R1uABAEprc=,217432,2122,Jimmie Grier,,,-1\\nNPf5xdDfH5Rj0qnJJ8uj3YhmUsYKkPs72+jLZg94BbY=,123901,423,Jorge Ben Jor,Jolio Mello,,52\\nKtESGSn9M4eo2qRRsdJicDXhjcRhA674y6CHc0ATbW0=,277942,465,Jane Olivor,,,52\\nkAHMoYZXupyP2s7k4ozVzNP/tW2nAMAHASg0K5ezXtQ=,255977,958,Bryn Terfel,Wolfgang Amadeus Mozart,,-1\\nsmsAGrmJKVB3kGCpSc1wluTHJlc683Z4DEI0uFCh+hM=,377103,958,Wolfgang Amadeus Mozart,,,-1\\nWmgIpaQI01hYpCQgQfCVgk2H/F7KSQmi5dZdkj+mhyY=,207679,958,Erik Satie| Wolfgang Amadeus Mozart| Ludwig van Beethoven| Franz Liszt| Felix Mendelssohn| Camille Saint-Saëns| Claude Debussy| Johannes Brahms| Johann Sebastian Bach| Richard Wagner| Maurice Ravel| Robert Schumann| Franz Schubert,Erik Satie,,-1\\n52hK/lPz8r9esWjhXv9bOvrXQFBwFe/v3MXo8+gd2QE=,272230,1572|275,Jay Spangler,,,52\\nFp9K2uGvgJn+j6TCdbsxhaJskgKnkCsc6VrV8SHFa+w=,156177,465,Bing Crosby,Neale,,52\\njgcWLXhwFLk/GUE8H30dc671Ed/VcFJrgzxj7QpF+0k=,176285,465,Christmas Carols| New York Jazz Lounge| Christmas Favourites,I. Berlin,,52\\nd/O9xSBY0+Lv1EKSIEUwknPsYGzfus4Om/sA/P76sFg=,306024,465,流氓阿德,流氓阿德,流氓阿德,10\\nunu3GVU69kfFq3Xd00IMHYK2obL4UmB7zJY3gfrL3j4=,94772,958,Lucille Chung| Alessio Bax,Francis Poulenc,,-1\\n1pigXiSC7DoPx/Rzp7JuOI1xelFejTwOxllag4/pBzw=,238794,1007,Michael Gielen| Grosses Wiener Rundfunkorchester| Hilde Rössel-Majdan| Emmy Loose| Sena Jurinac,Christoph Willibald Gluck,,-1\\n8n3M6G8bJN98lQ+ztg18q7uW9BwXJihL3/MM9+8gnHo=,280973,1609|2107,Sync 24,Phil Bolland,,52\\nWisTGwHmyrPc+7TvgY4/ELI7pTomcqLihNkuTjJ5nqs=,177400,465,Xavier Cugat,,,52\\np6eNt6sYgZqfex/S5HzIy+pyKzn5X1IqEo5GGKMOihY=,203624,1096,Leon James,Leon James,Ko Sesha,38\\n2YP/UBI24j+BpeLNMydFpL7b1Z4jTqCIRopH+RlUvSc=,406999,1609,Cyberx,,,52\\n7z7SEAGY5rISbMGHU8F/7v1f4GKipGARKsJhwM7kv8k=,213344,465,Doug Strahm,,,52\\nmorT4jXFn2t+4z8q9um8gLjQcyJgYa46ZMY8ue1Yo9A=,267023,940|388,Mozart Lullabies Baby Lullaby & Rain Sounds & Shamanic Music Tribe,Giordano Trivellato| sacchetto giuliano,,52\\nPIF0tF5W6f6avWQgHYzaymXNN9betVV1AD24nSXruGo=,86936,940,Spa Sensations,,,-1\\nPbP2Gj7Xp78thEsi5B/e2RmGciN2hZhMFIVdTPid9fc=,241116,2122,Various Artists,John Lennon,,52\\n1nqs8zqrV3B/CstZtLUnKnb4AX0GSt4Th6g9vYPBJhk=,173406,465,Maya Saban,Maya Saban| Stefanie Werner| Cosmo Klein| Alexander Zuckowski,Maya Saban| Stefanie Werner| Cosmo Klein| Alexander Zuckowski,52\\n/AXVa3DiLP1nTSuJIX9pt/yiAdIzcu/+RjLXnsDNjIs=,237923,958,Dennis Brain,Benjamin Britten,,-1\\nt7Oes5yh4sUll5yJZyg2qM+w1Ge4mH+p8JzA1MS0G7Q=,214087,,DJ Designer Drugz,,,52\\n9JyWgNUEPqiAGySMhdS7rfa6bYDXWMEz7SKb9M6a8rs=,219289,465,郭淑芳,佚名,,59\\ni5bslf7L0HVoEI5UrF/sTkIfggqAOqdFkunv6xL7qEU=,121765,2022,Zero Tolerance,,,52\\nMysjbgSwS8a792rMgkgVpMalBpOJ/KrSp4ePEVwlxu8=,182741,465,Alex Lloyd,Alex Wasiliev| B. Quinn,,52\\nLqMGOSauN2oS5/tERrJ90DglSfY8BCxWRrO1EoMyNx8=,234707,2022,Chaif,,,52\\nA/+LlYRXUesszszfeRJ2raerVqH/b8YOVwtNLPh1ems=,200306,359,Various Artists,Nicholas Dungo,,52\\nCFfqWBbQDaFUx1kbbTkoTKyZ/dIz57z8NB7gQIcVAEU=,460776,1609,Various Artists,,,52\\n7xYT8g1OmdShQQXoJdCyIjrL9Twso6sclKeFi+56dOM=,172756,698,Various Artists,Wakely Willing Kenny,,52\\ns6aeaWUwTxqwptIbahENHQoZtcCg/TxCkv7wQiv6WL8=,160078,691,Dj Christmas,,,52\\nM5u3xJSSF35f0+FJuI/eHr2Qrc4VkdLzTLOW4go+uG4=,47461,986,trioMotion,Bartok| Béla Bartók,,-1\\nNOmpcjrSr27v4nVbZm7OBkNyrNA1Ccx94AatAs6wLeI=,220682,1152,Replay,,,-1\\nUhq5JChkx9Dafp57pWo1sjZnhJmsFtBPNMr0L1kwdAQ=,204564,409,Paul Anka,Doc Pomus|Mort Shuman,Doc Pomus|Mort Shuman,52\\nQafuynLjS7MTi8Hfo6A19Ji5+JfAVGShd1trw+eYR1g=,220218,2022,Nada Surf,,,52\\nH12V709USYF3D8V7bCCjhm2SgJqtvpC7Dc5YmpCLgQk=,250403,958,Orchestra Victoria| Nicolette Fraillon| David Wenham,Peter Ilyich Tchaikovsky,,-1\\n4ZDjsIA/qyvU5DdsUazAw+APNcB95tyEP7sLIXycjlw=,185574,1609|2058,666,Thomas Detert| Mike Griesheimer,,-1\\njFkSmkNVPb43xG7Y/k/eROAq5zA+/MkV+/TgBeWgLZA=,175449,465,Autre Ne Veut,,,52\\ntmJ8ikB/SZzZudtShjZK6iYQY78fCKpg2sXKJCsaq6E=,209165,691,Christmas Superstars,,,-1\\nhN1iH/a8MKfaIvA57GLsf/7QQyd6/1esdyVrp7+mcYk=,233593,958,707,,,-1\\nyfGy7EFae9+jZK264wMq9oiPMPqE5DNt4Fo/WvA075c=,499786,465,Original (German) Cast of Tanz Der Vampire\"     1\n",
              " 2 THE EXTREME,Master Chief & iLLest Game,,52\\nhTjb4aI742IZmUteP4Nq1Wv/TVqQlu4twAxgYr7HWrc=,152032,2122,Craig Riley,,,52\\n02sfRMCNdx0HWE0m40GV0Mr6waRMs4xFLtQ3hbD8jKE=,94830,465,Various Artists,Vic Thomas,,52\\n/V1b1FzRbsES/auiowdwHC2sjh4G/TQD6fia9mC+VAk=,427947,2122,Lee Ritenour,L. Ritenour,L. Ritenour,-1\\nAP81q5i+8w9mf8sLvVRTHvcDj6ISlYqdyZjME1yU5Eo=,158639,465,Classical Wedding Music Experts,,,52\\nRTZkzEml9iL7oy/7/K+wqjcEaLW+NCFb+Ect7ajgzpc=,360081,958,Christine Schäfer,Johann Sebastian Bach,,-1\\nzTDj01+HlhhOQycwVPTq2/tlFhIiU07nZwOnFdQ2tyQ=,269087,2022,Die Toten Hosen,Meurer,Frege,52\\nfGaB5rSbYhViGhEtRmXVqVIiyvwVCuN+a8sICOEmXcM=,347277,1630,Randy Meisner,Randy Meisner| Don Henley| Glenn Frey,,52\\nIm8kq6TdjYFPsYXXGm/MnYx8HxbUDAc7j9BbOD49lWg=,202106,465,林一峰 (Chet Lam),林一峰,林一峰,24\\n50Q9jB+6I7DvpWiB3v1qnNzh5Dap+vH6o52nFgSbA3g=,327122,1609,Dash Berlin,,,52\\nwD53+EPI6gInUuMl8+D/ErE3lN2SvQ4NPWDxgsJsnoI=,288365,2022,White Lion,,,52\\nAHXjCqpjtHpxPG+Q46BXGg81U99ZsotGg7j4FWot9tE=,103468,1180,Potshot,,,52\\n0LfN9PKEySGt7IQVOqYX0A8UYm3W/W/Uv6Tpw/ul+eQ=,253178,465,도나웨일,,,31\\nLaZLbPQeSGyQan08eWy+alKvG4twDcrYTObECdCSWS4=,254676,139|125|109,Funky Beats,,,52\\nnYux6SYxRxpfq+Q/GZUmY3DppYNwSJbtUOCD1z2k2Fw=,178113,958,Yo-Yo Ma & Kathryn Stott,Claude Debussy,,-1\\n6m+o50Pcn6Debjex3rB0E5WkLH3NskNfnBG5woyLYB4=,195512,1259,95 South,,,52\\nAeDuqhE04Y32is6JBs2bapmtvdpVWWS6OyZyQXDp8fs=,266658,465,Richard Clayderman,,,52\\nhXaXMfgidQmEq6WNSIsG9wh5uvgMAG9Jgfzt2xmSJ3k=,192052,1138,El Alfa,,,-1\\nXu9jF9xdaZ5iIWwjYjFKYhYZoClRzVRTcGXt4pltU04=,167942,388,オルゴールサウンド J-POP,,,-1\\nHVR+N6yxo5nygJdAddSHb9br5HYu0aiA6OtvbwRD5DQ=,176457,242,Silent Night| Holy Night,Felix Bernard| Richard B. Smith,,-1\\n0jiD8oesTaAky+bCJiJfyJstg5RjDybZ8L1erZ0FMFk=,156688,465,Gladys Knight,Gladys Knight| William Guest,,52\\n4CLX9lwbcKWWrMXwTrGOtK1zwfT4R+BPVjeJD9f1vt4=,117632,958,Alban Berg Quartett,Igor Stravinsky (Fyodorovich),,-1\\nXoOb8DM8ed4rJXhMdEisDgyfTceDuQaU1s5h1p2QWSs=,93622,465,Alvin And The Chipmunks,Patrick Sarsfield Gilmore,,52\\ny6iuE+AL+sGxU54ZVW37nUfD6w5hzXE8N5bhq6wVp6E=,302323,1572|275,Lovedrug,,,52\\n9hY54K97Ew1hYv/AJY2yZ2o8khNwpdY7r7D/PM0C5BE=,142570,94,Solomon Burke,Joy Byers,,52\\nVLBRHVGcAQovBIS77MwY+DNr+uVqNwCVaJi9b3REUco=,497266,786,彭浩瑋 (Peng Hao Wei),彭浩瑋,彭浩瑋,-1\\n9VetfCIO1wN9vkLDK0fbs/OlVJz3mHNT5ZG0bBB76Ck=,201084,1259,Jshades,,,52\\nT7qKYz3lUVnE20uSfEf0kuVTK/KCqS8sZsYBzPoLOf8=,251425,958,Boston Pops Orchestra| Arthur Fiedler,Jacques Offenbach,,-1\\nRxu4IY/r6S/UulnboEED5UgDaGHa2n6LyI7WVZHCaB4=,264986,1152,Claude Debussy,,,-1\\njU39F+xSz9AqzjlaHxCRX0jodl4dhWvP2OZzUOtv7yQ=,191947,465,FitFam,,,52\\nh1i8yyi+unDme27uWrga7ER374vHGECoQmOnJIl1d+w=,219289,465,Men at Work,,,52\\n0hYeOgFCbrKUhBzYoa3IOOP2qcJ1KOkSiHes+LdLdsw=,484089,212,Naïssam Jalal| Rhythms of Resistance,Naïssam Jalal,,52\\ntAMuXmkJ9O+q7IBvGcXvHYFTj6imQoQCPAtEWoO1cxk=,30465,545,James Lovell,,,-1\\nGNyu2glgp2WjAx+MQGim0jkFl5pctwk4BwXotEdyck8=,64078,2022,Tom Waits,Tom Waits| Kathleen Brennan,,52\\nWioKOp5BYecmnLxaZOBWGEXjnuElk145+EPwsNTxU0E=,128835,798,Elvis Presley,,,52\\nsrnQAJ1gV0TvqK34Lw7DRF6BqNmEp08VJykgr2oL+7Y=,335203,1609,Anjunabeats Worldwide,,,52\\nVnDXSt3s+mWuGfY++/TA5yTm0VZaHv+YqC/xsj+wQVw=,304587,829,Spencer Elliott,,,52\\nQSPOfoKqUtKiFIhagF9UjPwHUCVVoAove2uWrVX9Uzo=,197926,2122,Nat King Cole,George Gershwin| Ira Gershwin,,52\\nudL7J4fBMd3AUsUau7kAVxarWu/RvPyM/2fhcKS9hRY=,428547,2122,Grant Green,Velázquez,,52\\nBSw0m+DRk7ONsxqkJENxocaVPuJjUXKHppDpsSQpL5U=,373864,1011,คาราบาว (Carabao),Carabao,Carabao,-1\\nHWU3WDNyrIA9k3YlaFv33kUKpoyeMCqdoKnA7f7Vq+s=,212271,829,Franziska,Porzig| Porzig| Porzig| Stolle| Streicher| Stolle| Streicher| Porzig| Stolle| Streicher| Stolle| Streicher,,52\\nWRQsSx+IjhZvrQEdAPzNOQ+NY6lsZ/1oJqMZD7H6DTE=,240013,444,Groove Edition,,,31\\n2aosoKFNYN6Gs2Icg15W/PDY5HbGyDKn0/PC/Tgup4M=,171734,465,The Tremeloes,,,52\\n89o6/B8cL3e/Xpyw7cpGc+1/Vy7rgvA+6Q8UWvQY5hk=,137926,958,Various Artists,,,-1\\nW5SZs96I9jXoGyusWxErp5lfds7XoxMopyfgu8rss4Q=,96967,242,Varios Artistas,,,-1\\n7vIuTR/4mMAeF0FnLTE1UvSijTr6WsyGDNxs8lYh8EI=,207203,691,Various Artists,,,-1\\nnQHidtd5GZV3YvuqvsEqzheyrtwZXuNt7vYNjEgq5mY=,352182,2122,Warner Jazz Christmas,,,52\\nGbZ6DG/GW95TH0qAQH4T5wz0imO4mDjXUGpQhi9RIPI=,523842,1609,Luka Sambe,,,52\\nWNPCbfm5qc8bx96UdgSJlFacUu4ZmUB2l0mZdcgfwj8=,118050,1152,Various Artists,,,-1\\nNEklqCJPGSGGOehr9Cyp4myvMgpAa70YW/cyCKzwqBo=,367072,1598,Mayang Sari,,,59\\nhirlgtpXFD5eyspJtyABGCtGhgkRxwX5BGWELnYTXuc=,229093,2022,H.E.A.T,Erik Grönwall| Erik Hammarbäck| Jimmy Johansson,Erik Grönwall| Erik Hammarbäck| Jimmy Johansson,52\\nKH1IKZkON52kOLh9FHTPTrM/Gf1S0IjKNtkq9ZgyP7I=,202315,2022,Sugar Glyder,,,52\\nMK1SRkDtIyoXP8yaQCUOvfDuSDSBHtcOocn1b4t5nXE=,162633,958,Sviatoslav Richter,,,-1\\njFmpAnBrgN0rdssfRqdqNEg8/spTYJ94pb0nJPPv24I=,173035,2122,Shirley Bassey,Paul Francis Webster| Sammy Fain,,52\\nRLzFTpQKgwIelup/gtFaGzAm//71lHbm3ravLKKjYQM=,322726,465,Subzonic,Subzonic,,52\\nV4jrDqgdT0Zvh//fcuJs3/oMDbSsW+VVQspV5HU1xEE=,199993,1259, 2 THE EXTREME                                                                                                                                                                                                                                                                                                                                                                                                                                                                                                                                                                                                                                                                                                                                                                                                                                                                                                                                                                                                                                                                                                                                                                                                                                                                                                                                                                                                                                                                                                                                                                                                                                                                                                                                                                                                                                                                                                                                                                                                                                                                                                                                                                                                                                                                                                                                                                                                                                                                                                                                                                                                                                                                                                                                                                                                                                                                                                                                                                                                                                                                                                                                                                                                                                                                                                                                                                                                                                                                                                                                                                                                                                                                                                                                                                                                                                                                                                                                                                                                                                                                                                                                                                                                                                                                                                                                                                                                                                                                                                                                                                                                                                                                                                                                                                                                                                                                                                                                                                                                                                                                                                                                                                                                                                                                                                                                                                                                                                                                                                                                                                                                                                                                                                                                                                                                                                                                                                                                                                                                                                                                                                                                                                                                                                                                                                                                                                                                                                                                                                                                                                                                                                                                                                                                                                                                                                                                                                                                                                                                                                                                                                                                                                                                                                                                                                                                                                                                                                                                                                                                                                                                                                                                                                                                                                                                                                                                                                                                                                                                                                                                                                                                                                                                                                                                                                                                                                                                                                                                                                                                                                                                                                                                                                                                                                                                                                                                                                                                                                                                                                                                                                                                                                                                                                                                                                                                                                                                                                                                                                                                                                                                                                                                                                                                                                                                                                                                                                                                                                                                                                                                                                                                                                                                                                                                                                                                                                                                                                                                                                                                                                                                                                                                                                                                                                                                                                                                                                                                                                                                                                                                                                                                                                                                                                                                                                                                                                                                                                                                                                                                                                                                                                                                                                                                                                                                                                                                                                                                                                                                                                                                                                                                                                                                                                                                                                                                                                                                                                                                                                                                                                                                                                                                                                                                                                                                                                                                                                                                                                                                                                                                                                                                                                                                                                                                                                                                                                                                                                                                                                                                                                                                                                                                                                                                                                                                                                                                                                                                                                                                                                                                                                                                                                                                                                                                                                                                                                                                                                                                                                                                                                                                                                                                                                                                                                                                                                                                                                                                                                                                                                                                                                                                                                                                                                                                                                                                                                                                                                                                                                                                                                                                                                                                                                                                                                                                                                                                                                                                                                                                                                                                                                                                                                                                                                                                                                                                                                                                                                                                                                                                                                                                                                                                                                                                                                                                                                                                                                                                                                                                                                                                                                                                                                                                                                                                                                                                                                                                                                                                                                                                                                                                                                                                                                                                                                                                                                                                                                                                                                                                                                                                                                                                                                                                                                                                                                                                                                                                                                                                                                                                                                                                                                                                                                                                                                                                                                                                                                                                                                                                                                                                                                                                                                                                                                                                                                                                                                                                                                                                                                                                                                                                                                                                                                                                                                                                                                                                                                                                                                                                                                                                                                                                                                                                                                                                                                                                                                                                                                                                                                                                                                                                                                                                                                                                                                                                                                                                                                                                                                                                                                                                                                                                                                                                                                                                                                                                                                                                                                                                                                                                                                                                                                                                                                                                                                                                                                                                                                                                                                                                                                                                                                                                                                                                                                                                                                                                                                                                                                                                                                                                                                                                                                                                                                                                                                                                                                                                                                                                                                                                                                                                                                                                                                                                                                                                                                                                                                                                                                                                                                                                                                                                                                                                                                                                                                                                                                                                                                                                                                                                                                                                                                                                                                                                                                                                                                                                                                                                                                                                                                                                                                                                                                                                                                                                                                                                                                                                                                                                                                                                                                                                                                                                                                                                                                                                                                                                                                                                                                                                                                                                                                                                                                                                                                                                                                                                                                                                                                                                                                                                                                                                                                                                                                                                                                                                                                                                                                                                                                                                                                                                                                                                                                                                                                                                                                                                                                                                                                                                                                                                                                                                                                                                                                                                                                                                                                                                                                                                                                                                                                                                                                                                                                                                                                                                                                                                                                                                                                                                                                                                                                                                                                                                                                                                                                                                                                                                                                                                                                                                                                                                                                                                                                                                                                                                                                                                                                                                                                                                                                                                                                                                                                                                                                                                                                                                                                                                                                                                                                                                                                                                                                                                                                                                                                                                                                                                                                                                                                                                                                                                                                                                                                                                                                                                                                                                                                                                                                                                                                                                                                                                                                                                                                                                                                                                                                                                                                                                                                                                                                                                                                                                                                                                                                                                                                                                                                                                                 1\n",
              "!Conz                                                                                                                                                                                                                                                                                                                                                                                                                                                                                                                                                                                                                                                                                                                                                                                                                                                                                                                                                                                                                                                                                                                                                                                                                                                                                                                                                                                                                                                                                                                                                                                                                                                                                                                                                                                                                                                                                                                                                                                                                                                                                                                                                                                                                                                                                                                                                                                                                                                                                                                                                                                                                                                                                                                                                                                                                                                                                                                                                                                                                                                                                                                                                                                                                                                                                                                                                                                                                                                                                                                                                                                                                                                                                                                                                                                                                                                                                                                                                                                                                                                                                                                                                                                                                                                                                                                                                                                                                                                                                                                                                                                                                                                                                                                                                                                                                                                                                                                                                                                                                                                                                                                                                                                                                                                                                                                                                                                                                                                                                                                                                                                                                                                                                                                                                                                                                                                                                                                                                                                                                                                                                                                                                                                                                                                                                                                                                                                                                                                                                                                                                                                                                                                                                                                                                                                                                                                                                                                                                                                                                                                                                                                                                                                                                                                                                                                                                                                                                                                                                                                                                                                                                                                                                                                                                                                                                                                                                                                                                                                                                                                                                                                                                                                                                                                                                                                                                                                                                                                                                                                                                                                                                                                                                                                                                                                                                                                                                                                                                                                                                                                                                                                                                                                                                                                                                                                                                                                                                                                                                                                                                                                                                                                                                                                                                                                                                                                                                                                                                                                                                                                                                                                                                                                                                                                                                                                                                                                                                                                                                                                                                                                                                                                                                                                                                                                                                                                                                                                                                                                                                                                                                                                                                                                                                                                                                                                                                                                                                                                                                                                                                                                                                                                                                                                                                                                                                                                                                                                                                                                                                                                                                                                                                                                                                                                                                                                                                                                                                                                                                                                                                                                                                                                                                                                                                                                                                                                                                                                                                                                                                                                                                                                                                                                                                                                                                                                                                                                                                                                                                                                                                                                                                                                                                                                                                                                                                                                                                                                                                                                                                                                                                                                                                                                                                                                                                                                                                                                                                                                                                                                                                                                                                                                                                                                                                                                                                                                                                                                                                                                                                                                                                                                                                                                                                                                                                                                                                                                                                                                                                                                                                                                                                                                                                                                                                                                                                                                                                                                                                                                                                                                                                                                                                                                                                                                                                                                                                                                                                                                                                                                                                                                                                                                                                                                                                                                                                                                                                                                                                                                                                                                                                                                                                                                                                                                                                                                                                                                                                                                                                                                                                                                                                                                                                                                                                                                                                                                                                                                                                                                                                                                                                                                                                                                                                                                                                                                                                                                                                                                                                                                                                                                                                                                                                                                                                                                                                                                                                                                                                                                                                                                                                                                                                                                                                                                                                                                                                                                                                                                                                                                                                                                                                                                                                                                                                                                                                                                                                                                                                                                                                                                                                                                                                                                                                                                                                                                                                                                                                                                                                                                                                                                                                                                                                                                                                                                                                                                                                                                                                                                                                                                                                                                                                                                                                                                                                                                                                                                                                                                                                                                                                                                                                                                                                                                                                                                                                                                                                                                                                                                                                                                                                                                                                                                                                                                                                                                                                                                                                                                                                                                                                                                                                                                                                                                                                                                                                                                                                                                                                                                                                                                                                                                                                                                                                                                                                                                                                                                                                                                                                                                                                                                                                                                                                                                                                                                                                                                                                                                                                                                                                                                                                                                                                                                                                                                                                                                                                                                                                                                                                                                                                                                                                                                                                                                                                                                                                                                                                                                                                                                                                                                                                                                                                                                                                                                                                                                                                                                                                                                                                                                                                                                                                                                                                                                                                                                                                                                                                                                                                                                                                                                                                                                                                                                                                                                                                                                                                                                                                                                                                                                                                                                                                                                                                                                                                                                                                                                                                                                                                                                                                                                                                                                                                                                                                                                                                                                                                                                                                                                                                                                                                                                                                                                                                                                                                                                                                                                                                                                                                                                                                                                                                                                                                                                                                                                                                                                                                                                                                                                                                                                                                                                                                                                                                                                                                                                                                                                                                                                                                                                                                                                                                                                                                                                                                                                                                                                                                                                                                                                                                                                                                                                                                                                                                                                                                                                                                                                                                                                                                                                                                                                                                                                                                                                                                                                                                                                                                                                                                                                                                                                                                                                                                                                                                                                                                                                                                                                                                                                                                                                                                                                                                                                                                                                                                                                                                                                                                                                                                                                                                                                                                                                                                                                                                                                                                                                                                                                                                                                                                                                                                                                                                                                                                                                                                                                                                                                                                                                                                                                                                                                                                                                                                                                                                                                                                                                                                                                                                                                                                                                                                                                                                                                                                                                                                                                                                                                                                                                                                                                                                                                                                                                                                                                                                                                                                                                                                                                                                                                                                                                                                                                                                                                                                                                                                                                                                                                                                                                                                                                                                                                                                                                                                                                                                                                                                                                                                                                                                                                                                                                                                                                                                                                                                                                                                                                                                                                                                                                                                                                                                                                                                                                                                                                                                                                                                                                                                                                                                                                                                                                                                                                                                                                                                                                                                                                                                                                                                                                                                                                                            1\n",
              "!Creekside                                                                                                                                                                                                                                                                                                                                                                                                                                                                                                                                                                                                                                                                                                                                                                                                                                                                                                                                                                                                                                                                                                                                                                                                                                                                                                                                                                                                                                                                                                                                                                                                                                                                                                                                                                                                                                                                                                                                                                                                                                                                                                                                                                                                                                                                                                                                                                                                                                                                                                                                                                                                                                                                                                                                                                                                                                                                                                                                                                                                                                                                                                                                                                                                                                                                                                                                                                                                                                                                                                                                                                                                                                                                                                                                                                                                                                                                                                                                                                                                                                                                                                                                                                                                                                                                                                                                                                                                                                                                                                                                                                                                                                                                                                                                                                                                                                                                                                                                                                                                                                                                                                                                                                                                                                                                                                                                                                                                                                                                                                                                                                                                                                                                                                                                                                                                                                                                                                                                                                                                                                                                                                                                                                                                                                                                                                                                                                                                                                                                                                                                                                                                                                                                                                                                                                                                                                                                                                                                                                                                                                                                                                                                                                                                                                                                                                                                                                                                                                                                                                                                                                                                                                                                                                                                                                                                                                                                                                                                                                                                                                                                                                                                                                                                                                                                                                                                                                                                                                                                                                                                                                                                                                                                                                                                                                                                                                                                                                                                                                                                                                                                                                                                                                                                                                                                                                                                                                                                                                                                                                                                                                                                                                                                                                                                                                                                                                                                                                                                                                                                                                                                                                                                                                                                                                                                                                                                                                                                                                                                                                                                                                                                                                                                                                                                                                                                                                                                                                                                                                                                                                                                                                                                                                                                                                                                                                                                                                                                                                                                                                                                                                                                                                                                                                                                                                                                                                                                                                                                                                                                                                                                                                                                                                                                                                                                                                                                                                                                                                                                                                                                                                                                                                                                                                                                                                                                                                                                                                                                                                                                                                                                                                                                                                                                                                                                                                                                                                                                                                                                                                                                                                                                                                                                                                                                                                                                                                                                                                                                                                                                                                                                                                                                                                                                                                                                                                                                                                                                                                                                                                                                                                                                                                                                                                                                                                                                                                                                                                                                                                                                                                                                                                                                                                                                                                                                                                                                                                                                                                                                                                                                                                                                                                                                                                                                                                                                                                                                                                                                                                                                                                                                                                                                                                                                                                                                                                                                                                                                                                                                                                                                                                                                                                                                                                                                                                                                                                                                                                                                                                                                                                                                                                                                                                                                                                                                                                                                                                                                                                                                                                                                                                                                                                                                                                                                                                                                                                                                                                                                                                                                                                                                                                                                                                                                                                                                                                                                                                                                                                                                                                                                                                                                                                                                                                                                                                                                                                                                                                                                                                                                                                                                                                                                                                                                                                                                                                                                                                                                                                                                                                                                                                                                                                                                                                                                                                                                                                                                                                                                                                                                                                                                                                                                                                                                                                                                                                                                                                                                                                                                                                                                                                                                                                                                                                                                                                                                                                                                                                                                                                                                                                                                                                                                                                                                                                                                                                                                                                                                                                                                                                                                                                                                                                                                                                                                                                                                                                                                                                                                                                                                                                                                                                                                                                                                                                                                                                                                                                                                                                                                                                                                                                                                                                                                                                                                                                                                                                                                                                                                                                                                                                                                                                                                                                                                                                                                                                                                                                                                                                                                                                                                                                                                                                                                                                                                                                                                                                                                                                                                                                                                                                                                                                                                                                                                                                                                                                                                                                                                                                                                                                                                                                                                                                                                                                                                                                                                                                                                                                                                                                                                                                                                                                                                                                                                                                                                                                                                                                                                                                                                                                                                                                                                                                                                                                                                                                                                                                                                                                                                                                                                                                                                                                                                                                                                                                                                                                                                                                                                                                                                                                                                                                                                                                                                                                                                                                                                                                                                                                                                                                                                                                                                                                                                                                                                                                                                                                                                                                                                                                                                                                                                                                                                                                                                                                                                                                                                                                                                                                                                                                                                                                                                                                                                                                                                                                                                                                                                                                                                                                                                                                                                                                                                                                                                                                                                                                                                                                                                                                                                                                                                                                                                                                                                                                                                                                                                                                                                                                                                                                                                                                                                                                                                                                                                                                                                                                                                                                                                                                                                                                                                                                                                                                                                                                                                                                                                                                                                                                                                                                                                                                                                                                                                                                                                                                                                                                                                                                                                                                                                                                                                                                                                                                                                                                                                                                                                                                                                                                                                                                                                                                                                                                                                                                                                                                                                                                                                                                                                                                                                                                                                                                                                                                                                                                                                                                                                                                                                                                                                                                                                                                                                                                                                                                                                                                                                                                                                                                                                                                                                                                                                                                                                                                                                                                                                                                                                                                                                                                                                                                                                                                                                                                                                                                                                                                                                                                                                                                                                                                                                                                                                                                                                                                                                                                                                                                                                                                                                                                                                                                                                                                                                                                                                                                                                                                                                                                                                                                                                                                                                                                                                                                                                                                                                                                                                                                                                                                                                                                                                                                                                                                                                                                                                                                                                                                                                                                                                                                                                                                                                                                                                                                                                                                                                                                                                                                                                                                                                                                                                                                                                       2\n",
              "!Dela Dap                                                                                                                                                                                                                                                                                                                                                                                                                                                                                                                                                                                                                                                                                                                                                                                                                                                                                                                                                                                                                                                                                                                                                                                                                                                                                                                                                                                                                                                                                                                                                                                                                                                                                                                                                                                                                                                                                                                                                                                                                                                                                                                                                                                                                                                                                                                                                                                                                                                                                                                                                                                                                                                                                                                                                                                                                                                                                                                                                                                                                                                                                                                                                                                                                                                                                                                                                                                                                                                                                                                                                                                                                                                                                                                                                                                                                                                                                                                                                                                                                                                                                                                                                                                                                                                                                                                                                                                                                                                                                                                                                                                                                                                                                                                                                                                                                                                                                                                                                                                                                                                                                                                                                                                                                                                                                                                                                                                                                                                                                                                                                                                                                                                                                                                                                                                                                                                                                                                                                                                                                                                                                                                                                                                                                                                                                                                                                                                                                                                                                                                                                                                                                                                                                                                                                                                                                                                                                                                                                                                                                                                                                                                                                                                                                                                                                                                                                                                                                                                                                                                                                                                                                                                                                                                                                                                                                                                                                                                                                                                                                                                                                                                                                                                                                                                                                                                                                                                                                                                                                                                                                                                                                                                                                                                                                                                                                                                                                                                                                                                                                                                                                                                                                                                                                                                                                                                                                                                                                                                                                                                                                                                                                                                                                                                                                                                                                                                                                                                                                                                                                                                                                                                                                                                                                                                                                                                                                                                                                                                                                                                                                                                                                                                                                                                                                                                                                                                                                                                                                                                                                                                                                                                                                                                                                                                                                                                                                                                                                                                                                                                                                                                                                                                                                                                                                                                                                                                                                                                                                                                                                                                                                                                                                                                                                                                                                                                                                                                                                                                                                                                                                                                                                                                                                                                                                                                                                                                                                                                                                                                                                                                                                                                                                                                                                                                                                                                                                                                                                                                                                                                                                                                                                                                                                                                                                                                                                                                                                                                                                                                                                                                                                                                                                                                                                                                                                                                                                                                                                                                                                                                                                                                                                                                                                                                                                                                                                                                                                                                                                                                                                                                                                                                                                                                                                                                                                                                                                                                                                                                                                                                                                                                                                                                                                                                                                                                                                                                                                                                                                                                                                                                                                                                                                                                                                                                                                                                                                                                                                                                                                                                                                                                                                                                                                                                                                                                                                                                                                                                                                                                                                                                                                                                                                                                                                                                                                                                                                                                                                                                                                                                                                                                                                                                                                                                                                                                                                                                                                                                                                                                                                                                                                                                                                                                                                                                                                                                                                                                                                                                                                                                                                                                                                                                                                                                                                                                                                                                                                                                                                                                                                                                                                                                                                                                                                                                                                                                                                                                                                                                                                                                                                                                                                                                                                                                                                                                                                                                                                                                                                                                                                                                                                                                                                                                                                                                                                                                                                                                                                                                                                                                                                                                                                                                                                                                                                                                                                                                                                                                                                                                                                                                                                                                                                                                                                                                                                                                                                                                                                                                                                                                                                                                                                                                                                                                                                                                                                                                                                                                                                                                                                                                                                                                                                                                                                                                                                                                                                                                                                                                                                                                                                                                                                                                                                                                                                                                                                                                                                                                                                                                                                                                                                                                                                                                                                                                                                                                                                                                                                                                                                                                                                                                                                                                                                                                                                                                                                                                                                                                                                                                                                                                                                                                                                                                                                                                                                                                                                                                                                                                                                                                                                                                                                                                                                                                                                                                                                                                                                                                                                                                                                                                                                                                                                                                                                                                                                                                                                                                                                                                                                                                                                                                                                                                                                                                                                                                                                                                                                                                                                                                                                                                                                                                                                                                                                                                                                                                                                                                                                                                                                                                                                                                                                                                                                                                                                                                                                                                                                                                                                                                                                                                                                                                                                                                                                                                                                                                                                                                                                                                                                                                                                                                                                                                                                                                                                                                                                                                                                                                                                                                                                                                                                                                                                                                                                                                                                                                                                                                                                                                                                                                                                                                                                                                                                                                                                                                                                                                                                                                                                                                                                                                                                                                                                                                                                                                                                                                                                                                                                                                                                                                                                                                                                                                                                                                                                                                                                                                                                                                                                                                                                                                                                                                                                                                                                                                                                                                                                                                                                                                                                                                                                                                                                                                                                                                                                                                                                                                                                                                                                                                                                                                                                                                                                                                                                                                                                                                                                                                                                                                                                                                                                                                                                                                                                                                                                                                                                                                                                                                                                                                                                                                                                                                                                                                                                                                                                                                                                                                                                                                                                                                                                                                                                                                                                                                                                                                                                                                                                                                                                                                                                                                                                                                                                                                                                                                                                                                                                                                                                                                                                                                                                                                                                                                                                                                                                                                                                                                                                                                                                                                                                                                                                                                                                                                                                                                                                                                                                                                                                                                                                                                                                                                                                                                                                                                                                                                                                                                                                                                                                                                                                                                                                                                                                                                                                                                                                                                                                                                                                                                                                                                                                                                                                                                                                                                                                                                                                                                                                                                                                                                                                                                                                                                                                                                                                                                                                                                                                                                                                                                                       40\n",
              "                                                                                                                                                                                                                                                                                                                                                                                                                                                                                                                                                                                                                                                                                                                                                                                                                                                                                                                                                                                                                                                                                                                                                                                                                                                                                                                                                                                                                                                                                                                                                                                                                                                                                                                                                                                                                                                                                                                                                                                                                                                                                                                                                                                                                                                                                                                                                                                                                                                                                                                                                                                                                                                                                                                                                                                                                                                                                                                                                                                                                                                                                                                                                                                                                                                                                                                                                                                                                                                                                                                                                                                                                                                                                                                                                                                                                                                                                                                                                                                                                                                                                                                                                                                                                                                                                                                                                                                                                                                                                                                                                                                                                                                                                                                                                                                                                                                                                                                                                                                                                                                                                                                                                                                                                                                                                                                                                                                                                                                                                                                                                                                                                                                                                                                                                                                                                                                                                                                                                                                                                                                                                                                                                                                                                                                                                                                                                                                                                                                                                                                                                                                                                                                                                                                                                                                                                                                                                                                                                                                                                                                                                                                                                                                                                                                                                                                                                                                                                                                                                                                                                                                                                                                                                                                                                                                                                                                                                                                                                                                                                                                                                                                                                                                                                                                                                                                                                                                                                                                                                                                                                                                                                                                                                                                                                                                                                                                                                                                                                                                                                                                                                                                                                                                                                                                                                                                                                                                                                                                                                                                                                                                                                                                                                                                                                                                                                                                                                                                                                                                                                                                                                                                                                                                                                                                                                                                                                                                                                                                                                                                                                                                                                                                                                                                                                                                                                                                                                                                                                                                                                                                                                                                                                                                                                                                                                                                                                                                                                                                                                                                                                                                                                                                                                                                                                                                                                                                                                                                                                                                                                                                                                                                                                                                                                                                                                                                                                                                                                                                                                                                                                                                                                                                                                                                                                                                                                                                                                                                                                                                                                                                                                                                                                                                                                                                                                                                                                                                                                                                                                                                                                                                                                                                                                                                                                                                                                                                                                                                                                                                                                                                                                                                                                                                                                                                                                                                                                                                                                                                                                                                                                                                                                                                                                                                                                                                                                                                                                                                                                                                                                                                                                                                                                                                                                                                                                                                                                                                                                                                                                                                                                                                                                                                                                                                                                                                                                                                                                                                                                                                                                                                                                                                                                                                                                                                                                                                                                                                                                                                                                                                                                                                                                                                                                                                                                                                                                                                                                                                                                                                                                                                                                                                                                                                                                                                                                                                                                                                                                                                                                                                                                                                                                                                                                                                                                                                                                                                                                                                                                                                                                                                                                                                                                                                                                                                                                                                                                                                                                                                                                                                                                                                                                                                                                                                                                                                                                                                                                                                                                                                                                                                                                                                                                                                                                                                                                                                                                                                                                                                                                                                                                                                                                                                                                                                                                                                                                                                                                                                                                                                                                                                                                                                                                                                                                                                                                                                                                                                                                                                                                                                                                                                                                                                                                                                                                                                                                                                                                                                                                                                                                                                                                                                                                                                                                                                                                                                                                                                                                                                                                                                                                                                                                                                                                                                                                                                                                                                                                                                                                                                                                                                                                                                                                                                                                                                                                                                                                                                                                                                                                                                                                                                                                                                                                                                                                                                                                                                                                                                                                                                                                                                                                                                                                                                                                                                                                                                                                                                                                                                                                                                                                                                                                                                                                                                                                                                                                                                                                                                                                                                                                                                                                                                                                                                                                                                                                                                                                                                                                                                                                                                                                                                                                                                                                                                                                                                                                                                                                                                                                                                                                                                                                                                                                                                                                                                                                                                                                                                                                                                                                                                                                                                                                                                                                                                                                                                                                                                                                                                                                                                                                                                                                                                                                                                                                                                                                                                                                                                                                                                                                                                                                                                                                                                                                                                                                                                                                                                                                                                                                                                                                                                                                                                                                                                                                                                                                                                                                                                                                                                                                                                                                                                                                                                                                                                                                                                                                                                                                                                                                                                                                                                                                                                                                                                                                                                                                                                                                                                                                                                                                                                                                                                                                                                                                                                                                                                                                                                                                                                                                                                                                                                                                                                                                                                                                                                                                                                                                                                                                                                                                                                                                                                                                                                                                                                                                                                                                                                                                                                                                                                                                                                                                                                                                                                                                                                                                                                                                                                                                                                                                                                                                                                                                                                                                                                                                                                                                                                                                                                                                                                                                                                                                                                                                                                                                                                                                                                                                                                                                                                                                                                                                                                                                                                                                                                                                                                                                                                                                                                                                                                                                                                                                                                                                                                                                                                                                                                                                                                                                                                                                                                                                                                                                                                                                                                                                                                                                                                                                                                                                                                                                                                                                                                                                                                                                                                                                                                                                                                                                                                                                                                                                                                                                                                                                                                                                                                                                                                                                                                                                                                                                                                                                                                                                                                                                                                                                                                                                                                                                                                                                                                                                                                                                                                                                                                                                                                                                                                                                                                                                                                                                                                                                                                                                                                                                                                                                                                                                                                                                                                                                                                                                                                                                                                                                                                                                                                                                                                                                                                                                                                                                                                                                                                                                                                                                                                                                                                                                                                                                                                                                ..\n",
              "ＺＥＲＯＳＴＹＬＥ                                                                                                                                                                                                                                                                                                                                                                                                                                                                                                                                                                                                                                                                                                                                                                                                                                                                                                                                                                                                                                                                                                                                                                                                                                                                                                                                                                                                                                                                                                                                                                                                                                                                                                                                                                                                                                                                                                                                                                                                                                                                                                                                                                                                                                                                                                                                                                                                                                                                                                                                                                                                                                                                                                                                                                                                                                                                                                                                                                                                                                                                                                                                                                                                                                                                                                                                                                                                                                                                                                                                                                                                                                                                                                                                                                                                                                                                                                                                                                                                                                                                                                                                                                                                                                                                                                                                                                                                                                                                                                                                                                                                                                                                                                                                                                                                                                                                                                                                                                                                                                                                                                                                                                                                                                                                                                                                                                                                                                                                                                                                                                                                                                                                                                                                                                                                                                                                                                                                                                                                                                                                                                                                                                                                                                                                                                                                                                                                                                                                                                                                                                                                                                                                                                                                                                                                                                                                                                                                                                                                                                                                                                                                                                                                                                                                                                                                                                                                                                                                                                                                                                                                                                                                                                                                                                                                                                                                                                                                                                                                                                                                                                                                                                                                                                                                                                                                                                                                                                                                                                                                                                                                                                                                                                                                                                                                                                                                                                                                                                                                                                                                                                                                                                                                                                                                                                                                                                                                                                                                                                                                                                                                                                                                                                                                                                                                                                                                                                                                                                                                                                                                                                                                                                                                                                                                                                                                                                                                                                                                                                                                                                                                                                                                                                                                                                                                                                                                                                                                                                                                                                                                                                                                                                                                                                                                                                                                                                                                                                                                                                                                                                                                                                                                                                                                                                                                                                                                                                                                                                                                                                                                                                                                                                                                                                                                                                                                                                                                                                                                                                                                                                                                                                                                                                                                                                                                                                                                                                                                                                                                                                                                                                                                                                                                                                                                                                                                                                                                                                                                                                                                                                                                                                                                                                                                                                                                                                                                                                                                                                                                                                                                                                                                                                                                                                                                                                                                                                                                                                                                                                                                                                                                                                                                                                                                                                                                                                                                                                                                                                                                                                                                                                                                                                                                                                                                                                                                                                                                                                                                                                                                                                                                                                                                                                                                                                                                                                                                                                                                                                                                                                                                                                                                                                                                                                                                                                                                                                                                                                                                                                                                                                                                                                                                                                                                                                                                                                                                                                                                                                                                                                                                                                                                                                                                                                                                                                                                                                                                                                                                                                                                                                                                                                                                                                                                                                                                                                                                                                                                                                                                                                                                                                                                                                                                                                                                                                                                                                                                                                                                                                                                                                                                                                                                                                                                                                                                                                                                                                                                                                                                                                                                                                                                                                                                                                                                                                                                                                                                                                                                                                                                                                                                                                                                                                                                                                                                                                                                                                                                                                                                                                                                                                                                                                                                                                                                                                                                                                                                                                                                                                                                                                                                                                                                                                                                                                                                                                                                                                                                                                                                                                                                                                                                                                                                                                                                                                                                                                                                                                                                                                                                                                                                                                                                                                                                                                                                                                                                                                                                                                                                                                                                                                                                                                                                                                                                                                                                                                                                                                                                                                                                                                                                                                                                                                                                                                                                                                                                                                                                                                                                                                                                                                                                                                                                                                                                                                                                                                                                                                                                                                                                                                                                                                                                                                                                                                                                                                                                                                                                                                                                                                                                                                                                                                                                                                                                                                                                                                                                                                                                                                                                                                                                                                                                                                                                                                                                                                                                                                                                                                                                                                                                                                                                                                                                                                                                                                                                                                                                                                                                                                                                                                                                                                                                                                                                                                                                                                                                                                                                                                                                                                                                                                                                                                                                                                                                                                                                                                                                                                                                                                                                                                                                                                                                                                                                                                                                                                                                                                                                                                                                                                                                                                                                                                                                                                                                                                                                                                                                                                                                                                                                                                                                                                                                                                                                                                                                                                                                                                                                                                                                                                                                                                                                                                                                                                                                                                                                                                                                                                                                                                                                                                                                                                                                                                                                                                                                                                                                                                                                                                                                                                                                                                                                                                                                                                                                                                                                                                                                                                                                                                                                                                                                                                                                                                                                                                                                                                                                                                                                                                                                                                                                                                                                                                                                                                                                                                                                                                                                                                                                                                                                                                                                                                                                                                                                                                                                                                                                                                                                                                                                                                                                                                                                                                                                                                                                                                                                                                                                                                                                                                                                                                                                                                                                                                                                                                                                                                                                                                                                                                                                                                                                                                                                                                                                                                                                                                                                                                                                                                                                                                                                                                                                                                                                                                                                                                                                                                                                                                                                                                                                                                                                                                                                                                                                                                                                                                                                                                                                                                                                                                                                                                                                                                                                                                                                                                                                                                                                                                                                                                                                                                                                                                                                                                                                                                                                                                                                                                                                                                                                                                                                                                                                                                                                                                                                                                                                                                                                                                                                                                                                                                                                                                                                                                                                                                                                                                                                                                                                                                                                                                                                                                                                                                                                                                                                                                                                                                                                                                                                                                                                                                                                                                                                                                                                                                                                                                                                                                                                                                                                        1\n",
              "ｗ２ｗＧｏ！Ｇｏ！ぱわふる学園                                                                                                                                                                                                                                                                                                                                                                                                                                                                                                                                                                                                                                                                                                                                                                                                                                                                                                                                                                                                                                                                                                                                                                                                                                                                                                                                                                                                                                                                                                                                                                                                                                                                                                                                                                                                                                                                                                                                                                                                                                                                                                                                                                                                                                                                                                                                                                                                                                                                                                                                                                                                                                                                                                                                                                                                                                                                                                                                                                                                                                                                                                                                                                                                                                                                                                                                                                                                                                                                                                                                                                                                                                                                                                                                                                                                                                                                                                                                                                                                                                                                                                                                                                                                                                                                                                                                                                                                                                                                                                                                                                                                                                                                                                                                                                                                                                                                                                                                                                                                                                                                                                                                                                                                                                                                                                                                                                                                                                                                                                                                                                                                                                                                                                                                                                                                                                                                                                                                                                                                                                                                                                                                                                                                                                                                                                                                                                                                                                                                                                                                                                                                                                                                                                                                                                                                                                                                                                                                                                                                                                                                                                                                                                                                                                                                                                                                                                                                                                                                                                                                                                                                                                                                                                                                                                                                                                                                                                                                                                                                                                                                                                                                                                                                                                                                                                                                                                                                                                                                                                                                                                                                                                                                                                                                                                                                                                                                                                                                                                                                                                                                                                                                                                                                                                                                                                                                                                                                                                                                                                                                                                                                                                                                                                                                                                                                                                                                                                                                                                                                                                                                                                                                                                                                                                                                                                                                                                                                                                                                                                                                                                                                                                                                                                                                                                                                                                                                                                                                                                                                                                                                                                                                                                                                                                                                                                                                                                                                                                                                                                                                                                                                                                                                                                                                                                                                                                                                                                                                                                                                                                                                                                                                                                                                                                                                                                                                                                                                                                                                                                                                                                                                                                                                                                                                                                                                                                                                                                                                                                                                                                                                                                                                                                                                                                                                                                                                                                                                                                                                                                                                                                                                                                                                                                                                                                                                                                                                                                                                                                                                                                                                                                                                                                                                                                                                                                                                                                                                                                                                                                                                                                                                                                                                                                                                                                                                                                                                                                                                                                                                                                                                                                                                                                                                                                                                                                                                                                                                                                                                                                                                                                                                                                                                                                                                                                                                                                                                                                                                                                                                                                                                                                                                                                                                                                                                                                                                                                                                                                                                                                                                                                                                                                                                                                                                                                                                                                                                                                                                                                                                                                                                                                                                                                                                                                                                                                                                                                                                                                                                                                                                                                                                                                                                                                                                                                                                                                                                                                                                                                                                                                                                                                                                                                                                                                                                                                                                                                                                                                                                                                                                                                                                                                                                                                                                                                                                                                                                                                                                                                                                                                                                                                                                                                                                                                                                                                                                                                                                                                                                                                                                                                                                                                                                                                                                                                                                                                                                                                                                                                                                                                                                                                                                                                                                                                                                                                                                                                                                                                                                                                                                                                                                                                                                                                                                                                                                                                                                                                                                                                                                                                                                                                                                                                                                                                                                                                                                                                                                                                                                                                                                                                                                                                                                                                                                                                                                                                                                                                                                                                                                                                                                                                                                                                                                                                                                                                                                                                                                                                                                                                                                                                                                                                                                                                                                                                                                                                                                                                                                                                                                                                                                                                                                                                                                                                                                                                                                                                                                                                                                                                                                                                                                                                                                                                                                                                                                                                                                                                                                                                                                                                                                                                                                                                                                                                                                                                                                                                                                                                                                                                                                                                                                                                                                                                                                                                                                                                                                                                                                                                                                                                                                                                                                                                                                                                                                                                                                                                                                                                                                                                                                                                                                                                                                                                                                                                                                                                                                                                                                                                                                                                                                                                                                                                                                                                                                                                                                                                                                                                                                                                                                                                                                                                                                                                                                                                                                                                                                                                                                                                                                                                                                                                                                                                                                                                                                                                                                                                                                                                                                                                                                                                                                                                                                                                                                                                                                                                                                                                                                                                                                                                                                                                                                                                                                                                                                                                                                                                                                                                                                                                                                                                                                                                                                                                                                                                                                                                                                                                                                                                                                                                                                                                                                                                                                                                                                                                                                                                                                                                                                                                                                                                                                                                                                                                                                                                                                                                                                                                                                                                                                                                                                                                                                                                                                                                                                                                                                                                                                                                                                                                                                                                                                                                                                                                                                                                                                                                                                                                                                                                                                                                                                                                                                                                                                                                                                                                                                                                                                                                                                                                                                                                                                                                                                                                                                                                                                                                                                                                                                                                                                                                                                                                                                                                                                                                                                                                                                                                                                                                                                                                                                                                                                                                                                                                                                                                                                                                                                                                                                                                                                                                                                                                                                                                                                                                                                                                                                                                                                                                                                                                                                                                                                                                                                                                                                                                                                                                                                                                                                                                                                                                                                                                                                                                                                                                                                                                                                                                                                                                                                                                                                                                                                                                                                                                                                                                                                                                                                                                                                                                                                                                                                                                                                                                                                                                                                                                                                                                                                                                                                                                                                                                                                                                                                                                                                                                                                                                                                                                                                                                                                                                                                                                                                                                                                                                                                                                                                                                                                                                                                  1\n",
              "ｗｈｉｍｍ                                                                                                                                                                                                                                                                                                                                                                                                                                                                                                                                                                                                                                                                                                                                                                                                                                                                                                                                                                                                                                                                                                                                                                                                                                                                                                                                                                                                                                                                                                                                                                                                                                                                                                                                                                                                                                                                                                                                                                                                                                                                                                                                                                                                                                                                                                                                                                                                                                                                                                                                                                                                                                                                                                                                                                                                                                                                                                                                                                                                                                                                                                                                                                                                                                                                                                                                                                                                                                                                                                                                                                                                                                                                                                                                                                                                                                                                                                                                                                                                                                                                                                                                                                                                                                                                                                                                                                                                                                                                                                                                                                                                                                                                                                                                                                                                                                                                                                                                                                                                                                                                                                                                                                                                                                                                                                                                                                                                                                                                                                                                                                                                                                                                                                                                                                                                                                                                                                                                                                                                                                                                                                                                                                                                                                                                                                                                                                                                                                                                                                                                                                                                                                                                                                                                                                                                                                                                                                                                                                                                                                                                                                                                                                                                                                                                                                                                                                                                                                                                                                                                                                                                                                                                                                                                                                                                                                                                                                                                                                                                                                                                                                                                                                                                                                                                                                                                                                                                                                                                                                                                                                                                                                                                                                                                                                                                                                                                                                                                                                                                                                                                                                                                                                                                                                                                                                                                                                                                                                                                                                                                                                                                                                                                                                                                                                                                                                                                                                                                                                                                                                                                                                                                                                                                                                                                                                                                                                                                                                                                                                                                                                                                                                                                                                                                                                                                                                                                                                                                                                                                                                                                                                                                                                                                                                                                                                                                                                                                                                                                                                                                                                                                                                                                                                                                                                                                                                                                                                                                                                                                                                                                                                                                                                                                                                                                                                                                                                                                                                                                                                                                                                                                                                                                                                                                                                                                                                                                                                                                                                                                                                                                                                                                                                                                                                                                                                                                                                                                                                                                                                                                                                                                                                                                                                                                                                                                                                                                                                                                                                                                                                                                                                                                                                                                                                                                                                                                                                                                                                                                                                                                                                                                                                                                                                                                                                                                                                                                                                                                                                                                                                                                                                                                                                                                                                                                                                                                                                                                                                                                                                                                                                                                                                                                                                                                                                                                                                                                                                                                                                                                                                                                                                                                                                                                                                                                                                                                                                                                                                                                                                                                                                                                                                                                                                                                                                                                                                                                                                                                                                                                                                                                                                                                                                                                                                                                                                                                                                                                                                                                                                                                                                                                                                                                                                                                                                                                                                                                                                                                                                                                                                                                                                                                                                                                                                                                                                                                                                                                                                                                                                                                                                                                                                                                                                                                                                                                                                                                                                                                                                                                                                                                                                                                                                                                                                                                                                                                                                                                                                                                                                                                                                                                                                                                                                                                                                                                                                                                                                                                                                                                                                                                                                                                                                                                                                                                                                                                                                                                                                                                                                                                                                                                                                                                                                                                                                                                                                                                                                                                                                                                                                                                                                                                                                                                                                                                                                                                                                                                                                                                                                                                                                                                                                                                                                                                                                                                                                                                                                                                                                                                                                                                                                                                                                                                                                                                                                                                                                                                                                                                                                                                                                                                                                                                                                                                                                                                                                                                                                                                                                                                                                                                                                                                                                                                                                                                                                                                                                                                                                                                                                                                                                                                                                                                                                                                                                                                                                                                                                                                                                                                                                                                                                                                                                                                                                                                                                                                                                                                                                                                                                                                                                                                                                                                                                                                                                                                                                                                                                                                                                                                                                                                                                                                                                                                                                                                                                                                                                                                                                                                                                                                                                                                                                                                                                                                                                                                                                                                                                                                                                                                                                                                                                                                                                                                                                                                                                                                                                                                                                                                                                                                                                                                                                                                                                                                                                                                                                                                                                                                                                                                                                                                                                                                                                                                                                                                                                                                                                                                                                                                                                                                                                                                                                                                                                                                                                                                                                                                                                                                                                                                                                                                                                                                                                                                                                                                                                                                                                                                                                                                                                                                                                                                                                                                                                                                                                                                                                                                                                                                                                                                                                                                                                                                                                                                                                                                                                                                                                                                                                                                                                                                                                                                                                                                                                                                                                                                                                                                                                                                                                                                                                                                                                                                                                                                                                                                                                                                                                                                                                                                                                                                                                                                                                                                                                                                                                                                                                                                                                                                                                                                                                                                                                                                                                                                                                                                                                                                                                                                                                                                                                                                                                                                                                                                                                                                                                                                                                                                                                                                                                                                                                                                                                                                                                                                                                                                                                                                                                                                                                                                                                                                                                                                                                                                                                                                                                                                                                                                                                                                                                                                                                                                                                                                                                                                                                                                                                                                                                                                                                                                                                                                                                                                                                                                                                                                                                                                                                                                                                                                                                                                                                                                                                                                                                                                                                                                                                                                                                                                                                                                                                                                                                                                                                                                                                                                                                                                                                                                                                                                                                                                                                                                                                                                                                                                                                                                                                                                                                                                                                                                                                                                                                                                                                                                                                                                                                                                                                                                                                                                                                                                                                                                                                                                                                                                                                                                                                                                                                                                                                                                            1\n",
              "ｙｕｕｃａ                                                                                                                                                                                                                                                                                                                                                                                                                                                                                                                                                                                                                                                                                                                                                                                                                                                                                                                                                                                                                                                                                                                                                                                                                                                                                                                                                                                                                                                                                                                                                                                                                                                                                                                                                                                                                                                                                                                                                                                                                                                                                                                                                                                                                                                                                                                                                                                                                                                                                                                                                                                                                                                                                                                                                                                                                                                                                                                                                                                                                                                                                                                                                                                                                                                                                                                                                                                                                                                                                                                                                                                                                                                                                                                                                                                                                                                                                                                                                                                                                                                                                                                                                                                                                                                                                                                                                                                                                                                                                                                                                                                                                                                                                                                                                                                                                                                                                                                                                                                                                                                                                                                                                                                                                                                                                                                                                                                                                                                                                                                                                                                                                                                                                                                                                                                                                                                                                                                                                                                                                                                                                                                                                                                                                                                                                                                                                                                                                                                                                                                                                                                                                                                                                                                                                                                                                                                                                                                                                                                                                                                                                                                                                                                                                                                                                                                                                                                                                                                                                                                                                                                                                                                                                                                                                                                                                                                                                                                                                                                                                                                                                                                                                                                                                                                                                                                                                                                                                                                                                                                                                                                                                                                                                                                                                                                                                                                                                                                                                                                                                                                                                                                                                                                                                                                                                                                                                                                                                                                                                                                                                                                                                                                                                                                                                                                                                                                                                                                                                                                                                                                                                                                                                                                                                                                                                                                                                                                                                                                                                                                                                                                                                                                                                                                                                                                                                                                                                                                                                                                                                                                                                                                                                                                                                                                                                                                                                                                                                                                                                                                                                                                                                                                                                                                                                                                                                                                                                                                                                                                                                                                                                                                                                                                                                                                                                                                                                                                                                                                                                                                                                                                                                                                                                                                                                                                                                                                                                                                                                                                                                                                                                                                                                                                                                                                                                                                                                                                                                                                                                                                                                                                                                                                                                                                                                                                                                                                                                                                                                                                                                                                                                                                                                                                                                                                                                                                                                                                                                                                                                                                                                                                                                                                                                                                                                                                                                                                                                                                                                                                                                                                                                                                                                                                                                                                                                                                                                                                                                                                                                                                                                                                                                                                                                                                                                                                                                                                                                                                                                                                                                                                                                                                                                                                                                                                                                                                                                                                                                                                                                                                                                                                                                                                                                                                                                                                                                                                                                                                                                                                                                                                                                                                                                                                                                                                                                                                                                                                                                                                                                                                                                                                                                                                                                                                                                                                                                                                                                                                                                                                                                                                                                                                                                                                                                                                                                                                                                                                                                                                                                                                                                                                                                                                                                                                                                                                                                                                                                                                                                                                                                                                                                                                                                                                                                                                                                                                                                                                                                                                                                                                                                                                                                                                                                                                                                                                                                                                                                                                                                                                                                                                                                                                                                                                                                                                                                                                                                                                                                                                                                                                                                                                                                                                                                                                                                                                                                                                                                                                                                                                                                                                                                                                                                                                                                                                                                                                                                                                                                                                                                                                                                                                                                                                                                                                                                                                                                                                                                                                                                                                                                                                                                                                                                                                                                                                                                                                                                                                                                                                                                                                                                                                                                                                                                                                                                                                                                                                                                                                                                                                                                                                                                                                                                                                                                                                                                                                                                                                                                                                                                                                                                                                                                                                                                                                                                                                                                                                                                                                                                                                                                                                                                                                                                                                                                                                                                                                                                                                                                                                                                                                                                                                                                                                                                                                                                                                                                                                                                                                                                                                                                                                                                                                                                                                                                                                                                                                                                                                                                                                                                                                                                                                                                                                                                                                                                                                                                                                                                                                                                                                                                                                                                                                                                                                                                                                                                                                                                                                                                                                                                                                                                                                                                                                                                                                                                                                                                                                                                                                                                                                                                                                                                                                                                                                                                                                                                                                                                                                                                                                                                                                                                                                                                                                                                                                                                                                                                                                                                                                                                                                                                                                                                                                                                                                                                                                                                                                                                                                                                                                                                                                                                                                                                                                                                                                                                                                                                                                                                                                                                                                                                                                                                                                                                                                                                                                                                                                                                                                                                                                                                                                                                                                                                                                                                                                                                                                                                                                                                                                                                                                                                                                                                                                                                                                                                                                                                                                                                                                                                                                                                                                                                                                                                                                                                                                                                                                                                                                                                                                                                                                                                                                                                                                                                                                                                                                                                                                                                                                                                                                                                                                                                                                                                                                                                                                                                                                                                                                                                                                                                                                                                                                                                                                                                                                                                                                                                                                                                                                                                                                                                                                                                                                                                                                                                                                                                                                                                                                                                                                                                                                                                                                                                                                                                                                                                                                                                                                                                                                                                                                                                                                                                                                                                                                                                                                                                                                                                                                                                                                                                                                                                                                                                                                                                                                                                                                                                                                                                                                                                                                                                                                                                                                                                                                                                                                                                                                                                                                                                                                                                                                                                                                                                                                                                                                                                                                                                                                                                                                                                                                                                                                                                                                                                                                                                                                                                                                                                                                                                                                                                                                                                                                                                                                                                                                                                                                                                                                                                                                                                                                                            1\n",
              "｢冬のソナタ｣ オルゴールサウンドコレクション                                                                                                                                                                                                                                                                                                                                                                                                                                                                                                                                                                                                                                                                                                                                                                                                                                                                                                                                                                                                                                                                                                                                                                                                                                                                                                                                                                                                                                                                                                                                                                                                                                                                                                                                                                                                                                                                                                                                                                                                                                                                                                                                                                                                                                                                                                                                                                                                                                                                                                                                                                                                                                                                                                                                                                                                                                                                                                                                                                                                                                                                                                                                                                                                                                                                                                                                                                                                                                                                                                                                                                                                                                                                                                                                                                                                                                                                                                                                                                                                                                                                                                                                                                                                                                                                                                                                                                                                                                                                                                                                                                                                                                                                                                                                                                                                                                                                                                                                                                                                                                                                                                                                                                                                                                                                                                                                                                                                                                                                                                                                                                                                                                                                                                                                                                                                                                                                                                                                                                                                                                                                                                                                                                                                                                                                                                                                                                                                                                                                                                                                                                                                                                                                                                                                                                                                                                                                                                                                                                                                                                                                                                                                                                                                                                                                                                                                                                                                                                                                                                                                                                                                                                                                                                                                                                                                                                                                                                                                                                                                                                                                                                                                                                                                                                                                                                                                                                                                                                                                                                                                                                                                                                                                                                                                                                                                                                                                                                                                                                                                                                                                                                                                                                                                                                                                                                                                                                                                                                                                                                                                                                                                                                                                                                                                                                                                                                                                                                                                                                                                                                                                                                                                                                                                                                                                                                                                                                                                                                                                                                                                                                                                                                                                                                                                                                                                                                                                                                                                                                                                                                                                                                                                                                                                                                                                                                                                                                                                                                                                                                                                                                                                                                                                                                                                                                                                                                                                                                                                                                                                                                                                                                                                                                                                                                                                                                                                                                                                                                                                                                                                                                                                                                                                                                                                                                                                                                                                                                                                                                                                                                                                                                                                                                                                                                                                                                                                                                                                                                                                                                                                                                                                                                                                                                                                                                                                                                                                                                                                                                                                                                                                                                                                                                                                                                                                                                                                                                                                                                                                                                                                                                                                                                                                                                                                                                                                                                                                                                                                                                                                                                                                                                                                                                                                                                                                                                                                                                                                                                                                                                                                                                                                                                                                                                                                                                                                                                                                                                                                                                                                                                                                                                                                                                                                                                                                                                                                                                                                                                                                                                                                                                                                                                                                                                                                                                                                                                                                                                                                                                                                                                                                                                                                                                                                                                                                                                                                                                                                                                                                                                                                                                                                                                                                                                                                                                                                                                                                                                                                                                                                                                                                                                                                                                                                                                                                                                                                                                                                                                                                                                                                                                                                                                                                                                                                                                                                                                                                                                                                                                                                                                                                                                                                                                                                                                                                                                                                                                                                                                                                                                                                                                                                                                                                                                                                                                                                                                                                                                                                                                                                                                                                                                                                                                                                                                                                                                                                                                                                                                                                                                                                                                                                                                                                                                                                                                                                                                                                                                                                                                                                                                                                                                                                                                                                                                                                                                                                                                                                                                                                                                                                                                                                                                                                                                                                                                                                                                                                                                                                                                                                                                                                                                                                                                                                                                                                                                                                                                                                                                                                                                                                                                                                                                                                                                                                                                                                                                                                                                                                                                                                                                                                                                                                                                                                                                                                                                                                                                                                                                                                                                                                                                                                                                                                                                                                                                                                                                                                                                                                                                                                                                                                                                                                                                                                                                                                                                                                                                                                                                                                                                                                                                                                                                                                                                                                                                                                                                                                                                                                                                                                                                                                                                                                                                                                                                                                                                                                                                                                                                                                                                                                                                                                                                                                                                                                                                                                                                                                                                                                                                                                                                                                                                                                                                                                                                                                                                                                                                                                                                                                                                                                                                                                                                                                                                                                                                                                                                                                                                                                                                                                                                                                                                                                                                                                                                                                                                                                                                                                                                                                                                                                                                                                                                                                                                                                                                                                                                                                                                                                                                                                                                                                                                                                                                                                                                                                                                                                                                                                                                                                                                                                                                                                                                                                                                                                                                                                                                                                                                                                                                                                                                                                                                                                                                                                                                                                                                                                                                                                                                                                                                                                                                                                                                                                                                                                                                                                                                                                                                                                                                                                                                                                                                                                                                                                                                                                                                                                                                                                                                                                                                                                                                                                                                                                                                                                                                                                                                                                                                                                                                                                                                                                                                                                                                                                                                                                                                                                                                                                                                                                                                                                                                                                                                                                                                                                                                                                                                                                                                                                                                                                                                                                                                                                                                                                                                                                                                                                                                                                                                                                                                                                                                                                                                                                                                                                                                                                                                                                                                                                                                                                                                                                                                                                                                                                                                                                                                                                                                                                                                                                                                                                                                                                                                                                                                                                                                                                                                                                                                                                                                                                                                                                                                                                                                                                                                                                                                                                                                                                                                                                                                                                                                                                                                                                                                                                                                                                                                                                                                                                                                                                                                                                                                                                                                                                                                                                                                                                                                                                                                                                                                                                                                                                                                                                                                                                                                                                                                                                                                                                                                                                                                                                                                                                                                                                                                                                                                                                                                                                                                                         12\n",
              "Name: artist_name, Length: 222363, dtype: int64"
            ]
          },
          "metadata": {},
          "execution_count": 64
        }
      ]
    },
    {
      "cell_type": "markdown",
      "metadata": {
        "id": "9HOdqhKgq2Hi"
      },
      "source": [
        "Kinda messy two rows..."
      ]
    },
    {
      "cell_type": "markdown",
      "metadata": {
        "id": "vLK4m5MXq8TB"
      },
      "source": [
        "Next, composers and lyricists"
      ]
    },
    {
      "cell_type": "code",
      "metadata": {
        "colab": {
          "base_uri": "https://localhost:8080/"
        },
        "id": "vFr_xJJ1qYkE",
        "outputId": "ecc56243-8bad-43ff-9d37-c63f4200bbbb"
      },
      "source": [
        "songs['composer_len'] = songs['composer'].str.split('|').str.len()\n",
        "songs.groupby('composer_len')['composer_len'].count()"
      ],
      "execution_count": null,
      "outputs": [
        {
          "output_type": "execute_result",
          "data": {
            "text/plain": [
              "composer_len\n",
              "1.0     831332\n",
              "2.0     207660\n",
              "3.0      93742\n",
              "4.0      47044\n",
              "5.0      23868\n",
              "6.0      10152\n",
              "7.0       4598\n",
              "8.0       2955\n",
              "9.0       1346\n",
              "10.0       663\n",
              "11.0       455\n",
              "12.0       346\n",
              "13.0       211\n",
              "14.0       133\n",
              "15.0        98\n",
              "16.0        70\n",
              "17.0        94\n",
              "18.0        55\n",
              "19.0        37\n",
              "20.0        41\n",
              "21.0        15\n",
              "22.0         4\n",
              "23.0         5\n",
              "24.0         9\n",
              "25.0         2\n",
              "26.0         1\n",
              "27.0         5\n",
              "28.0        10\n",
              "29.0         4\n",
              "30.0         6\n",
              "31.0         4\n",
              "51.0         1\n",
              "Name: composer_len, dtype: int64"
            ]
          },
          "metadata": {},
          "execution_count": 73
        }
      ]
    },
    {
      "cell_type": "code",
      "metadata": {
        "colab": {
          "base_uri": "https://localhost:8080/"
        },
        "id": "N-xGpnTvrZZQ",
        "outputId": "062caea9-8100-4ccd-88b5-88bc67663258"
      },
      "source": [
        "songs['lyricist_len'] = songs['lyricist'].str.split('|').str.len()\n",
        "songs.groupby('lyricist_len')['lyricist_len'].count()"
      ],
      "execution_count": null,
      "outputs": [
        {
          "output_type": "execute_result",
          "data": {
            "text/plain": [
              "lyricist_len\n",
              "1.0     250553\n",
              "2.0      49850\n",
              "3.0      25666\n",
              "4.0      12478\n",
              "5.0       6460\n",
              "6.0       2915\n",
              "7.0       1398\n",
              "8.0        776\n",
              "9.0        396\n",
              "10.0       195\n",
              "11.0       126\n",
              "12.0        82\n",
              "13.0        38\n",
              "14.0        40\n",
              "15.0        12\n",
              "16.0        14\n",
              "17.0        18\n",
              "18.0        12\n",
              "19.0         6\n",
              "20.0        13\n",
              "21.0         2\n",
              "23.0         2\n",
              "Name: lyricist_len, dtype: int64"
            ]
          },
          "metadata": {},
          "execution_count": 74
        }
      ]
    },
    {
      "cell_type": "markdown",
      "metadata": {
        "id": "bkOPIhBssPK1"
      },
      "source": [
        "And the languages"
      ]
    },
    {
      "cell_type": "code",
      "metadata": {
        "colab": {
          "base_uri": "https://localhost:8080/"
        },
        "id": "ybWBDQmQr9pe",
        "outputId": "8bb43c76-8e72-4b94-a698-d63b9fc6af25"
      },
      "source": [
        "songs.groupby('language')['language'].count()"
      ],
      "execution_count": null,
      "outputs": [
        {
          "output_type": "execute_result",
          "data": {
            "text/plain": [
              "language\n",
              "-1.0      639467\n",
              " 3.0      106295\n",
              " 10.0      15482\n",
              " 17.0      92518\n",
              " 24.0      41744\n",
              " 31.0      39201\n",
              " 38.0       2385\n",
              " 45.0      14435\n",
              " 52.0    1336694\n",
              " 59.0       8098\n",
              "Name: language, dtype: int64"
            ]
          },
          "metadata": {},
          "execution_count": 76
        }
      ]
    },
    {
      "cell_type": "markdown",
      "metadata": {
        "id": "e_8SHci8ue0m"
      },
      "source": [
        "## Songs extra info"
      ]
    },
    {
      "cell_type": "code",
      "metadata": {
        "colab": {
          "base_uri": "https://localhost:8080/",
          "height": 206
        },
        "id": "13qpDwbgsSMJ",
        "outputId": "300d5b97-d46b-41f9-afbb-cb12473f7015"
      },
      "source": [
        "songs_extra.head()"
      ],
      "execution_count": null,
      "outputs": [
        {
          "output_type": "execute_result",
          "data": {
            "text/html": [
              "<div>\n",
              "<style scoped>\n",
              "    .dataframe tbody tr th:only-of-type {\n",
              "        vertical-align: middle;\n",
              "    }\n",
              "\n",
              "    .dataframe tbody tr th {\n",
              "        vertical-align: top;\n",
              "    }\n",
              "\n",
              "    .dataframe thead th {\n",
              "        text-align: right;\n",
              "    }\n",
              "</style>\n",
              "<table border=\"1\" class=\"dataframe\">\n",
              "  <thead>\n",
              "    <tr style=\"text-align: right;\">\n",
              "      <th></th>\n",
              "      <th>song_id</th>\n",
              "      <th>name</th>\n",
              "      <th>isrc</th>\n",
              "    </tr>\n",
              "  </thead>\n",
              "  <tbody>\n",
              "    <tr>\n",
              "      <th>0</th>\n",
              "      <td>LP7pLJoJFBvyuUwvu+oLzjT+bI+UeBPURCecJsX1jjs=</td>\n",
              "      <td>我們</td>\n",
              "      <td>TWUM71200043</td>\n",
              "    </tr>\n",
              "    <tr>\n",
              "      <th>1</th>\n",
              "      <td>ClazTFnk6r0Bnuie44bocdNMM3rdlrq0bCGAsGUWcHE=</td>\n",
              "      <td>Let Me Love You</td>\n",
              "      <td>QMZSY1600015</td>\n",
              "    </tr>\n",
              "    <tr>\n",
              "      <th>2</th>\n",
              "      <td>u2ja/bZE3zhCGxvbbOB3zOoUjx27u40cf5g09UXMoKQ=</td>\n",
              "      <td>原諒我</td>\n",
              "      <td>TWA530887303</td>\n",
              "    </tr>\n",
              "    <tr>\n",
              "      <th>3</th>\n",
              "      <td>92Fqsy0+p6+RHe2EoLKjHahORHR1Kq1TBJoClW9v+Ts=</td>\n",
              "      <td>Classic</td>\n",
              "      <td>USSM11301446</td>\n",
              "    </tr>\n",
              "    <tr>\n",
              "      <th>4</th>\n",
              "      <td>0QFmz/+rJy1Q56C1DuYqT9hKKqi5TUqx0sN0IwvoHrw=</td>\n",
              "      <td>愛投羅網</td>\n",
              "      <td>TWA471306001</td>\n",
              "    </tr>\n",
              "  </tbody>\n",
              "</table>\n",
              "</div>"
            ],
            "text/plain": [
              "                                        song_id             name          isrc\n",
              "0  LP7pLJoJFBvyuUwvu+oLzjT+bI+UeBPURCecJsX1jjs=               我們  TWUM71200043\n",
              "1  ClazTFnk6r0Bnuie44bocdNMM3rdlrq0bCGAsGUWcHE=  Let Me Love You  QMZSY1600015\n",
              "2  u2ja/bZE3zhCGxvbbOB3zOoUjx27u40cf5g09UXMoKQ=              原諒我  TWA530887303\n",
              "3  92Fqsy0+p6+RHe2EoLKjHahORHR1Kq1TBJoClW9v+Ts=          Classic  USSM11301446\n",
              "4  0QFmz/+rJy1Q56C1DuYqT9hKKqi5TUqx0sN0IwvoHrw=             愛投羅網  TWA471306001"
            ]
          },
          "metadata": {},
          "execution_count": 79
        }
      ]
    },
    {
      "cell_type": "code",
      "metadata": {
        "colab": {
          "base_uri": "https://localhost:8080/"
        },
        "id": "Fhu7QDL8vbRE",
        "outputId": "1fc8f48d-bb8c-4747-93ea-5f93ae7065de"
      },
      "source": [
        "songs_extra.isna().sum()"
      ],
      "execution_count": null,
      "outputs": [
        {
          "output_type": "execute_result",
          "data": {
            "text/plain": [
              "song_id         0\n",
              "name            2\n",
              "isrc       136548\n",
              "dtype: int64"
            ]
          },
          "metadata": {},
          "execution_count": 80
        }
      ]
    },
    {
      "cell_type": "markdown",
      "metadata": {
        "id": "TbxvlPNovnS3"
      },
      "source": [
        "Let me check ISRC.  https://en.wikipedia.org/wiki/International_Standard_Recording_Code  \n",
        "We can extract song's country code and date."
      ]
    },
    {
      "cell_type": "code",
      "metadata": {
        "id": "SFF2cxMQu1ay"
      },
      "source": [
        "songs_extra['country_code'] = songs_extra['isrc'].str[:2]"
      ],
      "execution_count": null,
      "outputs": []
    },
    {
      "cell_type": "code",
      "metadata": {
        "colab": {
          "base_uri": "https://localhost:8080/"
        },
        "id": "FraIOts-vqwr",
        "outputId": "1ce6d962-7fd5-436e-8f3e-78571ab3161f"
      },
      "source": [
        "songs_extra.groupby('country_code')['country_code'].count().sort_values(ascending=False)[:10]"
      ],
      "execution_count": null,
      "outputs": [
        {
          "output_type": "execute_result",
          "data": {
            "text/plain": [
              "country_code\n",
              "US    651830\n",
              "GB    310782\n",
              "DE    194045\n",
              "FR    148459\n",
              "TC    104693\n",
              "JP    100264\n",
              "QM     87529\n",
              "TW     77432\n",
              "IT     69400\n",
              "HK     55346\n",
              "Name: country_code, dtype: int64"
            ]
          },
          "metadata": {},
          "execution_count": 88
        }
      ]
    },
    {
      "cell_type": "code",
      "metadata": {
        "id": "XwSc1tORxfNr"
      },
      "source": [
        "def to_year(val):\n",
        "  if val != val:\n",
        "    return np.nan\n",
        "  year_part = int(val[5:7])\n",
        "  if year_part > 17:\n",
        "    return 1900 + year_part\n",
        "  else:\n",
        "    return 2000 + year_part"
      ],
      "execution_count": null,
      "outputs": []
    },
    {
      "cell_type": "code",
      "metadata": {
        "id": "zo-j5nrswPQu"
      },
      "source": [
        "songs_extra['year'] = songs_extra['isrc'].apply(to_year)"
      ],
      "execution_count": null,
      "outputs": []
    },
    {
      "cell_type": "code",
      "metadata": {
        "colab": {
          "base_uri": "https://localhost:8080/"
        },
        "id": "5R6veYoUxO_g",
        "outputId": "08b5c60c-8335-4de4-fd63-ad4d54eb4991"
      },
      "source": [
        "songs_extra.groupby('year')['year'].count()"
      ],
      "execution_count": null,
      "outputs": [
        {
          "output_type": "execute_result",
          "data": {
            "text/plain": [
              "year\n",
              "1918.0      3649\n",
              "1919.0      2775\n",
              "1920.0      2629\n",
              "1921.0      1592\n",
              "1922.0      1074\n",
              "           ...  \n",
              "2013.0    136376\n",
              "2014.0    211560\n",
              "2015.0    268266\n",
              "2016.0    254342\n",
              "2017.0     29667\n",
              "Name: year, Length: 100, dtype: int64"
            ]
          },
          "metadata": {},
          "execution_count": 131
        }
      ]
    },
    {
      "cell_type": "code",
      "metadata": {
        "colab": {
          "base_uri": "https://localhost:8080/",
          "height": 365
        },
        "id": "1LIVTdknzsRb",
        "outputId": "b8220d24-f102-452b-e84a-84530f7b686d"
      },
      "source": [
        "sns.displot(songs_extra.year, kde=False, height=5, aspect=2)\n",
        "plt.xlabel('song year, s')\n",
        "plt.ylabel('# of songs')\n",
        "plt.yscale('log')\n",
        "# plt.xscale('log')\n",
        "plt.show()"
      ],
      "execution_count": null,
      "outputs": [
        {
          "output_type": "display_data",
          "data": {
            "image/png": "[encoded data removed]",
            "text/plain": [
              "<Figure size 720x360 with 1 Axes>"
            ]
          },
          "metadata": {}
        }
      ]
    },
    {
      "cell_type": "markdown",
      "metadata": {
        "id": "rFugzQKJ_QLY"
      },
      "source": [
        "## User"
      ]
    },
    {
      "cell_type": "code",
      "metadata": {
        "colab": {
          "base_uri": "https://localhost:8080/",
          "height": 206
        },
        "id": "Au_7yeB1_SRW",
        "outputId": "ffdbd496-c150-43b2-cc8a-9f1e27747517"
      },
      "source": [
        "members.head()"
      ],
      "execution_count": null,
      "outputs": [
        {
          "output_type": "execute_result",
          "data": {
            "text/html": [
              "<div>\n",
              "<style scoped>\n",
              "    .dataframe tbody tr th:only-of-type {\n",
              "        vertical-align: middle;\n",
              "    }\n",
              "\n",
              "    .dataframe tbody tr th {\n",
              "        vertical-align: top;\n",
              "    }\n",
              "\n",
              "    .dataframe thead th {\n",
              "        text-align: right;\n",
              "    }\n",
              "</style>\n",
              "<table border=\"1\" class=\"dataframe\">\n",
              "  <thead>\n",
              "    <tr style=\"text-align: right;\">\n",
              "      <th></th>\n",
              "      <th>msno</th>\n",
              "      <th>city</th>\n",
              "      <th>bd</th>\n",
              "      <th>gender</th>\n",
              "      <th>registered_via</th>\n",
              "      <th>registration_init_time</th>\n",
              "      <th>expiration_date</th>\n",
              "    </tr>\n",
              "  </thead>\n",
              "  <tbody>\n",
              "    <tr>\n",
              "      <th>0</th>\n",
              "      <td>XQxgAYj3klVKjR3oxPPXYYFp4soD4TuBghkhMTD4oTw=</td>\n",
              "      <td>1</td>\n",
              "      <td>0</td>\n",
              "      <td>NaN</td>\n",
              "      <td>7</td>\n",
              "      <td>20110820</td>\n",
              "      <td>20170920</td>\n",
              "    </tr>\n",
              "    <tr>\n",
              "      <th>1</th>\n",
              "      <td>UizsfmJb9mV54qE9hCYyU07Va97c0lCRLEQX3ae+ztM=</td>\n",
              "      <td>1</td>\n",
              "      <td>0</td>\n",
              "      <td>NaN</td>\n",
              "      <td>7</td>\n",
              "      <td>20150628</td>\n",
              "      <td>20170622</td>\n",
              "    </tr>\n",
              "    <tr>\n",
              "      <th>2</th>\n",
              "      <td>D8nEhsIOBSoE6VthTaqDX8U6lqjJ7dLdr72mOyLya2A=</td>\n",
              "      <td>1</td>\n",
              "      <td>0</td>\n",
              "      <td>NaN</td>\n",
              "      <td>4</td>\n",
              "      <td>20160411</td>\n",
              "      <td>20170712</td>\n",
              "    </tr>\n",
              "    <tr>\n",
              "      <th>3</th>\n",
              "      <td>mCuD+tZ1hERA/o5GPqk38e041J8ZsBaLcu7nGoIIvhI=</td>\n",
              "      <td>1</td>\n",
              "      <td>0</td>\n",
              "      <td>NaN</td>\n",
              "      <td>9</td>\n",
              "      <td>20150906</td>\n",
              "      <td>20150907</td>\n",
              "    </tr>\n",
              "    <tr>\n",
              "      <th>4</th>\n",
              "      <td>q4HRBfVSssAFS9iRfxWrohxuk9kCYMKjHOEagUMV6rQ=</td>\n",
              "      <td>1</td>\n",
              "      <td>0</td>\n",
              "      <td>NaN</td>\n",
              "      <td>4</td>\n",
              "      <td>20170126</td>\n",
              "      <td>20170613</td>\n",
              "    </tr>\n",
              "  </tbody>\n",
              "</table>\n",
              "</div>"
            ],
            "text/plain": [
              "                                           msno  ...  expiration_date\n",
              "0  XQxgAYj3klVKjR3oxPPXYYFp4soD4TuBghkhMTD4oTw=  ...         20170920\n",
              "1  UizsfmJb9mV54qE9hCYyU07Va97c0lCRLEQX3ae+ztM=  ...         20170622\n",
              "2  D8nEhsIOBSoE6VthTaqDX8U6lqjJ7dLdr72mOyLya2A=  ...         20170712\n",
              "3  mCuD+tZ1hERA/o5GPqk38e041J8ZsBaLcu7nGoIIvhI=  ...         20150907\n",
              "4  q4HRBfVSssAFS9iRfxWrohxuk9kCYMKjHOEagUMV6rQ=  ...         20170613\n",
              "\n",
              "[5 rows x 7 columns]"
            ]
          },
          "metadata": {},
          "execution_count": 143
        }
      ]
    },
    {
      "cell_type": "code",
      "metadata": {
        "colab": {
          "base_uri": "https://localhost:8080/"
        },
        "id": "cK7popwc_X9-",
        "outputId": "666b3323-f13d-49e6-c797-8b162638cd70"
      },
      "source": [
        "members.isna().sum()"
      ],
      "execution_count": null,
      "outputs": [
        {
          "output_type": "execute_result",
          "data": {
            "text/plain": [
              "msno                          0\n",
              "city                          0\n",
              "bd                            0\n",
              "gender                    19902\n",
              "registered_via                0\n",
              "registration_init_time        0\n",
              "expiration_date               0\n",
              "dtype: int64"
            ]
          },
          "metadata": {},
          "execution_count": 144
        }
      ]
    },
    {
      "cell_type": "code",
      "metadata": {
        "colab": {
          "base_uri": "https://localhost:8080/"
        },
        "id": "r5iG--HSAdZ5",
        "outputId": "fe3b4ab5-509f-416b-a654-243fd37fa308"
      },
      "source": [
        "members.groupby('city')['city'].count().sort_values(ascending=False)"
      ],
      "execution_count": null,
      "outputs": [
        {
          "output_type": "execute_result",
          "data": {
            "text/plain": [
              "city\n",
              "1     19445\n",
              "13     3395\n",
              "5      2634\n",
              "4      1732\n",
              "15     1525\n",
              "22     1467\n",
              "6       913\n",
              "14      708\n",
              "12      491\n",
              "9       309\n",
              "8       289\n",
              "11      285\n",
              "18      259\n",
              "10      216\n",
              "21      213\n",
              "3       204\n",
              "17      152\n",
              "7        93\n",
              "16       35\n",
              "20       27\n",
              "19       11\n",
              "Name: city, dtype: int64"
            ]
          },
          "metadata": {},
          "execution_count": 146
        }
      ]
    },
    {
      "cell_type": "code",
      "metadata": {
        "id": "3IufvPr8B722"
      },
      "source": [
        "members['bd'].replace(0,np.NaN, inplace=True)"
      ],
      "execution_count": null,
      "outputs": []
    },
    {
      "cell_type": "code",
      "metadata": {
        "colab": {
          "base_uri": "https://localhost:8080/",
          "height": 376
        },
        "id": "o7NV2pQLCgSC",
        "outputId": "1b7d0ced-47ab-4b77-f49c-97e1af48d6ce"
      },
      "source": [
        "sns.displot(members.bd, kde=False, height=5, aspect=2)\n",
        "plt.xlabel('member age')\n",
        "plt.ylabel('# of members')\n",
        "plt.yscale('log')\n",
        "plt.xscale('log')\n",
        "plt.show()"
      ],
      "execution_count": null,
      "outputs": [
        {
          "output_type": "display_data",
          "data": {
            "image/png": "[encoded data removed]",
            "text/plain": [
              "<Figure size 720x360 with 1 Axes>"
            ]
          },
          "metadata": {}
        }
      ]
    },
    {
      "cell_type": "markdown",
      "metadata": {
        "id": "6K59gZbmJ19R"
      },
      "source": [
        "Need to clear these odd values"
      ]
    },
    {
      "cell_type": "code",
      "metadata": {
        "colab": {
          "base_uri": "https://localhost:8080/"
        },
        "id": "bq1f_nFSJ7zq",
        "outputId": "5f7d1647-47b2-4e53-c4ce-853f05ae6d52"
      },
      "source": [
        "members.groupby('gender')['gender'].count()"
      ],
      "execution_count": null,
      "outputs": [
        {
          "output_type": "execute_result",
          "data": {
            "text/plain": [
              "gender\n",
              "female    7096\n",
              "male      7405\n",
              "Name: gender, dtype: int64"
            ]
          },
          "metadata": {},
          "execution_count": 161
        }
      ]
    },
    {
      "cell_type": "markdown",
      "metadata": {
        "id": "_54YFTZ98CgF"
      },
      "source": [
        "## Train and test"
      ]
    },
    {
      "cell_type": "code",
      "metadata": {
        "colab": {
          "base_uri": "https://localhost:8080/",
          "height": 261
        },
        "id": "8G4ZuIci01Zu",
        "outputId": "55e5cf38-00e6-4321-f11b-27640f53ca1a"
      },
      "source": [
        "train.head()"
      ],
      "execution_count": null,
      "outputs": [
        {
          "output_type": "execute_result",
          "data": {
            "text/html": [
              "<div>\n",
              "<style scoped>\n",
              "    .dataframe tbody tr th:only-of-type {\n",
              "        vertical-align: middle;\n",
              "    }\n",
              "\n",
              "    .dataframe tbody tr th {\n",
              "        vertical-align: top;\n",
              "    }\n",
              "\n",
              "    .dataframe thead th {\n",
              "        text-align: right;\n",
              "    }\n",
              "</style>\n",
              "<table border=\"1\" class=\"dataframe\">\n",
              "  <thead>\n",
              "    <tr style=\"text-align: right;\">\n",
              "      <th></th>\n",
              "      <th>msno</th>\n",
              "      <th>song_id</th>\n",
              "      <th>source_system_tab</th>\n",
              "      <th>source_screen_name</th>\n",
              "      <th>source_type</th>\n",
              "      <th>target</th>\n",
              "    </tr>\n",
              "  </thead>\n",
              "  <tbody>\n",
              "    <tr>\n",
              "      <th>0</th>\n",
              "      <td>FGtllVqz18RPiwJj/edr2gV78zirAiY/9SmYvia+kCg=</td>\n",
              "      <td>BBzumQNXUHKdEBOB7mAJuzok+IJA1c2Ryg/yzTF6tik=</td>\n",
              "      <td>explore</td>\n",
              "      <td>Explore</td>\n",
              "      <td>online-playlist</td>\n",
              "      <td>1</td>\n",
              "    </tr>\n",
              "    <tr>\n",
              "      <th>1</th>\n",
              "      <td>Xumu+NIjS6QYVxDS4/t3SawvJ7viT9hPKXmf0RtLNx8=</td>\n",
              "      <td>bhp/MpSNoqoxOIB+/l8WPqu6jldth4DIpCm3ayXnJqM=</td>\n",
              "      <td>my library</td>\n",
              "      <td>Local playlist more</td>\n",
              "      <td>local-playlist</td>\n",
              "      <td>1</td>\n",
              "    </tr>\n",
              "    <tr>\n",
              "      <th>2</th>\n",
              "      <td>Xumu+NIjS6QYVxDS4/t3SawvJ7viT9hPKXmf0RtLNx8=</td>\n",
              "      <td>JNWfrrC7zNN7BdMpsISKa4Mw+xVJYNnxXh3/Epw7QgY=</td>\n",
              "      <td>my library</td>\n",
              "      <td>Local playlist more</td>\n",
              "      <td>local-playlist</td>\n",
              "      <td>1</td>\n",
              "    </tr>\n",
              "    <tr>\n",
              "      <th>3</th>\n",
              "      <td>Xumu+NIjS6QYVxDS4/t3SawvJ7viT9hPKXmf0RtLNx8=</td>\n",
              "      <td>2A87tzfnJTSWqD7gIZHisolhe4DMdzkbd6LzO1KHjNs=</td>\n",
              "      <td>my library</td>\n",
              "      <td>Local playlist more</td>\n",
              "      <td>local-playlist</td>\n",
              "      <td>1</td>\n",
              "    </tr>\n",
              "    <tr>\n",
              "      <th>4</th>\n",
              "      <td>FGtllVqz18RPiwJj/edr2gV78zirAiY/9SmYvia+kCg=</td>\n",
              "      <td>3qm6XTZ6MOCU11x8FIVbAGH5l5uMkT3/ZalWG1oo2Gc=</td>\n",
              "      <td>explore</td>\n",
              "      <td>Explore</td>\n",
              "      <td>online-playlist</td>\n",
              "      <td>1</td>\n",
              "    </tr>\n",
              "  </tbody>\n",
              "</table>\n",
              "</div>"
            ],
            "text/plain": [
              "                                           msno  ... target\n",
              "0  FGtllVqz18RPiwJj/edr2gV78zirAiY/9SmYvia+kCg=  ...      1\n",
              "1  Xumu+NIjS6QYVxDS4/t3SawvJ7viT9hPKXmf0RtLNx8=  ...      1\n",
              "2  Xumu+NIjS6QYVxDS4/t3SawvJ7viT9hPKXmf0RtLNx8=  ...      1\n",
              "3  Xumu+NIjS6QYVxDS4/t3SawvJ7viT9hPKXmf0RtLNx8=  ...      1\n",
              "4  FGtllVqz18RPiwJj/edr2gV78zirAiY/9SmYvia+kCg=  ...      1\n",
              "\n",
              "[5 rows x 6 columns]"
            ]
          },
          "metadata": {},
          "execution_count": 135
        }
      ]
    },
    {
      "cell_type": "code",
      "metadata": {
        "colab": {
          "base_uri": "https://localhost:8080/"
        },
        "id": "oi3GuwFq8EZC",
        "outputId": "d155f1cb-0d4a-4e62-fe8f-50d35d264a85"
      },
      "source": [
        "train.isna().sum()"
      ],
      "execution_count": null,
      "outputs": [
        {
          "output_type": "execute_result",
          "data": {
            "text/plain": [
              "msno                       0\n",
              "song_id                    0\n",
              "source_system_tab      24849\n",
              "source_screen_name    414804\n",
              "source_type            21539\n",
              "target                     0\n",
              "dtype: int64"
            ]
          },
          "metadata": {},
          "execution_count": 136
        }
      ]
    },
    {
      "cell_type": "code",
      "metadata": {
        "colab": {
          "base_uri": "https://localhost:8080/"
        },
        "id": "yVo6YorG8Ivg",
        "outputId": "4d52615f-e398-4952-871d-719294fbbdff"
      },
      "source": [
        "train.groupby('source_system_tab')['source_system_tab'].count().sort_values(ascending=False)"
      ],
      "execution_count": null,
      "outputs": [
        {
          "output_type": "execute_result",
          "data": {
            "text/plain": [
              "source_system_tab\n",
              "my library      3684730\n",
              "discover        2179252\n",
              "search           623286\n",
              "radio            476701\n",
              "listen with      212266\n",
              "explore          167949\n",
              "notification       6185\n",
              "settings           2200\n",
              "Name: source_system_tab, dtype: int64"
            ]
          },
          "metadata": {},
          "execution_count": 140
        }
      ]
    },
    {
      "cell_type": "code",
      "metadata": {
        "colab": {
          "base_uri": "https://localhost:8080/"
        },
        "id": "m9yIuEic-2ya",
        "outputId": "f90ab4d6-7bfd-4902-c160-f09b8fa68f71"
      },
      "source": [
        "train.groupby('source_screen_name')['source_screen_name'].count().sort_values(ascending=False)"
      ],
      "execution_count": null,
      "outputs": [
        {
          "output_type": "execute_result",
          "data": {
            "text/plain": [
              "source_screen_name\n",
              "Local playlist more     3228202\n",
              "Online playlist more    1294689\n",
              "Radio                    474467\n",
              "Album more               420156\n",
              "Search                   298487\n",
              "Artist more              252429\n",
              "Discover Feature         244246\n",
              "Discover Chart           213658\n",
              "Others profile more      201795\n",
              "Discover Genre            82202\n",
              "My library                75980\n",
              "Explore                   72342\n",
              "Unknown                   54170\n",
              "Discover New              15955\n",
              "Search Trends             13632\n",
              "Search Home               13482\n",
              "My library_Search          6451\n",
              "Self profile more           212\n",
              "Concert                      47\n",
              "Payment                      12\n",
              "Name: source_screen_name, dtype: int64"
            ]
          },
          "metadata": {},
          "execution_count": 141
        }
      ]
    },
    {
      "cell_type": "code",
      "metadata": {
        "colab": {
          "base_uri": "https://localhost:8080/"
        },
        "id": "kn1lM5rC-64q",
        "outputId": "1648bcc5-c41f-46b5-8a88-de4fb5bb394a"
      },
      "source": [
        "train.groupby('source_type')['source_type'].count().sort_values(ascending=False)"
      ],
      "execution_count": null,
      "outputs": [
        {
          "output_type": "execute_result",
          "data": {
            "text/plain": [
              "source_type\n",
              "local-library             2261399\n",
              "online-playlist           1967924\n",
              "local-playlist            1079503\n",
              "radio                      483109\n",
              "album                      477344\n",
              "top-hits-for-artist        423614\n",
              "song                       244722\n",
              "song-based-playlist        210527\n",
              "listen-with                192842\n",
              "topic-article-playlist      11194\n",
              "artist                       3038\n",
              "my-daily-playlist             663\n",
              "Name: source_type, dtype: int64"
            ]
          },
          "metadata": {},
          "execution_count": 142
        }
      ]
    },
    {
      "cell_type": "code",
      "metadata": {
        "id": "vHvcdcdshJZV"
      },
      "source": [
        ""
      ],
      "execution_count": null,
      "outputs": []
    },
    {
      "cell_type": "markdown",
      "metadata": {
        "id": "DywaY8kxghJ7"
      },
      "source": [
        "## NaNs"
      ]
    },
    {
      "cell_type": "code",
      "metadata": {
        "id": "9qixJLN9hPMO"
      },
      "source": [
        "def expand_df(df, keys, ad_dfs):\n",
        "  for k, ad_df in zip(keys, ad_dfs):\n",
        "    df = df.merge(ad_df, how='left', on=k)\n",
        "  return df"
      ],
      "execution_count": null,
      "outputs": []
    },
    {
      "cell_type": "code",
      "metadata": {
        "id": "FM2D1ANKhPMO"
      },
      "source": [
        "keys = ['song_id', 'song_id', 'msno']\n",
        "dfs = [songs, songs_extra, members]\n",
        "\n",
        "train_expanded = expand_df(train, keys, dfs)\n",
        "test_expanded = expand_df(test, keys, dfs)"
      ],
      "execution_count": null,
      "outputs": []
    },
    {
      "cell_type": "markdown",
      "metadata": {
        "id": "ttwQ9ZPuu0Hy"
      },
      "source": [
        "Are there any NaNs in compare to all rows?"
      ]
    },
    {
      "cell_type": "code",
      "metadata": {
        "colab": {
          "base_uri": "https://localhost:8080/"
        },
        "id": "r7A9Khw7mIWe",
        "outputId": "3a2105d2-c62c-475c-bdee-7cd58f16e423"
      },
      "source": [
        "train_expanded.isna().sum()/train_expanded.shape[0]*100"
      ],
      "execution_count": null,
      "outputs": [
        {
          "output_type": "execute_result",
          "data": {
            "text/plain": [
              "msno                       0.000000\n",
              "song_id                    0.000000\n",
              "source_system_tab          0.336825\n",
              "source_screen_name         5.622618\n",
              "source_type                0.291959\n",
              "target                     0.000000\n",
              "song_length                0.001545\n",
              "genre_ids                  1.605643\n",
              "artist_name                0.001545\n",
              "composer                  22.713990\n",
              "lyricist                  43.088219\n",
              "language                   0.002033\n",
              "name                       0.019749\n",
              "isrc                       7.832795\n",
              "city                       0.000000\n",
              "bd                         0.000000\n",
              "gender                    40.142486\n",
              "registered_via             0.000000\n",
              "registration_init_time     0.000000\n",
              "expiration_date            0.000000\n",
              "dtype: float64"
            ]
          },
          "metadata": {},
          "execution_count": 17
        }
      ]
    },
    {
      "cell_type": "code",
      "metadata": {
        "colab": {
          "base_uri": "https://localhost:8080/"
        },
        "id": "bWB0JWvxmVOb",
        "outputId": "e300f241-bf47-4a49-80c6-fe7574f1cce2"
      },
      "source": [
        "test_expanded.isna().sum()/test_expanded.shape[0]*100"
      ],
      "execution_count": null,
      "outputs": [
        {
          "output_type": "execute_result",
          "data": {
            "text/plain": [
              "id                         0.000000\n",
              "msno                       0.000000\n",
              "song_id                    0.000000\n",
              "source_system_tab          0.330180\n",
              "source_screen_name         6.370605\n",
              "source_type                0.285397\n",
              "song_length                0.000978\n",
              "genre_ids                  1.646987\n",
              "artist_name                0.000978\n",
              "composer                  24.221935\n",
              "lyricist                  47.901627\n",
              "language                   0.001643\n",
              "name                       0.030429\n",
              "isrc                       7.691011\n",
              "city                       0.000000\n",
              "bd                         0.000000\n",
              "gender                    41.154103\n",
              "registered_via             0.000000\n",
              "registration_init_time     0.000000\n",
              "expiration_date            0.000000\n",
              "dtype: float64"
            ]
          },
          "metadata": {},
          "execution_count": 7
        }
      ]
    },
    {
      "cell_type": "markdown",
      "metadata": {
        "id": "AS7YLtLKvFg3"
      },
      "source": [
        "NaNs are in Source_system_tab, source_screen_name, source_type, song_length, genre_ids, artist_name, composer, **a lot** in lyricist and in gender, then in language, and finally in ISRC. Overall, let us create for features which have more than 20% NaNs parameter 'Unknown'. For other features with NaNs we will engineer them."
      ]
    },
    {
      "cell_type": "markdown",
      "metadata": {
        "id": "2wcep9s4NecE"
      },
      "source": [
        "# Feature engineering"
      ]
    },
    {
      "cell_type": "markdown",
      "metadata": {
        "id": "GwMco4jHA2Kj"
      },
      "source": [
        "## FE before merging"
      ]
    },
    {
      "cell_type": "markdown",
      "metadata": {
        "id": "FhsnC6nFvNFU"
      },
      "source": [
        "### FE for source... stuff"
      ]
    },
    {
      "cell_type": "code",
      "metadata": {
        "colab": {
          "base_uri": "https://localhost:8080/"
        },
        "id": "XkizRMb5at9h",
        "outputId": "2cd3d4fe-a417-4c87-e543-285784433ca8"
      },
      "source": [
        "print('Train\\n', train['source_screen_name'].nunique(), train['source_screen_name'].unique())\n",
        "print('Test\\n', test['source_screen_name'].nunique(), test['source_screen_name'].unique())\n",
        "print('Labels not presented in train\\n', set(train['source_screen_name'].unique()) ^ set(test['source_screen_name'].unique()))"
      ],
      "execution_count": 5,
      "outputs": [
        {
          "output_type": "stream",
          "name": "stdout",
          "text": [
            "Train\n",
            " 20 ['Explore' 'Local playlist more' nan 'My library' 'Online playlist more'\n",
            " 'Album more' 'Discover Feature' 'Unknown' 'Discover Chart' 'Radio'\n",
            " 'Artist more' 'Search' 'Others profile more' 'Search Trends'\n",
            " 'Discover Genre' 'My library_Search' 'Search Home' 'Discover New'\n",
            " 'Self profile more' 'Concert' 'Payment']\n",
            "Test\n",
            " 22 ['Local playlist more' nan 'Radio' 'Online playlist more' 'Artist more'\n",
            " 'Discover Genre' 'Album more' 'Discover Chart' 'Discover Feature'\n",
            " 'Search' 'Unknown' 'Explore' 'Others profile more' 'My library'\n",
            " 'My library_Search' 'Search Trends' 'Discover New' 'Search Home'\n",
            " 'Payment' 'Self profile more' 'People local' 'Concert' 'People global']\n",
            "Labels not presented in train\n",
            " {'People global', 'People local'}\n"
          ]
        }
      ]
    },
    {
      "cell_type": "code",
      "metadata": {
        "id": "GKIUckG_Xg5Z"
      },
      "source": [
        "def preprocess_source_data(df, test=False):\n",
        "  # deal with capitalized letters\n",
        "  df['source_screen_name'] = df['source_screen_name'].str.lower()\n",
        "  # deal with nans\n",
        "  for col in ['source_screen_name', 'source_system_tab', 'source_type']:\n",
        "    df[col] = df[col].fillna('unknown')\n",
        "  # deal with labels which are not presented in train\n",
        "  if test:\n",
        "    df['source_screen_name'].replace(['people local', 'people global'], 'unknown', inplace=True)\n",
        "  return df"
      ],
      "execution_count": 6,
      "outputs": []
    },
    {
      "cell_type": "code",
      "metadata": {
        "id": "Y98CrkVRwO7N"
      },
      "source": [
        "train = preprocess_source_data(train)\n",
        "test = preprocess_source_data(test, test=True)"
      ],
      "execution_count": 7,
      "outputs": []
    },
    {
      "cell_type": "markdown",
      "metadata": {
        "id": "auJ6JE3YZT_Y"
      },
      "source": [
        "### FE for user data"
      ]
    },
    {
      "cell_type": "markdown",
      "metadata": {
        "id": "wrH2LHeHP_jn"
      },
      "source": [
        "There is more then 40% of NaNs in Gender column of members dataframe, so let us define 2 different ways to treat this column:  \n",
        "1. assign unknown to NaN value\n",
        "2. assign random value to it  \n",
        "\n",
        "Let us add also a column which tells us the amount of membership days of particular person."
      ]
    },
    {
      "cell_type": "code",
      "metadata": {
        "id": "w5LdcRQOS1Z0"
      },
      "source": [
        "def preprocess_user_data(df, gender_rand=False):\n",
        "  # transform gender to binary\n",
        "  m = {'male' : 1, 'female' : 0}\n",
        "  df['gender'] = df['gender'].map(m)\n",
        "  # deal with nans in gender\n",
        "  if gender_rand:\n",
        "    a = df['gender'].values\n",
        "    m = np.isnan(a) # mask of NaNs\n",
        "    a[m] = np.random.choice(2, size=m.sum())\n",
        "  else:\n",
        "    df['gender'].fillna(2, inplace=True)\n",
        "\n",
        "  # deal with expiration date 1970y, which is less then registration date\n",
        "  df.loc[df['expiration_date']<df['registration_init_time'], 'expiration_date'] = df['expiration_date'].quantile(0.5, interpolation=\"midpoint\")\n",
        "  # add new column membership days\n",
        "  df['membership_days'] = (df['expiration_date'] - df['registration_init_time']).dt.days.astype(int)\n",
        "\n",
        "  # make birthdays (actually age) with less than 0 and more than 90 -> 0 (it means unspecified)\n",
        "  to_remove = df.loc[(df['bd'] < 0) | (df['bd'] > 90), 'bd'].values\n",
        "  df['bd'].replace(to_remove, 0, inplace=True)\n",
        "\n",
        "  # add new binary column about \"has age info or not\" \n",
        "  cond = df['bd'] != 0\n",
        "  df['got_bd'] = np.where(cond, 1, 0)\n",
        "  \n",
        "  return df"
      ],
      "execution_count": 8,
      "outputs": []
    },
    {
      "cell_type": "code",
      "metadata": {
        "id": "k_l4lcXaaYBV"
      },
      "source": [
        "members = preprocess_user_data(members, gender_rand=False)"
      ],
      "execution_count": 9,
      "outputs": []
    },
    {
      "cell_type": "markdown",
      "metadata": {
        "id": "cI9eQkZop0GH"
      },
      "source": [
        "#### User country"
      ]
    },
    {
      "cell_type": "markdown",
      "metadata": {
        "id": "G4MXm6M3majX"
      },
      "source": [
        "Let us try to understand which country user is from by the countries of the most popular music for city where is the user from.  \n",
        "Wiki says that the KKBOX service mainly targets the music markets of East and Southeast Asia, focusing on regions including: Taiwan, Hong Kong, Malaysia, Japan and Singapore, so let us focus only on these countries."
      ]
    },
    {
      "cell_type": "code",
      "metadata": {
        "id": "jBwzMoSreoSg"
      },
      "source": [
        "train_expanded['song_country'] = train_expanded['isrc'].str[:2]\n",
        "test_expanded['song_country'] = test_expanded['isrc'].str[:2]"
      ],
      "execution_count": 22,
      "outputs": []
    },
    {
      "cell_type": "code",
      "metadata": {
        "colab": {
          "base_uri": "https://localhost:8080/"
        },
        "id": "a3ysYSxom7Qq",
        "outputId": "d656875a-894d-4331-8fbb-1cc2aafb88b5"
      },
      "source": [
        "print(train_expanded['song_country'].unique())\n",
        "plt.figure(figsize=(30, 5))\n",
        "train_expanded['song_country'].hist()\n",
        "plt.yscale('log')\n",
        "plt.show()"
      ],
      "execution_count": null,
      "outputs": [
        {
          "output_type": "stream",
          "name": "stdout",
          "text": [
            "['GB' 'US' 'QM' 'TW' nan 'BE' 'AR' 'CN' 'HK' 'KR' 'JP' 'DE' 'CA' 'FR' 'IT'\n",
            " 'NO' 'SE' 'NL' 'DK' 'MY' 'TC' 'SG' 'UK' 'EM' 'ES' 'GM' 'TG' 'CH' 'TE'\n",
            " 'AU' 'GT' 'PL' 'BR' 'UA' 'GL' 'CY' 'RO' 'IE' 'TH' 'PT' 'NG' 'FI' 'IN'\n",
            " 'QZ' 'MX' 'VG' 'MT' 'PH' 'NZ' 'TR' 'RU' 'EU' 'TM' 'BX' 'CB' 'CO' 'EG'\n",
            " 'AT' 'AD' 'BG' 'ZA' 'ID' 'UG' 'GR' 'HR' 'MH' 'IL' 'HU' 'PR' 'JK' 'ZZ'\n",
            " 'IS' 'WW' 'LB' 'MA' 'CZ' 'MO' 'KI' 'LV' 'NJ' 'DM' 'MK' 'AE' 'LU' 'CL'\n",
            " 'GY' 'PE' 'IF' 'BZ' 'SK' 'TP' 'UD' 'SA' 'PY' 'BK' 'EE' 'LT' 'UY' 'JM'\n",
            " 'UZ' 'SI' 'CM' 'OM' 'BY' 'GD' 'YW' 'RS' 'GN' 'IR' 'KE']\n"
          ]
        },
        {
          "output_type": "display_data",
          "data": {
            "image/png": "[encoded data removed]",
            "text/plain": [
              "<Figure size 2160x360 with 1 Axes>"
            ]
          },
          "metadata": {
            "needs_background": "light"
          }
        }
      ]
    },
    {
      "cell_type": "code",
      "metadata": {
        "colab": {
          "base_uri": "https://localhost:8080/"
        },
        "id": "ZJm806fwpJvj",
        "outputId": "0c08d7da-8c1b-42de-e8f5-1be5955e464b"
      },
      "source": [
        "print(train_expanded['city'].unique())\n",
        "train_expanded.groupby('city')['city'].count().sort_values(ascending=False)"
      ],
      "execution_count": null,
      "outputs": [
        {
          "output_type": "stream",
          "name": "stdout",
          "text": [
            "[ 1 13 15  5  9 21 22 12  4  6 14 17 10  8 11 18  3  7 20 16 19]\n"
          ]
        },
        {
          "output_type": "execute_result",
          "data": {
            "text/plain": [
              "city\n",
              "1     2621293\n",
              "13    1144863\n",
              "5      830128\n",
              "4      545820\n",
              "15     484078\n",
              "22     460330\n",
              "6      275781\n",
              "14     236639\n",
              "12     147133\n",
              "9       95237\n",
              "8       85734\n",
              "18      81780\n",
              "11      71542\n",
              "10      69158\n",
              "21      67097\n",
              "3       63555\n",
              "17      44688\n",
              "7       31621\n",
              "16       7887\n",
              "19       6961\n",
              "20       6093\n",
              "Name: city, dtype: int64"
            ]
          },
          "metadata": {},
          "execution_count": 65
        }
      ]
    },
    {
      "cell_type": "code",
      "metadata": {
        "colab": {
          "base_uri": "https://localhost:8080/"
        },
        "id": "6ojcEe0Zp5h-",
        "outputId": "d6e66b3e-8dfe-4af9-d025-4b508d9ade8a"
      },
      "source": [
        "for city in train_expanded.city.unique():\n",
        "  print(city)\n",
        "  top_countries = train_expanded[train_expanded.city == city].groupby('song_country')['song_country'].count().sort_values(ascending=False)[:5]\n",
        "  print(top_countries)"
      ],
      "execution_count": null,
      "outputs": [
        {
          "output_type": "stream",
          "name": "stdout",
          "text": [
            "1\n",
            "song_country\n",
            "TW    1230776\n",
            "US     438629\n",
            "GB     144910\n",
            "KR     136895\n",
            "HK     126121\n",
            "Name: song_country, dtype: int64\n",
            "13\n",
            "song_country\n",
            "TW    574854\n",
            "US    184066\n",
            "HK     58119\n",
            "GB     57880\n",
            "KR     57795\n",
            "Name: song_country, dtype: int64\n",
            "15\n",
            "song_country\n",
            "TW    246223\n",
            "US     76605\n",
            "HK     24867\n",
            "GB     24430\n",
            "KR     22013\n",
            "Name: song_country, dtype: int64\n",
            "5\n",
            "song_country\n",
            "TW    380968\n",
            "US    156196\n",
            "GB     53079\n",
            "KR     40531\n",
            "HK     40074\n",
            "Name: song_country, dtype: int64\n",
            "9\n",
            "song_country\n",
            "TW    47174\n",
            "US    15486\n",
            "GB     4992\n",
            "HK     4903\n",
            "KR     4814\n",
            "Name: song_country, dtype: int64\n",
            "21\n",
            "song_country\n",
            "TW    34015\n",
            "US    11158\n",
            "KR     3545\n",
            "GB     3334\n",
            "HK     2989\n",
            "Name: song_country, dtype: int64\n",
            "22\n",
            "song_country\n",
            "TW    231013\n",
            "US     70881\n",
            "GB     23281\n",
            "HK     22506\n",
            "KR     20090\n",
            "Name: song_country, dtype: int64\n",
            "12\n",
            "song_country\n",
            "TW    74167\n",
            "US    21981\n",
            "KR     7497\n",
            "GB     7399\n",
            "HK     7049\n",
            "Name: song_country, dtype: int64\n",
            "4\n",
            "song_country\n",
            "TW    274985\n",
            "US     84498\n",
            "GB     27701\n",
            "HK     27023\n",
            "KR     25285\n",
            "Name: song_country, dtype: int64\n",
            "6\n",
            "song_country\n",
            "TW    138734\n",
            "US     43083\n",
            "GB     14718\n",
            "HK     12500\n",
            "KR     11972\n",
            "Name: song_country, dtype: int64\n",
            "14\n",
            "song_country\n",
            "TW    117510\n",
            "US     37768\n",
            "HK     12098\n",
            "KR     12082\n",
            "GB     11809\n",
            "Name: song_country, dtype: int64\n",
            "17\n",
            "song_country\n",
            "TW    22261\n",
            "US     7680\n",
            "GB     2218\n",
            "KR     2153\n",
            "HK     1945\n",
            "Name: song_country, dtype: int64\n",
            "10\n",
            "song_country\n",
            "TW    34173\n",
            "US    10899\n",
            "KR     3714\n",
            "GB     3626\n",
            "HK     3449\n",
            "Name: song_country, dtype: int64\n",
            "8\n",
            "song_country\n",
            "TW    44342\n",
            "US    11991\n",
            "HK     4246\n",
            "GB     4135\n",
            "KR     3434\n",
            "Name: song_country, dtype: int64\n",
            "11\n",
            "song_country\n",
            "TW    35747\n",
            "US    11709\n",
            "GB     3853\n",
            "HK     3217\n",
            "KR     3086\n",
            "Name: song_country, dtype: int64\n",
            "18\n",
            "song_country\n",
            "TW    43277\n",
            "US    11376\n",
            "KR     4620\n",
            "HK     3910\n",
            "GB     3598\n",
            "Name: song_country, dtype: int64\n",
            "3\n",
            "song_country\n",
            "TW    33260\n",
            "US     9943\n",
            "GB     3119\n",
            "HK     2992\n",
            "KR     2853\n",
            "Name: song_country, dtype: int64\n",
            "7\n",
            "song_country\n",
            "TW    15820\n",
            "US     4621\n",
            "GB     1774\n",
            "KR     1662\n",
            "HK     1510\n",
            "Name: song_country, dtype: int64\n",
            "20\n",
            "song_country\n",
            "TW    3139\n",
            "US     873\n",
            "GB     327\n",
            "KR     309\n",
            "HK     305\n",
            "Name: song_country, dtype: int64\n",
            "16\n",
            "song_country\n",
            "TW    3496\n",
            "US    1488\n",
            "JP     464\n",
            "GB     436\n",
            "KR     383\n",
            "Name: song_country, dtype: int64\n",
            "19\n",
            "song_country\n",
            "TW    2989\n",
            "US    1289\n",
            "JP     563\n",
            "GB     448\n",
            "KR     276\n",
            "Name: song_country, dtype: int64\n"
          ]
        }
      ]
    },
    {
      "cell_type": "markdown",
      "metadata": {
        "id": "kwCKie2dtRGZ"
      },
      "source": [
        "So, there is no meaningful information to extract, mostly all users listen to Taiwan songs"
      ]
    },
    {
      "cell_type": "markdown",
      "metadata": {
        "id": "3-Kyt9FmtYXl"
      },
      "source": [
        "### FE Train Info"
      ]
    },
    {
      "cell_type": "code",
      "metadata": {
        "id": "aIQarTFqE1cN"
      },
      "source": [
        "def preprocess_main_info(df, test=False, train_df=None):\n",
        "  # count how many songs did user listened\n",
        "  df = df.merge(df.groupby('msno')['msno'].count(), \n",
        "                left_on='msno', \n",
        "                right_index=True, \n",
        "                how='left', \n",
        "                suffixes=('', '_1'))\n",
        "  # song popularity by all plays\n",
        "  df = df.merge(df.groupby('song_id')['song_id'].count(), \n",
        "                left_on='song_id', \n",
        "                right_index=True, \n",
        "                how='left', \n",
        "                suffixes=('', '_2'))\n",
        "  \n",
        "  df = df.rename(columns={'msno_1':'user_plays',\n",
        "                          'song_id_2':'song_plays'})\n",
        "  if not test:\n",
        "    # target based features \n",
        "    # if user tends to repeat the music he listens to\n",
        "    df = df.merge(df.groupby('msno')['target'].sum(), \n",
        "                  left_on='msno', \n",
        "                  right_index=True, \n",
        "                  how='left', \n",
        "                  suffixes=('', '_3'))\n",
        "    # song popularity by repeats\n",
        "    df = df.merge(df.groupby('song_id')['target'].sum(), \n",
        "                  left_on='song_id', \n",
        "                  right_index=True, \n",
        "                  how='left', \n",
        "                  suffixes=('', '_4'))\n",
        "        \n",
        "    df = df.rename(columns={'target_3':'user_repeats',\n",
        "                            'target_4':'song_repeats'})\n",
        "    \n",
        "    df['user_repeat_ratio'] = df['user_repeats']/df['user_plays']\n",
        "    df['song_repeat_ratio'] = df['song_repeats']/df['song_plays']\n",
        "\n",
        "  else:\n",
        "    # if user tends to repeat the music he listens to\n",
        "    test_list = set(train_df['msno']).intersection(df['msno'])\n",
        "    test_dict = train_df.loc[train_df['msno'].isin(test_list)][['msno', 'user_repeat_ratio']].set_index('msno').to_dict()\n",
        "    df['user_repeat_ratio'] = df['msno'].map(test_dict['user_repeat_ratio'])\n",
        "    # song popularity by repeats\n",
        "    test_list = set(train_df['song_id']).intersection(df['song_id'])\n",
        "    test_dict = train_df.loc[train_df['song_id'].isin(test_list)][['song_id', 'song_repeat_ratio']].set_index('song_id').to_dict()\n",
        "    df['song_repeat_ratio'] = df['song_id'].map(test_dict['song_repeat_ratio'])\n",
        "    df.drop('id', axis=1, inplace=True)\n",
        "  return df"
      ],
      "execution_count": 11,
      "outputs": []
    },
    {
      "cell_type": "code",
      "metadata": {
        "id": "7rX8iH8uBFh2"
      },
      "source": [
        "train = preprocess_main_info(train)\n",
        "test = preprocess_main_info(test, True, train)"
      ],
      "execution_count": 12,
      "outputs": []
    },
    {
      "cell_type": "markdown",
      "metadata": {
        "id": "vt7FWUmoA8uV"
      },
      "source": [
        "## Merging"
      ]
    },
    {
      "cell_type": "markdown",
      "metadata": {
        "id": "HzU7TkTXoF4N"
      },
      "source": [
        "Merging all data for train and test"
      ]
    },
    {
      "cell_type": "code",
      "metadata": {
        "id": "E5-RXFyBo6y4"
      },
      "source": [
        "def expand_df(df, keys, ad_dfs):\n",
        "  for k, ad_df in zip(keys, ad_dfs):\n",
        "    df = df.merge(ad_df, how='left', on=k)\n",
        "  return df"
      ],
      "execution_count": 16,
      "outputs": []
    },
    {
      "cell_type": "code",
      "metadata": {
        "id": "czOiAdX3_F8z"
      },
      "source": [
        "keys = ['song_id', 'song_id', 'msno']\n",
        "dfs = [songs, songs_extra, members]\n",
        "\n",
        "train_expanded = expand_df(train, keys, dfs)\n",
        "test_expanded = expand_df(test, keys, dfs)"
      ],
      "execution_count": 17,
      "outputs": []
    },
    {
      "cell_type": "code",
      "metadata": {
        "colab": {
          "base_uri": "https://localhost:8080/"
        },
        "id": "7t-ke9Xm3eJh",
        "outputId": "b82cf0a9-eac5-4192-b083-a32c23468897"
      },
      "source": [
        "train_expanded.isna().sum()/train_expanded.shape[0]"
      ],
      "execution_count": 19,
      "outputs": [
        {
          "output_type": "execute_result",
          "data": {
            "text/plain": [
              "msno                      0.000000\n",
              "song_id                   0.000000\n",
              "source_system_tab         0.000000\n",
              "source_screen_name        0.000000\n",
              "source_type               0.000000\n",
              "target                    0.000000\n",
              "user_plays                0.000000\n",
              "song_plays                0.000000\n",
              "user_repeats              0.000000\n",
              "song_repeats              0.000000\n",
              "user_repeat_ratio         0.000000\n",
              "song_repeat_ratio         0.000000\n",
              "song_length               0.000015\n",
              "genre_ids                 0.016056\n",
              "artist_name               0.000015\n",
              "composer                  0.227140\n",
              "lyricist                  0.430882\n",
              "language                  0.000020\n",
              "name                      0.000197\n",
              "isrc                      0.078328\n",
              "city                      0.000000\n",
              "bd                        0.000000\n",
              "gender                    0.000000\n",
              "registered_via            0.000000\n",
              "registration_init_time    0.000000\n",
              "expiration_date           0.000000\n",
              "membership_days           0.000000\n",
              "got_bd                    0.000000\n",
              "dtype: float64"
            ]
          },
          "metadata": {},
          "execution_count": 19
        }
      ]
    },
    {
      "cell_type": "code",
      "metadata": {
        "colab": {
          "base_uri": "https://localhost:8080/"
        },
        "id": "_AR4qeOn8cCB",
        "outputId": "00b1adaf-4e87-43b9-c87c-67099b5b062a"
      },
      "source": [
        "test_expanded.isna().sum()/test_expanded.shape[0]"
      ],
      "execution_count": 20,
      "outputs": [
        {
          "output_type": "execute_result",
          "data": {
            "text/plain": [
              "msno                      0.000000\n",
              "song_id                   0.000000\n",
              "source_system_tab         0.000000\n",
              "source_screen_name        0.000000\n",
              "source_type               0.000000\n",
              "user_plays                0.000000\n",
              "song_plays                0.000000\n",
              "user_repeat_ratio         0.071972\n",
              "song_repeat_ratio         0.125206\n",
              "song_length               0.000010\n",
              "genre_ids                 0.016470\n",
              "artist_name               0.000010\n",
              "composer                  0.242219\n",
              "lyricist                  0.479016\n",
              "language                  0.000016\n",
              "name                      0.000304\n",
              "isrc                      0.076910\n",
              "city                      0.000000\n",
              "bd                        0.000000\n",
              "gender                    0.000000\n",
              "registered_via            0.000000\n",
              "registration_init_time    0.000000\n",
              "expiration_date           0.000000\n",
              "membership_days           0.000000\n",
              "got_bd                    0.000000\n",
              "dtype: float64"
            ]
          },
          "metadata": {},
          "execution_count": 20
        }
      ]
    },
    {
      "cell_type": "code",
      "metadata": {
        "id": "sMglsR3joiqY"
      },
      "source": [
        "# saving all previous dataframes cause it crashed when I merged so tremendous dataframes\n",
        "train_expanded.to_csv(PATH + 'train_expanded.csv', index=False)\n",
        "test_expanded.to_csv(PATH + 'test_expanded.csv', index=False)"
      ],
      "execution_count": 20,
      "outputs": []
    },
    {
      "cell_type": "code",
      "metadata": {
        "id": "IRBEpMGhpXyE"
      },
      "source": [
        "# read previous dataframes\n",
        "train_expanded = pd.read_csv(PATH + 'train_expanded.csv', parse_dates=['registration_init_time', 'expiration_date'])\n",
        "test_expanded = pd.read_csv(PATH + 'test_expanded.csv', parse_dates=['registration_init_time', 'expiration_date'])"
      ],
      "execution_count": 21,
      "outputs": []
    },
    {
      "cell_type": "code",
      "metadata": {
        "colab": {
          "base_uri": "https://localhost:8080/",
          "height": 807
        },
        "id": "xVixEpPY8pKj",
        "outputId": "a50488dd-8d83-4ec5-9bef-1c7af9baf523"
      },
      "source": [
        "# example of dataframe\n",
        "test_expanded"
      ],
      "execution_count": 21,
      "outputs": [
        {
          "output_type": "execute_result",
          "data": {
            "text/html": [
              "<div>\n",
              "<style scoped>\n",
              "    .dataframe tbody tr th:only-of-type {\n",
              "        vertical-align: middle;\n",
              "    }\n",
              "\n",
              "    .dataframe tbody tr th {\n",
              "        vertical-align: top;\n",
              "    }\n",
              "\n",
              "    .dataframe thead th {\n",
              "        text-align: right;\n",
              "    }\n",
              "</style>\n",
              "<table border=\"1\" class=\"dataframe\">\n",
              "  <thead>\n",
              "    <tr style=\"text-align: right;\">\n",
              "      <th></th>\n",
              "      <th>msno</th>\n",
              "      <th>song_id</th>\n",
              "      <th>source_system_tab</th>\n",
              "      <th>source_screen_name</th>\n",
              "      <th>source_type</th>\n",
              "      <th>user_plays</th>\n",
              "      <th>song_plays</th>\n",
              "      <th>user_repeat_ratio</th>\n",
              "      <th>song_repeat_ratio</th>\n",
              "      <th>song_length</th>\n",
              "      <th>genre_ids</th>\n",
              "      <th>artist_name</th>\n",
              "      <th>composer</th>\n",
              "      <th>lyricist</th>\n",
              "      <th>language</th>\n",
              "      <th>name</th>\n",
              "      <th>isrc</th>\n",
              "      <th>city</th>\n",
              "      <th>bd</th>\n",
              "      <th>gender</th>\n",
              "      <th>registered_via</th>\n",
              "      <th>registration_init_time</th>\n",
              "      <th>expiration_date</th>\n",
              "      <th>membership_days</th>\n",
              "      <th>got_bd</th>\n",
              "    </tr>\n",
              "  </thead>\n",
              "  <tbody>\n",
              "    <tr>\n",
              "      <th>0</th>\n",
              "      <td>V8ruy7SGk7tDm3zA51DPpn6qutt+vmKMBKa21dp54uM=</td>\n",
              "      <td>WmHKgKMlp1lQMecNdNvDMkvIycZYHnFwDT72I5sIssc=</td>\n",
              "      <td>my library</td>\n",
              "      <td>local playlist more</td>\n",
              "      <td>local-library</td>\n",
              "      <td>17</td>\n",
              "      <td>196</td>\n",
              "      <td>0.366197</td>\n",
              "      <td>0.504323</td>\n",
              "      <td>224130.0</td>\n",
              "      <td>458</td>\n",
              "      <td>梁文音 (Rachel Liang)</td>\n",
              "      <td>Qi Zheng Zhang</td>\n",
              "      <td>NaN</td>\n",
              "      <td>3.0</td>\n",
              "      <td>愛其實很殘忍</td>\n",
              "      <td>TWUM71400047</td>\n",
              "      <td>1</td>\n",
              "      <td>0</td>\n",
              "      <td>2.0</td>\n",
              "      <td>7</td>\n",
              "      <td>2016-02-19</td>\n",
              "      <td>2017-09-18</td>\n",
              "      <td>577</td>\n",
              "      <td>0</td>\n",
              "    </tr>\n",
              "    <tr>\n",
              "      <th>1</th>\n",
              "      <td>V8ruy7SGk7tDm3zA51DPpn6qutt+vmKMBKa21dp54uM=</td>\n",
              "      <td>y/rsZ9DC7FwK5F2PK2D5mj+aOBUJAjuu3dZ14NgE0vM=</td>\n",
              "      <td>my library</td>\n",
              "      <td>local playlist more</td>\n",
              "      <td>local-library</td>\n",
              "      <td>17</td>\n",
              "      <td>1479</td>\n",
              "      <td>0.366197</td>\n",
              "      <td>0.624631</td>\n",
              "      <td>320470.0</td>\n",
              "      <td>465</td>\n",
              "      <td>林俊傑 (JJ Lin)</td>\n",
              "      <td>林俊傑</td>\n",
              "      <td>孫燕姿/易家揚</td>\n",
              "      <td>3.0</td>\n",
              "      <td>她說</td>\n",
              "      <td>TWB671005201</td>\n",
              "      <td>1</td>\n",
              "      <td>0</td>\n",
              "      <td>2.0</td>\n",
              "      <td>7</td>\n",
              "      <td>2016-02-19</td>\n",
              "      <td>2017-09-18</td>\n",
              "      <td>577</td>\n",
              "      <td>0</td>\n",
              "    </tr>\n",
              "    <tr>\n",
              "      <th>2</th>\n",
              "      <td>/uQAlrAkaczV+nWCd2sPF2ekvXPRipV7q0l+gbLuxjw=</td>\n",
              "      <td>8eZLFOdGVdXBSqoAv5nsLigeH2BvKXzTQYtUM53I0k4=</td>\n",
              "      <td>discover</td>\n",
              "      <td>unknown</td>\n",
              "      <td>song-based-playlist</td>\n",
              "      <td>1</td>\n",
              "      <td>2</td>\n",
              "      <td>0.143939</td>\n",
              "      <td>0.400000</td>\n",
              "      <td>315899.0</td>\n",
              "      <td>2022</td>\n",
              "      <td>Yu Takahashi (高橋優)</td>\n",
              "      <td>Yu Takahashi</td>\n",
              "      <td>Yu Takahashi</td>\n",
              "      <td>17.0</td>\n",
              "      <td>subarashiki nichijo</td>\n",
              "      <td>JPWP01070260</td>\n",
              "      <td>1</td>\n",
              "      <td>0</td>\n",
              "      <td>2.0</td>\n",
              "      <td>4</td>\n",
              "      <td>2016-11-17</td>\n",
              "      <td>2016-11-24</td>\n",
              "      <td>7</td>\n",
              "      <td>0</td>\n",
              "    </tr>\n",
              "    <tr>\n",
              "      <th>3</th>\n",
              "      <td>1a6oo/iXKatxQx4eS9zTVD+KlSVaAFbTIqVvwLC1Y0k=</td>\n",
              "      <td>ztCf8thYsS4YN3GcIL/bvoxLm/T5mYBVKOO4C9NiVfQ=</td>\n",
              "      <td>radio</td>\n",
              "      <td>radio</td>\n",
              "      <td>radio</td>\n",
              "      <td>270</td>\n",
              "      <td>14</td>\n",
              "      <td>0.296392</td>\n",
              "      <td>0.225806</td>\n",
              "      <td>285210.0</td>\n",
              "      <td>465</td>\n",
              "      <td>U2</td>\n",
              "      <td>The Edge| Adam Clayton| Larry Mullen| Jr.</td>\n",
              "      <td>NaN</td>\n",
              "      <td>52.0</td>\n",
              "      <td>Hold Me| Thrill Me| Kiss Me| Kill Me</td>\n",
              "      <td>GBAAN0201228</td>\n",
              "      <td>3</td>\n",
              "      <td>30</td>\n",
              "      <td>1.0</td>\n",
              "      <td>9</td>\n",
              "      <td>2007-07-25</td>\n",
              "      <td>2017-04-30</td>\n",
              "      <td>3567</td>\n",
              "      <td>1</td>\n",
              "    </tr>\n",
              "    <tr>\n",
              "      <th>4</th>\n",
              "      <td>1a6oo/iXKatxQx4eS9zTVD+KlSVaAFbTIqVvwLC1Y0k=</td>\n",
              "      <td>MKVMpslKcQhMaFEgcEQhEfi5+RZhMYlU3eRDpySrH8Y=</td>\n",
              "      <td>radio</td>\n",
              "      <td>radio</td>\n",
              "      <td>radio</td>\n",
              "      <td>270</td>\n",
              "      <td>3</td>\n",
              "      <td>0.296392</td>\n",
              "      <td>0.400000</td>\n",
              "      <td>197590.0</td>\n",
              "      <td>873</td>\n",
              "      <td>Yoga Mr Sound</td>\n",
              "      <td>Neuromancer</td>\n",
              "      <td>NaN</td>\n",
              "      <td>-1.0</td>\n",
              "      <td>Om Yoga</td>\n",
              "      <td>ITO101121898</td>\n",
              "      <td>3</td>\n",
              "      <td>30</td>\n",
              "      <td>1.0</td>\n",
              "      <td>9</td>\n",
              "      <td>2007-07-25</td>\n",
              "      <td>2017-04-30</td>\n",
              "      <td>3567</td>\n",
              "      <td>1</td>\n",
              "    </tr>\n",
              "    <tr>\n",
              "      <th>...</th>\n",
              "      <td>...</td>\n",
              "      <td>...</td>\n",
              "      <td>...</td>\n",
              "      <td>...</td>\n",
              "      <td>...</td>\n",
              "      <td>...</td>\n",
              "      <td>...</td>\n",
              "      <td>...</td>\n",
              "      <td>...</td>\n",
              "      <td>...</td>\n",
              "      <td>...</td>\n",
              "      <td>...</td>\n",
              "      <td>...</td>\n",
              "      <td>...</td>\n",
              "      <td>...</td>\n",
              "      <td>...</td>\n",
              "      <td>...</td>\n",
              "      <td>...</td>\n",
              "      <td>...</td>\n",
              "      <td>...</td>\n",
              "      <td>...</td>\n",
              "      <td>...</td>\n",
              "      <td>...</td>\n",
              "      <td>...</td>\n",
              "      <td>...</td>\n",
              "    </tr>\n",
              "    <tr>\n",
              "      <th>2556785</th>\n",
              "      <td>XmA/cIkXJ8jZUfsUc4bBfJVWMMqmylnPW0WVkg/iz0s=</td>\n",
              "      <td>wJoWzZd7AL+qX9xZWZwRTzGRYg0Lxcl5Pe+9n5hZgAQ=</td>\n",
              "      <td>discover</td>\n",
              "      <td>online playlist more</td>\n",
              "      <td>online-playlist</td>\n",
              "      <td>118</td>\n",
              "      <td>2647</td>\n",
              "      <td>0.237288</td>\n",
              "      <td>NaN</td>\n",
              "      <td>247640.0</td>\n",
              "      <td>1609</td>\n",
              "      <td>The Chainsmokers &amp; Coldplay</td>\n",
              "      <td>Andrew Taggart| Christopher Martin| Will Champ...</td>\n",
              "      <td>Andrew Taggart| Christopher Martin| Will Champ...</td>\n",
              "      <td>52.0</td>\n",
              "      <td>Something Just Like This</td>\n",
              "      <td>USQX91700278</td>\n",
              "      <td>13</td>\n",
              "      <td>41</td>\n",
              "      <td>0.0</td>\n",
              "      <td>9</td>\n",
              "      <td>2010-11-26</td>\n",
              "      <td>2017-09-21</td>\n",
              "      <td>2491</td>\n",
              "      <td>1</td>\n",
              "    </tr>\n",
              "    <tr>\n",
              "      <th>2556786</th>\n",
              "      <td>jvbujcxCExG0CrPShsEmZ6pePcHuRqru2OLEUw85iGk=</td>\n",
              "      <td>KCJ8BlSfRQRgB7EVuzFvg52AhR8m2fT032MzN5ewbEI=</td>\n",
              "      <td>discover</td>\n",
              "      <td>unknown</td>\n",
              "      <td>online-playlist</td>\n",
              "      <td>132</td>\n",
              "      <td>2973</td>\n",
              "      <td>0.520161</td>\n",
              "      <td>NaN</td>\n",
              "      <td>197067.0</td>\n",
              "      <td>458</td>\n",
              "      <td>郭美美 (Jocie Guo)</td>\n",
              "      <td>小路</td>\n",
              "      <td>小路</td>\n",
              "      <td>3.0</td>\n",
              "      <td>一百種孤獨的理由</td>\n",
              "      <td>CNZ171601130</td>\n",
              "      <td>13</td>\n",
              "      <td>24</td>\n",
              "      <td>1.0</td>\n",
              "      <td>9</td>\n",
              "      <td>2014-05-06</td>\n",
              "      <td>2017-09-12</td>\n",
              "      <td>1225</td>\n",
              "      <td>1</td>\n",
              "    </tr>\n",
              "    <tr>\n",
              "      <th>2556787</th>\n",
              "      <td>jvbujcxCExG0CrPShsEmZ6pePcHuRqru2OLEUw85iGk=</td>\n",
              "      <td>ySDsKJSnhFMESzC9mBhY0hnFEEBWDYx0FOMNcYDLb/A=</td>\n",
              "      <td>discover</td>\n",
              "      <td>unknown</td>\n",
              "      <td>online-playlist</td>\n",
              "      <td>132</td>\n",
              "      <td>1129</td>\n",
              "      <td>0.520161</td>\n",
              "      <td>0.452381</td>\n",
              "      <td>212950.0</td>\n",
              "      <td>458</td>\n",
              "      <td>問樂團 (Guess What)</td>\n",
              "      <td>Skot Suyama陶山/Linkin Park</td>\n",
              "      <td>陳天佑/謝和弦/Linkin Park</td>\n",
              "      <td>3.0</td>\n",
              "      <td>愛不需要裝乖 / Somewhere I Belong</td>\n",
              "      <td>TWCE31600005</td>\n",
              "      <td>13</td>\n",
              "      <td>24</td>\n",
              "      <td>1.0</td>\n",
              "      <td>9</td>\n",
              "      <td>2014-05-06</td>\n",
              "      <td>2017-09-12</td>\n",
              "      <td>1225</td>\n",
              "      <td>1</td>\n",
              "    </tr>\n",
              "    <tr>\n",
              "      <th>2556788</th>\n",
              "      <td>jvbujcxCExG0CrPShsEmZ6pePcHuRqru2OLEUw85iGk=</td>\n",
              "      <td>WXH8kL8e+0H2jY+s2Y6FpHyyHdaMYV3b6yfDa3FAt9U=</td>\n",
              "      <td>discover</td>\n",
              "      <td>unknown</td>\n",
              "      <td>online-playlist</td>\n",
              "      <td>132</td>\n",
              "      <td>1690</td>\n",
              "      <td>0.520161</td>\n",
              "      <td>NaN</td>\n",
              "      <td>164414.0</td>\n",
              "      <td>465</td>\n",
              "      <td>陳冠宇 (Kaiel Chen)</td>\n",
              "      <td>NaN</td>\n",
              "      <td>NaN</td>\n",
              "      <td>3.0</td>\n",
              "      <td>陳冠宇 (Kuan Yu Chen)</td>\n",
              "      <td>TWN711700010</td>\n",
              "      <td>13</td>\n",
              "      <td>24</td>\n",
              "      <td>1.0</td>\n",
              "      <td>9</td>\n",
              "      <td>2014-05-06</td>\n",
              "      <td>2017-09-12</td>\n",
              "      <td>1225</td>\n",
              "      <td>1</td>\n",
              "    </tr>\n",
              "    <tr>\n",
              "      <th>2556789</th>\n",
              "      <td>jvbujcxCExG0CrPShsEmZ6pePcHuRqru2OLEUw85iGk=</td>\n",
              "      <td>ftPDlhAywvcZX7ojE6F+9CDsC22UKX96iEr4W0ciPec=</td>\n",
              "      <td>discover</td>\n",
              "      <td>unknown</td>\n",
              "      <td>online-playlist</td>\n",
              "      <td>132</td>\n",
              "      <td>1878</td>\n",
              "      <td>0.520161</td>\n",
              "      <td>NaN</td>\n",
              "      <td>231552.0</td>\n",
              "      <td>458</td>\n",
              "      <td>嘎嘎+李洛洋+Under Lover</td>\n",
              "      <td>嘎嘎/李洛洋/胡睿兒/楊琳</td>\n",
              "      <td>嘎嘎/李洛洋/胡睿兒/楊琳</td>\n",
              "      <td>3.0</td>\n",
              "      <td>男子漢 (Manly Man)</td>\n",
              "      <td>TWL111600007</td>\n",
              "      <td>13</td>\n",
              "      <td>24</td>\n",
              "      <td>1.0</td>\n",
              "      <td>9</td>\n",
              "      <td>2014-05-06</td>\n",
              "      <td>2017-09-12</td>\n",
              "      <td>1225</td>\n",
              "      <td>1</td>\n",
              "    </tr>\n",
              "  </tbody>\n",
              "</table>\n",
              "<p>2556790 rows × 25 columns</p>\n",
              "</div>"
            ],
            "text/plain": [
              "                                                 msno  ... got_bd\n",
              "0        V8ruy7SGk7tDm3zA51DPpn6qutt+vmKMBKa21dp54uM=  ...      0\n",
              "1        V8ruy7SGk7tDm3zA51DPpn6qutt+vmKMBKa21dp54uM=  ...      0\n",
              "2        /uQAlrAkaczV+nWCd2sPF2ekvXPRipV7q0l+gbLuxjw=  ...      0\n",
              "3        1a6oo/iXKatxQx4eS9zTVD+KlSVaAFbTIqVvwLC1Y0k=  ...      1\n",
              "4        1a6oo/iXKatxQx4eS9zTVD+KlSVaAFbTIqVvwLC1Y0k=  ...      1\n",
              "...                                               ...  ...    ...\n",
              "2556785  XmA/cIkXJ8jZUfsUc4bBfJVWMMqmylnPW0WVkg/iz0s=  ...      1\n",
              "2556786  jvbujcxCExG0CrPShsEmZ6pePcHuRqru2OLEUw85iGk=  ...      1\n",
              "2556787  jvbujcxCExG0CrPShsEmZ6pePcHuRqru2OLEUw85iGk=  ...      1\n",
              "2556788  jvbujcxCExG0CrPShsEmZ6pePcHuRqru2OLEUw85iGk=  ...      1\n",
              "2556789  jvbujcxCExG0CrPShsEmZ6pePcHuRqru2OLEUw85iGk=  ...      1\n",
              "\n",
              "[2556790 rows x 25 columns]"
            ]
          },
          "metadata": {},
          "execution_count": 21
        }
      ]
    },
    {
      "cell_type": "code",
      "metadata": {
        "id": "WxQ0xVmGi92I"
      },
      "source": [
        ""
      ],
      "execution_count": null,
      "outputs": []
    }
  ]
}
