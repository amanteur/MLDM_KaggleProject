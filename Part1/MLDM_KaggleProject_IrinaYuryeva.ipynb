{
 "cells": [
  {
   "cell_type": "code",
   "execution_count": 1,
   "id": "de0910af",
   "metadata": {
    "_cell_guid": "b1076dfc-b9ad-4769-8c92-a6c4dae69d19",
    "_uuid": "8f2839f25d086af736a60e9eeb907d3b93b6e0e5",
    "editable": false,
    "execution": {
     "iopub.execute_input": "2021-11-17T18:52:06.197816Z",
     "iopub.status.busy": "2021-11-17T18:52:06.196400Z",
     "iopub.status.idle": "2021-11-17T18:52:06.214292Z",
     "shell.execute_reply": "2021-11-17T18:52:06.213560Z",
     "shell.execute_reply.started": "2021-11-17T18:03:59.610080Z"
    },
    "papermill": {
     "duration": 0.053372,
     "end_time": "2021-11-17T18:52:06.214440",
     "exception": false,
     "start_time": "2021-11-17T18:52:06.161068",
     "status": "completed"
    },
    "tags": []
   },
   "outputs": [
    {
     "name": "stdout",
     "output_type": "stream",
     "text": [
      "/kaggle/input/kkbox-music-recommendation-challenge/test.csv.7z\n",
      "/kaggle/input/kkbox-music-recommendation-challenge/train.csv.7z\n",
      "/kaggle/input/kkbox-music-recommendation-challenge/songs.csv.7z\n",
      "/kaggle/input/kkbox-music-recommendation-challenge/members.csv.7z\n",
      "/kaggle/input/kkbox-music-recommendation-challenge/song_extra_info.csv.7z\n",
      "/kaggle/input/kkbox-music-recommendation-challenge/sample_submission.csv.7z\n"
     ]
    }
   ],
   "source": [
    "# This Python 3 environment comes with many helpful analytics libraries installed\n",
    "# It is defined by the kaggle/python Docker image: https://github.com/kaggle/docker-python\n",
    "# For example, here's several helpful packages to load\n",
    "\n",
    "import numpy as np # linear algebra\n",
    "import pandas as pd # data processing, CSV file I/O (e.g. pd.read_csv)\n",
    "\n",
    "# Input data files are available in the read-only \"../input/\" directory\n",
    "# For example, running this (by clicking run or pressing Shift+Enter) will list all files under the input directory\n",
    "\n",
    "import os\n",
    "for dirname, _, filenames in os.walk('/kaggle/input'):\n",
    "    for filename in filenames:\n",
    "        print(os.path.join(dirname, filename))\n",
    "\n",
    "# You can write up to 20GB to the current directory (/kaggle/working/) that gets preserved as output when you create a version using \"Save & Run All\" \n",
    "# You can also write temporary files to /kaggle/temp/, but they won't be saved outside of the current session"
   ]
  },
  {
   "cell_type": "code",
   "execution_count": 2,
   "id": "8f75af46",
   "metadata": {
    "editable": false,
    "execution": {
     "iopub.execute_input": "2021-11-17T18:52:06.283113Z",
     "iopub.status.busy": "2021-11-17T18:52:06.282420Z",
     "iopub.status.idle": "2021-11-17T18:52:09.949281Z",
     "shell.execute_reply": "2021-11-17T18:52:09.949842Z",
     "shell.execute_reply.started": "2021-11-17T18:04:00.759573Z"
    },
    "papermill": {
     "duration": 3.704899,
     "end_time": "2021-11-17T18:52:09.950029",
     "exception": false,
     "start_time": "2021-11-17T18:52:06.245130",
     "status": "completed"
    },
    "tags": []
   },
   "outputs": [
    {
     "name": "stdout",
     "output_type": "stream",
     "text": [
      "Reading package lists...\n",
      "Building dependency tree...\n",
      "Reading state information...\n",
      "Suggested packages:\n",
      "  p7zip-full\n",
      "The following NEW packages will be installed:\n",
      "  p7zip\n",
      "0 upgraded, 1 newly installed, 0 to remove and 14 not upgraded.\n",
      "Need to get 358 kB of archives.\n",
      "After this operation, 996 kB of additional disk space will be used.\n",
      "Get:1 http://archive.ubuntu.com/ubuntu bionic/universe amd64 p7zip amd64 16.02+dfsg-6 [358 kB]\n"
     ]
    },
    {
     "name": "stderr",
     "output_type": "stream",
     "text": [
      "debconf: delaying package configuration, since apt-utils is not installed\n"
     ]
    },
    {
     "name": "stdout",
     "output_type": "stream",
     "text": [
      "Fetched 358 kB in 0s (1818 kB/s)\n",
      "Selecting previously unselected package p7zip.\r\n",
      "(Reading database ... 109092 files and directories currently installed.)\r\n",
      "Preparing to unpack .../p7zip_16.02+dfsg-6_amd64.deb ...\r\n",
      "Unpacking p7zip (16.02+dfsg-6) ...\r\n",
      "Setting up p7zip (16.02+dfsg-6) ...\r\n"
     ]
    },
    {
     "data": {
      "text/plain": [
       "0"
      ]
     },
     "execution_count": 2,
     "metadata": {},
     "output_type": "execute_result"
    }
   ],
   "source": [
    "os.system('apt-get install p7zip')"
   ]
  },
  {
   "cell_type": "code",
   "execution_count": 3,
   "id": "1f1a40f8",
   "metadata": {
    "editable": false,
    "execution": {
     "iopub.execute_input": "2021-11-17T18:52:10.016575Z",
     "iopub.status.busy": "2021-11-17T18:52:10.016004Z",
     "iopub.status.idle": "2021-11-17T18:52:29.042018Z",
     "shell.execute_reply": "2021-11-17T18:52:29.041592Z",
     "shell.execute_reply.started": "2021-11-17T18:04:05.881908Z"
    },
    "papermill": {
     "duration": 19.059988,
     "end_time": "2021-11-17T18:52:29.042133",
     "exception": false,
     "start_time": "2021-11-17T18:52:09.982145",
     "status": "completed"
    },
    "tags": []
   },
   "outputs": [
    {
     "name": "stdout",
     "output_type": "stream",
     "text": [
      "Collecting pyunpack\r\n",
      "  Downloading pyunpack-0.2.2-py2.py3-none-any.whl (3.8 kB)\r\n",
      "Collecting entrypoint2\r\n",
      "  Downloading entrypoint2-0.2.4-py3-none-any.whl (6.2 kB)\r\n",
      "Collecting easyprocess\r\n",
      "  Downloading EasyProcess-0.3-py2.py3-none-any.whl (7.9 kB)\r\n",
      "Installing collected packages: entrypoint2, easyprocess, pyunpack\r\n",
      "Successfully installed easyprocess-0.3 entrypoint2-0.2.4 pyunpack-0.2.2\r\n",
      "\u001b[33mWARNING: Running pip as the 'root' user can result in broken permissions and conflicting behaviour with the system package manager. It is recommended to use a virtual environment instead: https://pip.pypa.io/warnings/venv\u001b[0m\r\n",
      "Collecting patool\r\n",
      "  Downloading patool-1.12-py2.py3-none-any.whl (77 kB)\r\n",
      "\u001b[K     |████████████████████████████████| 77 kB 659 kB/s \r\n",
      "\u001b[?25hInstalling collected packages: patool\r\n",
      "Successfully installed patool-1.12\r\n",
      "\u001b[33mWARNING: Running pip as the 'root' user can result in broken permissions and conflicting behaviour with the system package manager. It is recommended to use a virtual environment instead: https://pip.pypa.io/warnings/venv\u001b[0m\r\n"
     ]
    }
   ],
   "source": [
    "!pip install pyunpack\n",
    "!pip install patool"
   ]
  },
  {
   "cell_type": "code",
   "execution_count": 4,
   "id": "b916a927",
   "metadata": {
    "editable": false,
    "execution": {
     "iopub.execute_input": "2021-11-17T18:52:29.100994Z",
     "iopub.status.busy": "2021-11-17T18:52:29.100340Z",
     "iopub.status.idle": "2021-11-17T18:53:32.375372Z",
     "shell.execute_reply": "2021-11-17T18:53:32.374962Z",
     "shell.execute_reply.started": "2021-11-17T18:04:25.840199Z"
    },
    "papermill": {
     "duration": 63.307656,
     "end_time": "2021-11-17T18:53:32.375487",
     "exception": false,
     "start_time": "2021-11-17T18:52:29.067831",
     "status": "completed"
    },
    "tags": []
   },
   "outputs": [],
   "source": [
    "from pyunpack.cli import Archive\n",
    "\n",
    "directory = '/kaggle/working/'\n",
    "Archive('/kaggle/input/kkbox-music-recommendation-challenge/train.csv.7z').extractall(directory)\n",
    "Archive('/kaggle/input/kkbox-music-recommendation-challenge/test.csv.7z').extractall(directory)\n",
    "Archive('/kaggle/input/kkbox-music-recommendation-challenge/songs.csv.7z').extractall(directory)\n",
    "Archive('/kaggle/input/kkbox-music-recommendation-challenge/members.csv.7z').extractall(directory)\n",
    "Archive('/kaggle/input/kkbox-music-recommendation-challenge/song_extra_info.csv.7z').extractall(directory)\n",
    "\n",
    "train = pd.read_csv('/kaggle/working/train.csv')\n",
    "test = pd.read_csv('/kaggle/working/test.csv')\n",
    "songs = pd.read_csv('./songs.csv')\n",
    "members = pd.read_csv('./members.csv') \n",
    "songs_extra = pd.read_csv('./song_extra_info.csv')"
   ]
  },
  {
   "cell_type": "code",
   "execution_count": 5,
   "id": "e4639682",
   "metadata": {
    "editable": false,
    "execution": {
     "iopub.execute_input": "2021-11-17T18:53:32.429659Z",
     "iopub.status.busy": "2021-11-17T18:53:32.429124Z",
     "iopub.status.idle": "2021-11-17T18:53:56.541569Z",
     "shell.execute_reply": "2021-11-17T18:53:56.540911Z",
     "shell.execute_reply.started": "2021-11-17T18:20:21.214878Z"
    },
    "papermill": {
     "duration": 24.140702,
     "end_time": "2021-11-17T18:53:56.541702",
     "exception": false,
     "start_time": "2021-11-17T18:53:32.401000",
     "status": "completed"
    },
    "tags": []
   },
   "outputs": [],
   "source": [
    "train = pd.read_csv('/kaggle/working/train.csv')\n",
    "test = pd.read_csv('/kaggle/working/test.csv')\n",
    "songs = pd.read_csv('./songs.csv', index_col='song_id')\n",
    "members = pd.read_csv('./members.csv', index_col='msno') \n",
    "songs_extra = pd.read_csv('./song_extra_info.csv', index_col='song_id')"
   ]
  },
  {
   "cell_type": "markdown",
   "id": "4f3a2407",
   "metadata": {
    "papermill": {
     "duration": 0.028736,
     "end_time": "2021-11-17T18:53:56.606144",
     "exception": false,
     "start_time": "2021-11-17T18:53:56.577408",
     "status": "completed"
    },
    "tags": []
   },
   "source": [
    "## Preprocess songs and members information"
   ]
  },
  {
   "cell_type": "markdown",
   "id": "4861b7f1",
   "metadata": {
    "papermill": {
     "duration": 0.02658,
     "end_time": "2021-11-17T18:53:56.659579",
     "exception": false,
     "start_time": "2021-11-17T18:53:56.632999",
     "status": "completed"
    },
    "tags": []
   },
   "source": [
    "Derive years on decades "
   ]
  },
  {
   "cell_type": "code",
   "execution_count": 6,
   "id": "f852de51",
   "metadata": {
    "execution": {
     "iopub.execute_input": "2021-11-17T18:53:56.715969Z",
     "iopub.status.busy": "2021-11-17T18:53:56.715253Z",
     "iopub.status.idle": "2021-11-17T18:54:01.003763Z",
     "shell.execute_reply": "2021-11-17T18:54:01.004124Z",
     "shell.execute_reply.started": "2021-11-17T18:20:50.538222Z"
    },
    "papermill": {
     "duration": 4.31787,
     "end_time": "2021-11-17T18:54:01.004283",
     "exception": false,
     "start_time": "2021-11-17T18:53:56.686413",
     "status": "completed"
    },
    "tags": []
   },
   "outputs": [],
   "source": [
    "songs_extra['year'] = songs_extra['isrc'].str[5:7]\n",
    "songs_extra['year'] = songs_extra['year'].fillna(-1).apply(int)\n",
    "songs_extra['year'] = np.where(((songs_extra['year'] > 0) & (songs_extra['year'] > 17)), songs_extra['year'] + 1900, songs_extra['year'] + 2000)\n",
    "songs_extra['decade'] = songs_extra['year'] // 10 * 10\n",
    "songs_extra['country'] = songs_extra['isrc'].str[:2]"
   ]
  },
  {
   "cell_type": "markdown",
   "id": "d5c92faa",
   "metadata": {
    "papermill": {
     "duration": 0.024938,
     "end_time": "2021-11-17T18:54:01.054571",
     "exception": false,
     "start_time": "2021-11-17T18:54:01.029633",
     "status": "completed"
    },
    "tags": []
   },
   "source": [
    "Percent of nan data in songs dataset"
   ]
  },
  {
   "cell_type": "code",
   "execution_count": 7,
   "id": "620e6ade",
   "metadata": {
    "execution": {
     "iopub.execute_input": "2021-11-17T18:54:01.109877Z",
     "iopub.status.busy": "2021-11-17T18:54:01.109229Z",
     "iopub.status.idle": "2021-11-17T18:54:01.110992Z",
     "shell.execute_reply": "2021-11-17T18:54:01.111353Z",
     "shell.execute_reply.started": "2021-11-17T18:26:24.809145Z"
    },
    "papermill": {
     "duration": 0.031698,
     "end_time": "2021-11-17T18:54:01.111471",
     "exception": false,
     "start_time": "2021-11-17T18:54:01.079773",
     "status": "completed"
    },
    "tags": []
   },
   "outputs": [],
   "source": [
    "def nan_percent(df):\n",
    "    return df.isna().sum() * 100 /df.shape[0]"
   ]
  },
  {
   "cell_type": "code",
   "execution_count": 8,
   "id": "e7ccc8ad",
   "metadata": {
    "execution": {
     "iopub.execute_input": "2021-11-17T18:54:01.166437Z",
     "iopub.status.busy": "2021-11-17T18:54:01.165938Z",
     "iopub.status.idle": "2021-11-17T18:54:02.085951Z",
     "shell.execute_reply": "2021-11-17T18:54:02.085417Z",
     "shell.execute_reply.started": "2021-11-17T18:20:53.112937Z"
    },
    "papermill": {
     "duration": 0.949413,
     "end_time": "2021-11-17T18:54:02.086056",
     "exception": false,
     "start_time": "2021-11-17T18:54:01.136643",
     "status": "completed"
    },
    "tags": []
   },
   "outputs": [
    {
     "data": {
      "text/plain": [
       "song_length     0.000000\n",
       "genre_ids       4.098558\n",
       "artist_name     0.000000\n",
       "composer       46.655257\n",
       "lyricist       84.712409\n",
       "language        0.000044\n",
       "dtype: float64"
      ]
     },
     "execution_count": 8,
     "metadata": {},
     "output_type": "execute_result"
    }
   ],
   "source": [
    "nan_percent(songs)"
   ]
  },
  {
   "cell_type": "markdown",
   "id": "e606c369",
   "metadata": {
    "papermill": {
     "duration": 0.03755,
     "end_time": "2021-11-17T18:54:02.149822",
     "exception": false,
     "start_time": "2021-11-17T18:54:02.112272",
     "status": "completed"
    },
    "tags": []
   },
   "source": [
    "Let's fill genre and langeagu NaNs as most popular genres for the specific artist. Other values as UNKNOWN"
   ]
  },
  {
   "cell_type": "code",
   "execution_count": 9,
   "id": "f16c8a76",
   "metadata": {
    "execution": {
     "iopub.execute_input": "2021-11-17T18:54:02.227572Z",
     "iopub.status.busy": "2021-11-17T18:54:02.226815Z",
     "iopub.status.idle": "2021-11-17T18:55:20.041441Z",
     "shell.execute_reply": "2021-11-17T18:55:20.041027Z",
     "shell.execute_reply.started": "2021-11-17T18:20:53.588527Z"
    },
    "papermill": {
     "duration": 77.854755,
     "end_time": "2021-11-17T18:55:20.041597",
     "exception": false,
     "start_time": "2021-11-17T18:54:02.186842",
     "status": "completed"
    },
    "tags": []
   },
   "outputs": [],
   "source": [
    "songs['genre_list'] = songs['genre_ids'].str.split('|')\n",
    "df_most_common = songs[['genre_list', 'language', 'artist_name']].groupby('artist_name').agg(pd.Series.mode)\n",
    "df_most_common = df_most_common[~df_most_common.index.duplicated(keep='first')].reset_index()\n",
    "df_most_common.columns = ['artist_name','genre_pop', 'language_pop']"
   ]
  },
  {
   "cell_type": "code",
   "execution_count": 10,
   "id": "689f2c95",
   "metadata": {
    "execution": {
     "iopub.execute_input": "2021-11-17T18:55:20.096889Z",
     "iopub.status.busy": "2021-11-17T18:55:20.096388Z",
     "iopub.status.idle": "2021-11-17T18:55:27.767261Z",
     "shell.execute_reply": "2021-11-17T18:55:27.766751Z",
     "shell.execute_reply.started": "2021-11-17T18:21:53.973260Z"
    },
    "papermill": {
     "duration": 7.698959,
     "end_time": "2021-11-17T18:55:27.767396",
     "exception": false,
     "start_time": "2021-11-17T18:55:20.068437",
     "status": "completed"
    },
    "tags": []
   },
   "outputs": [],
   "source": [
    "songs_pop = songs.reset_index().merge(df_most_common, how='left', on='artist_name')\n",
    "songs_pop['genre_list'] = songs_pop['genre_list'].fillna(songs_pop['genre_pop']) \n",
    "songs_pop['language'] = songs_pop['language'].fillna(songs_pop['language_pop'])\n",
    "songs_pop = songs_pop.fillna('UNKNOWN')\n",
    "songs = songs_pop.set_index('song_id')[['song_length', 'artist_name', 'composer', 'lyricist', 'language','genre_ids', 'genre_list']]"
   ]
  },
  {
   "cell_type": "markdown",
   "id": "7f2c5eea",
   "metadata": {
    "papermill": {
     "duration": 0.036404,
     "end_time": "2021-11-17T18:55:27.840732",
     "exception": false,
     "start_time": "2021-11-17T18:55:27.804328",
     "status": "completed"
    },
    "tags": []
   },
   "source": [
    "Let's look on dictibution of song length in train data"
   ]
  },
  {
   "cell_type": "code",
   "execution_count": 11,
   "id": "853cf458",
   "metadata": {
    "execution": {
     "iopub.execute_input": "2021-11-17T18:55:27.917452Z",
     "iopub.status.busy": "2021-11-17T18:55:27.916738Z",
     "iopub.status.idle": "2021-11-17T18:56:03.428493Z",
     "shell.execute_reply": "2021-11-17T18:56:03.427876Z",
     "shell.execute_reply.started": "2021-11-17T18:22:33.071712Z"
    },
    "papermill": {
     "duration": 35.551154,
     "end_time": "2021-11-17T18:56:03.428647",
     "exception": false,
     "start_time": "2021-11-17T18:55:27.877493",
     "status": "completed"
    },
    "tags": []
   },
   "outputs": [
    {
     "data": {
      "text/plain": [
       "<AxesSubplot:>"
      ]
     },
     "execution_count": 11,
     "metadata": {},
     "output_type": "execute_result"
    },
    {
     "data": {
      "image/png": "[encoded data removed]",
      "text/plain": [
       "<Figure size 432x288 with 1 Axes>"
      ]
     },
     "metadata": {
      "needs_background": "light"
     },
     "output_type": "display_data"
    }
   ],
   "source": [
    "train_song = train.set_index('song_id').join(songs)\n",
    "(train_song.loc[train_song.song_length < 500000]['song_length'] / 60000).hist(bins=50)"
   ]
  },
  {
   "cell_type": "markdown",
   "id": "7d458f9e",
   "metadata": {
    "papermill": {
     "duration": 0.037476,
     "end_time": "2021-11-17T18:56:03.504251",
     "exception": false,
     "start_time": "2021-11-17T18:56:03.466775",
     "status": "completed"
    },
    "tags": []
   },
   "source": [
    "The usual song length are in interval [2.5, 5.5] minutes.\n",
    "\n",
    "The other right side of the data on histogram is just decreasing tail. So, let's just random divide song length on following intervals:\n",
    "\n",
    "0. [0, 2.5]\n",
    "1. [2.5, 5.5]\n",
    "2. [5.5, 10]\n",
    "3. [10, 30]\n",
    "4. [30, 60]\n",
    "5. \\>60 \n",
    "minutes"
   ]
  },
  {
   "cell_type": "code",
   "execution_count": 12,
   "id": "313606ee",
   "metadata": {
    "execution": {
     "iopub.execute_input": "2021-11-17T18:56:03.587043Z",
     "iopub.status.busy": "2021-11-17T18:56:03.586287Z",
     "iopub.status.idle": "2021-11-17T18:56:03.865508Z",
     "shell.execute_reply": "2021-11-17T18:56:03.864514Z",
     "shell.execute_reply.started": "2021-11-17T18:23:05.166080Z"
    },
    "papermill": {
     "duration": 0.323518,
     "end_time": "2021-11-17T18:56:03.865687",
     "exception": false,
     "start_time": "2021-11-17T18:56:03.542169",
     "status": "completed"
    },
    "tags": []
   },
   "outputs": [
    {
     "data": {
      "text/plain": [
       "<AxesSubplot:>"
      ]
     },
     "execution_count": 12,
     "metadata": {},
     "output_type": "execute_result"
    },
    {
     "data": {
      "image/png": "[encoded data removed]",
      "text/plain": [
       "<Figure size 432x288 with 1 Axes>"
      ]
     },
     "metadata": {
      "needs_background": "light"
     },
     "output_type": "display_data"
    }
   ],
   "source": [
    "(train_song.loc[(train_song.song_length > 20 * 60000) & (train_song.song_length < 60 * 60000)]['song_length'] / 60000).hist(bins=30)"
   ]
  },
  {
   "cell_type": "code",
   "execution_count": 13,
   "id": "f31b2d5c",
   "metadata": {
    "execution": {
     "iopub.execute_input": "2021-11-17T18:56:03.933148Z",
     "iopub.status.busy": "2021-11-17T18:56:03.932641Z",
     "iopub.status.idle": "2021-11-17T18:56:03.989779Z",
     "shell.execute_reply": "2021-11-17T18:56:03.989325Z",
     "shell.execute_reply.started": "2021-11-17T18:23:05.473846Z"
    },
    "papermill": {
     "duration": 0.095845,
     "end_time": "2021-11-17T18:56:03.989901",
     "exception": false,
     "start_time": "2021-11-17T18:56:03.894056",
     "status": "completed"
    },
    "tags": []
   },
   "outputs": [],
   "source": [
    "condlist = [songs['song_length'] < 2.5*60000,\n",
    "            (songs['song_length']>=2.5*60000) & (songs['song_length'] < 5.5 * 60000), \n",
    "            (songs['song_length'] >= 5.5 * 60000) & (songs['song_length'] < 10 * 60000),\n",
    "            (songs['song_length'] >= 10 * 60000) & (songs['song_length'] < 30 * 60000), \n",
    "            (songs['song_length'] >= 30 * 60000) & (songs['song_length'] < 60 * 60000),\n",
    "            songs['song_length'] >= 60 * 60000]\n",
    "choicelist = list(range(0, len(condlist)))\n",
    "songs['song_length_cat'] = np.select(condlist, choicelist)"
   ]
  },
  {
   "cell_type": "code",
   "execution_count": 14,
   "id": "4ce6b351",
   "metadata": {
    "execution": {
     "iopub.execute_input": "2021-11-17T18:56:04.157929Z",
     "iopub.status.busy": "2021-11-17T18:56:04.157307Z",
     "iopub.status.idle": "2021-11-17T18:56:06.844635Z",
     "shell.execute_reply": "2021-11-17T18:56:06.843778Z",
     "shell.execute_reply.started": "2021-11-17T18:23:05.545171Z"
    },
    "papermill": {
     "duration": 2.826689,
     "end_time": "2021-11-17T18:56:06.844775",
     "exception": false,
     "start_time": "2021-11-17T18:56:04.018086",
     "status": "completed"
    },
    "tags": []
   },
   "outputs": [],
   "source": [
    "artists_num = songs.artist_name.str.split('|')\n",
    "len_artists_num = [len(x) for x in list(artists_num) if len(x) != 1 and len(x) <50]"
   ]
  },
  {
   "cell_type": "code",
   "execution_count": 15,
   "id": "f4f7f5cf",
   "metadata": {
    "execution": {
     "iopub.execute_input": "2021-11-17T18:56:06.931748Z",
     "iopub.status.busy": "2021-11-17T18:56:06.931103Z",
     "iopub.status.idle": "2021-11-17T18:56:07.484269Z",
     "shell.execute_reply": "2021-11-17T18:56:07.483796Z",
     "shell.execute_reply.started": "2021-11-17T18:23:08.659850Z"
    },
    "papermill": {
     "duration": 0.597632,
     "end_time": "2021-11-17T18:56:07.484374",
     "exception": false,
     "start_time": "2021-11-17T18:56:06.886742",
     "status": "completed"
    },
    "tags": []
   },
   "outputs": [
    {
     "data": {
      "image/png": "[encoded data removed]",
      "text/plain": [
       "<Figure size 432x288 with 1 Axes>"
      ]
     },
     "metadata": {
      "needs_background": "light"
     },
     "output_type": "display_data"
    }
   ],
   "source": [
    "from matplotlib import pyplot as plt\n",
    "\n",
    "data = len_artists_num\n",
    "\n",
    "plt.hist(data, bins=50)\n",
    "plt.title('Number of songs with more than 1 but less than 50 artists')\n",
    "plt.xlabel('number of artists')\n",
    "plt.ylabel('count')\n",
    "\n",
    "plt.show()"
   ]
  },
  {
   "cell_type": "code",
   "execution_count": 16,
   "id": "21c55240",
   "metadata": {
    "execution": {
     "iopub.execute_input": "2021-11-17T18:56:07.547578Z",
     "iopub.status.busy": "2021-11-17T18:56:07.547029Z",
     "iopub.status.idle": "2021-11-17T18:56:07.553116Z",
     "shell.execute_reply": "2021-11-17T18:56:07.552560Z",
     "shell.execute_reply.started": "2021-11-17T18:23:09.281706Z"
    },
    "papermill": {
     "duration": 0.038246,
     "end_time": "2021-11-17T18:56:07.553237",
     "exception": false,
     "start_time": "2021-11-17T18:56:07.514991",
     "status": "completed"
    },
    "tags": []
   },
   "outputs": [],
   "source": [
    "def count_series_elements(df, column_name):\n",
    "    df[column_name+'_number'] = df[column_name].str.count(r'\\|') + 1\n",
    "    df.loc[df[column_name] == 'UNKNOWN', column_name+'_number'] = 0"
   ]
  },
  {
   "cell_type": "code",
   "execution_count": 17,
   "id": "d93bcc47",
   "metadata": {
    "execution": {
     "iopub.execute_input": "2021-11-17T18:56:07.617658Z",
     "iopub.status.busy": "2021-11-17T18:56:07.615931Z",
     "iopub.status.idle": "2021-11-17T18:56:13.221682Z",
     "shell.execute_reply": "2021-11-17T18:56:13.221063Z",
     "shell.execute_reply.started": "2021-11-17T18:23:09.288997Z"
    },
    "papermill": {
     "duration": 5.63873,
     "end_time": "2021-11-17T18:56:13.221819",
     "exception": false,
     "start_time": "2021-11-17T18:56:07.583089",
     "status": "completed"
    },
    "tags": []
   },
   "outputs": [],
   "source": [
    "count_series_elements(songs, 'artist_name')\n",
    "count_series_elements(songs, 'composer')\n",
    "count_series_elements(songs, 'lyricist')\n",
    "songs['genre_number'] = songs['genre_list'].str.len()"
   ]
  },
  {
   "cell_type": "code",
   "execution_count": 18,
   "id": "cd2c2ee5",
   "metadata": {
    "execution": {
     "iopub.execute_input": "2021-11-17T18:56:13.518276Z",
     "iopub.status.busy": "2021-11-17T18:56:13.517670Z",
     "iopub.status.idle": "2021-11-17T18:56:13.620993Z",
     "shell.execute_reply": "2021-11-17T18:56:13.620427Z",
     "shell.execute_reply.started": "2021-11-17T18:27:41.798012Z"
    },
    "papermill": {
     "duration": 0.35633,
     "end_time": "2021-11-17T18:56:13.621128",
     "exception": false,
     "start_time": "2021-11-17T18:56:13.264798",
     "status": "completed"
    },
    "tags": []
   },
   "outputs": [
    {
     "data": {
      "text/plain": [
       "name       0.000087\n",
       "isrc       5.947288\n",
       "year       0.000000\n",
       "decade     0.000000\n",
       "country    5.947288\n",
       "dtype: float64"
      ]
     },
     "execution_count": 18,
     "metadata": {},
     "output_type": "execute_result"
    }
   ],
   "source": [
    "nan_percent(songs_extra)"
   ]
  },
  {
   "cell_type": "code",
   "execution_count": 19,
   "id": "b3b0f5b7",
   "metadata": {
    "execution": {
     "iopub.execute_input": "2021-11-17T18:56:14.776324Z",
     "iopub.status.busy": "2021-11-17T18:56:14.775721Z",
     "iopub.status.idle": "2021-11-17T18:56:16.442296Z",
     "shell.execute_reply": "2021-11-17T18:56:16.441799Z",
     "shell.execute_reply.started": "2021-11-17T18:25:05.348616Z"
    },
    "papermill": {
     "duration": 2.777668,
     "end_time": "2021-11-17T18:56:16.442406",
     "exception": false,
     "start_time": "2021-11-17T18:56:13.664738",
     "status": "completed"
    },
    "tags": []
   },
   "outputs": [],
   "source": [
    "songs_all = songs.join(songs_extra)"
   ]
  },
  {
   "cell_type": "code",
   "execution_count": 20,
   "id": "9b1009f2",
   "metadata": {
    "execution": {
     "iopub.execute_input": "2021-11-17T18:56:16.502359Z",
     "iopub.status.busy": "2021-11-17T18:56:16.501902Z",
     "iopub.status.idle": "2021-11-17T18:56:19.053239Z",
     "shell.execute_reply": "2021-11-17T18:56:19.052807Z",
     "shell.execute_reply.started": "2021-11-17T18:26:46.169904Z"
    },
    "papermill": {
     "duration": 2.58252,
     "end_time": "2021-11-17T18:56:19.053356",
     "exception": false,
     "start_time": "2021-11-17T18:56:16.470836",
     "status": "completed"
    },
    "tags": []
   },
   "outputs": [
    {
     "data": {
      "text/plain": [
       "song_length           0.000000\n",
       "artist_name           0.000000\n",
       "composer              0.000000\n",
       "lyricist              0.000000\n",
       "language              0.000000\n",
       "genre_ids             0.000000\n",
       "genre_list            0.000000\n",
       "song_length_cat       0.000000\n",
       "artist_name_number    0.000000\n",
       "composer_number       0.000000\n",
       "lyricist_number       0.000000\n",
       "genre_number          0.000000\n",
       "name                  0.039193\n",
       "isrc                  5.984706\n",
       "year                  0.039106\n",
       "decade                0.039106\n",
       "country               5.984706\n",
       "dtype: float64"
      ]
     },
     "execution_count": 20,
     "metadata": {},
     "output_type": "execute_result"
    }
   ],
   "source": [
    "nan_percent(songs_all)"
   ]
  },
  {
   "cell_type": "markdown",
   "id": "38ba2908",
   "metadata": {
    "papermill": {
     "duration": 0.028868,
     "end_time": "2021-11-17T18:56:19.164486",
     "exception": false,
     "start_time": "2021-11-17T18:56:19.135618",
     "status": "completed"
    },
    "tags": []
   },
   "source": [
    "Let's get rid of nan values in \"decade\" and \"country\" by choosing the most common decades and countries in artist's name"
   ]
  },
  {
   "cell_type": "code",
   "execution_count": 21,
   "id": "6c0afacf",
   "metadata": {
    "execution": {
     "iopub.execute_input": "2021-11-17T18:56:19.224460Z",
     "iopub.status.busy": "2021-11-17T18:56:19.224023Z",
     "iopub.status.idle": "2021-11-17T18:57:21.539787Z",
     "shell.execute_reply": "2021-11-17T18:57:21.539211Z",
     "shell.execute_reply.started": "2021-11-17T18:41:43.759529Z"
    },
    "papermill": {
     "duration": 62.347189,
     "end_time": "2021-11-17T18:57:21.539919",
     "exception": false,
     "start_time": "2021-11-17T18:56:19.192730",
     "status": "completed"
    },
    "tags": []
   },
   "outputs": [],
   "source": [
    "df_most_common = songs_all[['decade', 'country', 'artist_name']].groupby('artist_name').agg(pd.Series.mode)\n",
    "df_most_common = df_most_common[~df_most_common.index.duplicated(keep='first')].reset_index()\n",
    "df_most_common.columns = ['artist_name','decade_pop', 'country_pop']"
   ]
  },
  {
   "cell_type": "code",
   "execution_count": 22,
   "id": "6da96945",
   "metadata": {
    "execution": {
     "iopub.execute_input": "2021-11-17T18:57:21.627188Z",
     "iopub.status.busy": "2021-11-17T18:57:21.625313Z",
     "iopub.status.idle": "2021-11-17T18:57:29.979659Z",
     "shell.execute_reply": "2021-11-17T18:57:29.979120Z",
     "shell.execute_reply.started": "2021-11-17T18:42:45.284105Z"
    },
    "papermill": {
     "duration": 8.398633,
     "end_time": "2021-11-17T18:57:29.979826",
     "exception": false,
     "start_time": "2021-11-17T18:57:21.581193",
     "status": "completed"
    },
    "tags": []
   },
   "outputs": [],
   "source": [
    "songs_pop = songs_all.reset_index().merge(df_most_common, how='left', on='artist_name')\n",
    "songs_pop['decade'] = songs_pop['decade'].fillna(songs_pop['decade_pop']) \n",
    "songs_pop['country'] = songs_pop['country'].fillna(songs_pop['country_pop'])\n",
    "songs_pop = songs_pop.fillna('UNKNOWN')"
   ]
  },
  {
   "cell_type": "code",
   "execution_count": 23,
   "id": "a3b018f8",
   "metadata": {
    "execution": {
     "iopub.execute_input": "2021-11-17T18:57:30.067423Z",
     "iopub.status.busy": "2021-11-17T18:57:30.066853Z",
     "iopub.status.idle": "2021-11-17T18:57:33.051129Z",
     "shell.execute_reply": "2021-11-17T18:57:33.050566Z",
     "shell.execute_reply.started": "2021-11-17T18:45:51.597719Z"
    },
    "papermill": {
     "duration": 3.027727,
     "end_time": "2021-11-17T18:57:33.051256",
     "exception": false,
     "start_time": "2021-11-17T18:57:30.023529",
     "status": "completed"
    },
    "tags": []
   },
   "outputs": [],
   "source": [
    "songs_all = songs_pop.set_index('song_id')[['song_length', 'artist_name','composer', 'lyricist', 'language', 'genre_list', \n",
    "                                            'song_length_cat', 'artist_name_number', 'composer_number', 'lyricist_number', \n",
    "                                            'genre_number', 'name', 'decade', 'country']]"
   ]
  },
  {
   "cell_type": "markdown",
   "id": "5bcaf923",
   "metadata": {
    "papermill": {
     "duration": 0.043226,
     "end_time": "2021-11-17T18:57:33.137269",
     "exception": false,
     "start_time": "2021-11-17T18:57:33.094043",
     "status": "completed"
    },
    "tags": []
   },
   "source": [
    "### Final songs data"
   ]
  },
  {
   "cell_type": "code",
   "execution_count": 24,
   "id": "ed0a95fb",
   "metadata": {
    "execution": {
     "iopub.execute_input": "2021-11-17T18:57:33.232505Z",
     "iopub.status.busy": "2021-11-17T18:57:33.231662Z",
     "iopub.status.idle": "2021-11-17T18:57:33.257484Z",
     "shell.execute_reply": "2021-11-17T18:57:33.257981Z",
     "shell.execute_reply.started": "2021-11-17T18:45:59.686619Z"
    },
    "papermill": {
     "duration": 0.077304,
     "end_time": "2021-11-17T18:57:33.258134",
     "exception": false,
     "start_time": "2021-11-17T18:57:33.180830",
     "status": "completed"
    },
    "tags": []
   },
   "outputs": [
    {
     "data": {
      "text/html": [
       "<div>\n",
       "<style scoped>\n",
       "    .dataframe tbody tr th:only-of-type {\n",
       "        vertical-align: middle;\n",
       "    }\n",
       "\n",
       "    .dataframe tbody tr th {\n",
       "        vertical-align: top;\n",
       "    }\n",
       "\n",
       "    .dataframe thead th {\n",
       "        text-align: right;\n",
       "    }\n",
       "</style>\n",
       "<table border=\"1\" class=\"dataframe\">\n",
       "  <thead>\n",
       "    <tr style=\"text-align: right;\">\n",
       "      <th></th>\n",
       "      <th>song_length</th>\n",
       "      <th>artist_name</th>\n",
       "      <th>composer</th>\n",
       "      <th>lyricist</th>\n",
       "      <th>language</th>\n",
       "      <th>genre_list</th>\n",
       "      <th>song_length_cat</th>\n",
       "      <th>artist_name_number</th>\n",
       "      <th>composer_number</th>\n",
       "      <th>lyricist_number</th>\n",
       "      <th>genre_number</th>\n",
       "      <th>name</th>\n",
       "      <th>decade</th>\n",
       "      <th>country</th>\n",
       "    </tr>\n",
       "    <tr>\n",
       "      <th>song_id</th>\n",
       "      <th></th>\n",
       "      <th></th>\n",
       "      <th></th>\n",
       "      <th></th>\n",
       "      <th></th>\n",
       "      <th></th>\n",
       "      <th></th>\n",
       "      <th></th>\n",
       "      <th></th>\n",
       "      <th></th>\n",
       "      <th></th>\n",
       "      <th></th>\n",
       "      <th></th>\n",
       "      <th></th>\n",
       "    </tr>\n",
       "  </thead>\n",
       "  <tbody>\n",
       "    <tr>\n",
       "      <th>CXoTN1eb7AI+DntdU1vbcwGRV4SCIDxZu+YD8JP8r4E=</th>\n",
       "      <td>247640</td>\n",
       "      <td>張信哲 (Jeff Chang)</td>\n",
       "      <td>董貞</td>\n",
       "      <td>何啟弘</td>\n",
       "      <td>3.0</td>\n",
       "      <td>[465]</td>\n",
       "      <td>1</td>\n",
       "      <td>1</td>\n",
       "      <td>1</td>\n",
       "      <td>1</td>\n",
       "      <td>1</td>\n",
       "      <td>焚情</td>\n",
       "      <td>2010.0</td>\n",
       "      <td>TW</td>\n",
       "    </tr>\n",
       "    <tr>\n",
       "      <th>o0kFgae9QtnYgRkVPqLJwa05zIhRlUjfF7O1tDw0ZDU=</th>\n",
       "      <td>197328</td>\n",
       "      <td>BLACKPINK</td>\n",
       "      <td>TEDDY|  FUTURE BOUNCE|  Bekuh BOOM</td>\n",
       "      <td>TEDDY</td>\n",
       "      <td>31.0</td>\n",
       "      <td>[444]</td>\n",
       "      <td>1</td>\n",
       "      <td>1</td>\n",
       "      <td>3</td>\n",
       "      <td>1</td>\n",
       "      <td>1</td>\n",
       "      <td>PLAYING WITH FIRE</td>\n",
       "      <td>1990.0</td>\n",
       "      <td>TW</td>\n",
       "    </tr>\n",
       "    <tr>\n",
       "      <th>DwVvVurfpuz+XPuFvucclVQEyPqcpUkHR0ne1RQzPs0=</th>\n",
       "      <td>231781</td>\n",
       "      <td>SUPER JUNIOR</td>\n",
       "      <td>UNKNOWN</td>\n",
       "      <td>UNKNOWN</td>\n",
       "      <td>31.0</td>\n",
       "      <td>[465]</td>\n",
       "      <td>1</td>\n",
       "      <td>1</td>\n",
       "      <td>0</td>\n",
       "      <td>0</td>\n",
       "      <td>1</td>\n",
       "      <td>SORRY| SORRY</td>\n",
       "      <td>1990.0</td>\n",
       "      <td>KR</td>\n",
       "    </tr>\n",
       "    <tr>\n",
       "      <th>dKMBWoZyScdxSkihKG+Vf47nc18N9q4m58+b4e7dSSE=</th>\n",
       "      <td>273554</td>\n",
       "      <td>S.H.E</td>\n",
       "      <td>湯小康</td>\n",
       "      <td>徐世珍</td>\n",
       "      <td>3.0</td>\n",
       "      <td>[465]</td>\n",
       "      <td>1</td>\n",
       "      <td>1</td>\n",
       "      <td>1</td>\n",
       "      <td>1</td>\n",
       "      <td>1</td>\n",
       "      <td>愛我的資格</td>\n",
       "      <td>2000.0</td>\n",
       "      <td>TW</td>\n",
       "    </tr>\n",
       "    <tr>\n",
       "      <th>W3bqWd3T+VeHFzHAUfARgW9AvVRaF4N5Yzm4Mr6Eo/o=</th>\n",
       "      <td>140329</td>\n",
       "      <td>貴族精選</td>\n",
       "      <td>Traditional</td>\n",
       "      <td>Traditional</td>\n",
       "      <td>52.0</td>\n",
       "      <td>[726]</td>\n",
       "      <td>0</td>\n",
       "      <td>1</td>\n",
       "      <td>1</td>\n",
       "      <td>1</td>\n",
       "      <td>1</td>\n",
       "      <td>Mary Had a Little Lamb</td>\n",
       "      <td>1990.0</td>\n",
       "      <td>GB</td>\n",
       "    </tr>\n",
       "    <tr>\n",
       "      <th>...</th>\n",
       "      <td>...</td>\n",
       "      <td>...</td>\n",
       "      <td>...</td>\n",
       "      <td>...</td>\n",
       "      <td>...</td>\n",
       "      <td>...</td>\n",
       "      <td>...</td>\n",
       "      <td>...</td>\n",
       "      <td>...</td>\n",
       "      <td>...</td>\n",
       "      <td>...</td>\n",
       "      <td>...</td>\n",
       "      <td>...</td>\n",
       "      <td>...</td>\n",
       "    </tr>\n",
       "    <tr>\n",
       "      <th>lg6rn7eV/ZNg0+P+x77kHUL7GDMfoL4eMtXxncseLNA=</th>\n",
       "      <td>20192</td>\n",
       "      <td>Catherine Collard</td>\n",
       "      <td>Robert Schumann (1810-1856)</td>\n",
       "      <td>UNKNOWN</td>\n",
       "      <td>-1.0</td>\n",
       "      <td>[958]</td>\n",
       "      <td>0</td>\n",
       "      <td>1</td>\n",
       "      <td>1</td>\n",
       "      <td>0</td>\n",
       "      <td>1</td>\n",
       "      <td>Schumann: Papillons| Op. 2: II. Prestissimo</td>\n",
       "      <td>1970.0</td>\n",
       "      <td>FR</td>\n",
       "    </tr>\n",
       "    <tr>\n",
       "      <th>nXi1lrSJe+gLoTTNky7If0mNPrIyCQCLwagwR6XopGU=</th>\n",
       "      <td>273391</td>\n",
       "      <td>紀文惠 (Justine Chi)</td>\n",
       "      <td>UNKNOWN</td>\n",
       "      <td>UNKNOWN</td>\n",
       "      <td>3.0</td>\n",
       "      <td>[465]</td>\n",
       "      <td>1</td>\n",
       "      <td>1</td>\n",
       "      <td>0</td>\n",
       "      <td>0</td>\n",
       "      <td>1</td>\n",
       "      <td>怎麼啦</td>\n",
       "      <td>2010.0</td>\n",
       "      <td>TW</td>\n",
       "    </tr>\n",
       "    <tr>\n",
       "      <th>9KxSvIjbJyJzfEVWnkMbgR6dyn6d54ot0N5FKyKqii8=</th>\n",
       "      <td>445172</td>\n",
       "      <td>Various Artists</td>\n",
       "      <td>UNKNOWN</td>\n",
       "      <td>UNKNOWN</td>\n",
       "      <td>52.0</td>\n",
       "      <td>[1609]</td>\n",
       "      <td>2</td>\n",
       "      <td>1</td>\n",
       "      <td>0</td>\n",
       "      <td>0</td>\n",
       "      <td>1</td>\n",
       "      <td>Still Here</td>\n",
       "      <td>2010.0</td>\n",
       "      <td>DE</td>\n",
       "    </tr>\n",
       "    <tr>\n",
       "      <th>UO8Y2MR2sjOn2q/Tp8/lzZTGKmLEvwZ20oWanG4XnYc=</th>\n",
       "      <td>172669</td>\n",
       "      <td>Peter Paul &amp; Mary</td>\n",
       "      <td>UNKNOWN</td>\n",
       "      <td>UNKNOWN</td>\n",
       "      <td>52.0</td>\n",
       "      <td>[465]</td>\n",
       "      <td>1</td>\n",
       "      <td>1</td>\n",
       "      <td>0</td>\n",
       "      <td>0</td>\n",
       "      <td>1</td>\n",
       "      <td>If I Had My Way</td>\n",
       "      <td>1990.0</td>\n",
       "      <td>US</td>\n",
       "    </tr>\n",
       "    <tr>\n",
       "      <th>V/9qPSUOGT0FeIGBhDIZRRz5Y5yyjdXC2Z/+bJExo5s=</th>\n",
       "      <td>270466</td>\n",
       "      <td>Kim Robertson</td>\n",
       "      <td>UNKNOWN</td>\n",
       "      <td>UNKNOWN</td>\n",
       "      <td>52.0</td>\n",
       "      <td>[829]</td>\n",
       "      <td>1</td>\n",
       "      <td>1</td>\n",
       "      <td>0</td>\n",
       "      <td>0</td>\n",
       "      <td>1</td>\n",
       "      <td>The Water Is Wide/ Shall We Gather at the River?</td>\n",
       "      <td>2000.0</td>\n",
       "      <td>US</td>\n",
       "    </tr>\n",
       "  </tbody>\n",
       "</table>\n",
       "<p>2296320 rows × 14 columns</p>\n",
       "</div>"
      ],
      "text/plain": [
       "                                              song_length        artist_name  \\\n",
       "song_id                                                                        \n",
       "CXoTN1eb7AI+DntdU1vbcwGRV4SCIDxZu+YD8JP8r4E=       247640   張信哲 (Jeff Chang)   \n",
       "o0kFgae9QtnYgRkVPqLJwa05zIhRlUjfF7O1tDw0ZDU=       197328          BLACKPINK   \n",
       "DwVvVurfpuz+XPuFvucclVQEyPqcpUkHR0ne1RQzPs0=       231781       SUPER JUNIOR   \n",
       "dKMBWoZyScdxSkihKG+Vf47nc18N9q4m58+b4e7dSSE=       273554              S.H.E   \n",
       "W3bqWd3T+VeHFzHAUfARgW9AvVRaF4N5Yzm4Mr6Eo/o=       140329               貴族精選   \n",
       "...                                                   ...                ...   \n",
       "lg6rn7eV/ZNg0+P+x77kHUL7GDMfoL4eMtXxncseLNA=        20192  Catherine Collard   \n",
       "nXi1lrSJe+gLoTTNky7If0mNPrIyCQCLwagwR6XopGU=       273391  紀文惠 (Justine Chi)   \n",
       "9KxSvIjbJyJzfEVWnkMbgR6dyn6d54ot0N5FKyKqii8=       445172    Various Artists   \n",
       "UO8Y2MR2sjOn2q/Tp8/lzZTGKmLEvwZ20oWanG4XnYc=       172669  Peter Paul & Mary   \n",
       "V/9qPSUOGT0FeIGBhDIZRRz5Y5yyjdXC2Z/+bJExo5s=       270466      Kim Robertson   \n",
       "\n",
       "                                                                        composer  \\\n",
       "song_id                                                                            \n",
       "CXoTN1eb7AI+DntdU1vbcwGRV4SCIDxZu+YD8JP8r4E=                                  董貞   \n",
       "o0kFgae9QtnYgRkVPqLJwa05zIhRlUjfF7O1tDw0ZDU=  TEDDY|  FUTURE BOUNCE|  Bekuh BOOM   \n",
       "DwVvVurfpuz+XPuFvucclVQEyPqcpUkHR0ne1RQzPs0=                             UNKNOWN   \n",
       "dKMBWoZyScdxSkihKG+Vf47nc18N9q4m58+b4e7dSSE=                                 湯小康   \n",
       "W3bqWd3T+VeHFzHAUfARgW9AvVRaF4N5Yzm4Mr6Eo/o=                         Traditional   \n",
       "...                                                                          ...   \n",
       "lg6rn7eV/ZNg0+P+x77kHUL7GDMfoL4eMtXxncseLNA=         Robert Schumann (1810-1856)   \n",
       "nXi1lrSJe+gLoTTNky7If0mNPrIyCQCLwagwR6XopGU=                             UNKNOWN   \n",
       "9KxSvIjbJyJzfEVWnkMbgR6dyn6d54ot0N5FKyKqii8=                             UNKNOWN   \n",
       "UO8Y2MR2sjOn2q/Tp8/lzZTGKmLEvwZ20oWanG4XnYc=                             UNKNOWN   \n",
       "V/9qPSUOGT0FeIGBhDIZRRz5Y5yyjdXC2Z/+bJExo5s=                             UNKNOWN   \n",
       "\n",
       "                                                 lyricist  language  \\\n",
       "song_id                                                               \n",
       "CXoTN1eb7AI+DntdU1vbcwGRV4SCIDxZu+YD8JP8r4E=          何啟弘       3.0   \n",
       "o0kFgae9QtnYgRkVPqLJwa05zIhRlUjfF7O1tDw0ZDU=        TEDDY      31.0   \n",
       "DwVvVurfpuz+XPuFvucclVQEyPqcpUkHR0ne1RQzPs0=      UNKNOWN      31.0   \n",
       "dKMBWoZyScdxSkihKG+Vf47nc18N9q4m58+b4e7dSSE=          徐世珍       3.0   \n",
       "W3bqWd3T+VeHFzHAUfARgW9AvVRaF4N5Yzm4Mr6Eo/o=  Traditional      52.0   \n",
       "...                                                   ...       ...   \n",
       "lg6rn7eV/ZNg0+P+x77kHUL7GDMfoL4eMtXxncseLNA=      UNKNOWN      -1.0   \n",
       "nXi1lrSJe+gLoTTNky7If0mNPrIyCQCLwagwR6XopGU=      UNKNOWN       3.0   \n",
       "9KxSvIjbJyJzfEVWnkMbgR6dyn6d54ot0N5FKyKqii8=      UNKNOWN      52.0   \n",
       "UO8Y2MR2sjOn2q/Tp8/lzZTGKmLEvwZ20oWanG4XnYc=      UNKNOWN      52.0   \n",
       "V/9qPSUOGT0FeIGBhDIZRRz5Y5yyjdXC2Z/+bJExo5s=      UNKNOWN      52.0   \n",
       "\n",
       "                                             genre_list  song_length_cat  \\\n",
       "song_id                                                                    \n",
       "CXoTN1eb7AI+DntdU1vbcwGRV4SCIDxZu+YD8JP8r4E=      [465]                1   \n",
       "o0kFgae9QtnYgRkVPqLJwa05zIhRlUjfF7O1tDw0ZDU=      [444]                1   \n",
       "DwVvVurfpuz+XPuFvucclVQEyPqcpUkHR0ne1RQzPs0=      [465]                1   \n",
       "dKMBWoZyScdxSkihKG+Vf47nc18N9q4m58+b4e7dSSE=      [465]                1   \n",
       "W3bqWd3T+VeHFzHAUfARgW9AvVRaF4N5Yzm4Mr6Eo/o=      [726]                0   \n",
       "...                                                 ...              ...   \n",
       "lg6rn7eV/ZNg0+P+x77kHUL7GDMfoL4eMtXxncseLNA=      [958]                0   \n",
       "nXi1lrSJe+gLoTTNky7If0mNPrIyCQCLwagwR6XopGU=      [465]                1   \n",
       "9KxSvIjbJyJzfEVWnkMbgR6dyn6d54ot0N5FKyKqii8=     [1609]                2   \n",
       "UO8Y2MR2sjOn2q/Tp8/lzZTGKmLEvwZ20oWanG4XnYc=      [465]                1   \n",
       "V/9qPSUOGT0FeIGBhDIZRRz5Y5yyjdXC2Z/+bJExo5s=      [829]                1   \n",
       "\n",
       "                                              artist_name_number  \\\n",
       "song_id                                                            \n",
       "CXoTN1eb7AI+DntdU1vbcwGRV4SCIDxZu+YD8JP8r4E=                   1   \n",
       "o0kFgae9QtnYgRkVPqLJwa05zIhRlUjfF7O1tDw0ZDU=                   1   \n",
       "DwVvVurfpuz+XPuFvucclVQEyPqcpUkHR0ne1RQzPs0=                   1   \n",
       "dKMBWoZyScdxSkihKG+Vf47nc18N9q4m58+b4e7dSSE=                   1   \n",
       "W3bqWd3T+VeHFzHAUfARgW9AvVRaF4N5Yzm4Mr6Eo/o=                   1   \n",
       "...                                                          ...   \n",
       "lg6rn7eV/ZNg0+P+x77kHUL7GDMfoL4eMtXxncseLNA=                   1   \n",
       "nXi1lrSJe+gLoTTNky7If0mNPrIyCQCLwagwR6XopGU=                   1   \n",
       "9KxSvIjbJyJzfEVWnkMbgR6dyn6d54ot0N5FKyKqii8=                   1   \n",
       "UO8Y2MR2sjOn2q/Tp8/lzZTGKmLEvwZ20oWanG4XnYc=                   1   \n",
       "V/9qPSUOGT0FeIGBhDIZRRz5Y5yyjdXC2Z/+bJExo5s=                   1   \n",
       "\n",
       "                                              composer_number  \\\n",
       "song_id                                                         \n",
       "CXoTN1eb7AI+DntdU1vbcwGRV4SCIDxZu+YD8JP8r4E=                1   \n",
       "o0kFgae9QtnYgRkVPqLJwa05zIhRlUjfF7O1tDw0ZDU=                3   \n",
       "DwVvVurfpuz+XPuFvucclVQEyPqcpUkHR0ne1RQzPs0=                0   \n",
       "dKMBWoZyScdxSkihKG+Vf47nc18N9q4m58+b4e7dSSE=                1   \n",
       "W3bqWd3T+VeHFzHAUfARgW9AvVRaF4N5Yzm4Mr6Eo/o=                1   \n",
       "...                                                       ...   \n",
       "lg6rn7eV/ZNg0+P+x77kHUL7GDMfoL4eMtXxncseLNA=                1   \n",
       "nXi1lrSJe+gLoTTNky7If0mNPrIyCQCLwagwR6XopGU=                0   \n",
       "9KxSvIjbJyJzfEVWnkMbgR6dyn6d54ot0N5FKyKqii8=                0   \n",
       "UO8Y2MR2sjOn2q/Tp8/lzZTGKmLEvwZ20oWanG4XnYc=                0   \n",
       "V/9qPSUOGT0FeIGBhDIZRRz5Y5yyjdXC2Z/+bJExo5s=                0   \n",
       "\n",
       "                                              lyricist_number  genre_number  \\\n",
       "song_id                                                                       \n",
       "CXoTN1eb7AI+DntdU1vbcwGRV4SCIDxZu+YD8JP8r4E=                1             1   \n",
       "o0kFgae9QtnYgRkVPqLJwa05zIhRlUjfF7O1tDw0ZDU=                1             1   \n",
       "DwVvVurfpuz+XPuFvucclVQEyPqcpUkHR0ne1RQzPs0=                0             1   \n",
       "dKMBWoZyScdxSkihKG+Vf47nc18N9q4m58+b4e7dSSE=                1             1   \n",
       "W3bqWd3T+VeHFzHAUfARgW9AvVRaF4N5Yzm4Mr6Eo/o=                1             1   \n",
       "...                                                       ...           ...   \n",
       "lg6rn7eV/ZNg0+P+x77kHUL7GDMfoL4eMtXxncseLNA=                0             1   \n",
       "nXi1lrSJe+gLoTTNky7If0mNPrIyCQCLwagwR6XopGU=                0             1   \n",
       "9KxSvIjbJyJzfEVWnkMbgR6dyn6d54ot0N5FKyKqii8=                0             1   \n",
       "UO8Y2MR2sjOn2q/Tp8/lzZTGKmLEvwZ20oWanG4XnYc=                0             1   \n",
       "V/9qPSUOGT0FeIGBhDIZRRz5Y5yyjdXC2Z/+bJExo5s=                0             1   \n",
       "\n",
       "                                                                                          name  \\\n",
       "song_id                                                                                          \n",
       "CXoTN1eb7AI+DntdU1vbcwGRV4SCIDxZu+YD8JP8r4E=                                                焚情   \n",
       "o0kFgae9QtnYgRkVPqLJwa05zIhRlUjfF7O1tDw0ZDU=                                 PLAYING WITH FIRE   \n",
       "DwVvVurfpuz+XPuFvucclVQEyPqcpUkHR0ne1RQzPs0=                                      SORRY| SORRY   \n",
       "dKMBWoZyScdxSkihKG+Vf47nc18N9q4m58+b4e7dSSE=                                             愛我的資格   \n",
       "W3bqWd3T+VeHFzHAUfARgW9AvVRaF4N5Yzm4Mr6Eo/o=                            Mary Had a Little Lamb   \n",
       "...                                                                                        ...   \n",
       "lg6rn7eV/ZNg0+P+x77kHUL7GDMfoL4eMtXxncseLNA=       Schumann: Papillons| Op. 2: II. Prestissimo   \n",
       "nXi1lrSJe+gLoTTNky7If0mNPrIyCQCLwagwR6XopGU=                                               怎麼啦   \n",
       "9KxSvIjbJyJzfEVWnkMbgR6dyn6d54ot0N5FKyKqii8=                                        Still Here   \n",
       "UO8Y2MR2sjOn2q/Tp8/lzZTGKmLEvwZ20oWanG4XnYc=                                   If I Had My Way   \n",
       "V/9qPSUOGT0FeIGBhDIZRRz5Y5yyjdXC2Z/+bJExo5s=  The Water Is Wide/ Shall We Gather at the River?   \n",
       "\n",
       "                                              decade country  \n",
       "song_id                                                       \n",
       "CXoTN1eb7AI+DntdU1vbcwGRV4SCIDxZu+YD8JP8r4E=  2010.0      TW  \n",
       "o0kFgae9QtnYgRkVPqLJwa05zIhRlUjfF7O1tDw0ZDU=  1990.0      TW  \n",
       "DwVvVurfpuz+XPuFvucclVQEyPqcpUkHR0ne1RQzPs0=  1990.0      KR  \n",
       "dKMBWoZyScdxSkihKG+Vf47nc18N9q4m58+b4e7dSSE=  2000.0      TW  \n",
       "W3bqWd3T+VeHFzHAUfARgW9AvVRaF4N5Yzm4Mr6Eo/o=  1990.0      GB  \n",
       "...                                              ...     ...  \n",
       "lg6rn7eV/ZNg0+P+x77kHUL7GDMfoL4eMtXxncseLNA=  1970.0      FR  \n",
       "nXi1lrSJe+gLoTTNky7If0mNPrIyCQCLwagwR6XopGU=  2010.0      TW  \n",
       "9KxSvIjbJyJzfEVWnkMbgR6dyn6d54ot0N5FKyKqii8=  2010.0      DE  \n",
       "UO8Y2MR2sjOn2q/Tp8/lzZTGKmLEvwZ20oWanG4XnYc=  1990.0      US  \n",
       "V/9qPSUOGT0FeIGBhDIZRRz5Y5yyjdXC2Z/+bJExo5s=  2000.0      US  \n",
       "\n",
       "[2296320 rows x 14 columns]"
      ]
     },
     "execution_count": 24,
     "metadata": {},
     "output_type": "execute_result"
    }
   ],
   "source": [
    "songs_all"
   ]
  },
  {
   "cell_type": "code",
   "execution_count": 25,
   "id": "0db599be",
   "metadata": {
    "execution": {
     "iopub.execute_input": "2021-11-17T18:57:33.346454Z",
     "iopub.status.busy": "2021-11-17T18:57:33.345872Z",
     "iopub.status.idle": "2021-11-17T18:57:34.413918Z",
     "shell.execute_reply": "2021-11-17T18:57:34.414479Z",
     "shell.execute_reply.started": "2021-11-17T18:46:11.285608Z"
    },
    "papermill": {
     "duration": 1.114619,
     "end_time": "2021-11-17T18:57:34.414653",
     "exception": false,
     "start_time": "2021-11-17T18:57:33.300034",
     "status": "completed"
    },
    "tags": []
   },
   "outputs": [
    {
     "data": {
      "text/plain": [
       "song_length           0.0\n",
       "artist_name           0.0\n",
       "composer              0.0\n",
       "lyricist              0.0\n",
       "language              0.0\n",
       "genre_list            0.0\n",
       "song_length_cat       0.0\n",
       "artist_name_number    0.0\n",
       "composer_number       0.0\n",
       "lyricist_number       0.0\n",
       "genre_number          0.0\n",
       "name                  0.0\n",
       "decade                0.0\n",
       "country               0.0\n",
       "dtype: float64"
      ]
     },
     "execution_count": 25,
     "metadata": {},
     "output_type": "execute_result"
    }
   ],
   "source": [
    "nan_percent(songs_all)"
   ]
  }
 ],
 "metadata": {
  "kernelspec": {
   "display_name": "Python 3",
   "language": "python",
   "name": "python3"
  },
  "language_info": {
   "codemirror_mode": {
    "name": "ipython",
    "version": 3
   },
   "file_extension": ".py",
   "mimetype": "text/x-python",
   "name": "python",
   "nbconvert_exporter": "python",
   "pygments_lexer": "ipython3",
   "version": "3.7.10"
  },
  "papermill": {
   "default_parameters": {},
   "duration": 340.550121,
   "end_time": "2021-11-17T18:57:37.065219",
   "environment_variables": {},
   "exception": null,
   "input_path": "__notebook__.ipynb",
   "output_path": "__notebook__.ipynb",
   "parameters": {},
   "start_time": "2021-11-17T18:51:56.515098",
   "version": "2.3.3"
  }
 },
 "nbformat": 4,
 "nbformat_minor": 5
}
