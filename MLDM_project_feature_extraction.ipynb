{
  "nbformat": 4,
  "nbformat_minor": 0,
  "metadata": {
    "colab": {
      "name": "MLDM_project_feature_extraction",
      "provenance": [],
      "collapsed_sections": [
        "cI9eQkZop0GH",
        "3-Kyt9FmtYXl",
        "Kg60QOWoUqlF",
        "2HYOV-lAU2HN",
        "siGam-4UU2HQ"
      ],
      "toc_visible": true
    },
    "kernelspec": {
      "display_name": "Python 3",
      "name": "python3"
    },
    "language_info": {
      "name": "python"
    }
  },
  "cells": [
    {
      "cell_type": "markdown",
      "metadata": {
        "id": "JvzS6iymVPn3"
      },
      "source": [
        "# Loading data"
      ]
    },
    {
      "cell_type": "code",
      "metadata": {
        "id": "2HD7skS6e-iL"
      },
      "source": [
        "import numpy as np\n",
        "import pandas as pd\n",
        "import matplotlib.pyplot as plt\n",
        "import seaborn as sns"
      ],
      "execution_count": 1,
      "outputs": []
    },
    {
      "cell_type": "code",
      "metadata": {
        "colab": {
          "base_uri": "https://localhost:8080/"
        },
        "id": "SPWCxd45VcTv",
        "outputId": "b947fc9e-d03e-481a-df31-e21b2d6ab3b4"
      },
      "source": [
        "from google.colab import drive\n",
        "drive.mount('/content/drive')"
      ],
      "execution_count": 2,
      "outputs": [
        {
          "output_type": "stream",
          "name": "stdout",
          "text": [
            "Drive already mounted at /content/drive; to attempt to forcibly remount, call drive.mount(\"/content/drive\", force_remount=True).\n"
          ]
        }
      ]
    },
    {
      "cell_type": "code",
      "metadata": {
        "id": "Gx-7NM1ucz3E"
      },
      "source": [
        "directory = '/content/drive/MyDrive/MLDM_project_data/'"
      ],
      "execution_count": 3,
      "outputs": []
    },
    {
      "cell_type": "markdown",
      "metadata": {
        "id": "h1yw0pZBW7gY"
      },
      "source": [
        "Uncomment if using for the first time"
      ]
    },
    {
      "cell_type": "code",
      "metadata": {
        "id": "bwedKOMsV2i_"
      },
      "source": [
        "# !pip install pyunpack\n",
        "# !pip install patool\n",
        "\n",
        "# from pyunpack.cli import Archive\n",
        "\n",
        "# \n",
        "# Archive(directory + 'train.csv.7z').extractall(directory)\n",
        "# Archive(directory + 'test.csv.7z').extractall(directory)\n",
        "# Archive(directory + 'songs.csv.7z').extractall(directory)\n",
        "# Archive(directory + 'members.csv.7z').extractall(directory)\n",
        "# Archive(directory +'song_extra_info.csv.7z').extractall(directory)"
      ],
      "execution_count": null,
      "outputs": []
    },
    {
      "cell_type": "code",
      "metadata": {
        "id": "llJLHHjRfYxG"
      },
      "source": [
        "songs = pd.read_csv(directory + 'songs.csv', index_col='song_id')\n",
        "members = pd.read_csv(directory  + 'members.csv', parse_dates=['registration_init_time', 'expiration_date'])\n",
        "songs_extra = pd.read_csv(directory  + 'song_extra_info.csv', index_col='song_id')\n",
        "train = pd.read_csv(directory + 'train.csv')\n",
        "test = pd.read_csv(directory + 'test.csv')"
      ],
      "execution_count": null,
      "outputs": []
    },
    {
      "cell_type": "markdown",
      "metadata": {
        "id": "2wcep9s4NecE"
      },
      "source": [
        "# Feature engineering"
      ]
    },
    {
      "cell_type": "markdown",
      "metadata": {
        "id": "GwMco4jHA2Kj"
      },
      "source": [
        "## FE before merging"
      ]
    },
    {
      "cell_type": "markdown",
      "metadata": {
        "id": "FhsnC6nFvNFU"
      },
      "source": [
        "### FE for source... stuff"
      ]
    },
    {
      "cell_type": "code",
      "metadata": {
        "colab": {
          "base_uri": "https://localhost:8080/"
        },
        "id": "XkizRMb5at9h",
        "outputId": "027a2f93-4e91-49f5-a109-2c0683031690"
      },
      "source": [
        "print('Train\\n', train['source_screen_name'].nunique(), train['source_screen_name'].unique())\n",
        "print('Test\\n', test['source_screen_name'].nunique(), test['source_screen_name'].unique())\n",
        "print('Labels not presented in train\\n', set(train['source_screen_name'].unique()) ^ set(test['source_screen_name'].unique()))"
      ],
      "execution_count": null,
      "outputs": [
        {
          "name": "stdout",
          "output_type": "stream",
          "text": [
            "Train\n",
            " 20 ['Explore' 'Local playlist more' nan 'My library' 'Online playlist more'\n",
            " 'Album more' 'Discover Feature' 'Unknown' 'Discover Chart' 'Radio'\n",
            " 'Artist more' 'Search' 'Others profile more' 'Search Trends'\n",
            " 'Discover Genre' 'My library_Search' 'Search Home' 'Discover New'\n",
            " 'Self profile more' 'Concert' 'Payment']\n",
            "Test\n",
            " 22 ['Local playlist more' nan 'Radio' 'Online playlist more' 'Artist more'\n",
            " 'Discover Genre' 'Album more' 'Discover Chart' 'Discover Feature'\n",
            " 'Search' 'Unknown' 'Explore' 'Others profile more' 'My library'\n",
            " 'My library_Search' 'Search Trends' 'Discover New' 'Search Home'\n",
            " 'Payment' 'Self profile more' 'People local' 'Concert' 'People global']\n",
            "Labels not presented in train\n",
            " {'People global', 'People local'}\n"
          ]
        }
      ]
    },
    {
      "cell_type": "code",
      "metadata": {
        "id": "GKIUckG_Xg5Z"
      },
      "source": [
        "def preprocess_source_data(df, test=False):\n",
        "  # deal with capitalized letters\n",
        "  df['source_screen_name'] = df['source_screen_name'].str.lower()\n",
        "  # deal with nans\n",
        "  for col in ['source_screen_name', 'source_system_tab', 'source_type']:\n",
        "    df[col] = df[col].fillna('unknown')\n",
        "  # deal with labels which are not presented in train\n",
        "  if test:\n",
        "    df['source_screen_name'].replace(['people local', 'people global'], 'unknown', inplace=True)\n",
        "  return df"
      ],
      "execution_count": null,
      "outputs": []
    },
    {
      "cell_type": "code",
      "metadata": {
        "id": "Y98CrkVRwO7N"
      },
      "source": [
        "train = preprocess_source_data(train)\n",
        "test = preprocess_source_data(test, test=True)"
      ],
      "execution_count": null,
      "outputs": []
    },
    {
      "cell_type": "markdown",
      "metadata": {
        "id": "auJ6JE3YZT_Y"
      },
      "source": [
        "### FE for user data"
      ]
    },
    {
      "cell_type": "markdown",
      "metadata": {
        "id": "wrH2LHeHP_jn"
      },
      "source": [
        "There is more then 40% of NaNs in Gender column of members dataframe, so let us define 2 different ways to treat this column:  \n",
        "1. assign unknown to NaN value\n",
        "2. assign random value to it  \n",
        "\n",
        "Let us add also a column which tells us the amount of membership days of particular person."
      ]
    },
    {
      "cell_type": "code",
      "metadata": {
        "id": "w5LdcRQOS1Z0"
      },
      "source": [
        "def preprocess_user_data(df, gender_rand=False):\n",
        "  # transform gender to binary\n",
        "  m = {'male' : 1, 'female' : 0}\n",
        "  df['gender'] = df['gender'].map(m)\n",
        "  # deal with nans in gender\n",
        "  if gender_rand:\n",
        "    a = df['gender'].values\n",
        "    m = np.isnan(a) # mask of NaNs\n",
        "    a[m] = np.random.choice(2, size=m.sum())\n",
        "  else:\n",
        "    df['gender'].fillna(2, inplace=True)\n",
        "\n",
        "  # deal with expiration date 1970y, which is less then registration date\n",
        "  df.loc[df['expiration_date']<df['registration_init_time'], 'expiration_date'] = df['expiration_date'].quantile(0.5, interpolation=\"midpoint\")\n",
        "  # add new column membership days\n",
        "  df['membership_days'] = (df['expiration_date'] - df['registration_init_time']).dt.days.astype(int)\n",
        "\n",
        "  # make birthdays (actually age) with less than 0 and more than 90 -> 0 (it means unspecified)\n",
        "  to_remove = df.loc[(df['bd'] < 0) | (df['bd'] > 90), 'bd'].values\n",
        "  df['bd'].replace(to_remove, 0, inplace=True)\n",
        "\n",
        "  # add new binary column about \"has age info or not\" \n",
        "  cond = df['bd'] != 0\n",
        "  df['got_bd'] = np.where(cond, 1, 0)\n",
        "  \n",
        "  return df"
      ],
      "execution_count": null,
      "outputs": []
    },
    {
      "cell_type": "code",
      "metadata": {
        "id": "k_l4lcXaaYBV"
      },
      "source": [
        "members = preprocess_user_data(members, gender_rand=False)"
      ],
      "execution_count": null,
      "outputs": []
    },
    {
      "cell_type": "code",
      "metadata": {
        "id": "9qixJLN9hPMO"
      },
      "source": [
        "def expand_df(df, keys, ad_dfs):\n",
        "  for k, ad_df in zip(keys, ad_dfs):\n",
        "    df = df.merge(ad_df, how='left', on=k)\n",
        "  return df"
      ],
      "execution_count": null,
      "outputs": []
    },
    {
      "cell_type": "code",
      "metadata": {
        "id": "FM2D1ANKhPMO"
      },
      "source": [
        "keys = ['song_id', 'song_id', 'msno']\n",
        "dfs = [songs, songs_extra, members]\n",
        "\n",
        "train_expanded = expand_df(train, keys, dfs)\n",
        "test_expanded = expand_df(test, keys, dfs)"
      ],
      "execution_count": null,
      "outputs": []
    },
    {
      "cell_type": "markdown",
      "metadata": {
        "id": "cI9eQkZop0GH"
      },
      "source": [
        "#### User country"
      ]
    },
    {
      "cell_type": "markdown",
      "metadata": {
        "id": "G4MXm6M3majX"
      },
      "source": [
        "Let us try to understand which country user is from by the countries of the most popular music for city where is the user from.  \n",
        "Wiki says that the KKBOX service mainly targets the music markets of East and Southeast Asia, focusing on regions including: Taiwan, Hong Kong, Malaysia, Japan and Singapore, so let us focus only on these countries."
      ]
    },
    {
      "cell_type": "code",
      "metadata": {
        "id": "jBwzMoSreoSg"
      },
      "source": [
        "train_expanded['song_country'] = train_expanded['isrc'].str[:2]\n",
        "test_expanded['song_country'] = test_expanded['isrc'].str[:2]"
      ],
      "execution_count": null,
      "outputs": []
    },
    {
      "cell_type": "code",
      "metadata": {
        "colab": {
          "base_uri": "https://localhost:8080/",
          "height": 450
        },
        "id": "a3ysYSxom7Qq",
        "outputId": "298c3ec3-ba56-4c4e-d07c-4e63dd1f9c2a"
      },
      "source": [
        "print(train_expanded['song_country'].unique())\n",
        "plt.figure(figsize=(30, 5))\n",
        "train_expanded['song_country'].hist()\n",
        "plt.yscale('log')\n",
        "plt.show()"
      ],
      "execution_count": null,
      "outputs": [
        {
          "name": "stdout",
          "output_type": "stream",
          "text": [
            "['GB' 'US' 'QM' 'TW' nan 'BE' 'AR' 'CN' 'HK' 'KR' 'JP' 'DE' 'CA' 'FR' 'IT'\n",
            " 'NO' 'SE' 'NL' 'DK' 'MY' 'TC' 'SG' 'UK' 'EM' 'ES' 'GM' 'TG' 'CH' 'TE'\n",
            " 'AU' 'GT' 'PL' 'BR' 'UA' 'GL' 'CY' 'RO' 'IE' 'TH' 'PT' 'NG' 'FI' 'IN'\n",
            " 'QZ' 'MX' 'VG' 'MT' 'PH' 'NZ' 'TR' 'RU' 'EU' 'TM' 'BX' 'CB' 'CO' 'EG'\n",
            " 'AT' 'AD' 'BG' 'ZA' 'ID' 'UG' 'GR' 'HR' 'MH' 'IL' 'HU' 'PR' 'JK' 'ZZ'\n",
            " 'IS' 'WW' 'LB' 'MA' 'CZ' 'MO' 'KI' 'LV' 'NJ' 'DM' 'MK' 'AE' 'LU' 'CL'\n",
            " 'GY' 'PE' 'IF' 'BZ' 'SK' 'TP' 'UD' 'SA' 'PY' 'BK' 'EE' 'LT' 'UY' 'JM'\n",
            " 'UZ' 'SI' 'CM' 'OM' 'BY' 'GD' 'YW' 'RS' 'GN' 'IR' 'KE']\n"
          ]
        },
        {
          "data": {
            "image/png": "[encoded data removed]",
            "text/plain": [
              "<Figure size 2160x360 with 1 Axes>"
            ]
          },
          "metadata": {},
          "output_type": "display_data"
        }
      ]
    },
    {
      "cell_type": "code",
      "metadata": {
        "colab": {
          "base_uri": "https://localhost:8080/"
        },
        "id": "ZJm806fwpJvj",
        "outputId": "7e7a2922-3131-4da1-bbb2-6cd160bad73a"
      },
      "source": [
        "print(train_expanded['city'].unique())\n",
        "train_expanded.groupby('city')['city'].count().sort_values(ascending=False)"
      ],
      "execution_count": null,
      "outputs": [
        {
          "name": "stdout",
          "output_type": "stream",
          "text": [
            "[ 1 13 15  5  9 21 22 12  4  6 14 17 10  8 11 18  3  7 20 16 19]\n"
          ]
        },
        {
          "data": {
            "text/plain": [
              "city\n",
              "1     2621293\n",
              "13    1144863\n",
              "5      830128\n",
              "4      545820\n",
              "15     484078\n",
              "22     460330\n",
              "6      275781\n",
              "14     236639\n",
              "12     147133\n",
              "9       95237\n",
              "8       85734\n",
              "18      81780\n",
              "11      71542\n",
              "10      69158\n",
              "21      67097\n",
              "3       63555\n",
              "17      44688\n",
              "7       31621\n",
              "16       7887\n",
              "19       6961\n",
              "20       6093\n",
              "Name: city, dtype: int64"
            ]
          },
          "execution_count": 15,
          "metadata": {},
          "output_type": "execute_result"
        }
      ]
    },
    {
      "cell_type": "code",
      "metadata": {
        "colab": {
          "base_uri": "https://localhost:8080/"
        },
        "id": "6ojcEe0Zp5h-",
        "outputId": "e66cd060-4e5c-4755-9131-48fa45a7a2c7"
      },
      "source": [
        "for city in train_expanded.city.unique():\n",
        "  print(city)\n",
        "  top_countries = train_expanded[train_expanded.city == city].groupby('song_country')['song_country'].count().sort_values(ascending=False)[:5]\n",
        "  print(top_countries)"
      ],
      "execution_count": null,
      "outputs": [
        {
          "name": "stdout",
          "output_type": "stream",
          "text": [
            "1\n",
            "song_country\n",
            "TW    1230776\n",
            "US     438629\n",
            "GB     144910\n",
            "KR     136895\n",
            "HK     126121\n",
            "Name: song_country, dtype: int64\n",
            "13\n",
            "song_country\n",
            "TW    574854\n",
            "US    184066\n",
            "HK     58119\n",
            "GB     57880\n",
            "KR     57795\n",
            "Name: song_country, dtype: int64\n",
            "15\n",
            "song_country\n",
            "TW    246223\n",
            "US     76605\n",
            "HK     24867\n",
            "GB     24430\n",
            "KR     22013\n",
            "Name: song_country, dtype: int64\n",
            "5\n",
            "song_country\n",
            "TW    380968\n",
            "US    156196\n",
            "GB     53079\n",
            "KR     40531\n",
            "HK     40074\n",
            "Name: song_country, dtype: int64\n",
            "9\n",
            "song_country\n",
            "TW    47174\n",
            "US    15486\n",
            "GB     4992\n",
            "HK     4903\n",
            "KR     4814\n",
            "Name: song_country, dtype: int64\n",
            "21\n",
            "song_country\n",
            "TW    34015\n",
            "US    11158\n",
            "KR     3545\n",
            "GB     3334\n",
            "HK     2989\n",
            "Name: song_country, dtype: int64\n",
            "22\n",
            "song_country\n",
            "TW    231013\n",
            "US     70881\n",
            "GB     23281\n",
            "HK     22506\n",
            "KR     20090\n",
            "Name: song_country, dtype: int64\n",
            "12\n",
            "song_country\n",
            "TW    74167\n",
            "US    21981\n",
            "KR     7497\n",
            "GB     7399\n",
            "HK     7049\n",
            "Name: song_country, dtype: int64\n",
            "4\n",
            "song_country\n",
            "TW    274985\n",
            "US     84498\n",
            "GB     27701\n",
            "HK     27023\n",
            "KR     25285\n",
            "Name: song_country, dtype: int64\n",
            "6\n",
            "song_country\n",
            "TW    138734\n",
            "US     43083\n",
            "GB     14718\n",
            "HK     12500\n",
            "KR     11972\n",
            "Name: song_country, dtype: int64\n",
            "14\n",
            "song_country\n",
            "TW    117510\n",
            "US     37768\n",
            "HK     12098\n",
            "KR     12082\n",
            "GB     11809\n",
            "Name: song_country, dtype: int64\n",
            "17\n",
            "song_country\n",
            "TW    22261\n",
            "US     7680\n",
            "GB     2218\n",
            "KR     2153\n",
            "HK     1945\n",
            "Name: song_country, dtype: int64\n",
            "10\n",
            "song_country\n",
            "TW    34173\n",
            "US    10899\n",
            "KR     3714\n",
            "GB     3626\n",
            "HK     3449\n",
            "Name: song_country, dtype: int64\n",
            "8\n",
            "song_country\n",
            "TW    44342\n",
            "US    11991\n",
            "HK     4246\n",
            "GB     4135\n",
            "KR     3434\n",
            "Name: song_country, dtype: int64\n",
            "11\n",
            "song_country\n",
            "TW    35747\n",
            "US    11709\n",
            "GB     3853\n",
            "HK     3217\n",
            "KR     3086\n",
            "Name: song_country, dtype: int64\n",
            "18\n",
            "song_country\n",
            "TW    43277\n",
            "US    11376\n",
            "KR     4620\n",
            "HK     3910\n",
            "GB     3598\n",
            "Name: song_country, dtype: int64\n",
            "3\n",
            "song_country\n",
            "TW    33260\n",
            "US     9943\n",
            "GB     3119\n",
            "HK     2992\n",
            "KR     2853\n",
            "Name: song_country, dtype: int64\n",
            "7\n",
            "song_country\n",
            "TW    15820\n",
            "US     4621\n",
            "GB     1774\n",
            "KR     1662\n",
            "HK     1510\n",
            "Name: song_country, dtype: int64\n",
            "20\n",
            "song_country\n",
            "TW    3139\n",
            "US     873\n",
            "GB     327\n",
            "KR     309\n",
            "HK     305\n",
            "Name: song_country, dtype: int64\n",
            "16\n",
            "song_country\n",
            "TW    3496\n",
            "US    1488\n",
            "JP     464\n",
            "GB     436\n",
            "KR     383\n",
            "Name: song_country, dtype: int64\n",
            "19\n",
            "song_country\n",
            "TW    2989\n",
            "US    1289\n",
            "JP     563\n",
            "GB     448\n",
            "KR     276\n",
            "Name: song_country, dtype: int64\n"
          ]
        }
      ]
    },
    {
      "cell_type": "markdown",
      "metadata": {
        "id": "kwCKie2dtRGZ"
      },
      "source": [
        "So, there is no meaningful information to extract, mostly all users listen to Taiwan songs"
      ]
    },
    {
      "cell_type": "markdown",
      "metadata": {
        "id": "3-Kyt9FmtYXl"
      },
      "source": [
        "### FE Train Info"
      ]
    },
    {
      "cell_type": "code",
      "metadata": {
        "id": "aIQarTFqE1cN"
      },
      "source": [
        "def preprocess_main_info(df, test=False, train_df=None):\n",
        "  # count how many songs did user listened\n",
        "  df = df.merge(df.groupby('msno')['msno'].count(), \n",
        "                left_on='msno', \n",
        "                right_index=True, \n",
        "                how='left', \n",
        "                suffixes=('', '_1'))\n",
        "  # song popularity by all plays\n",
        "  df = df.merge(df.groupby('song_id')['song_id'].count(), \n",
        "                left_on='song_id', \n",
        "                right_index=True, \n",
        "                how='left', \n",
        "                suffixes=('', '_2'))\n",
        "  \n",
        "  df = df.rename(columns={'msno_1':'user_plays',\n",
        "                          'song_id_2':'song_plays'})\n",
        "  if not test:\n",
        "    # target based features \n",
        "    # if user tends to repeat the music he listens to\n",
        "    df = df.merge(df.groupby('msno')['target'].sum(), \n",
        "                  left_on='msno', \n",
        "                  right_index=True, \n",
        "                  how='left', \n",
        "                  suffixes=('', '_3'))\n",
        "    # song popularity by repeats\n",
        "    df = df.merge(df.groupby('song_id')['target'].sum(), \n",
        "                  left_on='song_id', \n",
        "                  right_index=True, \n",
        "                  how='left', \n",
        "                  suffixes=('', '_4'))\n",
        "        \n",
        "    df = df.rename(columns={'target_3':'user_repeats',\n",
        "                            'target_4':'song_repeats'})\n",
        "    \n",
        "    df['user_repeat_ratio'] = df['user_repeats']/df['user_plays']\n",
        "    df['song_repeat_ratio'] = df['song_repeats']/df['song_plays']\n",
        "\n",
        "  else:\n",
        "    # if user tends to repeat the music he listens to\n",
        "    test_list = set(train_df['msno']).intersection(df['msno'])\n",
        "    test_dict = train_df.loc[train_df['msno'].isin(test_list)][['msno', 'user_repeat_ratio']].set_index('msno').to_dict()\n",
        "    df['user_repeat_ratio'] = df['msno'].map(test_dict['user_repeat_ratio'])\n",
        "    # song popularity by repeats\n",
        "    test_list = set(train_df['song_id']).intersection(df['song_id'])\n",
        "    test_dict = train_df.loc[train_df['song_id'].isin(test_list)][['song_id', 'song_repeat_ratio']].set_index('song_id').to_dict()\n",
        "    df['song_repeat_ratio'] = df['song_id'].map(test_dict['song_repeat_ratio'])\n",
        "    df.drop('id', axis=1, inplace=True)\n",
        "  return df"
      ],
      "execution_count": null,
      "outputs": []
    },
    {
      "cell_type": "code",
      "metadata": {
        "id": "7rX8iH8uBFh2"
      },
      "source": [
        "train = preprocess_main_info(train)\n",
        "test = preprocess_main_info(test, True, train)"
      ],
      "execution_count": null,
      "outputs": []
    },
    {
      "cell_type": "markdown",
      "metadata": {
        "id": "Kg60QOWoUqlF"
      },
      "source": [
        "### FE songs info"
      ]
    },
    {
      "cell_type": "markdown",
      "metadata": {
        "id": "fFM2OVdGU2HE"
      },
      "source": [
        "Derive years on decades "
      ]
    },
    {
      "cell_type": "code",
      "metadata": {
        "id": "ukfvtR4JU2HE"
      },
      "source": [
        "songs_extra['year'] = songs_extra['isrc'].str[5:7]\n",
        "songs_extra['year'] = songs_extra['year'].fillna(-1).apply(int)\n",
        "songs_extra['year'] = np.where(((songs_extra['year'] > 0) & (songs_extra['year'] > 17)), songs_extra['year'] + 1900, songs_extra['year'] + 2000)\n",
        "songs_extra['decade'] = songs_extra['year'] // 10 * 10\n",
        "songs_extra['country'] = songs_extra['isrc'].str[:2]"
      ],
      "execution_count": null,
      "outputs": []
    },
    {
      "cell_type": "markdown",
      "metadata": {
        "id": "LkcG7H9KU2HE"
      },
      "source": [
        "Percent of nan data in songs dataset"
      ]
    },
    {
      "cell_type": "code",
      "metadata": {
        "id": "spcTmbYAU2HF"
      },
      "source": [
        "def nan_percent(df):\n",
        "    return df.isna().sum() * 100 /df.shape[0]"
      ],
      "execution_count": null,
      "outputs": []
    },
    {
      "cell_type": "code",
      "metadata": {
        "colab": {
          "base_uri": "https://localhost:8080/"
        },
        "id": "mdrSwQ6fU2HF",
        "outputId": "7213d1d7-17c9-4f1f-98e7-a9a50713094e"
      },
      "source": [
        "nan_percent(songs)"
      ],
      "execution_count": null,
      "outputs": [
        {
          "data": {
            "text/plain": [
              "song_length     0.000000\n",
              "genre_ids       4.098558\n",
              "artist_name     0.000000\n",
              "composer       46.655257\n",
              "lyricist       84.712409\n",
              "language        0.000044\n",
              "dtype: float64"
            ]
          },
          "execution_count": 8,
          "metadata": {},
          "output_type": "execute_result"
        }
      ]
    },
    {
      "cell_type": "markdown",
      "metadata": {
        "id": "cO6a2qY-U2HF"
      },
      "source": [
        "Let's fill genre and language NaNs as most popular genres for the specific artist. Other values as UNKNOWN"
      ]
    },
    {
      "cell_type": "code",
      "metadata": {
        "id": "yil_VGKKU2HG"
      },
      "source": [
        "df_most_common = songs[['genre_ids', 'language', 'artist_name']].groupby('artist_name').agg(pd.Series.mode)\n",
        "df_most_common = df_most_common[~df_most_common.index.duplicated(keep='first')].reset_index()\n",
        "df_most_common.columns = ['artist_name','genre_pop', 'language_pop']"
      ],
      "execution_count": null,
      "outputs": []
    },
    {
      "cell_type": "code",
      "metadata": {
        "id": "eFVaOZbIY7GL"
      },
      "source": [
        "df_most_common['genre_pop']= np.where(df_most_common['genre_pop'].apply(lambda x: isinstance(x, np.ndarray)), df_most_common['genre_pop'].str.join('|'), df_most_common['genre_pop'])\n",
        "df_most_common['genre_pop']= np.where(df_most_common['genre_pop'] == '', 'UNKNOWN', df_most_common['genre_pop'])"
      ],
      "execution_count": null,
      "outputs": []
    },
    {
      "cell_type": "code",
      "metadata": {
        "id": "kpkW7CBdU2HG"
      },
      "source": [
        "songs_pop = songs.reset_index().merge(df_most_common, how='left', on='artist_name')\n",
        "songs_pop['genre_ids'] = songs_pop['genre_ids'].fillna(songs_pop['genre_pop']) \n",
        "songs_pop['language'] = songs_pop['language'].fillna(songs_pop['language_pop'])\n",
        "songs_pop = songs_pop.fillna('UNKNOWN')\n",
        "songs = songs_pop.set_index('song_id')[['song_length', 'artist_name', 'composer', 'lyricist', 'language','genre_ids']]\n",
        "songs['genre_list'] = songs['genre_ids'].str.split('|')"
      ],
      "execution_count": null,
      "outputs": []
    },
    {
      "cell_type": "markdown",
      "metadata": {
        "id": "PoW_TjnMU2HH"
      },
      "source": [
        "Let's look on dictibution of song length in train data"
      ]
    },
    {
      "cell_type": "code",
      "metadata": {
        "colab": {
          "base_uri": "https://localhost:8080/",
          "height": 282
        },
        "id": "2oRFp-xjU2HH",
        "outputId": "c77c8568-f70d-4c9a-ef3a-caafe9818a6d"
      },
      "source": [
        "train_song = train.set_index('song_id').join(songs)\n",
        "(train_song.loc[train_song.song_length < 500000]['song_length'] / 60000).hist(bins=50)"
      ],
      "execution_count": null,
      "outputs": [
        {
          "data": {
            "text/plain": [
              "<matplotlib.axes._subplots.AxesSubplot at 0x7f4d94acf510>"
            ]
          },
          "execution_count": 12,
          "metadata": {},
          "output_type": "execute_result"
        },
        {
          "data": {
            "image/png": "[encoded data removed]",
            "text/plain": [
              "<Figure size 432x288 with 1 Axes>"
            ]
          },
          "metadata": {},
          "output_type": "display_data"
        }
      ]
    },
    {
      "cell_type": "markdown",
      "metadata": {
        "id": "YgTrgh6xU2HI"
      },
      "source": [
        "The usual song length are in interval [2.5, 5.5] minutes.\n",
        "\n",
        "The other right side of the data on histogram is just decreasing tail. So, let's just random divide song length on following intervals:\n",
        "\n",
        "0. [0, 2.5]\n",
        "1. [2.5, 5.5]\n",
        "2. [5.5, 10]\n",
        "3. [10, 30]\n",
        "4. [30, 60]\n",
        "5. \\>60 \n",
        "minutes"
      ]
    },
    {
      "cell_type": "code",
      "metadata": {
        "colab": {
          "base_uri": "https://localhost:8080/",
          "height": 282
        },
        "id": "3ncBfD3yU2HI",
        "outputId": "fbcaebdb-7785-45d7-c5e2-f894abc90a95"
      },
      "source": [
        "(train_song.loc[(train_song.song_length > 20 * 60000) & \n",
        "                (train_song.song_length < 60 * 60000)]['song_length'] / 60000).hist(bins=30)"
      ],
      "execution_count": null,
      "outputs": [
        {
          "data": {
            "text/plain": [
              "<matplotlib.axes._subplots.AxesSubplot at 0x7f4d9499b0d0>"
            ]
          },
          "execution_count": 13,
          "metadata": {},
          "output_type": "execute_result"
        },
        {
          "data": {
            "image/png": "[encoded data removed]",
            "text/plain": [
              "<Figure size 432x288 with 1 Axes>"
            ]
          },
          "metadata": {},
          "output_type": "display_data"
        }
      ]
    },
    {
      "cell_type": "code",
      "metadata": {
        "id": "gLJ81bc0U2HI"
      },
      "source": [
        "condlist = [songs['song_length'] < 2.5*60000,\n",
        "            (songs['song_length']>=2.5*60000) & (songs['song_length'] < 5.5 * 60000), \n",
        "            (songs['song_length'] >= 5.5 * 60000) & (songs['song_length'] < 10 * 60000),\n",
        "            (songs['song_length'] >= 10 * 60000) & (songs['song_length'] < 30 * 60000), \n",
        "            (songs['song_length'] >= 30 * 60000) & (songs['song_length'] < 60 * 60000),\n",
        "            songs['song_length'] >= 60 * 60000]\n",
        "choicelist = list(range(0, len(condlist)))\n",
        "songs['song_length_cat'] = np.select(condlist, choicelist)"
      ],
      "execution_count": null,
      "outputs": []
    },
    {
      "cell_type": "code",
      "metadata": {
        "id": "Uz0Hmu0qU2HJ"
      },
      "source": [
        "artists_num = songs.artist_name.str.split('|')\n",
        "len_artists_num = [len(x) for x in list(artists_num) if len(x) != 1 and len(x) <50]"
      ],
      "execution_count": null,
      "outputs": []
    },
    {
      "cell_type": "code",
      "metadata": {
        "colab": {
          "base_uri": "https://localhost:8080/",
          "height": 295
        },
        "id": "bxt6NhjEU2HJ",
        "outputId": "954b87c1-daf2-41c6-9865-7a95cead9bf9"
      },
      "source": [
        "from matplotlib import pyplot as plt\n",
        "\n",
        "data = len_artists_num\n",
        "\n",
        "plt.hist(data, bins=50)\n",
        "plt.title('Number of songs with more than 1 but less than 50 artists')\n",
        "plt.xlabel('number of artists')\n",
        "plt.ylabel('count')\n",
        "\n",
        "plt.show()"
      ],
      "execution_count": null,
      "outputs": [
        {
          "data": {
            "image/png": "[encoded data removed]",
            "text/plain": [
              "<Figure size 432x288 with 1 Axes>"
            ]
          },
          "metadata": {},
          "output_type": "display_data"
        }
      ]
    },
    {
      "cell_type": "code",
      "metadata": {
        "id": "DdLE08cvU2HJ"
      },
      "source": [
        "def count_series_elements(df, column_name):\n",
        "    df[column_name+'_number'] = df[column_name].str.count(r'\\|') + 1\n",
        "    df.loc[df[column_name] == 'UNKNOWN', column_name+'_number'] = 0"
      ],
      "execution_count": null,
      "outputs": []
    },
    {
      "cell_type": "code",
      "metadata": {
        "id": "Qcm7JeMpU2HK"
      },
      "source": [
        "count_series_elements(songs, 'artist_name')\n",
        "count_series_elements(songs, 'composer')\n",
        "count_series_elements(songs, 'lyricist')\n",
        "songs['genre_number'] = songs['genre_list'].str.len()\n",
        "songs = songs.drop(['genre_list'], axis=1)"
      ],
      "execution_count": null,
      "outputs": []
    },
    {
      "cell_type": "code",
      "metadata": {
        "colab": {
          "base_uri": "https://localhost:8080/"
        },
        "id": "6xd4mKsfU2HK",
        "outputId": "7d141890-b80d-4fe1-a7bf-fe97e7b9896e"
      },
      "source": [
        "nan_percent(songs_extra)"
      ],
      "execution_count": null,
      "outputs": [
        {
          "data": {
            "text/plain": [
              "name       0.000087\n",
              "isrc       5.947288\n",
              "year       0.000000\n",
              "decade     0.000000\n",
              "country    5.947288\n",
              "dtype: float64"
            ]
          },
          "execution_count": 19,
          "metadata": {},
          "output_type": "execute_result"
        }
      ]
    },
    {
      "cell_type": "code",
      "metadata": {
        "id": "ocpaxt1NU2HK"
      },
      "source": [
        "songs_all = songs.join(songs_extra)"
      ],
      "execution_count": null,
      "outputs": []
    },
    {
      "cell_type": "code",
      "metadata": {
        "colab": {
          "base_uri": "https://localhost:8080/"
        },
        "id": "ezyjc6O0U2HL",
        "outputId": "0cc0883e-d170-4fb8-dd9f-d2df46006916"
      },
      "source": [
        "nan_percent(songs_all)"
      ],
      "execution_count": null,
      "outputs": [
        {
          "data": {
            "text/plain": [
              "song_length           0.000000\n",
              "artist_name           0.000000\n",
              "composer              0.000000\n",
              "lyricist              0.000000\n",
              "language              0.000000\n",
              "genre_ids             0.000000\n",
              "song_length_cat       0.000000\n",
              "artist_name_number    0.000000\n",
              "composer_number       0.000000\n",
              "lyricist_number       0.000000\n",
              "genre_number          0.000000\n",
              "name                  0.039193\n",
              "isrc                  5.984706\n",
              "year                  0.039106\n",
              "decade                0.039106\n",
              "country               5.984706\n",
              "dtype: float64"
            ]
          },
          "execution_count": 21,
          "metadata": {},
          "output_type": "execute_result"
        }
      ]
    },
    {
      "cell_type": "markdown",
      "metadata": {
        "id": "WUcSGl6qU2HL"
      },
      "source": [
        "Let's get rid of nan values in \"decade\" and \"country\" by choosing the most common decades and countries in artist's name"
      ]
    },
    {
      "cell_type": "code",
      "metadata": {
        "id": "M8JcFsTYU2HL"
      },
      "source": [
        "df_most_common = songs_all[['decade', 'country', 'artist_name']].groupby('artist_name').agg(pd.Series.mode)\n",
        "df_most_common = df_most_common[~df_most_common.index.duplicated(keep='first')].reset_index()\n",
        "df_most_common.columns = ['artist_name','decade_pop', 'country_pop']"
      ],
      "execution_count": null,
      "outputs": []
    },
    {
      "cell_type": "code",
      "metadata": {
        "id": "3zHgmZNVU2HM"
      },
      "source": [
        "songs_pop = songs_all.reset_index().merge(df_most_common, how='left', on='artist_name')\n",
        "songs_pop['decade'] = songs_pop['decade'].fillna(songs_pop['decade_pop']) \n",
        "songs_pop['country'] = songs_pop['country'].fillna(songs_pop['country_pop'])\n",
        "songs_pop = songs_pop.fillna('UNKNOWN')"
      ],
      "execution_count": null,
      "outputs": []
    },
    {
      "cell_type": "code",
      "metadata": {
        "id": "sEWzjSD5U2HM"
      },
      "source": [
        "songs_all = songs_pop.set_index('song_id')[['artist_name','composer', 'lyricist', 'language', 'genre_ids', \n",
        "                                            'song_length_cat', 'artist_name_number', 'composer_number', 'lyricist_number', \n",
        "                                            'genre_number', 'name', 'decade', 'country']]"
      ],
      "execution_count": null,
      "outputs": []
    },
    {
      "cell_type": "code",
      "metadata": {
        "colab": {
          "base_uri": "https://localhost:8080/",
          "height": 742
        },
        "id": "frqzPOVwU2HM",
        "outputId": "d7eabf11-c33d-4a2a-deed-f98998607ce5"
      },
      "source": [
        "songs_all"
      ],
      "execution_count": null,
      "outputs": [
        {
          "data": {
            "text/html": [
              "<div>\n",
              "<style scoped>\n",
              "    .dataframe tbody tr th:only-of-type {\n",
              "        vertical-align: middle;\n",
              "    }\n",
              "\n",
              "    .dataframe tbody tr th {\n",
              "        vertical-align: top;\n",
              "    }\n",
              "\n",
              "    .dataframe thead th {\n",
              "        text-align: right;\n",
              "    }\n",
              "</style>\n",
              "<table border=\"1\" class=\"dataframe\">\n",
              "  <thead>\n",
              "    <tr style=\"text-align: right;\">\n",
              "      <th></th>\n",
              "      <th>artist_name</th>\n",
              "      <th>composer</th>\n",
              "      <th>lyricist</th>\n",
              "      <th>language</th>\n",
              "      <th>genre_ids</th>\n",
              "      <th>song_length_cat</th>\n",
              "      <th>artist_name_number</th>\n",
              "      <th>composer_number</th>\n",
              "      <th>lyricist_number</th>\n",
              "      <th>genre_number</th>\n",
              "      <th>name</th>\n",
              "      <th>decade</th>\n",
              "      <th>country</th>\n",
              "    </tr>\n",
              "    <tr>\n",
              "      <th>song_id</th>\n",
              "      <th></th>\n",
              "      <th></th>\n",
              "      <th></th>\n",
              "      <th></th>\n",
              "      <th></th>\n",
              "      <th></th>\n",
              "      <th></th>\n",
              "      <th></th>\n",
              "      <th></th>\n",
              "      <th></th>\n",
              "      <th></th>\n",
              "      <th></th>\n",
              "      <th></th>\n",
              "    </tr>\n",
              "  </thead>\n",
              "  <tbody>\n",
              "    <tr>\n",
              "      <th>CXoTN1eb7AI+DntdU1vbcwGRV4SCIDxZu+YD8JP8r4E=</th>\n",
              "      <td>張信哲 (Jeff Chang)</td>\n",
              "      <td>董貞</td>\n",
              "      <td>何啟弘</td>\n",
              "      <td>3.0</td>\n",
              "      <td>465</td>\n",
              "      <td>1</td>\n",
              "      <td>1</td>\n",
              "      <td>1</td>\n",
              "      <td>1</td>\n",
              "      <td>1</td>\n",
              "      <td>焚情</td>\n",
              "      <td>2010</td>\n",
              "      <td>TW</td>\n",
              "    </tr>\n",
              "    <tr>\n",
              "      <th>o0kFgae9QtnYgRkVPqLJwa05zIhRlUjfF7O1tDw0ZDU=</th>\n",
              "      <td>BLACKPINK</td>\n",
              "      <td>TEDDY|  FUTURE BOUNCE|  Bekuh BOOM</td>\n",
              "      <td>TEDDY</td>\n",
              "      <td>31.0</td>\n",
              "      <td>444</td>\n",
              "      <td>1</td>\n",
              "      <td>1</td>\n",
              "      <td>3</td>\n",
              "      <td>1</td>\n",
              "      <td>1</td>\n",
              "      <td>PLAYING WITH FIRE</td>\n",
              "      <td>1990</td>\n",
              "      <td>TW</td>\n",
              "    </tr>\n",
              "    <tr>\n",
              "      <th>DwVvVurfpuz+XPuFvucclVQEyPqcpUkHR0ne1RQzPs0=</th>\n",
              "      <td>SUPER JUNIOR</td>\n",
              "      <td>UNKNOWN</td>\n",
              "      <td>UNKNOWN</td>\n",
              "      <td>31.0</td>\n",
              "      <td>465</td>\n",
              "      <td>1</td>\n",
              "      <td>1</td>\n",
              "      <td>0</td>\n",
              "      <td>0</td>\n",
              "      <td>1</td>\n",
              "      <td>SORRY| SORRY</td>\n",
              "      <td>1990</td>\n",
              "      <td>KR</td>\n",
              "    </tr>\n",
              "    <tr>\n",
              "      <th>dKMBWoZyScdxSkihKG+Vf47nc18N9q4m58+b4e7dSSE=</th>\n",
              "      <td>S.H.E</td>\n",
              "      <td>湯小康</td>\n",
              "      <td>徐世珍</td>\n",
              "      <td>3.0</td>\n",
              "      <td>465</td>\n",
              "      <td>1</td>\n",
              "      <td>1</td>\n",
              "      <td>1</td>\n",
              "      <td>1</td>\n",
              "      <td>1</td>\n",
              "      <td>愛我的資格</td>\n",
              "      <td>2000</td>\n",
              "      <td>TW</td>\n",
              "    </tr>\n",
              "    <tr>\n",
              "      <th>W3bqWd3T+VeHFzHAUfARgW9AvVRaF4N5Yzm4Mr6Eo/o=</th>\n",
              "      <td>貴族精選</td>\n",
              "      <td>Traditional</td>\n",
              "      <td>Traditional</td>\n",
              "      <td>52.0</td>\n",
              "      <td>726</td>\n",
              "      <td>0</td>\n",
              "      <td>1</td>\n",
              "      <td>1</td>\n",
              "      <td>1</td>\n",
              "      <td>1</td>\n",
              "      <td>Mary Had a Little Lamb</td>\n",
              "      <td>1990</td>\n",
              "      <td>GB</td>\n",
              "    </tr>\n",
              "    <tr>\n",
              "      <th>...</th>\n",
              "      <td>...</td>\n",
              "      <td>...</td>\n",
              "      <td>...</td>\n",
              "      <td>...</td>\n",
              "      <td>...</td>\n",
              "      <td>...</td>\n",
              "      <td>...</td>\n",
              "      <td>...</td>\n",
              "      <td>...</td>\n",
              "      <td>...</td>\n",
              "      <td>...</td>\n",
              "      <td>...</td>\n",
              "      <td>...</td>\n",
              "    </tr>\n",
              "    <tr>\n",
              "      <th>lg6rn7eV/ZNg0+P+x77kHUL7GDMfoL4eMtXxncseLNA=</th>\n",
              "      <td>Catherine Collard</td>\n",
              "      <td>Robert Schumann (1810-1856)</td>\n",
              "      <td>UNKNOWN</td>\n",
              "      <td>-1.0</td>\n",
              "      <td>958</td>\n",
              "      <td>0</td>\n",
              "      <td>1</td>\n",
              "      <td>1</td>\n",
              "      <td>0</td>\n",
              "      <td>1</td>\n",
              "      <td>Schumann: Papillons| Op. 2: II. Prestissimo</td>\n",
              "      <td>1970</td>\n",
              "      <td>FR</td>\n",
              "    </tr>\n",
              "    <tr>\n",
              "      <th>nXi1lrSJe+gLoTTNky7If0mNPrIyCQCLwagwR6XopGU=</th>\n",
              "      <td>紀文惠 (Justine Chi)</td>\n",
              "      <td>UNKNOWN</td>\n",
              "      <td>UNKNOWN</td>\n",
              "      <td>3.0</td>\n",
              "      <td>465</td>\n",
              "      <td>1</td>\n",
              "      <td>1</td>\n",
              "      <td>0</td>\n",
              "      <td>0</td>\n",
              "      <td>1</td>\n",
              "      <td>怎麼啦</td>\n",
              "      <td>2010</td>\n",
              "      <td>TW</td>\n",
              "    </tr>\n",
              "    <tr>\n",
              "      <th>9KxSvIjbJyJzfEVWnkMbgR6dyn6d54ot0N5FKyKqii8=</th>\n",
              "      <td>Various Artists</td>\n",
              "      <td>UNKNOWN</td>\n",
              "      <td>UNKNOWN</td>\n",
              "      <td>52.0</td>\n",
              "      <td>1609</td>\n",
              "      <td>2</td>\n",
              "      <td>1</td>\n",
              "      <td>0</td>\n",
              "      <td>0</td>\n",
              "      <td>1</td>\n",
              "      <td>Still Here</td>\n",
              "      <td>2010</td>\n",
              "      <td>DE</td>\n",
              "    </tr>\n",
              "    <tr>\n",
              "      <th>UO8Y2MR2sjOn2q/Tp8/lzZTGKmLEvwZ20oWanG4XnYc=</th>\n",
              "      <td>Peter Paul &amp; Mary</td>\n",
              "      <td>UNKNOWN</td>\n",
              "      <td>UNKNOWN</td>\n",
              "      <td>52.0</td>\n",
              "      <td>465</td>\n",
              "      <td>1</td>\n",
              "      <td>1</td>\n",
              "      <td>0</td>\n",
              "      <td>0</td>\n",
              "      <td>1</td>\n",
              "      <td>If I Had My Way</td>\n",
              "      <td>1990</td>\n",
              "      <td>US</td>\n",
              "    </tr>\n",
              "    <tr>\n",
              "      <th>V/9qPSUOGT0FeIGBhDIZRRz5Y5yyjdXC2Z/+bJExo5s=</th>\n",
              "      <td>Kim Robertson</td>\n",
              "      <td>UNKNOWN</td>\n",
              "      <td>UNKNOWN</td>\n",
              "      <td>52.0</td>\n",
              "      <td>829</td>\n",
              "      <td>1</td>\n",
              "      <td>1</td>\n",
              "      <td>0</td>\n",
              "      <td>0</td>\n",
              "      <td>1</td>\n",
              "      <td>The Water Is Wide/ Shall We Gather at the River?</td>\n",
              "      <td>2000</td>\n",
              "      <td>US</td>\n",
              "    </tr>\n",
              "  </tbody>\n",
              "</table>\n",
              "<p>2296320 rows × 13 columns</p>\n",
              "</div>"
            ],
            "text/plain": [
              "                                                    artist_name  ... country\n",
              "song_id                                                          ...        \n",
              "CXoTN1eb7AI+DntdU1vbcwGRV4SCIDxZu+YD8JP8r4E=   張信哲 (Jeff Chang)  ...      TW\n",
              "o0kFgae9QtnYgRkVPqLJwa05zIhRlUjfF7O1tDw0ZDU=          BLACKPINK  ...      TW\n",
              "DwVvVurfpuz+XPuFvucclVQEyPqcpUkHR0ne1RQzPs0=       SUPER JUNIOR  ...      KR\n",
              "dKMBWoZyScdxSkihKG+Vf47nc18N9q4m58+b4e7dSSE=              S.H.E  ...      TW\n",
              "W3bqWd3T+VeHFzHAUfARgW9AvVRaF4N5Yzm4Mr6Eo/o=               貴族精選  ...      GB\n",
              "...                                                         ...  ...     ...\n",
              "lg6rn7eV/ZNg0+P+x77kHUL7GDMfoL4eMtXxncseLNA=  Catherine Collard  ...      FR\n",
              "nXi1lrSJe+gLoTTNky7If0mNPrIyCQCLwagwR6XopGU=  紀文惠 (Justine Chi)  ...      TW\n",
              "9KxSvIjbJyJzfEVWnkMbgR6dyn6d54ot0N5FKyKqii8=    Various Artists  ...      DE\n",
              "UO8Y2MR2sjOn2q/Tp8/lzZTGKmLEvwZ20oWanG4XnYc=  Peter Paul & Mary  ...      US\n",
              "V/9qPSUOGT0FeIGBhDIZRRz5Y5yyjdXC2Z/+bJExo5s=      Kim Robertson  ...      US\n",
              "\n",
              "[2296320 rows x 13 columns]"
            ]
          },
          "execution_count": 25,
          "metadata": {},
          "output_type": "execute_result"
        }
      ]
    },
    {
      "cell_type": "markdown",
      "metadata": {
        "id": "siGam-4UU2HQ"
      },
      "source": [
        "### Final songs data"
      ]
    },
    {
      "cell_type": "code",
      "metadata": {
        "colab": {
          "base_uri": "https://localhost:8080/"
        },
        "id": "iG1eSTl_U2HS",
        "outputId": "31271c11-6af1-49e4-f7f2-176031bff9ef"
      },
      "source": [
        "songs_all = pd.read_csv(directory + 'songs_all.csv')"
      ],
      "execution_count": null,
      "outputs": [
        {
          "name": "stderr",
          "output_type": "stream",
          "text": [
            "/usr/local/lib/python3.7/dist-packages/IPython/core/interactiveshell.py:2718: DtypeWarning: Columns (12) have mixed types.Specify dtype option on import or set low_memory=False.\n",
            "  interactivity=interactivity, compiler=compiler, result=result)\n"
          ]
        }
      ]
    },
    {
      "cell_type": "markdown",
      "metadata": {
        "id": "vt7FWUmoA8uV"
      },
      "source": [
        "## Merging member's data with train and test"
      ]
    },
    {
      "cell_type": "markdown",
      "metadata": {
        "id": "HzU7TkTXoF4N"
      },
      "source": [
        "Merging all data for train and test"
      ]
    },
    {
      "cell_type": "code",
      "metadata": {
        "id": "E5-RXFyBo6y4"
      },
      "source": [
        "def expand_df(df, keys, ad_dfs):\n",
        "  for k, ad_df in zip(keys, ad_dfs):\n",
        "    df = df.merge(ad_df, how='left', on=k)\n",
        "  return df"
      ],
      "execution_count": null,
      "outputs": []
    },
    {
      "cell_type": "code",
      "metadata": {
        "id": "czOiAdX3_F8z"
      },
      "source": [
        "keys = ['song_id', 'song_id', 'msno']\n",
        "dfs = [songs, songs_extra, members]\n",
        "\n",
        "train_expanded = expand_df(train, keys, dfs)\n",
        "test_expanded = expand_df(test, keys, dfs)"
      ],
      "execution_count": null,
      "outputs": []
    },
    {
      "cell_type": "code",
      "metadata": {
        "colab": {
          "base_uri": "https://localhost:8080/"
        },
        "id": "7t-ke9Xm3eJh",
        "outputId": "382cf988-4890-4ca8-d1af-ad33387a67a1"
      },
      "source": [
        "train_expanded.isna().sum()/train_expanded.shape[0]"
      ],
      "execution_count": null,
      "outputs": [
        {
          "data": {
            "text/plain": [
              "msno                      0.000000\n",
              "song_id                   0.000000\n",
              "source_system_tab         0.000000\n",
              "source_screen_name        0.000000\n",
              "source_type               0.000000\n",
              "target                    0.000000\n",
              "user_plays                0.000000\n",
              "song_plays                0.000000\n",
              "user_repeats              0.000000\n",
              "song_repeats              0.000000\n",
              "user_repeat_ratio         0.000000\n",
              "song_repeat_ratio         0.000000\n",
              "song_length               0.000015\n",
              "genre_ids                 0.016056\n",
              "artist_name               0.000015\n",
              "composer                  0.227140\n",
              "lyricist                  0.430882\n",
              "language                  0.000020\n",
              "name                      0.000197\n",
              "isrc                      0.078328\n",
              "city                      0.000000\n",
              "bd                        0.000000\n",
              "gender                    0.000000\n",
              "registered_via            0.000000\n",
              "registration_init_time    0.000000\n",
              "expiration_date           0.000000\n",
              "membership_days           0.000000\n",
              "got_bd                    0.000000\n",
              "dtype: float64"
            ]
          },
          "execution_count": 21,
          "metadata": {},
          "output_type": "execute_result"
        }
      ]
    },
    {
      "cell_type": "code",
      "metadata": {
        "colab": {
          "base_uri": "https://localhost:8080/"
        },
        "id": "_AR4qeOn8cCB",
        "outputId": "0c88e7eb-7951-4870-b7e7-5d0673eb0e47"
      },
      "source": [
        "test_expanded.isna().sum()/test_expanded.shape[0]"
      ],
      "execution_count": null,
      "outputs": [
        {
          "data": {
            "text/plain": [
              "msno                      0.000000\n",
              "song_id                   0.000000\n",
              "source_system_tab         0.000000\n",
              "source_screen_name        0.000000\n",
              "source_type               0.000000\n",
              "user_plays                0.000000\n",
              "song_plays                0.000000\n",
              "user_repeat_ratio         0.071972\n",
              "song_repeat_ratio         0.125206\n",
              "song_length               0.000010\n",
              "genre_ids                 0.016470\n",
              "artist_name               0.000010\n",
              "composer                  0.242219\n",
              "lyricist                  0.479016\n",
              "language                  0.000016\n",
              "name                      0.000304\n",
              "isrc                      0.076910\n",
              "city                      0.000000\n",
              "bd                        0.000000\n",
              "gender                    0.000000\n",
              "registered_via            0.000000\n",
              "registration_init_time    0.000000\n",
              "expiration_date           0.000000\n",
              "membership_days           0.000000\n",
              "got_bd                    0.000000\n",
              "dtype: float64"
            ]
          },
          "execution_count": 22,
          "metadata": {},
          "output_type": "execute_result"
        }
      ]
    },
    {
      "cell_type": "code",
      "metadata": {
        "id": "sMglsR3joiqY"
      },
      "source": [
        "# saving all previous dataframes cause it crashed when I merged so tremendous dataframes\n",
        "train_expanded.to_csv(directory + 'train_expanded.csv', index=False)\n",
        "test_expanded.to_csv(directory + 'test_expanded.csv', index=False)"
      ],
      "execution_count": null,
      "outputs": []
    },
    {
      "cell_type": "code",
      "metadata": {
        "id": "IRBEpMGhpXyE"
      },
      "source": [
        "# read previous dataframes\n",
        "train_expanded = pd.read_csv(directory + 'train_expanded.csv', parse_dates=['registration_init_time', 'expiration_date'])\n",
        "test_expanded = pd.read_csv(directory + 'test_expanded.csv', parse_dates=['registration_init_time', 'expiration_date'])"
      ],
      "execution_count": null,
      "outputs": []
    },
    {
      "cell_type": "code",
      "metadata": {
        "colab": {
          "base_uri": "https://localhost:8080/",
          "height": 779
        },
        "id": "xVixEpPY8pKj",
        "outputId": "07564a22-3a62-482a-9d8d-682d2cbe073e"
      },
      "source": [
        "# example of dataframe\n",
        "test_expanded"
      ],
      "execution_count": null,
      "outputs": [
        {
          "data": {
            "text/html": [
              "<div>\n",
              "<style scoped>\n",
              "    .dataframe tbody tr th:only-of-type {\n",
              "        vertical-align: middle;\n",
              "    }\n",
              "\n",
              "    .dataframe tbody tr th {\n",
              "        vertical-align: top;\n",
              "    }\n",
              "\n",
              "    .dataframe thead th {\n",
              "        text-align: right;\n",
              "    }\n",
              "</style>\n",
              "<table border=\"1\" class=\"dataframe\">\n",
              "  <thead>\n",
              "    <tr style=\"text-align: right;\">\n",
              "      <th></th>\n",
              "      <th>song_id</th>\n",
              "      <th>artist_name</th>\n",
              "      <th>composer</th>\n",
              "      <th>lyricist</th>\n",
              "      <th>language</th>\n",
              "      <th>genre_ids</th>\n",
              "      <th>song_length_cat</th>\n",
              "      <th>artist_name_number</th>\n",
              "      <th>composer_number</th>\n",
              "      <th>lyricist_number</th>\n",
              "      <th>genre_number</th>\n",
              "      <th>name</th>\n",
              "      <th>decade</th>\n",
              "      <th>country</th>\n",
              "    </tr>\n",
              "  </thead>\n",
              "  <tbody>\n",
              "    <tr>\n",
              "      <th>0</th>\n",
              "      <td>WmHKgKMlp1lQMecNdNvDMkvIycZYHnFwDT72I5sIssc=</td>\n",
              "      <td>梁文音 (Rachel Liang)</td>\n",
              "      <td>Qi Zheng Zhang</td>\n",
              "      <td>UNKNOWN</td>\n",
              "      <td>3.0</td>\n",
              "      <td>458</td>\n",
              "      <td>1.0</td>\n",
              "      <td>1.0</td>\n",
              "      <td>1.0</td>\n",
              "      <td>0.0</td>\n",
              "      <td>1.0</td>\n",
              "      <td>愛其實很殘忍</td>\n",
              "      <td>2010</td>\n",
              "      <td>TW</td>\n",
              "    </tr>\n",
              "    <tr>\n",
              "      <th>1</th>\n",
              "      <td>y/rsZ9DC7FwK5F2PK2D5mj+aOBUJAjuu3dZ14NgE0vM=</td>\n",
              "      <td>林俊傑 (JJ Lin)</td>\n",
              "      <td>林俊傑</td>\n",
              "      <td>孫燕姿/易家揚</td>\n",
              "      <td>3.0</td>\n",
              "      <td>465</td>\n",
              "      <td>1.0</td>\n",
              "      <td>1.0</td>\n",
              "      <td>1.0</td>\n",
              "      <td>1.0</td>\n",
              "      <td>1.0</td>\n",
              "      <td>她說</td>\n",
              "      <td>2010</td>\n",
              "      <td>TW</td>\n",
              "    </tr>\n",
              "    <tr>\n",
              "      <th>2</th>\n",
              "      <td>8eZLFOdGVdXBSqoAv5nsLigeH2BvKXzTQYtUM53I0k4=</td>\n",
              "      <td>Yu Takahashi (高橋優)</td>\n",
              "      <td>Yu Takahashi</td>\n",
              "      <td>Yu Takahashi</td>\n",
              "      <td>17.0</td>\n",
              "      <td>2022</td>\n",
              "      <td>1.0</td>\n",
              "      <td>1.0</td>\n",
              "      <td>1.0</td>\n",
              "      <td>1.0</td>\n",
              "      <td>1.0</td>\n",
              "      <td>subarashiki nichijo</td>\n",
              "      <td>2010</td>\n",
              "      <td>JP</td>\n",
              "    </tr>\n",
              "    <tr>\n",
              "      <th>3</th>\n",
              "      <td>ztCf8thYsS4YN3GcIL/bvoxLm/T5mYBVKOO4C9NiVfQ=</td>\n",
              "      <td>U2</td>\n",
              "      <td>The Edge| Adam Clayton| Larry Mullen| Jr.</td>\n",
              "      <td>UNKNOWN</td>\n",
              "      <td>52.0</td>\n",
              "      <td>465</td>\n",
              "      <td>1.0</td>\n",
              "      <td>1.0</td>\n",
              "      <td>4.0</td>\n",
              "      <td>0.0</td>\n",
              "      <td>1.0</td>\n",
              "      <td>Hold Me| Thrill Me| Kiss Me| Kill Me</td>\n",
              "      <td>2000</td>\n",
              "      <td>GB</td>\n",
              "    </tr>\n",
              "    <tr>\n",
              "      <th>4</th>\n",
              "      <td>MKVMpslKcQhMaFEgcEQhEfi5+RZhMYlU3eRDpySrH8Y=</td>\n",
              "      <td>Yoga Mr Sound</td>\n",
              "      <td>Neuromancer</td>\n",
              "      <td>UNKNOWN</td>\n",
              "      <td>-1.0</td>\n",
              "      <td>873</td>\n",
              "      <td>1.0</td>\n",
              "      <td>1.0</td>\n",
              "      <td>1.0</td>\n",
              "      <td>0.0</td>\n",
              "      <td>1.0</td>\n",
              "      <td>Om Yoga</td>\n",
              "      <td>2010</td>\n",
              "      <td>IT</td>\n",
              "    </tr>\n",
              "    <tr>\n",
              "      <th>...</th>\n",
              "      <td>...</td>\n",
              "      <td>...</td>\n",
              "      <td>...</td>\n",
              "      <td>...</td>\n",
              "      <td>...</td>\n",
              "      <td>...</td>\n",
              "      <td>...</td>\n",
              "      <td>...</td>\n",
              "      <td>...</td>\n",
              "      <td>...</td>\n",
              "      <td>...</td>\n",
              "      <td>...</td>\n",
              "      <td>...</td>\n",
              "      <td>...</td>\n",
              "    </tr>\n",
              "    <tr>\n",
              "      <th>2556785</th>\n",
              "      <td>wJoWzZd7AL+qX9xZWZwRTzGRYg0Lxcl5Pe+9n5hZgAQ=</td>\n",
              "      <td>The Chainsmokers &amp; Coldplay</td>\n",
              "      <td>Andrew Taggart| Christopher Martin| Will Champ...</td>\n",
              "      <td>Andrew Taggart| Christopher Martin| Will Champ...</td>\n",
              "      <td>52.0</td>\n",
              "      <td>1609</td>\n",
              "      <td>1.0</td>\n",
              "      <td>1.0</td>\n",
              "      <td>5.0</td>\n",
              "      <td>5.0</td>\n",
              "      <td>1.0</td>\n",
              "      <td>Something Just Like This</td>\n",
              "      <td>2010.0</td>\n",
              "      <td>US</td>\n",
              "    </tr>\n",
              "    <tr>\n",
              "      <th>2556786</th>\n",
              "      <td>KCJ8BlSfRQRgB7EVuzFvg52AhR8m2fT032MzN5ewbEI=</td>\n",
              "      <td>郭美美 (Jocie Guo)</td>\n",
              "      <td>小路</td>\n",
              "      <td>小路</td>\n",
              "      <td>3.0</td>\n",
              "      <td>458</td>\n",
              "      <td>1.0</td>\n",
              "      <td>1.0</td>\n",
              "      <td>1.0</td>\n",
              "      <td>1.0</td>\n",
              "      <td>1.0</td>\n",
              "      <td>一百種孤獨的理由</td>\n",
              "      <td>2010</td>\n",
              "      <td>CN</td>\n",
              "    </tr>\n",
              "    <tr>\n",
              "      <th>2556787</th>\n",
              "      <td>ySDsKJSnhFMESzC9mBhY0hnFEEBWDYx0FOMNcYDLb/A=</td>\n",
              "      <td>問樂團 (Guess What)</td>\n",
              "      <td>Skot Suyama陶山/Linkin Park</td>\n",
              "      <td>陳天佑/謝和弦/Linkin Park</td>\n",
              "      <td>3.0</td>\n",
              "      <td>458</td>\n",
              "      <td>1.0</td>\n",
              "      <td>1.0</td>\n",
              "      <td>1.0</td>\n",
              "      <td>1.0</td>\n",
              "      <td>1.0</td>\n",
              "      <td>愛不需要裝乖 / Somewhere I Belong</td>\n",
              "      <td>2010</td>\n",
              "      <td>TW</td>\n",
              "    </tr>\n",
              "    <tr>\n",
              "      <th>2556788</th>\n",
              "      <td>WXH8kL8e+0H2jY+s2Y6FpHyyHdaMYV3b6yfDa3FAt9U=</td>\n",
              "      <td>陳冠宇 (Kaiel Chen)</td>\n",
              "      <td>UNKNOWN</td>\n",
              "      <td>UNKNOWN</td>\n",
              "      <td>3.0</td>\n",
              "      <td>465</td>\n",
              "      <td>1.0</td>\n",
              "      <td>1.0</td>\n",
              "      <td>0.0</td>\n",
              "      <td>0.0</td>\n",
              "      <td>1.0</td>\n",
              "      <td>陳冠宇 (Kuan Yu Chen)</td>\n",
              "      <td>2010</td>\n",
              "      <td>TW</td>\n",
              "    </tr>\n",
              "    <tr>\n",
              "      <th>2556789</th>\n",
              "      <td>ftPDlhAywvcZX7ojE6F+9CDsC22UKX96iEr4W0ciPec=</td>\n",
              "      <td>嘎嘎+李洛洋+Under Lover</td>\n",
              "      <td>嘎嘎/李洛洋/胡睿兒/楊琳</td>\n",
              "      <td>嘎嘎/李洛洋/胡睿兒/楊琳</td>\n",
              "      <td>3.0</td>\n",
              "      <td>458</td>\n",
              "      <td>1.0</td>\n",
              "      <td>1.0</td>\n",
              "      <td>1.0</td>\n",
              "      <td>1.0</td>\n",
              "      <td>1.0</td>\n",
              "      <td>男子漢 (Manly Man)</td>\n",
              "      <td>2010</td>\n",
              "      <td>TW</td>\n",
              "    </tr>\n",
              "  </tbody>\n",
              "</table>\n",
              "<p>2556790 rows × 14 columns</p>\n",
              "</div>"
            ],
            "text/plain": [
              "                                              song_id  ... country\n",
              "0        WmHKgKMlp1lQMecNdNvDMkvIycZYHnFwDT72I5sIssc=  ...      TW\n",
              "1        y/rsZ9DC7FwK5F2PK2D5mj+aOBUJAjuu3dZ14NgE0vM=  ...      TW\n",
              "2        8eZLFOdGVdXBSqoAv5nsLigeH2BvKXzTQYtUM53I0k4=  ...      JP\n",
              "3        ztCf8thYsS4YN3GcIL/bvoxLm/T5mYBVKOO4C9NiVfQ=  ...      GB\n",
              "4        MKVMpslKcQhMaFEgcEQhEfi5+RZhMYlU3eRDpySrH8Y=  ...      IT\n",
              "...                                               ...  ...     ...\n",
              "2556785  wJoWzZd7AL+qX9xZWZwRTzGRYg0Lxcl5Pe+9n5hZgAQ=  ...      US\n",
              "2556786  KCJ8BlSfRQRgB7EVuzFvg52AhR8m2fT032MzN5ewbEI=  ...      CN\n",
              "2556787  ySDsKJSnhFMESzC9mBhY0hnFEEBWDYx0FOMNcYDLb/A=  ...      TW\n",
              "2556788  WXH8kL8e+0H2jY+s2Y6FpHyyHdaMYV3b6yfDa3FAt9U=  ...      TW\n",
              "2556789  ftPDlhAywvcZX7ojE6F+9CDsC22UKX96iEr4W0ciPec=  ...      TW\n",
              "\n",
              "[2556790 rows x 14 columns]"
            ]
          },
          "execution_count": 10,
          "metadata": {},
          "output_type": "execute_result"
        }
      ]
    },
    {
      "cell_type": "code",
      "metadata": {
        "id": "DS1rt-kXTuMO"
      },
      "source": [
        "train_expanded = train_expanded[['song_id']]\n",
        "test_expanded = test_expanded[['song_id']]                      \t"
      ],
      "execution_count": null,
      "outputs": []
    },
    {
      "cell_type": "code",
      "metadata": {
        "id": "WxQ0xVmGi92I"
      },
      "source": [
        "train_expanded = train_expanded.merge(songs_all, on=['song_id'], how='left')"
      ],
      "execution_count": null,
      "outputs": []
    },
    {
      "cell_type": "code",
      "metadata": {
        "id": "2gxsCAnrV6gP"
      },
      "source": [
        "test_expanded = test_expanded.merge(songs_all, on=['song_id'], how='left')"
      ],
      "execution_count": null,
      "outputs": []
    },
    {
      "cell_type": "code",
      "metadata": {
        "id": "ycNPn8iAc7Fe"
      },
      "source": [
        "train_expanded_songs = train_expanded.copy()\n",
        "test_expanded_songs = test_expanded.copy()"
      ],
      "execution_count": null,
      "outputs": []
    },
    {
      "cell_type": "code",
      "metadata": {
        "id": "bj5nSPCmXWc_"
      },
      "source": [
        "train_expanded_songs.to_csv(directory + 'train_expanded_songs.csv', index=False)\n",
        "test_expanded_songs.to_csv(directory + 'test_expanded_songs.csv', index=False)"
      ],
      "execution_count": null,
      "outputs": []
    },
    {
      "cell_type": "code",
      "metadata": {
        "colab": {
          "base_uri": "https://localhost:8080/"
        },
        "id": "Rbj-f6nVXvnb",
        "outputId": "306ac26f-c321-4797-9ac2-4e40fc409a29"
      },
      "source": [
        "# read previous dataframes\n",
        "train_expanded_songs = pd.read_csv(directory + 'train_expanded_songs.csv').drop(['song_id'], axis=1)\n",
        "test_expanded_songs = pd.read_csv(directory + 'test_expanded_songs.csv').drop(['song_id'], axis=1)"
      ],
      "execution_count": null,
      "outputs": [
        {
          "name": "stderr",
          "output_type": "stream",
          "text": [
            "/usr/local/lib/python3.7/dist-packages/IPython/core/interactiveshell.py:2718: DtypeWarning: Columns (12) have mixed types.Specify dtype option on import or set low_memory=False.\n",
            "  interactivity=interactivity, compiler=compiler, result=result)\n"
          ]
        }
      ]
    },
    {
      "cell_type": "code",
      "metadata": {
        "id": "TPOHzTwmb-Fe"
      },
      "source": [
        "# read previous dataframes\n",
        "train_expanded = pd.read_csv(directory + 'train_expanded.csv', parse_dates=['registration_init_time', 'expiration_date'])\n",
        "test_expanded = pd.read_csv(directory + 'test_expanded.csv', parse_dates=['registration_init_time', 'expiration_date'])"
      ],
      "execution_count": null,
      "outputs": []
    },
    {
      "cell_type": "code",
      "metadata": {
        "id": "_lhNz3GpcCB1"
      },
      "source": [
        "train_expanded = train_expanded.drop(['song_length', 'genre_ids',\t\n",
        "                                      'artist_name',\t'composer',\t'lyricist',\t\n",
        "                                      'language',\t'name',\t'isrc', \n",
        "                                      'registration_init_time',\t\n",
        "                                      'expiration_date'], axis=1)\n",
        "test_expanded = test_expanded.drop(['song_length', 'genre_ids',\t\n",
        "                                      'artist_name',\t'composer',\t'lyricist',\t\n",
        "                                      'language',\t'name',\t'isrc',\n",
        "                                      'registration_init_time',\t\n",
        "                                      'expiration_date'], axis=1)"
      ],
      "execution_count": null,
      "outputs": []
    },
    {
      "cell_type": "code",
      "metadata": {
        "id": "ZV84T0TWYgKA"
      },
      "source": [
        "train_expanded = pd.concat([train_expanded, train_expanded_songs], axis=1, join='inner')"
      ],
      "execution_count": null,
      "outputs": []
    },
    {
      "cell_type": "code",
      "metadata": {
        "id": "rRm2agj4ZVjt"
      },
      "source": [
        "test_expanded = pd.concat([test_expanded, test_expanded_songs], axis=1, join='inner')"
      ],
      "execution_count": null,
      "outputs": []
    },
    {
      "cell_type": "code",
      "metadata": {
        "id": "zyvYSmtfZfYt"
      },
      "source": [
        "train_expanded.to_csv(directory + 'train_expanded_all.csv', index=False)\n",
        "test_expanded.to_csv(directory + 'test_expanded_all.csv', index=False)"
      ],
      "execution_count": null,
      "outputs": []
    },
    {
      "cell_type": "code",
      "metadata": {
        "colab": {
          "base_uri": "https://localhost:8080/",
          "height": 983
        },
        "id": "exOGT2s8Zl1y",
        "outputId": "92538527-22d1-4fd3-829e-a4e4b432c301"
      },
      "source": [
        " train_expanded"
      ],
      "execution_count": null,
      "outputs": [
        {
          "data": {
            "text/html": [
              "<div>\n",
              "<style scoped>\n",
              "    .dataframe tbody tr th:only-of-type {\n",
              "        vertical-align: middle;\n",
              "    }\n",
              "\n",
              "    .dataframe tbody tr th {\n",
              "        vertical-align: top;\n",
              "    }\n",
              "\n",
              "    .dataframe thead th {\n",
              "        text-align: right;\n",
              "    }\n",
              "</style>\n",
              "<table border=\"1\" class=\"dataframe\">\n",
              "  <thead>\n",
              "    <tr style=\"text-align: right;\">\n",
              "      <th></th>\n",
              "      <th>msno</th>\n",
              "      <th>song_id</th>\n",
              "      <th>source_system_tab</th>\n",
              "      <th>source_screen_name</th>\n",
              "      <th>source_type</th>\n",
              "      <th>target</th>\n",
              "      <th>user_plays</th>\n",
              "      <th>song_plays</th>\n",
              "      <th>user_repeats</th>\n",
              "      <th>song_repeats</th>\n",
              "      <th>user_repeat_ratio</th>\n",
              "      <th>song_repeat_ratio</th>\n",
              "      <th>city</th>\n",
              "      <th>bd</th>\n",
              "      <th>gender</th>\n",
              "      <th>registered_via</th>\n",
              "      <th>membership_days</th>\n",
              "      <th>got_bd</th>\n",
              "      <th>artist_name</th>\n",
              "      <th>composer</th>\n",
              "      <th>lyricist</th>\n",
              "      <th>language</th>\n",
              "      <th>genre_ids</th>\n",
              "      <th>song_length_cat</th>\n",
              "      <th>artist_name_number</th>\n",
              "      <th>composer_number</th>\n",
              "      <th>lyricist_number</th>\n",
              "      <th>genre_number</th>\n",
              "      <th>name</th>\n",
              "      <th>decade</th>\n",
              "      <th>country</th>\n",
              "    </tr>\n",
              "  </thead>\n",
              "  <tbody>\n",
              "    <tr>\n",
              "      <th>0</th>\n",
              "      <td>FGtllVqz18RPiwJj/edr2gV78zirAiY/9SmYvia+kCg=</td>\n",
              "      <td>BBzumQNXUHKdEBOB7mAJuzok+IJA1c2Ryg/yzTF6tik=</td>\n",
              "      <td>explore</td>\n",
              "      <td>explore</td>\n",
              "      <td>online-playlist</td>\n",
              "      <td>1</td>\n",
              "      <td>5511</td>\n",
              "      <td>215</td>\n",
              "      <td>2791</td>\n",
              "      <td>102</td>\n",
              "      <td>0.506442</td>\n",
              "      <td>0.474419</td>\n",
              "      <td>1</td>\n",
              "      <td>0</td>\n",
              "      <td>2.0</td>\n",
              "      <td>7</td>\n",
              "      <td>2103</td>\n",
              "      <td>0</td>\n",
              "      <td>Bastille</td>\n",
              "      <td>Dan Smith| Mark Crew</td>\n",
              "      <td>UNKNOWN</td>\n",
              "      <td>52.0</td>\n",
              "      <td>359</td>\n",
              "      <td>1.0</td>\n",
              "      <td>1.0</td>\n",
              "      <td>2.0</td>\n",
              "      <td>0.0</td>\n",
              "      <td>1.0</td>\n",
              "      <td>Good Grief</td>\n",
              "      <td>2010</td>\n",
              "      <td>GB</td>\n",
              "    </tr>\n",
              "    <tr>\n",
              "      <th>1</th>\n",
              "      <td>Xumu+NIjS6QYVxDS4/t3SawvJ7viT9hPKXmf0RtLNx8=</td>\n",
              "      <td>bhp/MpSNoqoxOIB+/l8WPqu6jldth4DIpCm3ayXnJqM=</td>\n",
              "      <td>my library</td>\n",
              "      <td>local playlist more</td>\n",
              "      <td>local-playlist</td>\n",
              "      <td>1</td>\n",
              "      <td>622</td>\n",
              "      <td>1</td>\n",
              "      <td>462</td>\n",
              "      <td>1</td>\n",
              "      <td>0.742765</td>\n",
              "      <td>1.000000</td>\n",
              "      <td>13</td>\n",
              "      <td>24</td>\n",
              "      <td>0.0</td>\n",
              "      <td>9</td>\n",
              "      <td>2301</td>\n",
              "      <td>1</td>\n",
              "      <td>Various Artists</td>\n",
              "      <td>UNKNOWN</td>\n",
              "      <td>UNKNOWN</td>\n",
              "      <td>52.0</td>\n",
              "      <td>1259</td>\n",
              "      <td>1.0</td>\n",
              "      <td>1.0</td>\n",
              "      <td>0.0</td>\n",
              "      <td>0.0</td>\n",
              "      <td>1.0</td>\n",
              "      <td>Lords of Cardboard</td>\n",
              "      <td>1990</td>\n",
              "      <td>US</td>\n",
              "    </tr>\n",
              "    <tr>\n",
              "      <th>2</th>\n",
              "      <td>Xumu+NIjS6QYVxDS4/t3SawvJ7viT9hPKXmf0RtLNx8=</td>\n",
              "      <td>JNWfrrC7zNN7BdMpsISKa4Mw+xVJYNnxXh3/Epw7QgY=</td>\n",
              "      <td>my library</td>\n",
              "      <td>local playlist more</td>\n",
              "      <td>local-playlist</td>\n",
              "      <td>1</td>\n",
              "      <td>622</td>\n",
              "      <td>4</td>\n",
              "      <td>462</td>\n",
              "      <td>2</td>\n",
              "      <td>0.742765</td>\n",
              "      <td>0.500000</td>\n",
              "      <td>13</td>\n",
              "      <td>24</td>\n",
              "      <td>0.0</td>\n",
              "      <td>9</td>\n",
              "      <td>2301</td>\n",
              "      <td>1</td>\n",
              "      <td>Nas</td>\n",
              "      <td>N. Jones、W. Adams、J. Lordan、D. Ingle</td>\n",
              "      <td>UNKNOWN</td>\n",
              "      <td>52.0</td>\n",
              "      <td>1259</td>\n",
              "      <td>1.0</td>\n",
              "      <td>1.0</td>\n",
              "      <td>1.0</td>\n",
              "      <td>0.0</td>\n",
              "      <td>1.0</td>\n",
              "      <td>Hip Hop Is Dead(Album Version (Edited))</td>\n",
              "      <td>2000</td>\n",
              "      <td>US</td>\n",
              "    </tr>\n",
              "    <tr>\n",
              "      <th>3</th>\n",
              "      <td>Xumu+NIjS6QYVxDS4/t3SawvJ7viT9hPKXmf0RtLNx8=</td>\n",
              "      <td>2A87tzfnJTSWqD7gIZHisolhe4DMdzkbd6LzO1KHjNs=</td>\n",
              "      <td>my library</td>\n",
              "      <td>local playlist more</td>\n",
              "      <td>local-playlist</td>\n",
              "      <td>1</td>\n",
              "      <td>622</td>\n",
              "      <td>1</td>\n",
              "      <td>462</td>\n",
              "      <td>1</td>\n",
              "      <td>0.742765</td>\n",
              "      <td>1.000000</td>\n",
              "      <td>13</td>\n",
              "      <td>24</td>\n",
              "      <td>0.0</td>\n",
              "      <td>9</td>\n",
              "      <td>2301</td>\n",
              "      <td>1</td>\n",
              "      <td>Soundway</td>\n",
              "      <td>Kwadwo Donkoh</td>\n",
              "      <td>UNKNOWN</td>\n",
              "      <td>-1.0</td>\n",
              "      <td>1019</td>\n",
              "      <td>1.0</td>\n",
              "      <td>1.0</td>\n",
              "      <td>1.0</td>\n",
              "      <td>0.0</td>\n",
              "      <td>1.0</td>\n",
              "      <td>Disco Africa</td>\n",
              "      <td>2010</td>\n",
              "      <td>GB</td>\n",
              "    </tr>\n",
              "    <tr>\n",
              "      <th>4</th>\n",
              "      <td>FGtllVqz18RPiwJj/edr2gV78zirAiY/9SmYvia+kCg=</td>\n",
              "      <td>3qm6XTZ6MOCU11x8FIVbAGH5l5uMkT3/ZalWG1oo2Gc=</td>\n",
              "      <td>explore</td>\n",
              "      <td>explore</td>\n",
              "      <td>online-playlist</td>\n",
              "      <td>1</td>\n",
              "      <td>5511</td>\n",
              "      <td>412</td>\n",
              "      <td>2791</td>\n",
              "      <td>150</td>\n",
              "      <td>0.506442</td>\n",
              "      <td>0.364078</td>\n",
              "      <td>1</td>\n",
              "      <td>0</td>\n",
              "      <td>2.0</td>\n",
              "      <td>7</td>\n",
              "      <td>2103</td>\n",
              "      <td>0</td>\n",
              "      <td>Brett Young</td>\n",
              "      <td>Brett Young| Kelly Archer| Justin Ebach</td>\n",
              "      <td>UNKNOWN</td>\n",
              "      <td>52.0</td>\n",
              "      <td>1011</td>\n",
              "      <td>1.0</td>\n",
              "      <td>1.0</td>\n",
              "      <td>3.0</td>\n",
              "      <td>0.0</td>\n",
              "      <td>1.0</td>\n",
              "      <td>Sleep Without You</td>\n",
              "      <td>2010</td>\n",
              "      <td>QM</td>\n",
              "    </tr>\n",
              "    <tr>\n",
              "      <th>...</th>\n",
              "      <td>...</td>\n",
              "      <td>...</td>\n",
              "      <td>...</td>\n",
              "      <td>...</td>\n",
              "      <td>...</td>\n",
              "      <td>...</td>\n",
              "      <td>...</td>\n",
              "      <td>...</td>\n",
              "      <td>...</td>\n",
              "      <td>...</td>\n",
              "      <td>...</td>\n",
              "      <td>...</td>\n",
              "      <td>...</td>\n",
              "      <td>...</td>\n",
              "      <td>...</td>\n",
              "      <td>...</td>\n",
              "      <td>...</td>\n",
              "      <td>...</td>\n",
              "      <td>...</td>\n",
              "      <td>...</td>\n",
              "      <td>...</td>\n",
              "      <td>...</td>\n",
              "      <td>...</td>\n",
              "      <td>...</td>\n",
              "      <td>...</td>\n",
              "      <td>...</td>\n",
              "      <td>...</td>\n",
              "      <td>...</td>\n",
              "      <td>...</td>\n",
              "      <td>...</td>\n",
              "      <td>...</td>\n",
              "    </tr>\n",
              "    <tr>\n",
              "      <th>7377413</th>\n",
              "      <td>6xdFzPlrasIDD95mQWXVC3Bg4ptnGYtBl4ztVEZMddU=</td>\n",
              "      <td>VJTxizih/o28kXCbtPbIyWXScoXGvxyYtl6R+0YB5JM=</td>\n",
              "      <td>my library</td>\n",
              "      <td>local playlist more</td>\n",
              "      <td>local-playlist</td>\n",
              "      <td>1</td>\n",
              "      <td>462</td>\n",
              "      <td>59</td>\n",
              "      <td>254</td>\n",
              "      <td>32</td>\n",
              "      <td>0.549784</td>\n",
              "      <td>0.542373</td>\n",
              "      <td>4</td>\n",
              "      <td>26</td>\n",
              "      <td>0.0</td>\n",
              "      <td>9</td>\n",
              "      <td>4669</td>\n",
              "      <td>1</td>\n",
              "      <td>Dr. Dre</td>\n",
              "      <td>Andre R. Young| Melvin Charles Bradford| Shawn...</td>\n",
              "      <td>UNKNOWN</td>\n",
              "      <td>52.0</td>\n",
              "      <td>1259</td>\n",
              "      <td>1.0</td>\n",
              "      <td>1.0</td>\n",
              "      <td>4.0</td>\n",
              "      <td>0.0</td>\n",
              "      <td>1.0</td>\n",
              "      <td>Still D.R.E.</td>\n",
              "      <td>1990</td>\n",
              "      <td>US</td>\n",
              "    </tr>\n",
              "    <tr>\n",
              "      <th>7377414</th>\n",
              "      <td>ZxbVmt3Kh/XOH+h58c2Kdj6SjFZk+wnUO006IgWzMQE=</td>\n",
              "      <td>z1mqaU9YOX7T/PFDvUoWozdFq7rC3KwaQP7nFVprjMI=</td>\n",
              "      <td>search</td>\n",
              "      <td>search</td>\n",
              "      <td>song</td>\n",
              "      <td>0</td>\n",
              "      <td>744</td>\n",
              "      <td>1010</td>\n",
              "      <td>371</td>\n",
              "      <td>666</td>\n",
              "      <td>0.498656</td>\n",
              "      <td>0.659406</td>\n",
              "      <td>1</td>\n",
              "      <td>0</td>\n",
              "      <td>2.0</td>\n",
              "      <td>7</td>\n",
              "      <td>1562</td>\n",
              "      <td>0</td>\n",
              "      <td>R. City feat.  Adam Levine</td>\n",
              "      <td>Theron Thomas| Timothy Thomas| Lukasz Gottwald...</td>\n",
              "      <td>Theron Thomas| Timothy Thomas| Lukasz Gottwald...</td>\n",
              "      <td>52.0</td>\n",
              "      <td>465</td>\n",
              "      <td>1.0</td>\n",
              "      <td>1.0</td>\n",
              "      <td>5.0</td>\n",
              "      <td>5.0</td>\n",
              "      <td>1.0</td>\n",
              "      <td>Locked Away</td>\n",
              "      <td>2010</td>\n",
              "      <td>US</td>\n",
              "    </tr>\n",
              "    <tr>\n",
              "      <th>7377415</th>\n",
              "      <td>ZxbVmt3Kh/XOH+h58c2Kdj6SjFZk+wnUO006IgWzMQE=</td>\n",
              "      <td>750RprmFfLV0bymtDH88g24pLZGVi5VpBAI300P6UOA=</td>\n",
              "      <td>search</td>\n",
              "      <td>search</td>\n",
              "      <td>song</td>\n",
              "      <td>1</td>\n",
              "      <td>744</td>\n",
              "      <td>10500</td>\n",
              "      <td>371</td>\n",
              "      <td>7608</td>\n",
              "      <td>0.498656</td>\n",
              "      <td>0.724571</td>\n",
              "      <td>1</td>\n",
              "      <td>0</td>\n",
              "      <td>2.0</td>\n",
              "      <td>7</td>\n",
              "      <td>1562</td>\n",
              "      <td>0</td>\n",
              "      <td>兄弟本色G.U.T.S. (姚中仁、張震嶽、頑童MJ116)</td>\n",
              "      <td>姚中仁 MC HotDog 陳昱榕 Ｅ-SO 周文傑 KENZY 林睦淵</td>\n",
              "      <td>姚中仁 MC HotDog 陳昱榕 Ｅ-SO 周文傑 KENZY 林睦淵</td>\n",
              "      <td>3.0</td>\n",
              "      <td>465</td>\n",
              "      <td>1.0</td>\n",
              "      <td>1.0</td>\n",
              "      <td>1.0</td>\n",
              "      <td>1.0</td>\n",
              "      <td>1.0</td>\n",
              "      <td>FLY OUT</td>\n",
              "      <td>2010</td>\n",
              "      <td>TW</td>\n",
              "    </tr>\n",
              "    <tr>\n",
              "      <th>7377416</th>\n",
              "      <td>0aH4Hd3ziPSRHClRX8rkeOEaAG5EPPkW1mKGCdXEok0=</td>\n",
              "      <td>G8wgqObgeAMER/rVCIlgcNeQ8mm0CzF/GsxiMK8TTnA=</td>\n",
              "      <td>discover</td>\n",
              "      <td>discover genre</td>\n",
              "      <td>online-playlist</td>\n",
              "      <td>1</td>\n",
              "      <td>601</td>\n",
              "      <td>11</td>\n",
              "      <td>394</td>\n",
              "      <td>6</td>\n",
              "      <td>0.655574</td>\n",
              "      <td>0.545455</td>\n",
              "      <td>5</td>\n",
              "      <td>0</td>\n",
              "      <td>2.0</td>\n",
              "      <td>9</td>\n",
              "      <td>948</td>\n",
              "      <td>0</td>\n",
              "      <td>Brad Mehldau Trio</td>\n",
              "      <td>UNKNOWN</td>\n",
              "      <td>UNKNOWN</td>\n",
              "      <td>52.0</td>\n",
              "      <td>2122</td>\n",
              "      <td>2.0</td>\n",
              "      <td>1.0</td>\n",
              "      <td>0.0</td>\n",
              "      <td>0.0</td>\n",
              "      <td>1.0</td>\n",
              "      <td>Wonderwall</td>\n",
              "      <td>2000</td>\n",
              "      <td>US</td>\n",
              "    </tr>\n",
              "    <tr>\n",
              "      <th>7377417</th>\n",
              "      <td>0aH4Hd3ziPSRHClRX8rkeOEaAG5EPPkW1mKGCdXEok0=</td>\n",
              "      <td>Ju0VGkjWeBUZCd7r5Az2hUImhMoWxWLUicOedsmvG0g=</td>\n",
              "      <td>discover</td>\n",
              "      <td>discover genre</td>\n",
              "      <td>online-playlist</td>\n",
              "      <td>1</td>\n",
              "      <td>601</td>\n",
              "      <td>8</td>\n",
              "      <td>394</td>\n",
              "      <td>4</td>\n",
              "      <td>0.655574</td>\n",
              "      <td>0.500000</td>\n",
              "      <td>5</td>\n",
              "      <td>0</td>\n",
              "      <td>2.0</td>\n",
              "      <td>9</td>\n",
              "      <td>948</td>\n",
              "      <td>0</td>\n",
              "      <td>Biréli Lagrène| Sylvain Luc</td>\n",
              "      <td>Robert Andrew Hyman| Cyndy Lauper</td>\n",
              "      <td>Robert Andrew Hyman| Cyndy Lauper</td>\n",
              "      <td>52.0</td>\n",
              "      <td>212</td>\n",
              "      <td>1.0</td>\n",
              "      <td>2.0</td>\n",
              "      <td>2.0</td>\n",
              "      <td>2.0</td>\n",
              "      <td>1.0</td>\n",
              "      <td>Time after time</td>\n",
              "      <td>1990</td>\n",
              "      <td>FR</td>\n",
              "    </tr>\n",
              "  </tbody>\n",
              "</table>\n",
              "<p>7377418 rows × 31 columns</p>\n",
              "</div>"
            ],
            "text/plain": [
              "                                                 msno  ... country\n",
              "0        FGtllVqz18RPiwJj/edr2gV78zirAiY/9SmYvia+kCg=  ...      GB\n",
              "1        Xumu+NIjS6QYVxDS4/t3SawvJ7viT9hPKXmf0RtLNx8=  ...      US\n",
              "2        Xumu+NIjS6QYVxDS4/t3SawvJ7viT9hPKXmf0RtLNx8=  ...      US\n",
              "3        Xumu+NIjS6QYVxDS4/t3SawvJ7viT9hPKXmf0RtLNx8=  ...      GB\n",
              "4        FGtllVqz18RPiwJj/edr2gV78zirAiY/9SmYvia+kCg=  ...      QM\n",
              "...                                               ...  ...     ...\n",
              "7377413  6xdFzPlrasIDD95mQWXVC3Bg4ptnGYtBl4ztVEZMddU=  ...      US\n",
              "7377414  ZxbVmt3Kh/XOH+h58c2Kdj6SjFZk+wnUO006IgWzMQE=  ...      US\n",
              "7377415  ZxbVmt3Kh/XOH+h58c2Kdj6SjFZk+wnUO006IgWzMQE=  ...      TW\n",
              "7377416  0aH4Hd3ziPSRHClRX8rkeOEaAG5EPPkW1mKGCdXEok0=  ...      US\n",
              "7377417  0aH4Hd3ziPSRHClRX8rkeOEaAG5EPPkW1mKGCdXEok0=  ...      FR\n",
              "\n",
              "[7377418 rows x 31 columns]"
            ]
          },
          "execution_count": 12,
          "metadata": {},
          "output_type": "execute_result"
        }
      ]
    },
    {
      "cell_type": "markdown",
      "metadata": {
        "id": "RZwfus9fNInR"
      },
      "source": [
        "# Adding categorical ratio"
      ]
    },
    {
      "cell_type": "markdown",
      "metadata": {
        "id": "3tTm-ae2NUYt"
      },
      "source": [
        "There are features as artist name, this information is important, but we can't just get dummy features because there are a lot of artists. We suggest feature, where we will calculate the fraction of repeat this feature for this user. \n",
        "We have user id and artist name, so, we make one column where for pair in row will be the ratio"
      ]
    },
    {
      "cell_type": "code",
      "metadata": {
        "id": "paYLrRrSNT5u"
      },
      "source": [
        "train_expanded = pd.read_csv(directory + 'train_expanded_all.csv')\n",
        "test_expanded = pd.read_csv(directory + 'test_expanded_all.csv')"
      ],
      "execution_count": null,
      "outputs": []
    },
    {
      "cell_type": "code",
      "metadata": {
        "id": "BEUuXmMQR0dO"
      },
      "source": [
        "train_expanded = train_expanded.replace('[]', 'UNKNOWN')\n",
        "train_expanded = train_expanded.fillna('UNKNOWN')\n",
        "test_expanded = test_expanded.replace('[]', 'UNKNOWN')\n",
        "test_expanded = test_expanded.fillna('UNKNOWN')"
      ],
      "execution_count": null,
      "outputs": []
    },
    {
      "cell_type": "markdown",
      "metadata": {
        "id": "WvFVWXKhQMR8"
      },
      "source": [
        "Let's keep only first genre of the song"
      ]
    },
    {
      "cell_type": "code",
      "metadata": {
        "id": "Y7nQ3Vs8Pp--"
      },
      "source": [
        "train_expanded['genre_first'] =  train_expanded['genre_ids'].str.split('|').str[0]\n",
        "test_expanded['genre_first'] =  test_expanded['genre_ids'].str.split('|').str[0]"
      ],
      "execution_count": null,
      "outputs": []
    },
    {
      "cell_type": "code",
      "metadata": {
        "id": "AF_FkZwTRD98"
      },
      "source": [
        "name_data = ['genre_first', 'country', 'language', \n",
        "             'source_type', 'source_system_tab',\n",
        "             'song_length_cat', 'decade', 'artist_name', 'composer', 'lyricist']"
      ],
      "execution_count": 4,
      "outputs": []
    },
    {
      "cell_type": "code",
      "metadata": {
        "id": "9NaXrFW5Si-6"
      },
      "source": [
        "for i, col in enumerate(name_data):\n",
        "  df_ratio = train_expanded.groupby(['msno', col])['target'].mean().round(3).reset_index()\n",
        "  df_ratio.columns = ['msno', col, col+'_ratio']\n",
        "  train_expanded = train_expanded.merge(df_ratio, on=['msno', col], how='left')\n",
        "  test_expanded = test_expanded.merge(df_ratio, on=['msno', col], how='left')\n",
        "  if i == 4:\n",
        "    train_expanded.to_csv(directory + '/Result/train_expanded_result.csv', index=False)\n",
        "    test_expanded.to_csv(directory + '/Result/test_expanded_result.csv', index=False)"
      ],
      "execution_count": null,
      "outputs": []
    },
    {
      "cell_type": "code",
      "metadata": {
        "colab": {
          "base_uri": "https://localhost:8080/"
        },
        "id": "xzsQa9GUzkaR",
        "outputId": "4df04f54-43cd-44e3-9bd3-7918d909066d"
      },
      "source": [
        "train_expanded = pd.read_csv(directory + '/Result/train_expanded_result.csv')\n",
        "test_expanded = pd.read_csv(directory + '/Result/test_expanded_result.csv')"
      ],
      "execution_count": null,
      "outputs": [
        {
          "output_type": "stream",
          "name": "stderr",
          "text": [
            "/usr/local/lib/python3.7/dist-packages/IPython/core/interactiveshell.py:2718: DtypeWarning: Columns (21,23,24,25,26,27,29) have mixed types.Specify dtype option on import or set low_memory=False.\n",
            "  interactivity=interactivity, compiler=compiler, result=result)\n",
            "/usr/local/lib/python3.7/dist-packages/IPython/core/interactiveshell.py:2718: DtypeWarning: Columns (18,20,21,22,23,24,26,28) have mixed types.Specify dtype option on import or set low_memory=False.\n",
            "  interactivity=interactivity, compiler=compiler, result=result)\n"
          ]
        }
      ]
    },
    {
      "cell_type": "code",
      "metadata": {
        "id": "cL7PICI3zdo8"
      },
      "source": [
        "for i, col in enumerate(name_data):\n",
        "  if i > 4:\n",
        "    df_ratio = train_expanded.groupby(['msno', col])['target'].mean().round(3).reset_index()\n",
        "    df_ratio.columns = ['msno', col, col+'_ratio']\n",
        "    train_expanded = train_expanded.merge(df_ratio, on=['msno', col], how='left')\n",
        "    test_expanded = test_expanded.merge(df_ratio, on=['msno', col], how='left')"
      ],
      "execution_count": null,
      "outputs": []
    },
    {
      "cell_type": "code",
      "metadata": {
        "id": "lSLBTynqhqpM"
      },
      "source": [
        "train_expanded.to_csv(directory + '/Result/train_expanded_result.csv', index=False)\n",
        "test_expanded.to_csv(directory + '/Result/test_expanded_result.csv', index=False)"
      ],
      "execution_count": null,
      "outputs": []
    },
    {
      "cell_type": "code",
      "metadata": {
        "colab": {
          "base_uri": "https://localhost:8080/"
        },
        "id": "ytU3e4DCQgL_",
        "outputId": "af2fafb6-1e9f-4637-8f78-1240751d81da"
      },
      "source": [
        "train_expanded = pd.read_csv(directory + '/Result/train_expanded_result.csv')\n",
        "test_expanded = pd.read_csv(directory + '/Result/test_expanded_result.csv')"
      ],
      "execution_count": 5,
      "outputs": [
        {
          "output_type": "stream",
          "name": "stderr",
          "text": [
            "/usr/local/lib/python3.7/dist-packages/IPython/core/interactiveshell.py:2718: DtypeWarning: Columns (21,23,24,25,26,27,29) have mixed types.Specify dtype option on import or set low_memory=False.\n",
            "  interactivity=interactivity, compiler=compiler, result=result)\n",
            "/usr/local/lib/python3.7/dist-packages/IPython/core/interactiveshell.py:2718: DtypeWarning: Columns (18,20,21,22,23,24,26,28) have mixed types.Specify dtype option on import or set low_memory=False.\n",
            "  interactivity=interactivity, compiler=compiler, result=result)\n"
          ]
        }
      ]
    },
    {
      "cell_type": "markdown",
      "metadata": {
        "id": "Cfug6Vsg3qef"
      },
      "source": [
        "There are a lot of Nan's in test"
      ]
    },
    {
      "cell_type": "code",
      "metadata": {
        "colab": {
          "base_uri": "https://localhost:8080/"
        },
        "id": "b_5cPSvevQlq",
        "outputId": "55f0af97-0486-4b26-f1af-5fc3fa02ef47"
      },
      "source": [
        "test_expanded.isna().sum() * 100 / test_expanded.shape[0]"
      ],
      "execution_count": 5,
      "outputs": [
        {
          "output_type": "execute_result",
          "data": {
            "text/plain": [
              "msno                        0.000000\n",
              "song_id                     0.000000\n",
              "source_system_tab           0.000000\n",
              "source_screen_name          0.000000\n",
              "source_type                 0.000000\n",
              "user_plays                  0.000000\n",
              "song_plays                  0.000000\n",
              "user_repeat_ratio           0.000000\n",
              "song_repeat_ratio           0.000000\n",
              "city                        0.000000\n",
              "bd                          0.000000\n",
              "gender                      0.000000\n",
              "registered_via              0.000000\n",
              "membership_days             0.000000\n",
              "got_bd                      0.000000\n",
              "artist_name                 0.000000\n",
              "composer                    0.000000\n",
              "lyricist                    0.000000\n",
              "language                    0.000000\n",
              "genre_ids                   0.000000\n",
              "song_length_cat             0.000000\n",
              "artist_name_number          0.000000\n",
              "composer_number             0.000000\n",
              "lyricist_number             0.000000\n",
              "genre_number                0.000000\n",
              "name                        0.000000\n",
              "decade                      0.000000\n",
              "country                     0.000000\n",
              "genre_first                 0.000000\n",
              "genre_first_ratio          11.220163\n",
              "country_ratio              10.578538\n",
              "language_ratio              8.800684\n",
              "source_type_ratio          12.413378\n",
              "source_system_tab_ratio    10.800691\n",
              "song_length_cat_ratio       8.398069\n",
              "decade_ratio                9.877385\n",
              "artist_name_ratio          50.784969\n",
              "composer_ratio             54.943738\n",
              "lyricist_ratio             37.434126\n",
              "dtype: float64"
            ]
          },
          "metadata": {},
          "execution_count": 5
        }
      ]
    },
    {
      "cell_type": "markdown",
      "metadata": {
        "id": "7UR9UihLWu3Q"
      },
      "source": [
        "Getting rid of Nans by adding the median of users ratio if we have that user in train, if not, adding category median ratio by all users, if we have this category, if user and category both are new, adding median ratio by all category column."
      ]
    },
    {
      "cell_type": "code",
      "metadata": {
        "id": "txvrG3pLtBSN"
      },
      "source": [
        "for col in name_data:\n",
        "  df_ratio_user = train_expanded.groupby(['msno'])[col + '_ratio'].median().reset_index()\n",
        "  df_ratio_user = test_expanded[['msno']].merge(df_ratio_user, how='left', on=['msno'])\n",
        "  df_ratio_cat =  train_expanded.groupby([col])[col + '_ratio'].median().reset_index()\n",
        "  df_ratio_cat = test_expanded[[col]].merge(df_ratio_cat, how='left', on=[col])\n",
        "  # display(test_expanded[['msno', col, col + '_ratio']].isna().sum())\n",
        "  # display(df_ratio_cat.isna().sum())\n",
        "  test_expanded[col + '_ratio'] = np.where(test_expanded[col + '_ratio'].isna(), df_ratio_user[col + '_ratio'], test_expanded[col + '_ratio'])\n",
        "  test_expanded[col + '_ratio'] = np.where(test_expanded[col + '_ratio'].isna(), df_ratio_cat[col + '_ratio'], test_expanded[col + '_ratio'])\n",
        "  test_expanded[col + '_ratio'] = test_expanded[col + '_ratio'].fillna(test_expanded[col + '_ratio'].median())"
      ],
      "execution_count": 6,
      "outputs": []
    },
    {
      "cell_type": "code",
      "metadata": {
        "colab": {
          "base_uri": "https://localhost:8080/"
        },
        "id": "FxtgkUS2lJS3",
        "outputId": "d7267a05-f5c8-4d3f-ffa7-083e0108c16f"
      },
      "source": [
        "test_expanded.isna().sum().sum() "
      ],
      "execution_count": 7,
      "outputs": [
        {
          "output_type": "execute_result",
          "data": {
            "text/plain": [
              "0"
            ]
          },
          "metadata": {},
          "execution_count": 7
        }
      ]
    },
    {
      "cell_type": "code",
      "metadata": {
        "id": "Cgc2nwtHcMNa"
      },
      "source": [
        "train_expanded.to_csv(directory + '/Result/train_expanded_result.csv', index=False)\n",
        "test_expanded.to_csv(directory + '/Result/test_expanded_result.csv', index=False)"
      ],
      "execution_count": 8,
      "outputs": []
    },
    {
      "cell_type": "markdown",
      "metadata": {
        "id": "fpLDIl_iAInC"
      },
      "source": [
        "# Categorical statistics by user"
      ]
    },
    {
      "cell_type": "markdown",
      "metadata": {
        "id": "pRkNSSYYrFTf"
      },
      "source": [
        "The idea is to make features where we will know which category are more preferable for the user. We will have categories as columns (like we did for dunny features) and this columns will contain fractions of preferences ***(number of listening to this category / number of listening to all categores)***\n",
        "\n",
        "\n",
        "---\n",
        "\n",
        "\n",
        "\n",
        "We don't know if it is good idea or not, because the size of files are enormous, but we did if just in case."
      ]
    },
    {
      "cell_type": "markdown",
      "metadata": {
        "id": "uCx0cVQpoz35"
      },
      "source": [
        "### Genre"
      ]
    },
    {
      "cell_type": "code",
      "metadata": {
        "colab": {
          "base_uri": "https://localhost:8080/"
        },
        "id": "lKDpfkbGbmcz",
        "outputId": "4738a986-195b-437e-e99d-485c10827f15"
      },
      "source": [
        "train_expanded = pd.read_csv(directory + 'train_expanded_all.csv')"
      ],
      "execution_count": null,
      "outputs": [
        {
          "name": "stderr",
          "output_type": "stream",
          "text": [
            "/usr/local/lib/python3.7/dist-packages/IPython/core/interactiveshell.py:2718: DtypeWarning: Columns (29) have mixed types.Specify dtype option on import or set low_memory=False.\n",
            "  interactivity=interactivity, compiler=compiler, result=result)\n"
          ]
        }
      ]
    },
    {
      "cell_type": "code",
      "metadata": {
        "id": "OQJUhdbrnV6P"
      },
      "source": [
        "column = 'genre_ids'\n",
        "train_df_user = train_expanded[['msno', column, 'song_id']].groupby(['msno', column]).count()"
      ],
      "execution_count": null,
      "outputs": []
    },
    {
      "cell_type": "code",
      "metadata": {
        "id": "mVg5_C0tnV6X"
      },
      "source": [
        "def transpose(train_df_user):\n",
        "  train_df_user = train_df_user.unstack(level=[1])\n",
        "  train_df_user.columns = train_df_user.columns.levels[1]\n",
        "  train_df_user = train_df_user.fillna(0)\n",
        "  return train_df_user"
      ],
      "execution_count": null,
      "outputs": []
    },
    {
      "cell_type": "code",
      "metadata": {
        "id": "vKMoZGKrnV6X"
      },
      "source": [
        "train_df_user = transpose(train_df_user)"
      ],
      "execution_count": null,
      "outputs": []
    },
    {
      "cell_type": "code",
      "metadata": {
        "colab": {
          "base_uri": "https://localhost:8080/",
          "height": 470
        },
        "id": "oztW1qjCFuGw",
        "outputId": "10457a51-d965-4a2b-9e78-98e2ee62574d"
      },
      "source": [
        "train_df_user"
      ],
      "execution_count": null,
      "outputs": [
        {
          "data": {
            "text/html": [
              "<div>\n",
              "<style scoped>\n",
              "    .dataframe tbody tr th:only-of-type {\n",
              "        vertical-align: middle;\n",
              "    }\n",
              "\n",
              "    .dataframe tbody tr th {\n",
              "        vertical-align: top;\n",
              "    }\n",
              "\n",
              "    .dataframe thead th {\n",
              "        text-align: right;\n",
              "    }\n",
              "</style>\n",
              "<table border=\"1\" class=\"dataframe\">\n",
              "  <thead>\n",
              "    <tr style=\"text-align: right;\">\n",
              "      <th>genre_ids</th>\n",
              "      <th>1000</th>\n",
              "      <th>1007</th>\n",
              "      <th>1011</th>\n",
              "      <th>1011|2189|367</th>\n",
              "      <th>1011|359</th>\n",
              "      <th>1011|691</th>\n",
              "      <th>1019</th>\n",
              "      <th>1026</th>\n",
              "      <th>1033</th>\n",
              "      <th>1040</th>\n",
              "      <th>1040|1155</th>\n",
              "      <th>1047</th>\n",
              "      <th>1054</th>\n",
              "      <th>1068</th>\n",
              "      <th>1082</th>\n",
              "      <th>109</th>\n",
              "      <th>1096</th>\n",
              "      <th>1096|958</th>\n",
              "      <th>109|1138</th>\n",
              "      <th>109|118</th>\n",
              "      <th>109|1259</th>\n",
              "      <th>109|139</th>\n",
              "      <th>109|2122</th>\n",
              "      <th>109|359</th>\n",
              "      <th>109|465</th>\n",
              "      <th>109|921</th>\n",
              "      <th>109|94</th>\n",
              "      <th>1103</th>\n",
              "      <th>1110</th>\n",
              "      <th>1117</th>\n",
              "      <th>1124</th>\n",
              "      <th>1131</th>\n",
              "      <th>1138</th>\n",
              "      <th>1138|2122</th>\n",
              "      <th>1145</th>\n",
              "      <th>1145|1103</th>\n",
              "      <th>1145|1110</th>\n",
              "      <th>1145|2122</th>\n",
              "      <th>1145|423</th>\n",
              "      <th>1152</th>\n",
              "      <th>...</th>\n",
              "      <th>921|786</th>\n",
              "      <th>921|798</th>\n",
              "      <th>921|873</th>\n",
              "      <th>921|893</th>\n",
              "      <th>921|900|893</th>\n",
              "      <th>921|921|2206</th>\n",
              "      <th>921|947</th>\n",
              "      <th>921|947|2086|374</th>\n",
              "      <th>921|958</th>\n",
              "      <th>94</th>\n",
              "      <th>940</th>\n",
              "      <th>940|1152</th>\n",
              "      <th>940|1609</th>\n",
              "      <th>940|388</th>\n",
              "      <th>940|726</th>\n",
              "      <th>940|786</th>\n",
              "      <th>940|829</th>\n",
              "      <th>947</th>\n",
              "      <th>947|139|125|109</th>\n",
              "      <th>947|2022|2122|1259|958</th>\n",
              "      <th>947|2022|958</th>\n",
              "      <th>947|2122|139|125|109</th>\n",
              "      <th>947|2122|139|125|109|958</th>\n",
              "      <th>947|726|958</th>\n",
              "      <th>947|958|2022</th>\n",
              "      <th>94|139</th>\n",
              "      <th>94|95</th>\n",
              "      <th>95</th>\n",
              "      <th>958</th>\n",
              "      <th>958|2022</th>\n",
              "      <th>958|2122</th>\n",
              "      <th>958|691</th>\n",
              "      <th>958|786</th>\n",
              "      <th>958|947</th>\n",
              "      <th>965</th>\n",
              "      <th>972</th>\n",
              "      <th>979</th>\n",
              "      <th>986</th>\n",
              "      <th>993|751</th>\n",
              "      <th>UNKNOWN</th>\n",
              "    </tr>\n",
              "    <tr>\n",
              "      <th>msno</th>\n",
              "      <th></th>\n",
              "      <th></th>\n",
              "      <th></th>\n",
              "      <th></th>\n",
              "      <th></th>\n",
              "      <th></th>\n",
              "      <th></th>\n",
              "      <th></th>\n",
              "      <th></th>\n",
              "      <th></th>\n",
              "      <th></th>\n",
              "      <th></th>\n",
              "      <th></th>\n",
              "      <th></th>\n",
              "      <th></th>\n",
              "      <th></th>\n",
              "      <th></th>\n",
              "      <th></th>\n",
              "      <th></th>\n",
              "      <th></th>\n",
              "      <th></th>\n",
              "      <th></th>\n",
              "      <th></th>\n",
              "      <th></th>\n",
              "      <th></th>\n",
              "      <th></th>\n",
              "      <th></th>\n",
              "      <th></th>\n",
              "      <th></th>\n",
              "      <th></th>\n",
              "      <th></th>\n",
              "      <th></th>\n",
              "      <th></th>\n",
              "      <th></th>\n",
              "      <th></th>\n",
              "      <th></th>\n",
              "      <th></th>\n",
              "      <th></th>\n",
              "      <th></th>\n",
              "      <th></th>\n",
              "      <th></th>\n",
              "      <th></th>\n",
              "      <th></th>\n",
              "      <th></th>\n",
              "      <th></th>\n",
              "      <th></th>\n",
              "      <th></th>\n",
              "      <th></th>\n",
              "      <th></th>\n",
              "      <th></th>\n",
              "      <th></th>\n",
              "      <th></th>\n",
              "      <th></th>\n",
              "      <th></th>\n",
              "      <th></th>\n",
              "      <th></th>\n",
              "      <th></th>\n",
              "      <th></th>\n",
              "      <th></th>\n",
              "      <th></th>\n",
              "      <th></th>\n",
              "      <th></th>\n",
              "      <th></th>\n",
              "      <th></th>\n",
              "      <th></th>\n",
              "      <th></th>\n",
              "      <th></th>\n",
              "      <th></th>\n",
              "      <th></th>\n",
              "      <th></th>\n",
              "      <th></th>\n",
              "      <th></th>\n",
              "      <th></th>\n",
              "      <th></th>\n",
              "      <th></th>\n",
              "      <th></th>\n",
              "      <th></th>\n",
              "      <th></th>\n",
              "      <th></th>\n",
              "      <th></th>\n",
              "      <th></th>\n",
              "    </tr>\n",
              "  </thead>\n",
              "  <tbody>\n",
              "    <tr>\n",
              "      <th>++5wYjoMgQHoRuD3GbbvmphZbBBwymzv5Q4l8sywtuU=</th>\n",
              "      <td>0.0</td>\n",
              "      <td>0.0</td>\n",
              "      <td>0.0</td>\n",
              "      <td>0.0</td>\n",
              "      <td>0.0</td>\n",
              "      <td>0.0</td>\n",
              "      <td>0.0</td>\n",
              "      <td>0.0</td>\n",
              "      <td>0.0</td>\n",
              "      <td>0.0</td>\n",
              "      <td>0.0</td>\n",
              "      <td>0.0</td>\n",
              "      <td>0.0</td>\n",
              "      <td>0.0</td>\n",
              "      <td>0.0</td>\n",
              "      <td>0.0</td>\n",
              "      <td>0.0</td>\n",
              "      <td>0.0</td>\n",
              "      <td>0.0</td>\n",
              "      <td>0.0</td>\n",
              "      <td>0.0</td>\n",
              "      <td>0.0</td>\n",
              "      <td>0.0</td>\n",
              "      <td>0.0</td>\n",
              "      <td>0.0</td>\n",
              "      <td>0.0</td>\n",
              "      <td>0.0</td>\n",
              "      <td>0.0</td>\n",
              "      <td>0.0</td>\n",
              "      <td>0.0</td>\n",
              "      <td>0.0</td>\n",
              "      <td>0.0</td>\n",
              "      <td>0.0</td>\n",
              "      <td>0.0</td>\n",
              "      <td>0.0</td>\n",
              "      <td>0.0</td>\n",
              "      <td>0.0</td>\n",
              "      <td>0.0</td>\n",
              "      <td>0.0</td>\n",
              "      <td>0.0</td>\n",
              "      <td>...</td>\n",
              "      <td>0.0</td>\n",
              "      <td>0.0</td>\n",
              "      <td>0.0</td>\n",
              "      <td>0.0</td>\n",
              "      <td>0.0</td>\n",
              "      <td>0.0</td>\n",
              "      <td>0.0</td>\n",
              "      <td>0.0</td>\n",
              "      <td>0.0</td>\n",
              "      <td>0.0</td>\n",
              "      <td>0.0</td>\n",
              "      <td>0.0</td>\n",
              "      <td>0.0</td>\n",
              "      <td>0.0</td>\n",
              "      <td>0.0</td>\n",
              "      <td>0.0</td>\n",
              "      <td>0.0</td>\n",
              "      <td>0.0</td>\n",
              "      <td>0.0</td>\n",
              "      <td>0.0</td>\n",
              "      <td>0.0</td>\n",
              "      <td>0.0</td>\n",
              "      <td>0.0</td>\n",
              "      <td>0.0</td>\n",
              "      <td>0.0</td>\n",
              "      <td>0.0</td>\n",
              "      <td>0.0</td>\n",
              "      <td>0.0</td>\n",
              "      <td>0.0</td>\n",
              "      <td>0.0</td>\n",
              "      <td>0.0</td>\n",
              "      <td>0.0</td>\n",
              "      <td>0.0</td>\n",
              "      <td>0.0</td>\n",
              "      <td>0.0</td>\n",
              "      <td>0.0</td>\n",
              "      <td>0.0</td>\n",
              "      <td>0.0</td>\n",
              "      <td>0.0</td>\n",
              "      <td>0.0</td>\n",
              "    </tr>\n",
              "    <tr>\n",
              "      <th>++AH7m/EQ4iKe6wSlfO/xXAJx50p+fCeTyF90GoE9Pg=</th>\n",
              "      <td>0.0</td>\n",
              "      <td>0.0</td>\n",
              "      <td>4.0</td>\n",
              "      <td>0.0</td>\n",
              "      <td>0.0</td>\n",
              "      <td>0.0</td>\n",
              "      <td>0.0</td>\n",
              "      <td>0.0</td>\n",
              "      <td>0.0</td>\n",
              "      <td>0.0</td>\n",
              "      <td>0.0</td>\n",
              "      <td>0.0</td>\n",
              "      <td>0.0</td>\n",
              "      <td>0.0</td>\n",
              "      <td>0.0</td>\n",
              "      <td>0.0</td>\n",
              "      <td>0.0</td>\n",
              "      <td>0.0</td>\n",
              "      <td>0.0</td>\n",
              "      <td>0.0</td>\n",
              "      <td>0.0</td>\n",
              "      <td>0.0</td>\n",
              "      <td>0.0</td>\n",
              "      <td>0.0</td>\n",
              "      <td>0.0</td>\n",
              "      <td>0.0</td>\n",
              "      <td>0.0</td>\n",
              "      <td>0.0</td>\n",
              "      <td>0.0</td>\n",
              "      <td>0.0</td>\n",
              "      <td>0.0</td>\n",
              "      <td>0.0</td>\n",
              "      <td>0.0</td>\n",
              "      <td>0.0</td>\n",
              "      <td>0.0</td>\n",
              "      <td>0.0</td>\n",
              "      <td>0.0</td>\n",
              "      <td>0.0</td>\n",
              "      <td>0.0</td>\n",
              "      <td>0.0</td>\n",
              "      <td>...</td>\n",
              "      <td>0.0</td>\n",
              "      <td>0.0</td>\n",
              "      <td>0.0</td>\n",
              "      <td>0.0</td>\n",
              "      <td>0.0</td>\n",
              "      <td>0.0</td>\n",
              "      <td>0.0</td>\n",
              "      <td>0.0</td>\n",
              "      <td>0.0</td>\n",
              "      <td>0.0</td>\n",
              "      <td>0.0</td>\n",
              "      <td>0.0</td>\n",
              "      <td>0.0</td>\n",
              "      <td>0.0</td>\n",
              "      <td>0.0</td>\n",
              "      <td>0.0</td>\n",
              "      <td>0.0</td>\n",
              "      <td>0.0</td>\n",
              "      <td>0.0</td>\n",
              "      <td>0.0</td>\n",
              "      <td>0.0</td>\n",
              "      <td>0.0</td>\n",
              "      <td>0.0</td>\n",
              "      <td>0.0</td>\n",
              "      <td>0.0</td>\n",
              "      <td>0.0</td>\n",
              "      <td>0.0</td>\n",
              "      <td>0.0</td>\n",
              "      <td>0.0</td>\n",
              "      <td>0.0</td>\n",
              "      <td>0.0</td>\n",
              "      <td>0.0</td>\n",
              "      <td>0.0</td>\n",
              "      <td>0.0</td>\n",
              "      <td>0.0</td>\n",
              "      <td>0.0</td>\n",
              "      <td>0.0</td>\n",
              "      <td>0.0</td>\n",
              "      <td>0.0</td>\n",
              "      <td>0.0</td>\n",
              "    </tr>\n",
              "    <tr>\n",
              "      <th>++e+jsxuQ8UEnmW40od9Rq3rW7+wAum4wooXyZTKJpk=</th>\n",
              "      <td>0.0</td>\n",
              "      <td>0.0</td>\n",
              "      <td>0.0</td>\n",
              "      <td>0.0</td>\n",
              "      <td>0.0</td>\n",
              "      <td>0.0</td>\n",
              "      <td>0.0</td>\n",
              "      <td>0.0</td>\n",
              "      <td>0.0</td>\n",
              "      <td>0.0</td>\n",
              "      <td>0.0</td>\n",
              "      <td>0.0</td>\n",
              "      <td>0.0</td>\n",
              "      <td>0.0</td>\n",
              "      <td>0.0</td>\n",
              "      <td>0.0</td>\n",
              "      <td>0.0</td>\n",
              "      <td>0.0</td>\n",
              "      <td>0.0</td>\n",
              "      <td>0.0</td>\n",
              "      <td>0.0</td>\n",
              "      <td>0.0</td>\n",
              "      <td>0.0</td>\n",
              "      <td>0.0</td>\n",
              "      <td>0.0</td>\n",
              "      <td>0.0</td>\n",
              "      <td>0.0</td>\n",
              "      <td>0.0</td>\n",
              "      <td>0.0</td>\n",
              "      <td>0.0</td>\n",
              "      <td>0.0</td>\n",
              "      <td>0.0</td>\n",
              "      <td>0.0</td>\n",
              "      <td>0.0</td>\n",
              "      <td>0.0</td>\n",
              "      <td>0.0</td>\n",
              "      <td>0.0</td>\n",
              "      <td>0.0</td>\n",
              "      <td>0.0</td>\n",
              "      <td>0.0</td>\n",
              "      <td>...</td>\n",
              "      <td>0.0</td>\n",
              "      <td>0.0</td>\n",
              "      <td>0.0</td>\n",
              "      <td>0.0</td>\n",
              "      <td>0.0</td>\n",
              "      <td>0.0</td>\n",
              "      <td>0.0</td>\n",
              "      <td>0.0</td>\n",
              "      <td>0.0</td>\n",
              "      <td>0.0</td>\n",
              "      <td>0.0</td>\n",
              "      <td>0.0</td>\n",
              "      <td>0.0</td>\n",
              "      <td>0.0</td>\n",
              "      <td>0.0</td>\n",
              "      <td>0.0</td>\n",
              "      <td>0.0</td>\n",
              "      <td>0.0</td>\n",
              "      <td>0.0</td>\n",
              "      <td>0.0</td>\n",
              "      <td>0.0</td>\n",
              "      <td>0.0</td>\n",
              "      <td>0.0</td>\n",
              "      <td>0.0</td>\n",
              "      <td>0.0</td>\n",
              "      <td>0.0</td>\n",
              "      <td>0.0</td>\n",
              "      <td>0.0</td>\n",
              "      <td>0.0</td>\n",
              "      <td>0.0</td>\n",
              "      <td>0.0</td>\n",
              "      <td>0.0</td>\n",
              "      <td>0.0</td>\n",
              "      <td>0.0</td>\n",
              "      <td>0.0</td>\n",
              "      <td>0.0</td>\n",
              "      <td>0.0</td>\n",
              "      <td>0.0</td>\n",
              "      <td>0.0</td>\n",
              "      <td>0.0</td>\n",
              "    </tr>\n",
              "    <tr>\n",
              "      <th>++xWL5Pbi2CpG4uUugigQahauM0J/sBIRloTNPBybIU=</th>\n",
              "      <td>0.0</td>\n",
              "      <td>0.0</td>\n",
              "      <td>0.0</td>\n",
              "      <td>0.0</td>\n",
              "      <td>0.0</td>\n",
              "      <td>0.0</td>\n",
              "      <td>0.0</td>\n",
              "      <td>0.0</td>\n",
              "      <td>0.0</td>\n",
              "      <td>0.0</td>\n",
              "      <td>0.0</td>\n",
              "      <td>0.0</td>\n",
              "      <td>0.0</td>\n",
              "      <td>0.0</td>\n",
              "      <td>0.0</td>\n",
              "      <td>0.0</td>\n",
              "      <td>0.0</td>\n",
              "      <td>0.0</td>\n",
              "      <td>0.0</td>\n",
              "      <td>0.0</td>\n",
              "      <td>0.0</td>\n",
              "      <td>0.0</td>\n",
              "      <td>0.0</td>\n",
              "      <td>0.0</td>\n",
              "      <td>0.0</td>\n",
              "      <td>0.0</td>\n",
              "      <td>0.0</td>\n",
              "      <td>0.0</td>\n",
              "      <td>0.0</td>\n",
              "      <td>0.0</td>\n",
              "      <td>0.0</td>\n",
              "      <td>0.0</td>\n",
              "      <td>0.0</td>\n",
              "      <td>0.0</td>\n",
              "      <td>0.0</td>\n",
              "      <td>0.0</td>\n",
              "      <td>0.0</td>\n",
              "      <td>0.0</td>\n",
              "      <td>0.0</td>\n",
              "      <td>0.0</td>\n",
              "      <td>...</td>\n",
              "      <td>0.0</td>\n",
              "      <td>0.0</td>\n",
              "      <td>0.0</td>\n",
              "      <td>0.0</td>\n",
              "      <td>0.0</td>\n",
              "      <td>0.0</td>\n",
              "      <td>0.0</td>\n",
              "      <td>0.0</td>\n",
              "      <td>0.0</td>\n",
              "      <td>0.0</td>\n",
              "      <td>0.0</td>\n",
              "      <td>0.0</td>\n",
              "      <td>0.0</td>\n",
              "      <td>0.0</td>\n",
              "      <td>0.0</td>\n",
              "      <td>0.0</td>\n",
              "      <td>0.0</td>\n",
              "      <td>0.0</td>\n",
              "      <td>0.0</td>\n",
              "      <td>0.0</td>\n",
              "      <td>0.0</td>\n",
              "      <td>0.0</td>\n",
              "      <td>0.0</td>\n",
              "      <td>0.0</td>\n",
              "      <td>0.0</td>\n",
              "      <td>0.0</td>\n",
              "      <td>0.0</td>\n",
              "      <td>0.0</td>\n",
              "      <td>0.0</td>\n",
              "      <td>0.0</td>\n",
              "      <td>0.0</td>\n",
              "      <td>0.0</td>\n",
              "      <td>0.0</td>\n",
              "      <td>0.0</td>\n",
              "      <td>0.0</td>\n",
              "      <td>0.0</td>\n",
              "      <td>0.0</td>\n",
              "      <td>0.0</td>\n",
              "      <td>0.0</td>\n",
              "      <td>0.0</td>\n",
              "    </tr>\n",
              "    <tr>\n",
              "      <th>+/SKX44s4ryWQzYzuV7ZKMXqIKQMN1cPz3M8CJ8CFKU=</th>\n",
              "      <td>0.0</td>\n",
              "      <td>0.0</td>\n",
              "      <td>1.0</td>\n",
              "      <td>0.0</td>\n",
              "      <td>0.0</td>\n",
              "      <td>0.0</td>\n",
              "      <td>0.0</td>\n",
              "      <td>0.0</td>\n",
              "      <td>0.0</td>\n",
              "      <td>0.0</td>\n",
              "      <td>0.0</td>\n",
              "      <td>0.0</td>\n",
              "      <td>0.0</td>\n",
              "      <td>0.0</td>\n",
              "      <td>0.0</td>\n",
              "      <td>0.0</td>\n",
              "      <td>0.0</td>\n",
              "      <td>0.0</td>\n",
              "      <td>0.0</td>\n",
              "      <td>0.0</td>\n",
              "      <td>0.0</td>\n",
              "      <td>0.0</td>\n",
              "      <td>0.0</td>\n",
              "      <td>0.0</td>\n",
              "      <td>0.0</td>\n",
              "      <td>0.0</td>\n",
              "      <td>0.0</td>\n",
              "      <td>0.0</td>\n",
              "      <td>0.0</td>\n",
              "      <td>0.0</td>\n",
              "      <td>0.0</td>\n",
              "      <td>0.0</td>\n",
              "      <td>0.0</td>\n",
              "      <td>0.0</td>\n",
              "      <td>0.0</td>\n",
              "      <td>0.0</td>\n",
              "      <td>0.0</td>\n",
              "      <td>0.0</td>\n",
              "      <td>0.0</td>\n",
              "      <td>0.0</td>\n",
              "      <td>...</td>\n",
              "      <td>0.0</td>\n",
              "      <td>0.0</td>\n",
              "      <td>0.0</td>\n",
              "      <td>0.0</td>\n",
              "      <td>0.0</td>\n",
              "      <td>0.0</td>\n",
              "      <td>0.0</td>\n",
              "      <td>0.0</td>\n",
              "      <td>0.0</td>\n",
              "      <td>0.0</td>\n",
              "      <td>0.0</td>\n",
              "      <td>0.0</td>\n",
              "      <td>0.0</td>\n",
              "      <td>0.0</td>\n",
              "      <td>0.0</td>\n",
              "      <td>0.0</td>\n",
              "      <td>0.0</td>\n",
              "      <td>0.0</td>\n",
              "      <td>0.0</td>\n",
              "      <td>0.0</td>\n",
              "      <td>0.0</td>\n",
              "      <td>0.0</td>\n",
              "      <td>0.0</td>\n",
              "      <td>0.0</td>\n",
              "      <td>0.0</td>\n",
              "      <td>0.0</td>\n",
              "      <td>0.0</td>\n",
              "      <td>0.0</td>\n",
              "      <td>0.0</td>\n",
              "      <td>0.0</td>\n",
              "      <td>0.0</td>\n",
              "      <td>0.0</td>\n",
              "      <td>0.0</td>\n",
              "      <td>0.0</td>\n",
              "      <td>0.0</td>\n",
              "      <td>0.0</td>\n",
              "      <td>0.0</td>\n",
              "      <td>0.0</td>\n",
              "      <td>0.0</td>\n",
              "      <td>0.0</td>\n",
              "    </tr>\n",
              "    <tr>\n",
              "      <th>...</th>\n",
              "      <td>...</td>\n",
              "      <td>...</td>\n",
              "      <td>...</td>\n",
              "      <td>...</td>\n",
              "      <td>...</td>\n",
              "      <td>...</td>\n",
              "      <td>...</td>\n",
              "      <td>...</td>\n",
              "      <td>...</td>\n",
              "      <td>...</td>\n",
              "      <td>...</td>\n",
              "      <td>...</td>\n",
              "      <td>...</td>\n",
              "      <td>...</td>\n",
              "      <td>...</td>\n",
              "      <td>...</td>\n",
              "      <td>...</td>\n",
              "      <td>...</td>\n",
              "      <td>...</td>\n",
              "      <td>...</td>\n",
              "      <td>...</td>\n",
              "      <td>...</td>\n",
              "      <td>...</td>\n",
              "      <td>...</td>\n",
              "      <td>...</td>\n",
              "      <td>...</td>\n",
              "      <td>...</td>\n",
              "      <td>...</td>\n",
              "      <td>...</td>\n",
              "      <td>...</td>\n",
              "      <td>...</td>\n",
              "      <td>...</td>\n",
              "      <td>...</td>\n",
              "      <td>...</td>\n",
              "      <td>...</td>\n",
              "      <td>...</td>\n",
              "      <td>...</td>\n",
              "      <td>...</td>\n",
              "      <td>...</td>\n",
              "      <td>...</td>\n",
              "      <td>...</td>\n",
              "      <td>...</td>\n",
              "      <td>...</td>\n",
              "      <td>...</td>\n",
              "      <td>...</td>\n",
              "      <td>...</td>\n",
              "      <td>...</td>\n",
              "      <td>...</td>\n",
              "      <td>...</td>\n",
              "      <td>...</td>\n",
              "      <td>...</td>\n",
              "      <td>...</td>\n",
              "      <td>...</td>\n",
              "      <td>...</td>\n",
              "      <td>...</td>\n",
              "      <td>...</td>\n",
              "      <td>...</td>\n",
              "      <td>...</td>\n",
              "      <td>...</td>\n",
              "      <td>...</td>\n",
              "      <td>...</td>\n",
              "      <td>...</td>\n",
              "      <td>...</td>\n",
              "      <td>...</td>\n",
              "      <td>...</td>\n",
              "      <td>...</td>\n",
              "      <td>...</td>\n",
              "      <td>...</td>\n",
              "      <td>...</td>\n",
              "      <td>...</td>\n",
              "      <td>...</td>\n",
              "      <td>...</td>\n",
              "      <td>...</td>\n",
              "      <td>...</td>\n",
              "      <td>...</td>\n",
              "      <td>...</td>\n",
              "      <td>...</td>\n",
              "      <td>...</td>\n",
              "      <td>...</td>\n",
              "      <td>...</td>\n",
              "      <td>...</td>\n",
              "    </tr>\n",
              "    <tr>\n",
              "      <th>zzTnhToV1XfDIsDJ1YaXM3Q05xV54T8Q0zTJkakXsks=</th>\n",
              "      <td>0.0</td>\n",
              "      <td>0.0</td>\n",
              "      <td>0.0</td>\n",
              "      <td>0.0</td>\n",
              "      <td>0.0</td>\n",
              "      <td>0.0</td>\n",
              "      <td>0.0</td>\n",
              "      <td>0.0</td>\n",
              "      <td>0.0</td>\n",
              "      <td>0.0</td>\n",
              "      <td>0.0</td>\n",
              "      <td>0.0</td>\n",
              "      <td>0.0</td>\n",
              "      <td>0.0</td>\n",
              "      <td>0.0</td>\n",
              "      <td>0.0</td>\n",
              "      <td>0.0</td>\n",
              "      <td>0.0</td>\n",
              "      <td>0.0</td>\n",
              "      <td>0.0</td>\n",
              "      <td>0.0</td>\n",
              "      <td>0.0</td>\n",
              "      <td>0.0</td>\n",
              "      <td>0.0</td>\n",
              "      <td>0.0</td>\n",
              "      <td>0.0</td>\n",
              "      <td>0.0</td>\n",
              "      <td>0.0</td>\n",
              "      <td>0.0</td>\n",
              "      <td>0.0</td>\n",
              "      <td>0.0</td>\n",
              "      <td>0.0</td>\n",
              "      <td>0.0</td>\n",
              "      <td>0.0</td>\n",
              "      <td>0.0</td>\n",
              "      <td>0.0</td>\n",
              "      <td>0.0</td>\n",
              "      <td>0.0</td>\n",
              "      <td>0.0</td>\n",
              "      <td>0.0</td>\n",
              "      <td>...</td>\n",
              "      <td>0.0</td>\n",
              "      <td>0.0</td>\n",
              "      <td>0.0</td>\n",
              "      <td>0.0</td>\n",
              "      <td>0.0</td>\n",
              "      <td>0.0</td>\n",
              "      <td>0.0</td>\n",
              "      <td>0.0</td>\n",
              "      <td>0.0</td>\n",
              "      <td>0.0</td>\n",
              "      <td>0.0</td>\n",
              "      <td>0.0</td>\n",
              "      <td>0.0</td>\n",
              "      <td>0.0</td>\n",
              "      <td>0.0</td>\n",
              "      <td>0.0</td>\n",
              "      <td>0.0</td>\n",
              "      <td>0.0</td>\n",
              "      <td>0.0</td>\n",
              "      <td>0.0</td>\n",
              "      <td>0.0</td>\n",
              "      <td>0.0</td>\n",
              "      <td>0.0</td>\n",
              "      <td>0.0</td>\n",
              "      <td>0.0</td>\n",
              "      <td>0.0</td>\n",
              "      <td>0.0</td>\n",
              "      <td>0.0</td>\n",
              "      <td>0.0</td>\n",
              "      <td>0.0</td>\n",
              "      <td>0.0</td>\n",
              "      <td>0.0</td>\n",
              "      <td>0.0</td>\n",
              "      <td>0.0</td>\n",
              "      <td>0.0</td>\n",
              "      <td>0.0</td>\n",
              "      <td>0.0</td>\n",
              "      <td>0.0</td>\n",
              "      <td>0.0</td>\n",
              "      <td>0.0</td>\n",
              "    </tr>\n",
              "    <tr>\n",
              "      <th>zzZBJUYXrb168A4Ff4sA8L2iOH0x4ciKdD6WkV53XaE=</th>\n",
              "      <td>0.0</td>\n",
              "      <td>0.0</td>\n",
              "      <td>2.0</td>\n",
              "      <td>0.0</td>\n",
              "      <td>0.0</td>\n",
              "      <td>0.0</td>\n",
              "      <td>0.0</td>\n",
              "      <td>0.0</td>\n",
              "      <td>0.0</td>\n",
              "      <td>0.0</td>\n",
              "      <td>0.0</td>\n",
              "      <td>0.0</td>\n",
              "      <td>0.0</td>\n",
              "      <td>0.0</td>\n",
              "      <td>0.0</td>\n",
              "      <td>0.0</td>\n",
              "      <td>1.0</td>\n",
              "      <td>0.0</td>\n",
              "      <td>0.0</td>\n",
              "      <td>0.0</td>\n",
              "      <td>0.0</td>\n",
              "      <td>0.0</td>\n",
              "      <td>0.0</td>\n",
              "      <td>0.0</td>\n",
              "      <td>0.0</td>\n",
              "      <td>0.0</td>\n",
              "      <td>0.0</td>\n",
              "      <td>0.0</td>\n",
              "      <td>0.0</td>\n",
              "      <td>0.0</td>\n",
              "      <td>0.0</td>\n",
              "      <td>0.0</td>\n",
              "      <td>0.0</td>\n",
              "      <td>0.0</td>\n",
              "      <td>0.0</td>\n",
              "      <td>0.0</td>\n",
              "      <td>0.0</td>\n",
              "      <td>0.0</td>\n",
              "      <td>0.0</td>\n",
              "      <td>0.0</td>\n",
              "      <td>...</td>\n",
              "      <td>0.0</td>\n",
              "      <td>0.0</td>\n",
              "      <td>0.0</td>\n",
              "      <td>0.0</td>\n",
              "      <td>0.0</td>\n",
              "      <td>0.0</td>\n",
              "      <td>0.0</td>\n",
              "      <td>0.0</td>\n",
              "      <td>0.0</td>\n",
              "      <td>0.0</td>\n",
              "      <td>0.0</td>\n",
              "      <td>0.0</td>\n",
              "      <td>0.0</td>\n",
              "      <td>0.0</td>\n",
              "      <td>0.0</td>\n",
              "      <td>0.0</td>\n",
              "      <td>0.0</td>\n",
              "      <td>0.0</td>\n",
              "      <td>0.0</td>\n",
              "      <td>0.0</td>\n",
              "      <td>0.0</td>\n",
              "      <td>0.0</td>\n",
              "      <td>0.0</td>\n",
              "      <td>0.0</td>\n",
              "      <td>0.0</td>\n",
              "      <td>0.0</td>\n",
              "      <td>0.0</td>\n",
              "      <td>0.0</td>\n",
              "      <td>1.0</td>\n",
              "      <td>0.0</td>\n",
              "      <td>0.0</td>\n",
              "      <td>0.0</td>\n",
              "      <td>0.0</td>\n",
              "      <td>0.0</td>\n",
              "      <td>0.0</td>\n",
              "      <td>0.0</td>\n",
              "      <td>0.0</td>\n",
              "      <td>0.0</td>\n",
              "      <td>0.0</td>\n",
              "      <td>0.0</td>\n",
              "    </tr>\n",
              "    <tr>\n",
              "      <th>zzompfSaMamqvjyCMYvgUBwYrxh8fHE40z3f73CQoak=</th>\n",
              "      <td>0.0</td>\n",
              "      <td>0.0</td>\n",
              "      <td>2.0</td>\n",
              "      <td>0.0</td>\n",
              "      <td>0.0</td>\n",
              "      <td>0.0</td>\n",
              "      <td>0.0</td>\n",
              "      <td>0.0</td>\n",
              "      <td>0.0</td>\n",
              "      <td>0.0</td>\n",
              "      <td>0.0</td>\n",
              "      <td>0.0</td>\n",
              "      <td>0.0</td>\n",
              "      <td>0.0</td>\n",
              "      <td>0.0</td>\n",
              "      <td>0.0</td>\n",
              "      <td>0.0</td>\n",
              "      <td>0.0</td>\n",
              "      <td>0.0</td>\n",
              "      <td>0.0</td>\n",
              "      <td>0.0</td>\n",
              "      <td>0.0</td>\n",
              "      <td>0.0</td>\n",
              "      <td>0.0</td>\n",
              "      <td>0.0</td>\n",
              "      <td>0.0</td>\n",
              "      <td>0.0</td>\n",
              "      <td>0.0</td>\n",
              "      <td>0.0</td>\n",
              "      <td>0.0</td>\n",
              "      <td>0.0</td>\n",
              "      <td>0.0</td>\n",
              "      <td>0.0</td>\n",
              "      <td>0.0</td>\n",
              "      <td>0.0</td>\n",
              "      <td>0.0</td>\n",
              "      <td>0.0</td>\n",
              "      <td>0.0</td>\n",
              "      <td>0.0</td>\n",
              "      <td>3.0</td>\n",
              "      <td>...</td>\n",
              "      <td>0.0</td>\n",
              "      <td>0.0</td>\n",
              "      <td>0.0</td>\n",
              "      <td>0.0</td>\n",
              "      <td>0.0</td>\n",
              "      <td>0.0</td>\n",
              "      <td>0.0</td>\n",
              "      <td>0.0</td>\n",
              "      <td>0.0</td>\n",
              "      <td>0.0</td>\n",
              "      <td>0.0</td>\n",
              "      <td>0.0</td>\n",
              "      <td>0.0</td>\n",
              "      <td>0.0</td>\n",
              "      <td>0.0</td>\n",
              "      <td>0.0</td>\n",
              "      <td>0.0</td>\n",
              "      <td>0.0</td>\n",
              "      <td>0.0</td>\n",
              "      <td>0.0</td>\n",
              "      <td>0.0</td>\n",
              "      <td>0.0</td>\n",
              "      <td>0.0</td>\n",
              "      <td>0.0</td>\n",
              "      <td>0.0</td>\n",
              "      <td>0.0</td>\n",
              "      <td>0.0</td>\n",
              "      <td>0.0</td>\n",
              "      <td>23.0</td>\n",
              "      <td>0.0</td>\n",
              "      <td>0.0</td>\n",
              "      <td>0.0</td>\n",
              "      <td>0.0</td>\n",
              "      <td>0.0</td>\n",
              "      <td>0.0</td>\n",
              "      <td>0.0</td>\n",
              "      <td>0.0</td>\n",
              "      <td>0.0</td>\n",
              "      <td>0.0</td>\n",
              "      <td>0.0</td>\n",
              "    </tr>\n",
              "    <tr>\n",
              "      <th>zzqc2ja7z10FtSpagYVcAZXg/gPRq7wcDZuNFj+zJSU=</th>\n",
              "      <td>0.0</td>\n",
              "      <td>0.0</td>\n",
              "      <td>0.0</td>\n",
              "      <td>0.0</td>\n",
              "      <td>0.0</td>\n",
              "      <td>0.0</td>\n",
              "      <td>0.0</td>\n",
              "      <td>0.0</td>\n",
              "      <td>0.0</td>\n",
              "      <td>0.0</td>\n",
              "      <td>0.0</td>\n",
              "      <td>0.0</td>\n",
              "      <td>0.0</td>\n",
              "      <td>0.0</td>\n",
              "      <td>0.0</td>\n",
              "      <td>0.0</td>\n",
              "      <td>0.0</td>\n",
              "      <td>0.0</td>\n",
              "      <td>0.0</td>\n",
              "      <td>0.0</td>\n",
              "      <td>0.0</td>\n",
              "      <td>0.0</td>\n",
              "      <td>0.0</td>\n",
              "      <td>0.0</td>\n",
              "      <td>0.0</td>\n",
              "      <td>0.0</td>\n",
              "      <td>0.0</td>\n",
              "      <td>0.0</td>\n",
              "      <td>0.0</td>\n",
              "      <td>0.0</td>\n",
              "      <td>0.0</td>\n",
              "      <td>0.0</td>\n",
              "      <td>0.0</td>\n",
              "      <td>0.0</td>\n",
              "      <td>0.0</td>\n",
              "      <td>0.0</td>\n",
              "      <td>0.0</td>\n",
              "      <td>0.0</td>\n",
              "      <td>0.0</td>\n",
              "      <td>0.0</td>\n",
              "      <td>...</td>\n",
              "      <td>0.0</td>\n",
              "      <td>0.0</td>\n",
              "      <td>0.0</td>\n",
              "      <td>0.0</td>\n",
              "      <td>0.0</td>\n",
              "      <td>0.0</td>\n",
              "      <td>0.0</td>\n",
              "      <td>0.0</td>\n",
              "      <td>0.0</td>\n",
              "      <td>0.0</td>\n",
              "      <td>0.0</td>\n",
              "      <td>0.0</td>\n",
              "      <td>0.0</td>\n",
              "      <td>0.0</td>\n",
              "      <td>0.0</td>\n",
              "      <td>0.0</td>\n",
              "      <td>0.0</td>\n",
              "      <td>0.0</td>\n",
              "      <td>0.0</td>\n",
              "      <td>0.0</td>\n",
              "      <td>0.0</td>\n",
              "      <td>0.0</td>\n",
              "      <td>0.0</td>\n",
              "      <td>0.0</td>\n",
              "      <td>0.0</td>\n",
              "      <td>0.0</td>\n",
              "      <td>0.0</td>\n",
              "      <td>0.0</td>\n",
              "      <td>0.0</td>\n",
              "      <td>0.0</td>\n",
              "      <td>0.0</td>\n",
              "      <td>0.0</td>\n",
              "      <td>0.0</td>\n",
              "      <td>0.0</td>\n",
              "      <td>0.0</td>\n",
              "      <td>0.0</td>\n",
              "      <td>0.0</td>\n",
              "      <td>0.0</td>\n",
              "      <td>0.0</td>\n",
              "      <td>0.0</td>\n",
              "    </tr>\n",
              "    <tr>\n",
              "      <th>zzzRi5ek1YCKTGns8C77xwAutE05PAPmz8T/pIIQhzE=</th>\n",
              "      <td>0.0</td>\n",
              "      <td>0.0</td>\n",
              "      <td>0.0</td>\n",
              "      <td>0.0</td>\n",
              "      <td>0.0</td>\n",
              "      <td>0.0</td>\n",
              "      <td>0.0</td>\n",
              "      <td>0.0</td>\n",
              "      <td>0.0</td>\n",
              "      <td>0.0</td>\n",
              "      <td>0.0</td>\n",
              "      <td>0.0</td>\n",
              "      <td>0.0</td>\n",
              "      <td>0.0</td>\n",
              "      <td>0.0</td>\n",
              "      <td>0.0</td>\n",
              "      <td>0.0</td>\n",
              "      <td>0.0</td>\n",
              "      <td>0.0</td>\n",
              "      <td>0.0</td>\n",
              "      <td>0.0</td>\n",
              "      <td>0.0</td>\n",
              "      <td>0.0</td>\n",
              "      <td>0.0</td>\n",
              "      <td>0.0</td>\n",
              "      <td>0.0</td>\n",
              "      <td>0.0</td>\n",
              "      <td>0.0</td>\n",
              "      <td>0.0</td>\n",
              "      <td>0.0</td>\n",
              "      <td>0.0</td>\n",
              "      <td>0.0</td>\n",
              "      <td>0.0</td>\n",
              "      <td>0.0</td>\n",
              "      <td>0.0</td>\n",
              "      <td>0.0</td>\n",
              "      <td>0.0</td>\n",
              "      <td>0.0</td>\n",
              "      <td>0.0</td>\n",
              "      <td>0.0</td>\n",
              "      <td>...</td>\n",
              "      <td>0.0</td>\n",
              "      <td>0.0</td>\n",
              "      <td>0.0</td>\n",
              "      <td>0.0</td>\n",
              "      <td>0.0</td>\n",
              "      <td>0.0</td>\n",
              "      <td>0.0</td>\n",
              "      <td>0.0</td>\n",
              "      <td>0.0</td>\n",
              "      <td>0.0</td>\n",
              "      <td>0.0</td>\n",
              "      <td>0.0</td>\n",
              "      <td>0.0</td>\n",
              "      <td>0.0</td>\n",
              "      <td>0.0</td>\n",
              "      <td>0.0</td>\n",
              "      <td>0.0</td>\n",
              "      <td>0.0</td>\n",
              "      <td>0.0</td>\n",
              "      <td>0.0</td>\n",
              "      <td>0.0</td>\n",
              "      <td>0.0</td>\n",
              "      <td>0.0</td>\n",
              "      <td>0.0</td>\n",
              "      <td>0.0</td>\n",
              "      <td>0.0</td>\n",
              "      <td>0.0</td>\n",
              "      <td>0.0</td>\n",
              "      <td>0.0</td>\n",
              "      <td>0.0</td>\n",
              "      <td>0.0</td>\n",
              "      <td>0.0</td>\n",
              "      <td>0.0</td>\n",
              "      <td>0.0</td>\n",
              "      <td>0.0</td>\n",
              "      <td>0.0</td>\n",
              "      <td>0.0</td>\n",
              "      <td>0.0</td>\n",
              "      <td>0.0</td>\n",
              "      <td>0.0</td>\n",
              "    </tr>\n",
              "  </tbody>\n",
              "</table>\n",
              "<p>30755 rows × 601 columns</p>\n",
              "</div>"
            ],
            "text/plain": [
              "genre_ids                                     1000  1007  ...  993|751  UNKNOWN\n",
              "msno                                                      ...                  \n",
              "++5wYjoMgQHoRuD3GbbvmphZbBBwymzv5Q4l8sywtuU=   0.0   0.0  ...      0.0      0.0\n",
              "++AH7m/EQ4iKe6wSlfO/xXAJx50p+fCeTyF90GoE9Pg=   0.0   0.0  ...      0.0      0.0\n",
              "++e+jsxuQ8UEnmW40od9Rq3rW7+wAum4wooXyZTKJpk=   0.0   0.0  ...      0.0      0.0\n",
              "++xWL5Pbi2CpG4uUugigQahauM0J/sBIRloTNPBybIU=   0.0   0.0  ...      0.0      0.0\n",
              "+/SKX44s4ryWQzYzuV7ZKMXqIKQMN1cPz3M8CJ8CFKU=   0.0   0.0  ...      0.0      0.0\n",
              "...                                            ...   ...  ...      ...      ...\n",
              "zzTnhToV1XfDIsDJ1YaXM3Q05xV54T8Q0zTJkakXsks=   0.0   0.0  ...      0.0      0.0\n",
              "zzZBJUYXrb168A4Ff4sA8L2iOH0x4ciKdD6WkV53XaE=   0.0   0.0  ...      0.0      0.0\n",
              "zzompfSaMamqvjyCMYvgUBwYrxh8fHE40z3f73CQoak=   0.0   0.0  ...      0.0      0.0\n",
              "zzqc2ja7z10FtSpagYVcAZXg/gPRq7wcDZuNFj+zJSU=   0.0   0.0  ...      0.0      0.0\n",
              "zzzRi5ek1YCKTGns8C77xwAutE05PAPmz8T/pIIQhzE=   0.0   0.0  ...      0.0      0.0\n",
              "\n",
              "[30755 rows x 601 columns]"
            ]
          },
          "execution_count": 13,
          "metadata": {},
          "output_type": "execute_result"
        }
      ]
    },
    {
      "cell_type": "markdown",
      "metadata": {
        "id": "PLkLFYAdnTxv"
      },
      "source": [
        "Getting rid of column like \"1011|2189|367\""
      ]
    },
    {
      "cell_type": "code",
      "metadata": {
        "id": "1OKkWLz_Bf5p"
      },
      "source": [
        "def drop_union_items(df):\n",
        "  cols_to_drop = []\n",
        "  for column in df.columns:\n",
        "    if '|' in str(column):\n",
        "      for c_name in str(column).split('|'):\n",
        "        df[c_name] = df.get(c_name, np.zeros(df.shape[0])) + df[column]\n",
        "      cols_to_drop.append(column)\n",
        "\n",
        "  df = df.drop(cols_to_drop, axis=1)\n",
        "  df = df.astype(int)\n",
        "\n",
        "  return df"
      ],
      "execution_count": null,
      "outputs": []
    },
    {
      "cell_type": "code",
      "metadata": {
        "id": "tLzYAVvGHlw-"
      },
      "source": [
        "train_df_user = drop_union_items(train_df_user)"
      ],
      "execution_count": null,
      "outputs": []
    },
    {
      "cell_type": "markdown",
      "metadata": {
        "id": "4Ee6f2tzNXG-"
      },
      "source": [
        "If we delete all genres, with less then 10.000 listening to genre, we would delete only 2% of listenings, but save a lot of memory, so I just delete them. And from 167 columns we will work only with 26"
      ]
    },
    {
      "cell_type": "code",
      "metadata": {
        "id": "PNE6yiYZMv7i"
      },
      "source": [
        "def percent_to_delete(df, n_column):\n",
        "  genre_listen = df.sum()\n",
        "  print (sum([i for i in sorted(genre_listen) if i<n_column]) * 100/ sum(genre_listen))"
      ],
      "execution_count": null,
      "outputs": []
    },
    {
      "cell_type": "code",
      "metadata": {
        "colab": {
          "base_uri": "https://localhost:8080/"
        },
        "id": "WqGJ4bOLpUqT",
        "outputId": "e38f49d0-7cc4-4df4-fd7b-84980144be31"
      },
      "source": [
        " percent_to_delete(train_df_user, 10000)"
      ],
      "execution_count": null,
      "outputs": [
        {
          "name": "stdout",
          "output_type": "stream",
          "text": [
            "1.9442442116286134\n"
          ]
        }
      ]
    },
    {
      "cell_type": "code",
      "metadata": {
        "colab": {
          "base_uri": "https://localhost:8080/"
        },
        "id": "-fytoEDSOOct",
        "outputId": "7982e33f-57ef-420d-d88b-4e8842dfef65"
      },
      "source": [
        "train_df_user = train_df_user.loc[:, (train_df_user.sum(axis=0) >= 10000)]\n",
        "train_df_user.loc[:, 'user_num_listen'] = train_df_user.sum(axis=1)"
      ],
      "execution_count": null,
      "outputs": [
        {
          "name": "stderr",
          "output_type": "stream",
          "text": [
            "/usr/local/lib/python3.7/dist-packages/pandas/core/indexing.py:1596: SettingWithCopyWarning: \n",
            "A value is trying to be set on a copy of a slice from a DataFrame.\n",
            "Try using .loc[row_indexer,col_indexer] = value instead\n",
            "\n",
            "See the caveats in the documentation: https://pandas.pydata.org/pandas-docs/stable/user_guide/indexing.html#returning-a-view-versus-a-copy\n",
            "  self.obj[key] = _infer_fill_value(value)\n",
            "/usr/local/lib/python3.7/dist-packages/pandas/core/indexing.py:1743: SettingWithCopyWarning: \n",
            "A value is trying to be set on a copy of a slice from a DataFrame.\n",
            "Try using .loc[row_indexer,col_indexer] = value instead\n",
            "\n",
            "See the caveats in the documentation: https://pandas.pydata.org/pandas-docs/stable/user_guide/indexing.html#returning-a-view-versus-a-copy\n",
            "  isetter(ilocs[0], value)\n"
          ]
        }
      ]
    },
    {
      "cell_type": "code",
      "metadata": {
        "id": "hU1pfVHvpwog"
      },
      "source": [
        "def normalize_by_user(train_df_user):\n",
        "  train_df_user.loc[:, 'user_num_listen'] = train_df_user.sum(axis=1)\n",
        "  for column in train_df_user.columns:\n",
        "    train_df_user[column] = np.where((train_df_user['user_num_listen'] == 0) | (train_df_user[column] == 0), 0, \n",
        "                                        train_df_user[column] / train_df_user['user_num_listen'])\n",
        "  train_df_user = train_df_user.round(3)\n",
        "  train_df_user = train_df_user.drop(['user_num_listen'], axis=1)\n",
        "  return train_df_user"
      ],
      "execution_count": null,
      "outputs": []
    },
    {
      "cell_type": "code",
      "metadata": {
        "id": "0hYP-Z18pyic"
      },
      "source": [
        "train_df_user = normalize_by_user(train_df_user)"
      ],
      "execution_count": null,
      "outputs": []
    },
    {
      "cell_type": "code",
      "metadata": {
        "id": "TbzCowoWp6k3"
      },
      "source": [
        "def rename_columns(df):\n",
        "  df.columns =[str(df.columns.name) + '_' + str(col) for col in df.columns]\n",
        "  df.columns.name = None\n",
        "  return df"
      ],
      "execution_count": null,
      "outputs": []
    },
    {
      "cell_type": "code",
      "metadata": {
        "id": "eY33kJsFq6v6"
      },
      "source": [
        "train_df_user = rename_columns(train_df_user)"
      ],
      "execution_count": null,
      "outputs": []
    },
    {
      "cell_type": "code",
      "metadata": {
        "colab": {
          "base_uri": "https://localhost:8080/",
          "height": 470
        },
        "id": "y1oyB0ZVqn6l",
        "outputId": "0aa7ee7c-e599-4f6c-fa71-8031f373d1ce"
      },
      "source": [
        "train_df_user"
      ],
      "execution_count": null,
      "outputs": [
        {
          "data": {
            "text/html": [
              "<div>\n",
              "<style scoped>\n",
              "    .dataframe tbody tr th:only-of-type {\n",
              "        vertical-align: middle;\n",
              "    }\n",
              "\n",
              "    .dataframe tbody tr th {\n",
              "        vertical-align: top;\n",
              "    }\n",
              "\n",
              "    .dataframe thead th {\n",
              "        text-align: right;\n",
              "    }\n",
              "</style>\n",
              "<table border=\"1\" class=\"dataframe\">\n",
              "  <thead>\n",
              "    <tr style=\"text-align: right;\">\n",
              "      <th></th>\n",
              "      <th>genre_ids_1011</th>\n",
              "      <th>genre_ids_109</th>\n",
              "      <th>genre_ids_1152</th>\n",
              "      <th>genre_ids_1259</th>\n",
              "      <th>genre_ids_139</th>\n",
              "      <th>genre_ids_1609</th>\n",
              "      <th>genre_ids_1616</th>\n",
              "      <th>genre_ids_2022</th>\n",
              "      <th>genre_ids_2122</th>\n",
              "      <th>genre_ids_2157</th>\n",
              "      <th>genre_ids_359</th>\n",
              "      <th>genre_ids_430</th>\n",
              "      <th>genre_ids_437</th>\n",
              "      <th>genre_ids_444</th>\n",
              "      <th>genre_ids_451</th>\n",
              "      <th>genre_ids_458</th>\n",
              "      <th>genre_ids_465</th>\n",
              "      <th>genre_ids_691</th>\n",
              "      <th>genre_ids_726</th>\n",
              "      <th>genre_ids_786</th>\n",
              "      <th>genre_ids_798</th>\n",
              "      <th>genre_ids_829</th>\n",
              "      <th>genre_ids_921</th>\n",
              "      <th>genre_ids_947</th>\n",
              "      <th>genre_ids_958</th>\n",
              "      <th>genre_ids_125</th>\n",
              "    </tr>\n",
              "    <tr>\n",
              "      <th>msno</th>\n",
              "      <th></th>\n",
              "      <th></th>\n",
              "      <th></th>\n",
              "      <th></th>\n",
              "      <th></th>\n",
              "      <th></th>\n",
              "      <th></th>\n",
              "      <th></th>\n",
              "      <th></th>\n",
              "      <th></th>\n",
              "      <th></th>\n",
              "      <th></th>\n",
              "      <th></th>\n",
              "      <th></th>\n",
              "      <th></th>\n",
              "      <th></th>\n",
              "      <th></th>\n",
              "      <th></th>\n",
              "      <th></th>\n",
              "      <th></th>\n",
              "      <th></th>\n",
              "      <th></th>\n",
              "      <th></th>\n",
              "      <th></th>\n",
              "      <th></th>\n",
              "      <th></th>\n",
              "    </tr>\n",
              "  </thead>\n",
              "  <tbody>\n",
              "    <tr>\n",
              "      <th>++5wYjoMgQHoRuD3GbbvmphZbBBwymzv5Q4l8sywtuU=</th>\n",
              "      <td>0.000</td>\n",
              "      <td>0.000</td>\n",
              "      <td>0.000</td>\n",
              "      <td>0.062</td>\n",
              "      <td>0.004</td>\n",
              "      <td>0.031</td>\n",
              "      <td>0.021</td>\n",
              "      <td>0.011</td>\n",
              "      <td>0.000</td>\n",
              "      <td>0.000</td>\n",
              "      <td>0.032</td>\n",
              "      <td>0.000</td>\n",
              "      <td>0.000</td>\n",
              "      <td>0.000</td>\n",
              "      <td>0.013</td>\n",
              "      <td>0.068</td>\n",
              "      <td>0.247</td>\n",
              "      <td>0.000</td>\n",
              "      <td>0.001</td>\n",
              "      <td>0.000</td>\n",
              "      <td>0.000</td>\n",
              "      <td>0.000</td>\n",
              "      <td>0.010</td>\n",
              "      <td>0.0</td>\n",
              "      <td>0.000</td>\n",
              "      <td>0.000</td>\n",
              "    </tr>\n",
              "    <tr>\n",
              "      <th>++AH7m/EQ4iKe6wSlfO/xXAJx50p+fCeTyF90GoE9Pg=</th>\n",
              "      <td>0.009</td>\n",
              "      <td>0.000</td>\n",
              "      <td>0.000</td>\n",
              "      <td>0.022</td>\n",
              "      <td>0.000</td>\n",
              "      <td>0.009</td>\n",
              "      <td>0.004</td>\n",
              "      <td>0.000</td>\n",
              "      <td>0.000</td>\n",
              "      <td>0.000</td>\n",
              "      <td>0.007</td>\n",
              "      <td>0.002</td>\n",
              "      <td>0.000</td>\n",
              "      <td>0.035</td>\n",
              "      <td>0.000</td>\n",
              "      <td>0.090</td>\n",
              "      <td>0.312</td>\n",
              "      <td>0.000</td>\n",
              "      <td>0.000</td>\n",
              "      <td>0.000</td>\n",
              "      <td>0.000</td>\n",
              "      <td>0.000</td>\n",
              "      <td>0.011</td>\n",
              "      <td>0.0</td>\n",
              "      <td>0.000</td>\n",
              "      <td>0.000</td>\n",
              "    </tr>\n",
              "    <tr>\n",
              "      <th>++e+jsxuQ8UEnmW40od9Rq3rW7+wAum4wooXyZTKJpk=</th>\n",
              "      <td>0.000</td>\n",
              "      <td>0.000</td>\n",
              "      <td>0.000</td>\n",
              "      <td>0.013</td>\n",
              "      <td>0.000</td>\n",
              "      <td>0.000</td>\n",
              "      <td>0.000</td>\n",
              "      <td>0.009</td>\n",
              "      <td>0.000</td>\n",
              "      <td>0.000</td>\n",
              "      <td>0.000</td>\n",
              "      <td>0.000</td>\n",
              "      <td>0.000</td>\n",
              "      <td>0.000</td>\n",
              "      <td>0.004</td>\n",
              "      <td>0.057</td>\n",
              "      <td>0.396</td>\n",
              "      <td>0.000</td>\n",
              "      <td>0.000</td>\n",
              "      <td>0.000</td>\n",
              "      <td>0.000</td>\n",
              "      <td>0.004</td>\n",
              "      <td>0.017</td>\n",
              "      <td>0.0</td>\n",
              "      <td>0.000</td>\n",
              "      <td>0.000</td>\n",
              "    </tr>\n",
              "    <tr>\n",
              "      <th>++xWL5Pbi2CpG4uUugigQahauM0J/sBIRloTNPBybIU=</th>\n",
              "      <td>0.000</td>\n",
              "      <td>0.000</td>\n",
              "      <td>0.000</td>\n",
              "      <td>0.000</td>\n",
              "      <td>0.000</td>\n",
              "      <td>0.031</td>\n",
              "      <td>0.000</td>\n",
              "      <td>0.000</td>\n",
              "      <td>0.000</td>\n",
              "      <td>0.000</td>\n",
              "      <td>0.000</td>\n",
              "      <td>0.000</td>\n",
              "      <td>0.000</td>\n",
              "      <td>0.000</td>\n",
              "      <td>0.000</td>\n",
              "      <td>0.312</td>\n",
              "      <td>0.094</td>\n",
              "      <td>0.000</td>\n",
              "      <td>0.000</td>\n",
              "      <td>0.000</td>\n",
              "      <td>0.000</td>\n",
              "      <td>0.000</td>\n",
              "      <td>0.062</td>\n",
              "      <td>0.0</td>\n",
              "      <td>0.000</td>\n",
              "      <td>0.000</td>\n",
              "    </tr>\n",
              "    <tr>\n",
              "      <th>+/SKX44s4ryWQzYzuV7ZKMXqIKQMN1cPz3M8CJ8CFKU=</th>\n",
              "      <td>0.002</td>\n",
              "      <td>0.000</td>\n",
              "      <td>0.000</td>\n",
              "      <td>0.002</td>\n",
              "      <td>0.002</td>\n",
              "      <td>0.034</td>\n",
              "      <td>0.011</td>\n",
              "      <td>0.000</td>\n",
              "      <td>0.009</td>\n",
              "      <td>0.000</td>\n",
              "      <td>0.004</td>\n",
              "      <td>0.002</td>\n",
              "      <td>0.006</td>\n",
              "      <td>0.000</td>\n",
              "      <td>0.002</td>\n",
              "      <td>0.075</td>\n",
              "      <td>0.265</td>\n",
              "      <td>0.000</td>\n",
              "      <td>0.000</td>\n",
              "      <td>0.000</td>\n",
              "      <td>0.000</td>\n",
              "      <td>0.002</td>\n",
              "      <td>0.082</td>\n",
              "      <td>0.0</td>\n",
              "      <td>0.000</td>\n",
              "      <td>0.000</td>\n",
              "    </tr>\n",
              "    <tr>\n",
              "      <th>...</th>\n",
              "      <td>...</td>\n",
              "      <td>...</td>\n",
              "      <td>...</td>\n",
              "      <td>...</td>\n",
              "      <td>...</td>\n",
              "      <td>...</td>\n",
              "      <td>...</td>\n",
              "      <td>...</td>\n",
              "      <td>...</td>\n",
              "      <td>...</td>\n",
              "      <td>...</td>\n",
              "      <td>...</td>\n",
              "      <td>...</td>\n",
              "      <td>...</td>\n",
              "      <td>...</td>\n",
              "      <td>...</td>\n",
              "      <td>...</td>\n",
              "      <td>...</td>\n",
              "      <td>...</td>\n",
              "      <td>...</td>\n",
              "      <td>...</td>\n",
              "      <td>...</td>\n",
              "      <td>...</td>\n",
              "      <td>...</td>\n",
              "      <td>...</td>\n",
              "      <td>...</td>\n",
              "    </tr>\n",
              "    <tr>\n",
              "      <th>zzTnhToV1XfDIsDJ1YaXM3Q05xV54T8Q0zTJkakXsks=</th>\n",
              "      <td>0.000</td>\n",
              "      <td>0.000</td>\n",
              "      <td>0.000</td>\n",
              "      <td>0.000</td>\n",
              "      <td>0.000</td>\n",
              "      <td>0.000</td>\n",
              "      <td>0.000</td>\n",
              "      <td>0.000</td>\n",
              "      <td>0.000</td>\n",
              "      <td>0.000</td>\n",
              "      <td>0.000</td>\n",
              "      <td>0.000</td>\n",
              "      <td>0.000</td>\n",
              "      <td>0.000</td>\n",
              "      <td>0.000</td>\n",
              "      <td>0.083</td>\n",
              "      <td>0.361</td>\n",
              "      <td>0.000</td>\n",
              "      <td>0.000</td>\n",
              "      <td>0.000</td>\n",
              "      <td>0.000</td>\n",
              "      <td>0.000</td>\n",
              "      <td>0.056</td>\n",
              "      <td>0.0</td>\n",
              "      <td>0.000</td>\n",
              "      <td>0.000</td>\n",
              "    </tr>\n",
              "    <tr>\n",
              "      <th>zzZBJUYXrb168A4Ff4sA8L2iOH0x4ciKdD6WkV53XaE=</th>\n",
              "      <td>0.004</td>\n",
              "      <td>0.002</td>\n",
              "      <td>0.000</td>\n",
              "      <td>0.002</td>\n",
              "      <td>0.007</td>\n",
              "      <td>0.009</td>\n",
              "      <td>0.000</td>\n",
              "      <td>0.005</td>\n",
              "      <td>0.018</td>\n",
              "      <td>0.000</td>\n",
              "      <td>0.013</td>\n",
              "      <td>0.013</td>\n",
              "      <td>0.000</td>\n",
              "      <td>0.058</td>\n",
              "      <td>0.005</td>\n",
              "      <td>0.014</td>\n",
              "      <td>0.261</td>\n",
              "      <td>0.000</td>\n",
              "      <td>0.000</td>\n",
              "      <td>0.000</td>\n",
              "      <td>0.000</td>\n",
              "      <td>0.002</td>\n",
              "      <td>0.083</td>\n",
              "      <td>0.0</td>\n",
              "      <td>0.002</td>\n",
              "      <td>0.002</td>\n",
              "    </tr>\n",
              "    <tr>\n",
              "      <th>zzompfSaMamqvjyCMYvgUBwYrxh8fHE40z3f73CQoak=</th>\n",
              "      <td>0.002</td>\n",
              "      <td>0.003</td>\n",
              "      <td>0.004</td>\n",
              "      <td>0.019</td>\n",
              "      <td>0.009</td>\n",
              "      <td>0.037</td>\n",
              "      <td>0.006</td>\n",
              "      <td>0.030</td>\n",
              "      <td>0.001</td>\n",
              "      <td>0.021</td>\n",
              "      <td>0.037</td>\n",
              "      <td>0.005</td>\n",
              "      <td>0.003</td>\n",
              "      <td>0.002</td>\n",
              "      <td>0.000</td>\n",
              "      <td>0.009</td>\n",
              "      <td>0.257</td>\n",
              "      <td>0.001</td>\n",
              "      <td>0.000</td>\n",
              "      <td>0.002</td>\n",
              "      <td>0.001</td>\n",
              "      <td>0.001</td>\n",
              "      <td>0.022</td>\n",
              "      <td>0.0</td>\n",
              "      <td>0.024</td>\n",
              "      <td>0.002</td>\n",
              "    </tr>\n",
              "    <tr>\n",
              "      <th>zzqc2ja7z10FtSpagYVcAZXg/gPRq7wcDZuNFj+zJSU=</th>\n",
              "      <td>0.000</td>\n",
              "      <td>0.002</td>\n",
              "      <td>0.000</td>\n",
              "      <td>0.014</td>\n",
              "      <td>0.004</td>\n",
              "      <td>0.005</td>\n",
              "      <td>0.000</td>\n",
              "      <td>0.002</td>\n",
              "      <td>0.000</td>\n",
              "      <td>0.002</td>\n",
              "      <td>0.000</td>\n",
              "      <td>0.000</td>\n",
              "      <td>0.007</td>\n",
              "      <td>0.004</td>\n",
              "      <td>0.007</td>\n",
              "      <td>0.084</td>\n",
              "      <td>0.321</td>\n",
              "      <td>0.000</td>\n",
              "      <td>0.002</td>\n",
              "      <td>0.000</td>\n",
              "      <td>0.004</td>\n",
              "      <td>0.000</td>\n",
              "      <td>0.042</td>\n",
              "      <td>0.0</td>\n",
              "      <td>0.000</td>\n",
              "      <td>0.002</td>\n",
              "    </tr>\n",
              "    <tr>\n",
              "      <th>zzzRi5ek1YCKTGns8C77xwAutE05PAPmz8T/pIIQhzE=</th>\n",
              "      <td>0.000</td>\n",
              "      <td>0.000</td>\n",
              "      <td>0.000</td>\n",
              "      <td>0.000</td>\n",
              "      <td>0.000</td>\n",
              "      <td>0.000</td>\n",
              "      <td>0.000</td>\n",
              "      <td>0.000</td>\n",
              "      <td>0.000</td>\n",
              "      <td>0.000</td>\n",
              "      <td>0.000</td>\n",
              "      <td>0.000</td>\n",
              "      <td>0.000</td>\n",
              "      <td>0.000</td>\n",
              "      <td>0.000</td>\n",
              "      <td>0.167</td>\n",
              "      <td>0.333</td>\n",
              "      <td>0.000</td>\n",
              "      <td>0.000</td>\n",
              "      <td>0.000</td>\n",
              "      <td>0.000</td>\n",
              "      <td>0.000</td>\n",
              "      <td>0.000</td>\n",
              "      <td>0.0</td>\n",
              "      <td>0.000</td>\n",
              "      <td>0.000</td>\n",
              "    </tr>\n",
              "  </tbody>\n",
              "</table>\n",
              "<p>30755 rows × 26 columns</p>\n",
              "</div>"
            ],
            "text/plain": [
              "                                              genre_ids_1011  ...  genre_ids_125\n",
              "msno                                                          ...               \n",
              "++5wYjoMgQHoRuD3GbbvmphZbBBwymzv5Q4l8sywtuU=           0.000  ...          0.000\n",
              "++AH7m/EQ4iKe6wSlfO/xXAJx50p+fCeTyF90GoE9Pg=           0.009  ...          0.000\n",
              "++e+jsxuQ8UEnmW40od9Rq3rW7+wAum4wooXyZTKJpk=           0.000  ...          0.000\n",
              "++xWL5Pbi2CpG4uUugigQahauM0J/sBIRloTNPBybIU=           0.000  ...          0.000\n",
              "+/SKX44s4ryWQzYzuV7ZKMXqIKQMN1cPz3M8CJ8CFKU=           0.002  ...          0.000\n",
              "...                                                      ...  ...            ...\n",
              "zzTnhToV1XfDIsDJ1YaXM3Q05xV54T8Q0zTJkakXsks=           0.000  ...          0.000\n",
              "zzZBJUYXrb168A4Ff4sA8L2iOH0x4ciKdD6WkV53XaE=           0.004  ...          0.002\n",
              "zzompfSaMamqvjyCMYvgUBwYrxh8fHE40z3f73CQoak=           0.002  ...          0.002\n",
              "zzqc2ja7z10FtSpagYVcAZXg/gPRq7wcDZuNFj+zJSU=           0.000  ...          0.002\n",
              "zzzRi5ek1YCKTGns8C77xwAutE05PAPmz8T/pIIQhzE=           0.000  ...          0.000\n",
              "\n",
              "[30755 rows x 26 columns]"
            ]
          },
          "execution_count": 30,
          "metadata": {},
          "output_type": "execute_result"
        }
      ]
    },
    {
      "cell_type": "code",
      "metadata": {
        "id": "u4jIIcroFXzb"
      },
      "source": [
        "train_df_user.to_csv(directory + 'train_genre_user_norm.csv')"
      ],
      "execution_count": null,
      "outputs": []
    },
    {
      "cell_type": "markdown",
      "metadata": {
        "id": "S3bDt4OcrAqJ"
      },
      "source": [
        "### Artist name"
      ]
    },
    {
      "cell_type": "code",
      "metadata": {
        "id": "Tgql41kKrqn4"
      },
      "source": [
        "train_genre_user = train_expanded[['msno', 'artist_name', 'song_id']].groupby(['msno', 'artist_name']).count()"
      ],
      "execution_count": null,
      "outputs": []
    },
    {
      "cell_type": "code",
      "metadata": {
        "id": "oFlE3n4EsGZC"
      },
      "source": [
        "train_genre_user = train_genre_user.reset_index()"
      ],
      "execution_count": null,
      "outputs": []
    },
    {
      "cell_type": "markdown",
      "metadata": {
        "id": "DWljnKe5s_Mc"
      },
      "source": [
        "It's impossible to do this trick twith artist's name because the number of uniq artists are enormous "
      ]
    },
    {
      "cell_type": "code",
      "metadata": {
        "colab": {
          "base_uri": "https://localhost:8080/"
        },
        "id": "aP97AGQ5srRH",
        "outputId": "62914ca1-2240-41a0-8f25-b9cdd5f7e531"
      },
      "source": [
        "train_genre_user['artist_name'].unique().shape"
      ],
      "execution_count": null,
      "outputs": [
        {
          "data": {
            "text/plain": [
              "(40582,)"
            ]
          },
          "execution_count": 8,
          "metadata": {},
          "output_type": "execute_result"
        }
      ]
    },
    {
      "cell_type": "markdown",
      "metadata": {
        "id": "xHDUABYftczB"
      },
      "source": [
        "### Country"
      ]
    },
    {
      "cell_type": "code",
      "metadata": {
        "id": "kFcaCnRity8C"
      },
      "source": [
        "column = 'country'\n",
        "train_df_user = train_expanded[['msno', column, 'song_id']].groupby(['msno', column]).count()"
      ],
      "execution_count": null,
      "outputs": []
    },
    {
      "cell_type": "code",
      "metadata": {
        "id": "bh3gM4wVuxiC"
      },
      "source": [
        "train_df_user = transpose(train_df_user)"
      ],
      "execution_count": null,
      "outputs": []
    },
    {
      "cell_type": "markdown",
      "metadata": {
        "id": "jWgcYL2UtuCW"
      },
      "source": [
        "If we delete all genres, with less then 10.000 listening to genre, we would delete only 2% of listenings, but save a lot of memory, so I just delete them. And from 167 columns we will work only with 18"
      ]
    },
    {
      "cell_type": "code",
      "metadata": {
        "colab": {
          "base_uri": "https://localhost:8080/"
        },
        "id": "_TZ1sLhFtuCX",
        "outputId": "20c77db7-55be-4c1d-9166-e8518978b1a8"
      },
      "source": [
        " percent_to_delete(train_df_user, 21000)"
      ],
      "execution_count": null,
      "outputs": [
        {
          "name": "stdout",
          "output_type": "stream",
          "text": [
            "1.7907219222632007\n"
          ]
        }
      ]
    },
    {
      "cell_type": "code",
      "metadata": {
        "id": "9qa2gW2jtuCX"
      },
      "source": [
        "train_df_user = train_df_user.loc[:, (train_df_user.sum(axis=0) >= 21000)]\n",
        "train_df_user.loc[:, 'user_num_listen'] = train_df_user.sum(axis=1)"
      ],
      "execution_count": null,
      "outputs": []
    },
    {
      "cell_type": "code",
      "metadata": {
        "id": "K6eOQ-_TxEx3"
      },
      "source": [
        "train_df_user = normalize_by_user(train_df_user)"
      ],
      "execution_count": null,
      "outputs": []
    },
    {
      "cell_type": "code",
      "metadata": {
        "id": "MNZhcz42tuCY"
      },
      "source": [
        "train_df_user = rename_columns(train_df_user)"
      ],
      "execution_count": null,
      "outputs": []
    },
    {
      "cell_type": "code",
      "metadata": {
        "colab": {
          "base_uri": "https://localhost:8080/",
          "height": 470
        },
        "id": "Sz7cg4udrvFM",
        "outputId": "9a756690-7ea4-4408-d056-2dd7b0ededcf"
      },
      "source": [
        "train_df_user "
      ],
      "execution_count": null,
      "outputs": [
        {
          "data": {
            "text/html": [
              "<div>\n",
              "<style scoped>\n",
              "    .dataframe tbody tr th:only-of-type {\n",
              "        vertical-align: middle;\n",
              "    }\n",
              "\n",
              "    .dataframe tbody tr th {\n",
              "        vertical-align: top;\n",
              "    }\n",
              "\n",
              "    .dataframe thead th {\n",
              "        text-align: right;\n",
              "    }\n",
              "</style>\n",
              "<table border=\"1\" class=\"dataframe\">\n",
              "  <thead>\n",
              "    <tr style=\"text-align: right;\">\n",
              "      <th></th>\n",
              "      <th>country_CA</th>\n",
              "      <th>country_CN</th>\n",
              "      <th>country_DE</th>\n",
              "      <th>country_FR</th>\n",
              "      <th>country_GB</th>\n",
              "      <th>country_HK</th>\n",
              "      <th>country_JP</th>\n",
              "      <th>country_KR</th>\n",
              "      <th>country_MY</th>\n",
              "      <th>country_NL</th>\n",
              "      <th>country_NO</th>\n",
              "      <th>country_QM</th>\n",
              "      <th>country_SE</th>\n",
              "      <th>country_SG</th>\n",
              "      <th>country_TC</th>\n",
              "      <th>country_TW</th>\n",
              "      <th>country_US</th>\n",
              "      <th>country_[]</th>\n",
              "    </tr>\n",
              "    <tr>\n",
              "      <th>msno</th>\n",
              "      <th></th>\n",
              "      <th></th>\n",
              "      <th></th>\n",
              "      <th></th>\n",
              "      <th></th>\n",
              "      <th></th>\n",
              "      <th></th>\n",
              "      <th></th>\n",
              "      <th></th>\n",
              "      <th></th>\n",
              "      <th></th>\n",
              "      <th></th>\n",
              "      <th></th>\n",
              "      <th></th>\n",
              "      <th></th>\n",
              "      <th></th>\n",
              "      <th></th>\n",
              "      <th></th>\n",
              "    </tr>\n",
              "  </thead>\n",
              "  <tbody>\n",
              "    <tr>\n",
              "      <th>++5wYjoMgQHoRuD3GbbvmphZbBBwymzv5Q4l8sywtuU=</th>\n",
              "      <td>0.000</td>\n",
              "      <td>0.034</td>\n",
              "      <td>0.008</td>\n",
              "      <td>0.000</td>\n",
              "      <td>0.007</td>\n",
              "      <td>0.032</td>\n",
              "      <td>0.002</td>\n",
              "      <td>0.000</td>\n",
              "      <td>0.000</td>\n",
              "      <td>0.010</td>\n",
              "      <td>0.006</td>\n",
              "      <td>0.000</td>\n",
              "      <td>0.005</td>\n",
              "      <td>0.002</td>\n",
              "      <td>0.000</td>\n",
              "      <td>0.188</td>\n",
              "      <td>0.173</td>\n",
              "      <td>0.034</td>\n",
              "    </tr>\n",
              "    <tr>\n",
              "      <th>++AH7m/EQ4iKe6wSlfO/xXAJx50p+fCeTyF90GoE9Pg=</th>\n",
              "      <td>0.002</td>\n",
              "      <td>0.000</td>\n",
              "      <td>0.005</td>\n",
              "      <td>0.000</td>\n",
              "      <td>0.051</td>\n",
              "      <td>0.009</td>\n",
              "      <td>0.000</td>\n",
              "      <td>0.049</td>\n",
              "      <td>0.005</td>\n",
              "      <td>0.002</td>\n",
              "      <td>0.002</td>\n",
              "      <td>0.002</td>\n",
              "      <td>0.000</td>\n",
              "      <td>0.000</td>\n",
              "      <td>0.000</td>\n",
              "      <td>0.238</td>\n",
              "      <td>0.134</td>\n",
              "      <td>0.000</td>\n",
              "    </tr>\n",
              "    <tr>\n",
              "      <th>++e+jsxuQ8UEnmW40od9Rq3rW7+wAum4wooXyZTKJpk=</th>\n",
              "      <td>0.000</td>\n",
              "      <td>0.056</td>\n",
              "      <td>0.000</td>\n",
              "      <td>0.000</td>\n",
              "      <td>0.000</td>\n",
              "      <td>0.103</td>\n",
              "      <td>0.000</td>\n",
              "      <td>0.000</td>\n",
              "      <td>0.009</td>\n",
              "      <td>0.005</td>\n",
              "      <td>0.000</td>\n",
              "      <td>0.000</td>\n",
              "      <td>0.000</td>\n",
              "      <td>0.005</td>\n",
              "      <td>0.000</td>\n",
              "      <td>0.318</td>\n",
              "      <td>0.005</td>\n",
              "      <td>0.000</td>\n",
              "    </tr>\n",
              "    <tr>\n",
              "      <th>++xWL5Pbi2CpG4uUugigQahauM0J/sBIRloTNPBybIU=</th>\n",
              "      <td>0.000</td>\n",
              "      <td>0.033</td>\n",
              "      <td>0.000</td>\n",
              "      <td>0.000</td>\n",
              "      <td>0.000</td>\n",
              "      <td>0.033</td>\n",
              "      <td>0.000</td>\n",
              "      <td>0.000</td>\n",
              "      <td>0.000</td>\n",
              "      <td>0.000</td>\n",
              "      <td>0.000</td>\n",
              "      <td>0.000</td>\n",
              "      <td>0.000</td>\n",
              "      <td>0.000</td>\n",
              "      <td>0.000</td>\n",
              "      <td>0.367</td>\n",
              "      <td>0.067</td>\n",
              "      <td>0.000</td>\n",
              "    </tr>\n",
              "    <tr>\n",
              "      <th>+/SKX44s4ryWQzYzuV7ZKMXqIKQMN1cPz3M8CJ8CFKU=</th>\n",
              "      <td>0.000</td>\n",
              "      <td>0.011</td>\n",
              "      <td>0.000</td>\n",
              "      <td>0.000</td>\n",
              "      <td>0.018</td>\n",
              "      <td>0.009</td>\n",
              "      <td>0.011</td>\n",
              "      <td>0.000</td>\n",
              "      <td>0.000</td>\n",
              "      <td>0.002</td>\n",
              "      <td>0.007</td>\n",
              "      <td>0.005</td>\n",
              "      <td>0.002</td>\n",
              "      <td>0.002</td>\n",
              "      <td>0.002</td>\n",
              "      <td>0.339</td>\n",
              "      <td>0.088</td>\n",
              "      <td>0.002</td>\n",
              "    </tr>\n",
              "    <tr>\n",
              "      <th>...</th>\n",
              "      <td>...</td>\n",
              "      <td>...</td>\n",
              "      <td>...</td>\n",
              "      <td>...</td>\n",
              "      <td>...</td>\n",
              "      <td>...</td>\n",
              "      <td>...</td>\n",
              "      <td>...</td>\n",
              "      <td>...</td>\n",
              "      <td>...</td>\n",
              "      <td>...</td>\n",
              "      <td>...</td>\n",
              "      <td>...</td>\n",
              "      <td>...</td>\n",
              "      <td>...</td>\n",
              "      <td>...</td>\n",
              "      <td>...</td>\n",
              "      <td>...</td>\n",
              "    </tr>\n",
              "    <tr>\n",
              "      <th>zzTnhToV1XfDIsDJ1YaXM3Q05xV54T8Q0zTJkakXsks=</th>\n",
              "      <td>0.000</td>\n",
              "      <td>0.000</td>\n",
              "      <td>0.000</td>\n",
              "      <td>0.000</td>\n",
              "      <td>0.000</td>\n",
              "      <td>0.000</td>\n",
              "      <td>0.000</td>\n",
              "      <td>0.000</td>\n",
              "      <td>0.000</td>\n",
              "      <td>0.000</td>\n",
              "      <td>0.000</td>\n",
              "      <td>0.000</td>\n",
              "      <td>0.000</td>\n",
              "      <td>0.000</td>\n",
              "      <td>0.000</td>\n",
              "      <td>0.500</td>\n",
              "      <td>0.000</td>\n",
              "      <td>0.000</td>\n",
              "    </tr>\n",
              "    <tr>\n",
              "      <th>zzZBJUYXrb168A4Ff4sA8L2iOH0x4ciKdD6WkV53XaE=</th>\n",
              "      <td>0.005</td>\n",
              "      <td>0.000</td>\n",
              "      <td>0.000</td>\n",
              "      <td>0.004</td>\n",
              "      <td>0.097</td>\n",
              "      <td>0.018</td>\n",
              "      <td>0.004</td>\n",
              "      <td>0.140</td>\n",
              "      <td>0.000</td>\n",
              "      <td>0.000</td>\n",
              "      <td>0.000</td>\n",
              "      <td>0.004</td>\n",
              "      <td>0.000</td>\n",
              "      <td>0.004</td>\n",
              "      <td>0.011</td>\n",
              "      <td>0.063</td>\n",
              "      <td>0.151</td>\n",
              "      <td>0.000</td>\n",
              "    </tr>\n",
              "    <tr>\n",
              "      <th>zzompfSaMamqvjyCMYvgUBwYrxh8fHE40z3f73CQoak=</th>\n",
              "      <td>0.003</td>\n",
              "      <td>0.006</td>\n",
              "      <td>0.005</td>\n",
              "      <td>0.007</td>\n",
              "      <td>0.054</td>\n",
              "      <td>0.011</td>\n",
              "      <td>0.033</td>\n",
              "      <td>0.007</td>\n",
              "      <td>0.000</td>\n",
              "      <td>0.001</td>\n",
              "      <td>0.003</td>\n",
              "      <td>0.006</td>\n",
              "      <td>0.005</td>\n",
              "      <td>0.000</td>\n",
              "      <td>0.000</td>\n",
              "      <td>0.164</td>\n",
              "      <td>0.143</td>\n",
              "      <td>0.053</td>\n",
              "    </tr>\n",
              "    <tr>\n",
              "      <th>zzqc2ja7z10FtSpagYVcAZXg/gPRq7wcDZuNFj+zJSU=</th>\n",
              "      <td>0.000</td>\n",
              "      <td>0.033</td>\n",
              "      <td>0.000</td>\n",
              "      <td>0.000</td>\n",
              "      <td>0.006</td>\n",
              "      <td>0.056</td>\n",
              "      <td>0.019</td>\n",
              "      <td>0.002</td>\n",
              "      <td>0.002</td>\n",
              "      <td>0.000</td>\n",
              "      <td>0.000</td>\n",
              "      <td>0.000</td>\n",
              "      <td>0.000</td>\n",
              "      <td>0.002</td>\n",
              "      <td>0.000</td>\n",
              "      <td>0.315</td>\n",
              "      <td>0.058</td>\n",
              "      <td>0.008</td>\n",
              "    </tr>\n",
              "    <tr>\n",
              "      <th>zzzRi5ek1YCKTGns8C77xwAutE05PAPmz8T/pIIQhzE=</th>\n",
              "      <td>0.000</td>\n",
              "      <td>0.000</td>\n",
              "      <td>0.000</td>\n",
              "      <td>0.000</td>\n",
              "      <td>0.000</td>\n",
              "      <td>0.000</td>\n",
              "      <td>0.000</td>\n",
              "      <td>0.000</td>\n",
              "      <td>0.000</td>\n",
              "      <td>0.000</td>\n",
              "      <td>0.000</td>\n",
              "      <td>0.000</td>\n",
              "      <td>0.000</td>\n",
              "      <td>0.000</td>\n",
              "      <td>0.000</td>\n",
              "      <td>0.500</td>\n",
              "      <td>0.000</td>\n",
              "      <td>0.000</td>\n",
              "    </tr>\n",
              "  </tbody>\n",
              "</table>\n",
              "<p>30755 rows × 18 columns</p>\n",
              "</div>"
            ],
            "text/plain": [
              "                                              country_CA  ...  country_[]\n",
              "msno                                                      ...            \n",
              "++5wYjoMgQHoRuD3GbbvmphZbBBwymzv5Q4l8sywtuU=       0.000  ...       0.034\n",
              "++AH7m/EQ4iKe6wSlfO/xXAJx50p+fCeTyF90GoE9Pg=       0.002  ...       0.000\n",
              "++e+jsxuQ8UEnmW40od9Rq3rW7+wAum4wooXyZTKJpk=       0.000  ...       0.000\n",
              "++xWL5Pbi2CpG4uUugigQahauM0J/sBIRloTNPBybIU=       0.000  ...       0.000\n",
              "+/SKX44s4ryWQzYzuV7ZKMXqIKQMN1cPz3M8CJ8CFKU=       0.000  ...       0.002\n",
              "...                                                  ...  ...         ...\n",
              "zzTnhToV1XfDIsDJ1YaXM3Q05xV54T8Q0zTJkakXsks=       0.000  ...       0.000\n",
              "zzZBJUYXrb168A4Ff4sA8L2iOH0x4ciKdD6WkV53XaE=       0.005  ...       0.000\n",
              "zzompfSaMamqvjyCMYvgUBwYrxh8fHE40z3f73CQoak=       0.003  ...       0.053\n",
              "zzqc2ja7z10FtSpagYVcAZXg/gPRq7wcDZuNFj+zJSU=       0.000  ...       0.008\n",
              "zzzRi5ek1YCKTGns8C77xwAutE05PAPmz8T/pIIQhzE=       0.000  ...       0.000\n",
              "\n",
              "[30755 rows x 18 columns]"
            ]
          },
          "execution_count": 41,
          "metadata": {},
          "output_type": "execute_result"
        }
      ]
    },
    {
      "cell_type": "code",
      "metadata": {
        "id": "wrNDxoJstuCZ"
      },
      "source": [
        "train_df_user.to_csv(directory + 'train_country_user_norm.csv')"
      ],
      "execution_count": null,
      "outputs": []
    },
    {
      "cell_type": "markdown",
      "metadata": {
        "id": "rQhBZUvryo24"
      },
      "source": [
        "### Language"
      ]
    },
    {
      "cell_type": "code",
      "metadata": {
        "id": "HAtXfbYEtRJB"
      },
      "source": [
        "column = 'language'\n",
        "train_df_user = train_expanded[['msno', column, 'song_id']].groupby(['msno', column]).count()"
      ],
      "execution_count": null,
      "outputs": []
    },
    {
      "cell_type": "code",
      "metadata": {
        "id": "jgbvQ27iy763"
      },
      "source": [
        "train_df_user = transpose(train_df_user)"
      ],
      "execution_count": null,
      "outputs": []
    },
    {
      "cell_type": "markdown",
      "metadata": {
        "id": "LW3m9X8rzNp9"
      },
      "source": [
        "There are not so much languages, so let's just keep them all"
      ]
    },
    {
      "cell_type": "code",
      "metadata": {
        "colab": {
          "base_uri": "https://localhost:8080/",
          "height": 450
        },
        "id": "wmJZM-MgyzkW",
        "outputId": "e21a635c-f78b-4aa8-96a1-5022a817177a"
      },
      "source": [
        "train_df_user"
      ],
      "execution_count": null,
      "outputs": [
        {
          "data": {
            "text/html": [
              "<div>\n",
              "<style scoped>\n",
              "    .dataframe tbody tr th:only-of-type {\n",
              "        vertical-align: middle;\n",
              "    }\n",
              "\n",
              "    .dataframe tbody tr th {\n",
              "        vertical-align: top;\n",
              "    }\n",
              "\n",
              "    .dataframe thead th {\n",
              "        text-align: right;\n",
              "    }\n",
              "</style>\n",
              "<table border=\"1\" class=\"dataframe\">\n",
              "  <thead>\n",
              "    <tr style=\"text-align: right;\">\n",
              "      <th>language</th>\n",
              "      <th>-1.0</th>\n",
              "      <th>3.0</th>\n",
              "      <th>10.0</th>\n",
              "      <th>17.0</th>\n",
              "      <th>24.0</th>\n",
              "      <th>31.0</th>\n",
              "      <th>38.0</th>\n",
              "      <th>45.0</th>\n",
              "      <th>52.0</th>\n",
              "      <th>59.0</th>\n",
              "    </tr>\n",
              "    <tr>\n",
              "      <th>msno</th>\n",
              "      <th></th>\n",
              "      <th></th>\n",
              "      <th></th>\n",
              "      <th></th>\n",
              "      <th></th>\n",
              "      <th></th>\n",
              "      <th></th>\n",
              "      <th></th>\n",
              "      <th></th>\n",
              "      <th></th>\n",
              "    </tr>\n",
              "  </thead>\n",
              "  <tbody>\n",
              "    <tr>\n",
              "      <th>++5wYjoMgQHoRuD3GbbvmphZbBBwymzv5Q4l8sywtuU=</th>\n",
              "      <td>52.0</td>\n",
              "      <td>294.0</td>\n",
              "      <td>1.0</td>\n",
              "      <td>2.0</td>\n",
              "      <td>8.0</td>\n",
              "      <td>0.0</td>\n",
              "      <td>0.0</td>\n",
              "      <td>0.0</td>\n",
              "      <td>232.0</td>\n",
              "      <td>0.0</td>\n",
              "    </tr>\n",
              "    <tr>\n",
              "      <th>++AH7m/EQ4iKe6wSlfO/xXAJx50p+fCeTyF90GoE9Pg=</th>\n",
              "      <td>0.0</td>\n",
              "      <td>99.0</td>\n",
              "      <td>0.0</td>\n",
              "      <td>0.0</td>\n",
              "      <td>0.0</td>\n",
              "      <td>40.0</td>\n",
              "      <td>0.0</td>\n",
              "      <td>0.0</td>\n",
              "      <td>81.0</td>\n",
              "      <td>0.0</td>\n",
              "    </tr>\n",
              "    <tr>\n",
              "      <th>++e+jsxuQ8UEnmW40od9Rq3rW7+wAum4wooXyZTKJpk=</th>\n",
              "      <td>0.0</td>\n",
              "      <td>103.0</td>\n",
              "      <td>0.0</td>\n",
              "      <td>0.0</td>\n",
              "      <td>5.0</td>\n",
              "      <td>0.0</td>\n",
              "      <td>0.0</td>\n",
              "      <td>0.0</td>\n",
              "      <td>0.0</td>\n",
              "      <td>0.0</td>\n",
              "    </tr>\n",
              "    <tr>\n",
              "      <th>++xWL5Pbi2CpG4uUugigQahauM0J/sBIRloTNPBybIU=</th>\n",
              "      <td>0.0</td>\n",
              "      <td>12.0</td>\n",
              "      <td>0.0</td>\n",
              "      <td>0.0</td>\n",
              "      <td>0.0</td>\n",
              "      <td>1.0</td>\n",
              "      <td>0.0</td>\n",
              "      <td>0.0</td>\n",
              "      <td>3.0</td>\n",
              "      <td>0.0</td>\n",
              "    </tr>\n",
              "    <tr>\n",
              "      <th>+/SKX44s4ryWQzYzuV7ZKMXqIKQMN1cPz3M8CJ8CFKU=</th>\n",
              "      <td>3.0</td>\n",
              "      <td>156.0</td>\n",
              "      <td>1.0</td>\n",
              "      <td>3.0</td>\n",
              "      <td>1.0</td>\n",
              "      <td>1.0</td>\n",
              "      <td>0.0</td>\n",
              "      <td>0.0</td>\n",
              "      <td>57.0</td>\n",
              "      <td>0.0</td>\n",
              "    </tr>\n",
              "    <tr>\n",
              "      <th>...</th>\n",
              "      <td>...</td>\n",
              "      <td>...</td>\n",
              "      <td>...</td>\n",
              "      <td>...</td>\n",
              "      <td>...</td>\n",
              "      <td>...</td>\n",
              "      <td>...</td>\n",
              "      <td>...</td>\n",
              "      <td>...</td>\n",
              "      <td>...</td>\n",
              "    </tr>\n",
              "    <tr>\n",
              "      <th>zzTnhToV1XfDIsDJ1YaXM3Q05xV54T8Q0zTJkakXsks=</th>\n",
              "      <td>0.0</td>\n",
              "      <td>16.0</td>\n",
              "      <td>0.0</td>\n",
              "      <td>0.0</td>\n",
              "      <td>0.0</td>\n",
              "      <td>0.0</td>\n",
              "      <td>0.0</td>\n",
              "      <td>0.0</td>\n",
              "      <td>1.0</td>\n",
              "      <td>0.0</td>\n",
              "    </tr>\n",
              "    <tr>\n",
              "      <th>zzZBJUYXrb168A4Ff4sA8L2iOH0x4ciKdD6WkV53XaE=</th>\n",
              "      <td>3.0</td>\n",
              "      <td>29.0</td>\n",
              "      <td>0.0</td>\n",
              "      <td>2.0</td>\n",
              "      <td>1.0</td>\n",
              "      <td>106.0</td>\n",
              "      <td>0.0</td>\n",
              "      <td>0.0</td>\n",
              "      <td>140.0</td>\n",
              "      <td>0.0</td>\n",
              "    </tr>\n",
              "    <tr>\n",
              "      <th>zzompfSaMamqvjyCMYvgUBwYrxh8fHE40z3f73CQoak=</th>\n",
              "      <td>37.0</td>\n",
              "      <td>60.0</td>\n",
              "      <td>133.0</td>\n",
              "      <td>29.0</td>\n",
              "      <td>3.0</td>\n",
              "      <td>7.0</td>\n",
              "      <td>0.0</td>\n",
              "      <td>0.0</td>\n",
              "      <td>192.0</td>\n",
              "      <td>0.0</td>\n",
              "    </tr>\n",
              "    <tr>\n",
              "      <th>zzqc2ja7z10FtSpagYVcAZXg/gPRq7wcDZuNFj+zJSU=</th>\n",
              "      <td>3.0</td>\n",
              "      <td>206.0</td>\n",
              "      <td>2.0</td>\n",
              "      <td>10.0</td>\n",
              "      <td>9.0</td>\n",
              "      <td>10.0</td>\n",
              "      <td>0.0</td>\n",
              "      <td>0.0</td>\n",
              "      <td>25.0</td>\n",
              "      <td>0.0</td>\n",
              "    </tr>\n",
              "    <tr>\n",
              "      <th>zzzRi5ek1YCKTGns8C77xwAutE05PAPmz8T/pIIQhzE=</th>\n",
              "      <td>0.0</td>\n",
              "      <td>3.0</td>\n",
              "      <td>0.0</td>\n",
              "      <td>0.0</td>\n",
              "      <td>0.0</td>\n",
              "      <td>0.0</td>\n",
              "      <td>0.0</td>\n",
              "      <td>0.0</td>\n",
              "      <td>0.0</td>\n",
              "      <td>0.0</td>\n",
              "    </tr>\n",
              "  </tbody>\n",
              "</table>\n",
              "<p>30755 rows × 10 columns</p>\n",
              "</div>"
            ],
            "text/plain": [
              "language                                      -1.0    3.0   ...   52.0   59.0\n",
              "msno                                                        ...              \n",
              "++5wYjoMgQHoRuD3GbbvmphZbBBwymzv5Q4l8sywtuU=   52.0  294.0  ...  232.0    0.0\n",
              "++AH7m/EQ4iKe6wSlfO/xXAJx50p+fCeTyF90GoE9Pg=    0.0   99.0  ...   81.0    0.0\n",
              "++e+jsxuQ8UEnmW40od9Rq3rW7+wAum4wooXyZTKJpk=    0.0  103.0  ...    0.0    0.0\n",
              "++xWL5Pbi2CpG4uUugigQahauM0J/sBIRloTNPBybIU=    0.0   12.0  ...    3.0    0.0\n",
              "+/SKX44s4ryWQzYzuV7ZKMXqIKQMN1cPz3M8CJ8CFKU=    3.0  156.0  ...   57.0    0.0\n",
              "...                                             ...    ...  ...    ...    ...\n",
              "zzTnhToV1XfDIsDJ1YaXM3Q05xV54T8Q0zTJkakXsks=    0.0   16.0  ...    1.0    0.0\n",
              "zzZBJUYXrb168A4Ff4sA8L2iOH0x4ciKdD6WkV53XaE=    3.0   29.0  ...  140.0    0.0\n",
              "zzompfSaMamqvjyCMYvgUBwYrxh8fHE40z3f73CQoak=   37.0   60.0  ...  192.0    0.0\n",
              "zzqc2ja7z10FtSpagYVcAZXg/gPRq7wcDZuNFj+zJSU=    3.0  206.0  ...   25.0    0.0\n",
              "zzzRi5ek1YCKTGns8C77xwAutE05PAPmz8T/pIIQhzE=    0.0    3.0  ...    0.0    0.0\n",
              "\n",
              "[30755 rows x 10 columns]"
            ]
          },
          "execution_count": 75,
          "metadata": {},
          "output_type": "execute_result"
        }
      ]
    },
    {
      "cell_type": "code",
      "metadata": {
        "id": "1iQ2Pb3eyzkZ"
      },
      "source": [
        "train_df_user = normalize_by_user(train_df_user)\n",
        "train_df_user = rename_columns(train_df_user)"
      ],
      "execution_count": null,
      "outputs": []
    },
    {
      "cell_type": "code",
      "metadata": {
        "colab": {
          "base_uri": "https://localhost:8080/",
          "height": 470
        },
        "id": "ygteKCHezkkO",
        "outputId": "7b6edd76-1ac4-42cb-9146-6c19c251f95c"
      },
      "source": [
        "train_df_user"
      ],
      "execution_count": null,
      "outputs": [
        {
          "data": {
            "text/html": [
              "<div>\n",
              "<style scoped>\n",
              "    .dataframe tbody tr th:only-of-type {\n",
              "        vertical-align: middle;\n",
              "    }\n",
              "\n",
              "    .dataframe tbody tr th {\n",
              "        vertical-align: top;\n",
              "    }\n",
              "\n",
              "    .dataframe thead th {\n",
              "        text-align: right;\n",
              "    }\n",
              "</style>\n",
              "<table border=\"1\" class=\"dataframe\">\n",
              "  <thead>\n",
              "    <tr style=\"text-align: right;\">\n",
              "      <th></th>\n",
              "      <th>language_-1.0</th>\n",
              "      <th>language_3.0</th>\n",
              "      <th>language_10.0</th>\n",
              "      <th>language_17.0</th>\n",
              "      <th>language_24.0</th>\n",
              "      <th>language_31.0</th>\n",
              "      <th>language_38.0</th>\n",
              "      <th>language_45.0</th>\n",
              "      <th>language_52.0</th>\n",
              "      <th>language_59.0</th>\n",
              "    </tr>\n",
              "    <tr>\n",
              "      <th>msno</th>\n",
              "      <th></th>\n",
              "      <th></th>\n",
              "      <th></th>\n",
              "      <th></th>\n",
              "      <th></th>\n",
              "      <th></th>\n",
              "      <th></th>\n",
              "      <th></th>\n",
              "      <th></th>\n",
              "      <th></th>\n",
              "    </tr>\n",
              "  </thead>\n",
              "  <tbody>\n",
              "    <tr>\n",
              "      <th>++5wYjoMgQHoRuD3GbbvmphZbBBwymzv5Q4l8sywtuU=</th>\n",
              "      <td>0.088</td>\n",
              "      <td>0.499</td>\n",
              "      <td>0.002</td>\n",
              "      <td>0.003</td>\n",
              "      <td>0.014</td>\n",
              "      <td>0.000</td>\n",
              "      <td>0.0</td>\n",
              "      <td>0.0</td>\n",
              "      <td>0.394</td>\n",
              "      <td>0.0</td>\n",
              "    </tr>\n",
              "    <tr>\n",
              "      <th>++AH7m/EQ4iKe6wSlfO/xXAJx50p+fCeTyF90GoE9Pg=</th>\n",
              "      <td>0.000</td>\n",
              "      <td>0.450</td>\n",
              "      <td>0.000</td>\n",
              "      <td>0.000</td>\n",
              "      <td>0.000</td>\n",
              "      <td>0.182</td>\n",
              "      <td>0.0</td>\n",
              "      <td>0.0</td>\n",
              "      <td>0.368</td>\n",
              "      <td>0.0</td>\n",
              "    </tr>\n",
              "    <tr>\n",
              "      <th>++e+jsxuQ8UEnmW40od9Rq3rW7+wAum4wooXyZTKJpk=</th>\n",
              "      <td>0.000</td>\n",
              "      <td>0.954</td>\n",
              "      <td>0.000</td>\n",
              "      <td>0.000</td>\n",
              "      <td>0.046</td>\n",
              "      <td>0.000</td>\n",
              "      <td>0.0</td>\n",
              "      <td>0.0</td>\n",
              "      <td>0.000</td>\n",
              "      <td>0.0</td>\n",
              "    </tr>\n",
              "    <tr>\n",
              "      <th>++xWL5Pbi2CpG4uUugigQahauM0J/sBIRloTNPBybIU=</th>\n",
              "      <td>0.000</td>\n",
              "      <td>0.750</td>\n",
              "      <td>0.000</td>\n",
              "      <td>0.000</td>\n",
              "      <td>0.000</td>\n",
              "      <td>0.062</td>\n",
              "      <td>0.0</td>\n",
              "      <td>0.0</td>\n",
              "      <td>0.188</td>\n",
              "      <td>0.0</td>\n",
              "    </tr>\n",
              "    <tr>\n",
              "      <th>+/SKX44s4ryWQzYzuV7ZKMXqIKQMN1cPz3M8CJ8CFKU=</th>\n",
              "      <td>0.014</td>\n",
              "      <td>0.703</td>\n",
              "      <td>0.005</td>\n",
              "      <td>0.014</td>\n",
              "      <td>0.005</td>\n",
              "      <td>0.005</td>\n",
              "      <td>0.0</td>\n",
              "      <td>0.0</td>\n",
              "      <td>0.257</td>\n",
              "      <td>0.0</td>\n",
              "    </tr>\n",
              "    <tr>\n",
              "      <th>...</th>\n",
              "      <td>...</td>\n",
              "      <td>...</td>\n",
              "      <td>...</td>\n",
              "      <td>...</td>\n",
              "      <td>...</td>\n",
              "      <td>...</td>\n",
              "      <td>...</td>\n",
              "      <td>...</td>\n",
              "      <td>...</td>\n",
              "      <td>...</td>\n",
              "    </tr>\n",
              "    <tr>\n",
              "      <th>zzTnhToV1XfDIsDJ1YaXM3Q05xV54T8Q0zTJkakXsks=</th>\n",
              "      <td>0.000</td>\n",
              "      <td>0.941</td>\n",
              "      <td>0.000</td>\n",
              "      <td>0.000</td>\n",
              "      <td>0.000</td>\n",
              "      <td>0.000</td>\n",
              "      <td>0.0</td>\n",
              "      <td>0.0</td>\n",
              "      <td>0.059</td>\n",
              "      <td>0.0</td>\n",
              "    </tr>\n",
              "    <tr>\n",
              "      <th>zzZBJUYXrb168A4Ff4sA8L2iOH0x4ciKdD6WkV53XaE=</th>\n",
              "      <td>0.011</td>\n",
              "      <td>0.103</td>\n",
              "      <td>0.000</td>\n",
              "      <td>0.007</td>\n",
              "      <td>0.004</td>\n",
              "      <td>0.377</td>\n",
              "      <td>0.0</td>\n",
              "      <td>0.0</td>\n",
              "      <td>0.498</td>\n",
              "      <td>0.0</td>\n",
              "    </tr>\n",
              "    <tr>\n",
              "      <th>zzompfSaMamqvjyCMYvgUBwYrxh8fHE40z3f73CQoak=</th>\n",
              "      <td>0.080</td>\n",
              "      <td>0.130</td>\n",
              "      <td>0.289</td>\n",
              "      <td>0.063</td>\n",
              "      <td>0.007</td>\n",
              "      <td>0.015</td>\n",
              "      <td>0.0</td>\n",
              "      <td>0.0</td>\n",
              "      <td>0.416</td>\n",
              "      <td>0.0</td>\n",
              "    </tr>\n",
              "    <tr>\n",
              "      <th>zzqc2ja7z10FtSpagYVcAZXg/gPRq7wcDZuNFj+zJSU=</th>\n",
              "      <td>0.011</td>\n",
              "      <td>0.777</td>\n",
              "      <td>0.008</td>\n",
              "      <td>0.038</td>\n",
              "      <td>0.034</td>\n",
              "      <td>0.038</td>\n",
              "      <td>0.0</td>\n",
              "      <td>0.0</td>\n",
              "      <td>0.094</td>\n",
              "      <td>0.0</td>\n",
              "    </tr>\n",
              "    <tr>\n",
              "      <th>zzzRi5ek1YCKTGns8C77xwAutE05PAPmz8T/pIIQhzE=</th>\n",
              "      <td>0.000</td>\n",
              "      <td>1.000</td>\n",
              "      <td>0.000</td>\n",
              "      <td>0.000</td>\n",
              "      <td>0.000</td>\n",
              "      <td>0.000</td>\n",
              "      <td>0.0</td>\n",
              "      <td>0.0</td>\n",
              "      <td>0.000</td>\n",
              "      <td>0.0</td>\n",
              "    </tr>\n",
              "  </tbody>\n",
              "</table>\n",
              "<p>30755 rows × 10 columns</p>\n",
              "</div>"
            ],
            "text/plain": [
              "                                              language_-1.0  ...  language_59.0\n",
              "msno                                                         ...               \n",
              "++5wYjoMgQHoRuD3GbbvmphZbBBwymzv5Q4l8sywtuU=          0.088  ...            0.0\n",
              "++AH7m/EQ4iKe6wSlfO/xXAJx50p+fCeTyF90GoE9Pg=          0.000  ...            0.0\n",
              "++e+jsxuQ8UEnmW40od9Rq3rW7+wAum4wooXyZTKJpk=          0.000  ...            0.0\n",
              "++xWL5Pbi2CpG4uUugigQahauM0J/sBIRloTNPBybIU=          0.000  ...            0.0\n",
              "+/SKX44s4ryWQzYzuV7ZKMXqIKQMN1cPz3M8CJ8CFKU=          0.014  ...            0.0\n",
              "...                                                     ...  ...            ...\n",
              "zzTnhToV1XfDIsDJ1YaXM3Q05xV54T8Q0zTJkakXsks=          0.000  ...            0.0\n",
              "zzZBJUYXrb168A4Ff4sA8L2iOH0x4ciKdD6WkV53XaE=          0.011  ...            0.0\n",
              "zzompfSaMamqvjyCMYvgUBwYrxh8fHE40z3f73CQoak=          0.080  ...            0.0\n",
              "zzqc2ja7z10FtSpagYVcAZXg/gPRq7wcDZuNFj+zJSU=          0.011  ...            0.0\n",
              "zzzRi5ek1YCKTGns8C77xwAutE05PAPmz8T/pIIQhzE=          0.000  ...            0.0\n",
              "\n",
              "[30755 rows x 10 columns]"
            ]
          },
          "execution_count": 77,
          "metadata": {},
          "output_type": "execute_result"
        }
      ]
    },
    {
      "cell_type": "code",
      "metadata": {
        "id": "4rDdkgdFyzkZ"
      },
      "source": [
        "train_df_user.to_csv(directory + 'train_' + column + '_user_norm.csv')"
      ],
      "execution_count": null,
      "outputs": []
    },
    {
      "cell_type": "markdown",
      "metadata": {
        "id": "opKl2h5Ssejf"
      },
      "source": [
        "### Source type"
      ]
    },
    {
      "cell_type": "code",
      "metadata": {
        "colab": {
          "base_uri": "https://localhost:8080/"
        },
        "id": "Pz9ebRz1tw0y",
        "outputId": "de5f50f1-07c7-419b-ed0c-8c1756c98b56"
      },
      "source": [
        "train_expanded['source_system_tab'].unique()"
      ],
      "execution_count": null,
      "outputs": [
        {
          "data": {
            "text/plain": [
              "array(['explore', 'my library', 'search', 'discover', 'unknown', 'radio',\n",
              "       'listen with', 'notification', 'settings'], dtype=object)"
            ]
          },
          "execution_count": 55,
          "metadata": {},
          "output_type": "execute_result"
        }
      ]
    },
    {
      "cell_type": "code",
      "metadata": {
        "colab": {
          "base_uri": "https://localhost:8080/"
        },
        "id": "LelNUiNItftO",
        "outputId": "e2b36f69-37d3-4a89-ad50-e5d5c33b9f9e"
      },
      "source": [
        "train_expanded['source_type'].unique()"
      ],
      "execution_count": null,
      "outputs": [
        {
          "data": {
            "text/plain": [
              "array(['online-playlist', 'local-playlist', 'local-library',\n",
              "       'top-hits-for-artist', 'album', 'unknown', 'song-based-playlist',\n",
              "       'radio', 'song', 'listen-with', 'artist', 'topic-article-playlist',\n",
              "       'my-daily-playlist'], dtype=object)"
            ]
          },
          "execution_count": 54,
          "metadata": {},
          "output_type": "execute_result"
        }
      ]
    },
    {
      "cell_type": "code",
      "metadata": {
        "id": "hVGdUo2EuQs4"
      },
      "source": [
        "column = 'source_system_tab'\n",
        "train_df_user = train_expanded[['msno', column, 'song_id']].groupby(['msno', column]).count()"
      ],
      "execution_count": null,
      "outputs": []
    },
    {
      "cell_type": "code",
      "metadata": {
        "id": "50TytGfsuQs6"
      },
      "source": [
        "train_df_user = transpose(train_df_user)"
      ],
      "execution_count": null,
      "outputs": []
    },
    {
      "cell_type": "code",
      "metadata": {
        "id": "uro2tlo2uQs6"
      },
      "source": [
        "train_df_user = normalize_by_user(train_df_user)\n",
        "train_df_user = rename_columns(train_df_user)"
      ],
      "execution_count": null,
      "outputs": []
    },
    {
      "cell_type": "code",
      "metadata": {
        "colab": {
          "base_uri": "https://localhost:8080/",
          "height": 487
        },
        "id": "nQLROa_UuQs6",
        "outputId": "f10e42f3-d6ef-41f5-c713-4a3d93177d6b"
      },
      "source": [
        "train_df_user"
      ],
      "execution_count": null,
      "outputs": [
        {
          "data": {
            "text/html": [
              "<div>\n",
              "<style scoped>\n",
              "    .dataframe tbody tr th:only-of-type {\n",
              "        vertical-align: middle;\n",
              "    }\n",
              "\n",
              "    .dataframe tbody tr th {\n",
              "        vertical-align: top;\n",
              "    }\n",
              "\n",
              "    .dataframe thead th {\n",
              "        text-align: right;\n",
              "    }\n",
              "</style>\n",
              "<table border=\"1\" class=\"dataframe\">\n",
              "  <thead>\n",
              "    <tr style=\"text-align: right;\">\n",
              "      <th></th>\n",
              "      <th>source_system_tab_discover</th>\n",
              "      <th>source_system_tab_explore</th>\n",
              "      <th>source_system_tab_listen with</th>\n",
              "      <th>source_system_tab_my library</th>\n",
              "      <th>source_system_tab_notification</th>\n",
              "      <th>source_system_tab_radio</th>\n",
              "      <th>source_system_tab_search</th>\n",
              "      <th>source_system_tab_settings</th>\n",
              "      <th>source_system_tab_unknown</th>\n",
              "    </tr>\n",
              "    <tr>\n",
              "      <th>msno</th>\n",
              "      <th></th>\n",
              "      <th></th>\n",
              "      <th></th>\n",
              "      <th></th>\n",
              "      <th></th>\n",
              "      <th></th>\n",
              "      <th></th>\n",
              "      <th></th>\n",
              "      <th></th>\n",
              "    </tr>\n",
              "  </thead>\n",
              "  <tbody>\n",
              "    <tr>\n",
              "      <th>++5wYjoMgQHoRuD3GbbvmphZbBBwymzv5Q4l8sywtuU=</th>\n",
              "      <td>0.154</td>\n",
              "      <td>0.0</td>\n",
              "      <td>0.0</td>\n",
              "      <td>0.846</td>\n",
              "      <td>0.0</td>\n",
              "      <td>0.000</td>\n",
              "      <td>0.000</td>\n",
              "      <td>0.0</td>\n",
              "      <td>0.0</td>\n",
              "    </tr>\n",
              "    <tr>\n",
              "      <th>++AH7m/EQ4iKe6wSlfO/xXAJx50p+fCeTyF90GoE9Pg=</th>\n",
              "      <td>0.005</td>\n",
              "      <td>0.0</td>\n",
              "      <td>0.0</td>\n",
              "      <td>0.995</td>\n",
              "      <td>0.0</td>\n",
              "      <td>0.000</td>\n",
              "      <td>0.000</td>\n",
              "      <td>0.0</td>\n",
              "      <td>0.0</td>\n",
              "    </tr>\n",
              "    <tr>\n",
              "      <th>++e+jsxuQ8UEnmW40od9Rq3rW7+wAum4wooXyZTKJpk=</th>\n",
              "      <td>0.009</td>\n",
              "      <td>0.0</td>\n",
              "      <td>0.0</td>\n",
              "      <td>0.991</td>\n",
              "      <td>0.0</td>\n",
              "      <td>0.000</td>\n",
              "      <td>0.000</td>\n",
              "      <td>0.0</td>\n",
              "      <td>0.0</td>\n",
              "    </tr>\n",
              "    <tr>\n",
              "      <th>++xWL5Pbi2CpG4uUugigQahauM0J/sBIRloTNPBybIU=</th>\n",
              "      <td>1.000</td>\n",
              "      <td>0.0</td>\n",
              "      <td>0.0</td>\n",
              "      <td>0.000</td>\n",
              "      <td>0.0</td>\n",
              "      <td>0.000</td>\n",
              "      <td>0.000</td>\n",
              "      <td>0.0</td>\n",
              "      <td>0.0</td>\n",
              "    </tr>\n",
              "    <tr>\n",
              "      <th>+/SKX44s4ryWQzYzuV7ZKMXqIKQMN1cPz3M8CJ8CFKU=</th>\n",
              "      <td>0.595</td>\n",
              "      <td>0.0</td>\n",
              "      <td>0.0</td>\n",
              "      <td>0.333</td>\n",
              "      <td>0.0</td>\n",
              "      <td>0.000</td>\n",
              "      <td>0.072</td>\n",
              "      <td>0.0</td>\n",
              "      <td>0.0</td>\n",
              "    </tr>\n",
              "    <tr>\n",
              "      <th>...</th>\n",
              "      <td>...</td>\n",
              "      <td>...</td>\n",
              "      <td>...</td>\n",
              "      <td>...</td>\n",
              "      <td>...</td>\n",
              "      <td>...</td>\n",
              "      <td>...</td>\n",
              "      <td>...</td>\n",
              "      <td>...</td>\n",
              "    </tr>\n",
              "    <tr>\n",
              "      <th>zzTnhToV1XfDIsDJ1YaXM3Q05xV54T8Q0zTJkakXsks=</th>\n",
              "      <td>0.118</td>\n",
              "      <td>0.0</td>\n",
              "      <td>0.0</td>\n",
              "      <td>0.882</td>\n",
              "      <td>0.0</td>\n",
              "      <td>0.000</td>\n",
              "      <td>0.000</td>\n",
              "      <td>0.0</td>\n",
              "      <td>0.0</td>\n",
              "    </tr>\n",
              "    <tr>\n",
              "      <th>zzZBJUYXrb168A4Ff4sA8L2iOH0x4ciKdD6WkV53XaE=</th>\n",
              "      <td>0.004</td>\n",
              "      <td>0.0</td>\n",
              "      <td>0.0</td>\n",
              "      <td>0.900</td>\n",
              "      <td>0.0</td>\n",
              "      <td>0.000</td>\n",
              "      <td>0.096</td>\n",
              "      <td>0.0</td>\n",
              "      <td>0.0</td>\n",
              "    </tr>\n",
              "    <tr>\n",
              "      <th>zzompfSaMamqvjyCMYvgUBwYrxh8fHE40z3f73CQoak=</th>\n",
              "      <td>0.046</td>\n",
              "      <td>0.0</td>\n",
              "      <td>0.0</td>\n",
              "      <td>0.846</td>\n",
              "      <td>0.0</td>\n",
              "      <td>0.056</td>\n",
              "      <td>0.052</td>\n",
              "      <td>0.0</td>\n",
              "      <td>0.0</td>\n",
              "    </tr>\n",
              "    <tr>\n",
              "      <th>zzqc2ja7z10FtSpagYVcAZXg/gPRq7wcDZuNFj+zJSU=</th>\n",
              "      <td>0.011</td>\n",
              "      <td>0.0</td>\n",
              "      <td>0.0</td>\n",
              "      <td>0.989</td>\n",
              "      <td>0.0</td>\n",
              "      <td>0.000</td>\n",
              "      <td>0.000</td>\n",
              "      <td>0.0</td>\n",
              "      <td>0.0</td>\n",
              "    </tr>\n",
              "    <tr>\n",
              "      <th>zzzRi5ek1YCKTGns8C77xwAutE05PAPmz8T/pIIQhzE=</th>\n",
              "      <td>0.000</td>\n",
              "      <td>0.0</td>\n",
              "      <td>0.0</td>\n",
              "      <td>1.000</td>\n",
              "      <td>0.0</td>\n",
              "      <td>0.000</td>\n",
              "      <td>0.000</td>\n",
              "      <td>0.0</td>\n",
              "      <td>0.0</td>\n",
              "    </tr>\n",
              "  </tbody>\n",
              "</table>\n",
              "<p>30755 rows × 9 columns</p>\n",
              "</div>"
            ],
            "text/plain": [
              "                                              source_system_tab_discover  ...  source_system_tab_unknown\n",
              "msno                                                                      ...                           \n",
              "++5wYjoMgQHoRuD3GbbvmphZbBBwymzv5Q4l8sywtuU=                       0.154  ...                        0.0\n",
              "++AH7m/EQ4iKe6wSlfO/xXAJx50p+fCeTyF90GoE9Pg=                       0.005  ...                        0.0\n",
              "++e+jsxuQ8UEnmW40od9Rq3rW7+wAum4wooXyZTKJpk=                       0.009  ...                        0.0\n",
              "++xWL5Pbi2CpG4uUugigQahauM0J/sBIRloTNPBybIU=                       1.000  ...                        0.0\n",
              "+/SKX44s4ryWQzYzuV7ZKMXqIKQMN1cPz3M8CJ8CFKU=                       0.595  ...                        0.0\n",
              "...                                                                  ...  ...                        ...\n",
              "zzTnhToV1XfDIsDJ1YaXM3Q05xV54T8Q0zTJkakXsks=                       0.118  ...                        0.0\n",
              "zzZBJUYXrb168A4Ff4sA8L2iOH0x4ciKdD6WkV53XaE=                       0.004  ...                        0.0\n",
              "zzompfSaMamqvjyCMYvgUBwYrxh8fHE40z3f73CQoak=                       0.046  ...                        0.0\n",
              "zzqc2ja7z10FtSpagYVcAZXg/gPRq7wcDZuNFj+zJSU=                       0.011  ...                        0.0\n",
              "zzzRi5ek1YCKTGns8C77xwAutE05PAPmz8T/pIIQhzE=                       0.000  ...                        0.0\n",
              "\n",
              "[30755 rows x 9 columns]"
            ]
          },
          "execution_count": 82,
          "metadata": {},
          "output_type": "execute_result"
        }
      ]
    },
    {
      "cell_type": "code",
      "metadata": {
        "id": "DzK6nd3IuQs7"
      },
      "source": [
        "train_df_user.to_csv(directory + 'train_' + column + '_user_norm.csv')"
      ],
      "execution_count": null,
      "outputs": []
    },
    {
      "cell_type": "code",
      "metadata": {
        "id": "swjbBeECunUZ"
      },
      "source": [
        "column = 'source_type'\n",
        "train_df_user = train_expanded[['msno', column, 'song_id']].groupby(['msno', column]).count()"
      ],
      "execution_count": null,
      "outputs": []
    },
    {
      "cell_type": "code",
      "metadata": {
        "id": "Ly3CHa24unUb"
      },
      "source": [
        "train_df_user = transpose(train_df_user)"
      ],
      "execution_count": null,
      "outputs": []
    },
    {
      "cell_type": "code",
      "metadata": {
        "id": "vVZuLt6ZunUb"
      },
      "source": [
        "train_df_user = normalize_by_user(train_df_user)\n",
        "train_df_user = rename_columns(train_df_user)"
      ],
      "execution_count": null,
      "outputs": []
    },
    {
      "cell_type": "code",
      "metadata": {
        "colab": {
          "base_uri": "https://localhost:8080/",
          "height": 487
        },
        "id": "Q2HTbq_AunUb",
        "outputId": "3e71ef07-42c3-4891-a1fe-0d1a240eb0a5"
      },
      "source": [
        "train_df_user"
      ],
      "execution_count": null,
      "outputs": [
        {
          "data": {
            "text/html": [
              "<div>\n",
              "<style scoped>\n",
              "    .dataframe tbody tr th:only-of-type {\n",
              "        vertical-align: middle;\n",
              "    }\n",
              "\n",
              "    .dataframe tbody tr th {\n",
              "        vertical-align: top;\n",
              "    }\n",
              "\n",
              "    .dataframe thead th {\n",
              "        text-align: right;\n",
              "    }\n",
              "</style>\n",
              "<table border=\"1\" class=\"dataframe\">\n",
              "  <thead>\n",
              "    <tr style=\"text-align: right;\">\n",
              "      <th></th>\n",
              "      <th>source_type_album</th>\n",
              "      <th>source_type_artist</th>\n",
              "      <th>source_type_listen-with</th>\n",
              "      <th>source_type_local-library</th>\n",
              "      <th>source_type_local-playlist</th>\n",
              "      <th>source_type_my-daily-playlist</th>\n",
              "      <th>source_type_online-playlist</th>\n",
              "      <th>source_type_radio</th>\n",
              "      <th>source_type_song</th>\n",
              "      <th>source_type_song-based-playlist</th>\n",
              "      <th>source_type_top-hits-for-artist</th>\n",
              "      <th>source_type_topic-article-playlist</th>\n",
              "      <th>source_type_unknown</th>\n",
              "    </tr>\n",
              "    <tr>\n",
              "      <th>msno</th>\n",
              "      <th></th>\n",
              "      <th></th>\n",
              "      <th></th>\n",
              "      <th></th>\n",
              "      <th></th>\n",
              "      <th></th>\n",
              "      <th></th>\n",
              "      <th></th>\n",
              "      <th></th>\n",
              "      <th></th>\n",
              "      <th></th>\n",
              "      <th></th>\n",
              "      <th></th>\n",
              "    </tr>\n",
              "  </thead>\n",
              "  <tbody>\n",
              "    <tr>\n",
              "      <th>++5wYjoMgQHoRuD3GbbvmphZbBBwymzv5Q4l8sywtuU=</th>\n",
              "      <td>0.049</td>\n",
              "      <td>0.0</td>\n",
              "      <td>0.0</td>\n",
              "      <td>0.458</td>\n",
              "      <td>0.177</td>\n",
              "      <td>0.0</td>\n",
              "      <td>0.081</td>\n",
              "      <td>0.000</td>\n",
              "      <td>0.002</td>\n",
              "      <td>0.002</td>\n",
              "      <td>0.231</td>\n",
              "      <td>0.0</td>\n",
              "      <td>0.0</td>\n",
              "    </tr>\n",
              "    <tr>\n",
              "      <th>++AH7m/EQ4iKe6wSlfO/xXAJx50p+fCeTyF90GoE9Pg=</th>\n",
              "      <td>0.009</td>\n",
              "      <td>0.0</td>\n",
              "      <td>0.0</td>\n",
              "      <td>0.923</td>\n",
              "      <td>0.055</td>\n",
              "      <td>0.0</td>\n",
              "      <td>0.009</td>\n",
              "      <td>0.000</td>\n",
              "      <td>0.005</td>\n",
              "      <td>0.000</td>\n",
              "      <td>0.000</td>\n",
              "      <td>0.0</td>\n",
              "      <td>0.0</td>\n",
              "    </tr>\n",
              "    <tr>\n",
              "      <th>++e+jsxuQ8UEnmW40od9Rq3rW7+wAum4wooXyZTKJpk=</th>\n",
              "      <td>0.046</td>\n",
              "      <td>0.0</td>\n",
              "      <td>0.0</td>\n",
              "      <td>0.000</td>\n",
              "      <td>0.944</td>\n",
              "      <td>0.0</td>\n",
              "      <td>0.009</td>\n",
              "      <td>0.000</td>\n",
              "      <td>0.000</td>\n",
              "      <td>0.000</td>\n",
              "      <td>0.000</td>\n",
              "      <td>0.0</td>\n",
              "      <td>0.0</td>\n",
              "    </tr>\n",
              "    <tr>\n",
              "      <th>++xWL5Pbi2CpG4uUugigQahauM0J/sBIRloTNPBybIU=</th>\n",
              "      <td>0.188</td>\n",
              "      <td>0.0</td>\n",
              "      <td>0.0</td>\n",
              "      <td>0.000</td>\n",
              "      <td>0.000</td>\n",
              "      <td>0.0</td>\n",
              "      <td>0.812</td>\n",
              "      <td>0.000</td>\n",
              "      <td>0.000</td>\n",
              "      <td>0.000</td>\n",
              "      <td>0.000</td>\n",
              "      <td>0.0</td>\n",
              "      <td>0.0</td>\n",
              "    </tr>\n",
              "    <tr>\n",
              "      <th>+/SKX44s4ryWQzYzuV7ZKMXqIKQMN1cPz3M8CJ8CFKU=</th>\n",
              "      <td>0.054</td>\n",
              "      <td>0.0</td>\n",
              "      <td>0.0</td>\n",
              "      <td>0.252</td>\n",
              "      <td>0.081</td>\n",
              "      <td>0.0</td>\n",
              "      <td>0.495</td>\n",
              "      <td>0.000</td>\n",
              "      <td>0.018</td>\n",
              "      <td>0.099</td>\n",
              "      <td>0.000</td>\n",
              "      <td>0.0</td>\n",
              "      <td>0.0</td>\n",
              "    </tr>\n",
              "    <tr>\n",
              "      <th>...</th>\n",
              "      <td>...</td>\n",
              "      <td>...</td>\n",
              "      <td>...</td>\n",
              "      <td>...</td>\n",
              "      <td>...</td>\n",
              "      <td>...</td>\n",
              "      <td>...</td>\n",
              "      <td>...</td>\n",
              "      <td>...</td>\n",
              "      <td>...</td>\n",
              "      <td>...</td>\n",
              "      <td>...</td>\n",
              "      <td>...</td>\n",
              "    </tr>\n",
              "    <tr>\n",
              "      <th>zzTnhToV1XfDIsDJ1YaXM3Q05xV54T8Q0zTJkakXsks=</th>\n",
              "      <td>0.000</td>\n",
              "      <td>0.0</td>\n",
              "      <td>0.0</td>\n",
              "      <td>0.882</td>\n",
              "      <td>0.000</td>\n",
              "      <td>0.0</td>\n",
              "      <td>0.118</td>\n",
              "      <td>0.000</td>\n",
              "      <td>0.000</td>\n",
              "      <td>0.000</td>\n",
              "      <td>0.000</td>\n",
              "      <td>0.0</td>\n",
              "      <td>0.0</td>\n",
              "    </tr>\n",
              "    <tr>\n",
              "      <th>zzZBJUYXrb168A4Ff4sA8L2iOH0x4ciKdD6WkV53XaE=</th>\n",
              "      <td>0.146</td>\n",
              "      <td>0.0</td>\n",
              "      <td>0.0</td>\n",
              "      <td>0.722</td>\n",
              "      <td>0.046</td>\n",
              "      <td>0.0</td>\n",
              "      <td>0.007</td>\n",
              "      <td>0.000</td>\n",
              "      <td>0.036</td>\n",
              "      <td>0.000</td>\n",
              "      <td>0.043</td>\n",
              "      <td>0.0</td>\n",
              "      <td>0.0</td>\n",
              "    </tr>\n",
              "    <tr>\n",
              "      <th>zzompfSaMamqvjyCMYvgUBwYrxh8fHE40z3f73CQoak=</th>\n",
              "      <td>0.043</td>\n",
              "      <td>0.0</td>\n",
              "      <td>0.0</td>\n",
              "      <td>0.698</td>\n",
              "      <td>0.013</td>\n",
              "      <td>0.0</td>\n",
              "      <td>0.100</td>\n",
              "      <td>0.072</td>\n",
              "      <td>0.059</td>\n",
              "      <td>0.000</td>\n",
              "      <td>0.015</td>\n",
              "      <td>0.0</td>\n",
              "      <td>0.0</td>\n",
              "    </tr>\n",
              "    <tr>\n",
              "      <th>zzqc2ja7z10FtSpagYVcAZXg/gPRq7wcDZuNFj+zJSU=</th>\n",
              "      <td>0.049</td>\n",
              "      <td>0.0</td>\n",
              "      <td>0.0</td>\n",
              "      <td>0.000</td>\n",
              "      <td>0.894</td>\n",
              "      <td>0.0</td>\n",
              "      <td>0.015</td>\n",
              "      <td>0.004</td>\n",
              "      <td>0.000</td>\n",
              "      <td>0.011</td>\n",
              "      <td>0.026</td>\n",
              "      <td>0.0</td>\n",
              "      <td>0.0</td>\n",
              "    </tr>\n",
              "    <tr>\n",
              "      <th>zzzRi5ek1YCKTGns8C77xwAutE05PAPmz8T/pIIQhzE=</th>\n",
              "      <td>0.333</td>\n",
              "      <td>0.0</td>\n",
              "      <td>0.0</td>\n",
              "      <td>0.000</td>\n",
              "      <td>0.000</td>\n",
              "      <td>0.0</td>\n",
              "      <td>0.000</td>\n",
              "      <td>0.000</td>\n",
              "      <td>0.667</td>\n",
              "      <td>0.000</td>\n",
              "      <td>0.000</td>\n",
              "      <td>0.0</td>\n",
              "      <td>0.0</td>\n",
              "    </tr>\n",
              "  </tbody>\n",
              "</table>\n",
              "<p>30755 rows × 13 columns</p>\n",
              "</div>"
            ],
            "text/plain": [
              "                                              source_type_album  ...  source_type_unknown\n",
              "msno                                                             ...                     \n",
              "++5wYjoMgQHoRuD3GbbvmphZbBBwymzv5Q4l8sywtuU=              0.049  ...                  0.0\n",
              "++AH7m/EQ4iKe6wSlfO/xXAJx50p+fCeTyF90GoE9Pg=              0.009  ...                  0.0\n",
              "++e+jsxuQ8UEnmW40od9Rq3rW7+wAum4wooXyZTKJpk=              0.046  ...                  0.0\n",
              "++xWL5Pbi2CpG4uUugigQahauM0J/sBIRloTNPBybIU=              0.188  ...                  0.0\n",
              "+/SKX44s4ryWQzYzuV7ZKMXqIKQMN1cPz3M8CJ8CFKU=              0.054  ...                  0.0\n",
              "...                                                         ...  ...                  ...\n",
              "zzTnhToV1XfDIsDJ1YaXM3Q05xV54T8Q0zTJkakXsks=              0.000  ...                  0.0\n",
              "zzZBJUYXrb168A4Ff4sA8L2iOH0x4ciKdD6WkV53XaE=              0.146  ...                  0.0\n",
              "zzompfSaMamqvjyCMYvgUBwYrxh8fHE40z3f73CQoak=              0.043  ...                  0.0\n",
              "zzqc2ja7z10FtSpagYVcAZXg/gPRq7wcDZuNFj+zJSU=              0.049  ...                  0.0\n",
              "zzzRi5ek1YCKTGns8C77xwAutE05PAPmz8T/pIIQhzE=              0.333  ...                  0.0\n",
              "\n",
              "[30755 rows x 13 columns]"
            ]
          },
          "execution_count": 87,
          "metadata": {},
          "output_type": "execute_result"
        }
      ]
    },
    {
      "cell_type": "code",
      "metadata": {
        "id": "T8zM4yxbunUc"
      },
      "source": [
        "train_df_user.to_csv(directory + 'train_' + column + '_user_norm.csv')"
      ],
      "execution_count": null,
      "outputs": []
    },
    {
      "cell_type": "markdown",
      "metadata": {
        "id": "k-VSwjP4sS-v"
      },
      "source": [
        "### Song length cat"
      ]
    },
    {
      "cell_type": "code",
      "metadata": {
        "id": "wXjyW_38vqGi"
      },
      "source": [
        "column = 'song_length_cat'\n",
        "train_df_user = train_expanded[['msno', column, 'song_id']].groupby(['msno', column]).count()"
      ],
      "execution_count": null,
      "outputs": []
    },
    {
      "cell_type": "code",
      "metadata": {
        "id": "W74TwHkAvqGk"
      },
      "source": [
        "train_df_user = transpose(train_df_user)"
      ],
      "execution_count": null,
      "outputs": []
    },
    {
      "cell_type": "code",
      "metadata": {
        "id": "LIjhaHCdvqGk"
      },
      "source": [
        "train_df_user = normalize_by_user(train_df_user)\n",
        "train_df_user = rename_columns(train_df_user)"
      ],
      "execution_count": null,
      "outputs": []
    },
    {
      "cell_type": "code",
      "metadata": {
        "colab": {
          "base_uri": "https://localhost:8080/",
          "height": 470
        },
        "id": "0waCb04OvqGk",
        "outputId": "245806be-572c-44f6-ca74-e46568201dc3"
      },
      "source": [
        "train_df_user"
      ],
      "execution_count": null,
      "outputs": [
        {
          "data": {
            "text/html": [
              "<div>\n",
              "<style scoped>\n",
              "    .dataframe tbody tr th:only-of-type {\n",
              "        vertical-align: middle;\n",
              "    }\n",
              "\n",
              "    .dataframe tbody tr th {\n",
              "        vertical-align: top;\n",
              "    }\n",
              "\n",
              "    .dataframe thead th {\n",
              "        text-align: right;\n",
              "    }\n",
              "</style>\n",
              "<table border=\"1\" class=\"dataframe\">\n",
              "  <thead>\n",
              "    <tr style=\"text-align: right;\">\n",
              "      <th></th>\n",
              "      <th>song_length_cat_0.0</th>\n",
              "      <th>song_length_cat_1.0</th>\n",
              "      <th>song_length_cat_2.0</th>\n",
              "      <th>song_length_cat_3.0</th>\n",
              "      <th>song_length_cat_4.0</th>\n",
              "      <th>song_length_cat_5.0</th>\n",
              "    </tr>\n",
              "    <tr>\n",
              "      <th>msno</th>\n",
              "      <th></th>\n",
              "      <th></th>\n",
              "      <th></th>\n",
              "      <th></th>\n",
              "      <th></th>\n",
              "      <th></th>\n",
              "    </tr>\n",
              "  </thead>\n",
              "  <tbody>\n",
              "    <tr>\n",
              "      <th>++5wYjoMgQHoRuD3GbbvmphZbBBwymzv5Q4l8sywtuU=</th>\n",
              "      <td>0.014</td>\n",
              "      <td>0.896</td>\n",
              "      <td>0.027</td>\n",
              "      <td>0.063</td>\n",
              "      <td>0.0</td>\n",
              "      <td>0.0</td>\n",
              "    </tr>\n",
              "    <tr>\n",
              "      <th>++AH7m/EQ4iKe6wSlfO/xXAJx50p+fCeTyF90GoE9Pg=</th>\n",
              "      <td>0.000</td>\n",
              "      <td>0.995</td>\n",
              "      <td>0.005</td>\n",
              "      <td>0.000</td>\n",
              "      <td>0.0</td>\n",
              "      <td>0.0</td>\n",
              "    </tr>\n",
              "    <tr>\n",
              "      <th>++e+jsxuQ8UEnmW40od9Rq3rW7+wAum4wooXyZTKJpk=</th>\n",
              "      <td>0.000</td>\n",
              "      <td>0.954</td>\n",
              "      <td>0.046</td>\n",
              "      <td>0.000</td>\n",
              "      <td>0.0</td>\n",
              "      <td>0.0</td>\n",
              "    </tr>\n",
              "    <tr>\n",
              "      <th>++xWL5Pbi2CpG4uUugigQahauM0J/sBIRloTNPBybIU=</th>\n",
              "      <td>0.000</td>\n",
              "      <td>1.000</td>\n",
              "      <td>0.000</td>\n",
              "      <td>0.000</td>\n",
              "      <td>0.0</td>\n",
              "      <td>0.0</td>\n",
              "    </tr>\n",
              "    <tr>\n",
              "      <th>+/SKX44s4ryWQzYzuV7ZKMXqIKQMN1cPz3M8CJ8CFKU=</th>\n",
              "      <td>0.009</td>\n",
              "      <td>0.977</td>\n",
              "      <td>0.014</td>\n",
              "      <td>0.000</td>\n",
              "      <td>0.0</td>\n",
              "      <td>0.0</td>\n",
              "    </tr>\n",
              "    <tr>\n",
              "      <th>...</th>\n",
              "      <td>...</td>\n",
              "      <td>...</td>\n",
              "      <td>...</td>\n",
              "      <td>...</td>\n",
              "      <td>...</td>\n",
              "      <td>...</td>\n",
              "    </tr>\n",
              "    <tr>\n",
              "      <th>zzTnhToV1XfDIsDJ1YaXM3Q05xV54T8Q0zTJkakXsks=</th>\n",
              "      <td>0.000</td>\n",
              "      <td>1.000</td>\n",
              "      <td>0.000</td>\n",
              "      <td>0.000</td>\n",
              "      <td>0.0</td>\n",
              "      <td>0.0</td>\n",
              "    </tr>\n",
              "    <tr>\n",
              "      <th>zzZBJUYXrb168A4Ff4sA8L2iOH0x4ciKdD6WkV53XaE=</th>\n",
              "      <td>0.068</td>\n",
              "      <td>0.918</td>\n",
              "      <td>0.014</td>\n",
              "      <td>0.000</td>\n",
              "      <td>0.0</td>\n",
              "      <td>0.0</td>\n",
              "    </tr>\n",
              "    <tr>\n",
              "      <th>zzompfSaMamqvjyCMYvgUBwYrxh8fHE40z3f73CQoak=</th>\n",
              "      <td>0.035</td>\n",
              "      <td>0.937</td>\n",
              "      <td>0.028</td>\n",
              "      <td>0.000</td>\n",
              "      <td>0.0</td>\n",
              "      <td>0.0</td>\n",
              "    </tr>\n",
              "    <tr>\n",
              "      <th>zzqc2ja7z10FtSpagYVcAZXg/gPRq7wcDZuNFj+zJSU=</th>\n",
              "      <td>0.011</td>\n",
              "      <td>0.974</td>\n",
              "      <td>0.011</td>\n",
              "      <td>0.004</td>\n",
              "      <td>0.0</td>\n",
              "      <td>0.0</td>\n",
              "    </tr>\n",
              "    <tr>\n",
              "      <th>zzzRi5ek1YCKTGns8C77xwAutE05PAPmz8T/pIIQhzE=</th>\n",
              "      <td>0.000</td>\n",
              "      <td>1.000</td>\n",
              "      <td>0.000</td>\n",
              "      <td>0.000</td>\n",
              "      <td>0.0</td>\n",
              "      <td>0.0</td>\n",
              "    </tr>\n",
              "  </tbody>\n",
              "</table>\n",
              "<p>30755 rows × 6 columns</p>\n",
              "</div>"
            ],
            "text/plain": [
              "                                              song_length_cat_0.0  ...  song_length_cat_5.0\n",
              "msno                                                               ...                     \n",
              "++5wYjoMgQHoRuD3GbbvmphZbBBwymzv5Q4l8sywtuU=                0.014  ...                  0.0\n",
              "++AH7m/EQ4iKe6wSlfO/xXAJx50p+fCeTyF90GoE9Pg=                0.000  ...                  0.0\n",
              "++e+jsxuQ8UEnmW40od9Rq3rW7+wAum4wooXyZTKJpk=                0.000  ...                  0.0\n",
              "++xWL5Pbi2CpG4uUugigQahauM0J/sBIRloTNPBybIU=                0.000  ...                  0.0\n",
              "+/SKX44s4ryWQzYzuV7ZKMXqIKQMN1cPz3M8CJ8CFKU=                0.009  ...                  0.0\n",
              "...                                                           ...  ...                  ...\n",
              "zzTnhToV1XfDIsDJ1YaXM3Q05xV54T8Q0zTJkakXsks=                0.000  ...                  0.0\n",
              "zzZBJUYXrb168A4Ff4sA8L2iOH0x4ciKdD6WkV53XaE=                0.068  ...                  0.0\n",
              "zzompfSaMamqvjyCMYvgUBwYrxh8fHE40z3f73CQoak=                0.035  ...                  0.0\n",
              "zzqc2ja7z10FtSpagYVcAZXg/gPRq7wcDZuNFj+zJSU=                0.011  ...                  0.0\n",
              "zzzRi5ek1YCKTGns8C77xwAutE05PAPmz8T/pIIQhzE=                0.000  ...                  0.0\n",
              "\n",
              "[30755 rows x 6 columns]"
            ]
          },
          "execution_count": 93,
          "metadata": {},
          "output_type": "execute_result"
        }
      ]
    },
    {
      "cell_type": "code",
      "metadata": {
        "id": "PC1jLucMvqGl"
      },
      "source": [
        "train_df_user.to_csv(directory + 'train_' + column + '_user_norm.csv')"
      ],
      "execution_count": null,
      "outputs": []
    },
    {
      "cell_type": "markdown",
      "metadata": {
        "id": "U4IZDpyvvjs5"
      },
      "source": [
        "### Decade"
      ]
    },
    {
      "cell_type": "code",
      "metadata": {
        "id": "beOGzUo1vrz4"
      },
      "source": [
        "column = 'decade'\n",
        "train_expanded[column] = train_expanded[column].fillna(0).replace('[]', 0).apply(float).apply(int)\n",
        "train_df_user = train_expanded[['msno', column, 'song_id']].groupby(['msno', column]).count()"
      ],
      "execution_count": null,
      "outputs": []
    },
    {
      "cell_type": "code",
      "metadata": {
        "id": "0jjA7M_hvrz4"
      },
      "source": [
        "train_df_user = transpose(train_df_user)"
      ],
      "execution_count": null,
      "outputs": []
    },
    {
      "cell_type": "code",
      "metadata": {
        "id": "XihNEhUmvrz5"
      },
      "source": [
        "train_df_user = normalize_by_user(train_df_user)\n",
        "train_df_user = rename_columns(train_df_user)"
      ],
      "execution_count": null,
      "outputs": []
    },
    {
      "cell_type": "code",
      "metadata": {
        "colab": {
          "base_uri": "https://localhost:8080/",
          "height": 470
        },
        "id": "YlamwXF_vrz5",
        "outputId": "1de1f216-d2f8-42e6-acda-627e83193b4d"
      },
      "source": [
        "train_df_user"
      ],
      "execution_count": null,
      "outputs": [
        {
          "data": {
            "text/html": [
              "<div>\n",
              "<style scoped>\n",
              "    .dataframe tbody tr th:only-of-type {\n",
              "        vertical-align: middle;\n",
              "    }\n",
              "\n",
              "    .dataframe tbody tr th {\n",
              "        vertical-align: top;\n",
              "    }\n",
              "\n",
              "    .dataframe thead th {\n",
              "        text-align: right;\n",
              "    }\n",
              "</style>\n",
              "<table border=\"1\" class=\"dataframe\">\n",
              "  <thead>\n",
              "    <tr style=\"text-align: right;\">\n",
              "      <th></th>\n",
              "      <th>decade_0</th>\n",
              "      <th>decade_1910</th>\n",
              "      <th>decade_1920</th>\n",
              "      <th>decade_1930</th>\n",
              "      <th>decade_1940</th>\n",
              "      <th>decade_1950</th>\n",
              "      <th>decade_1960</th>\n",
              "      <th>decade_1970</th>\n",
              "      <th>decade_1980</th>\n",
              "      <th>decade_1990</th>\n",
              "      <th>decade_2000</th>\n",
              "      <th>decade_2010</th>\n",
              "    </tr>\n",
              "    <tr>\n",
              "      <th>msno</th>\n",
              "      <th></th>\n",
              "      <th></th>\n",
              "      <th></th>\n",
              "      <th></th>\n",
              "      <th></th>\n",
              "      <th></th>\n",
              "      <th></th>\n",
              "      <th></th>\n",
              "      <th></th>\n",
              "      <th></th>\n",
              "      <th></th>\n",
              "      <th></th>\n",
              "    </tr>\n",
              "  </thead>\n",
              "  <tbody>\n",
              "    <tr>\n",
              "      <th>++5wYjoMgQHoRuD3GbbvmphZbBBwymzv5Q4l8sywtuU=</th>\n",
              "      <td>0.0</td>\n",
              "      <td>0.000</td>\n",
              "      <td>0.0</td>\n",
              "      <td>0.0</td>\n",
              "      <td>0.0</td>\n",
              "      <td>0.0</td>\n",
              "      <td>0.000</td>\n",
              "      <td>0.000</td>\n",
              "      <td>0.003</td>\n",
              "      <td>0.217</td>\n",
              "      <td>0.321</td>\n",
              "      <td>0.458</td>\n",
              "    </tr>\n",
              "    <tr>\n",
              "      <th>++AH7m/EQ4iKe6wSlfO/xXAJx50p+fCeTyF90GoE9Pg=</th>\n",
              "      <td>0.0</td>\n",
              "      <td>0.000</td>\n",
              "      <td>0.0</td>\n",
              "      <td>0.0</td>\n",
              "      <td>0.0</td>\n",
              "      <td>0.0</td>\n",
              "      <td>0.000</td>\n",
              "      <td>0.000</td>\n",
              "      <td>0.000</td>\n",
              "      <td>0.045</td>\n",
              "      <td>0.059</td>\n",
              "      <td>0.895</td>\n",
              "    </tr>\n",
              "    <tr>\n",
              "      <th>++e+jsxuQ8UEnmW40od9Rq3rW7+wAum4wooXyZTKJpk=</th>\n",
              "      <td>0.0</td>\n",
              "      <td>0.000</td>\n",
              "      <td>0.0</td>\n",
              "      <td>0.0</td>\n",
              "      <td>0.0</td>\n",
              "      <td>0.0</td>\n",
              "      <td>0.000</td>\n",
              "      <td>0.000</td>\n",
              "      <td>0.000</td>\n",
              "      <td>0.222</td>\n",
              "      <td>0.333</td>\n",
              "      <td>0.444</td>\n",
              "    </tr>\n",
              "    <tr>\n",
              "      <th>++xWL5Pbi2CpG4uUugigQahauM0J/sBIRloTNPBybIU=</th>\n",
              "      <td>0.0</td>\n",
              "      <td>0.000</td>\n",
              "      <td>0.0</td>\n",
              "      <td>0.0</td>\n",
              "      <td>0.0</td>\n",
              "      <td>0.0</td>\n",
              "      <td>0.000</td>\n",
              "      <td>0.000</td>\n",
              "      <td>0.000</td>\n",
              "      <td>0.000</td>\n",
              "      <td>0.000</td>\n",
              "      <td>1.000</td>\n",
              "    </tr>\n",
              "    <tr>\n",
              "      <th>+/SKX44s4ryWQzYzuV7ZKMXqIKQMN1cPz3M8CJ8CFKU=</th>\n",
              "      <td>0.0</td>\n",
              "      <td>0.000</td>\n",
              "      <td>0.0</td>\n",
              "      <td>0.0</td>\n",
              "      <td>0.0</td>\n",
              "      <td>0.0</td>\n",
              "      <td>0.000</td>\n",
              "      <td>0.000</td>\n",
              "      <td>0.005</td>\n",
              "      <td>0.027</td>\n",
              "      <td>0.392</td>\n",
              "      <td>0.577</td>\n",
              "    </tr>\n",
              "    <tr>\n",
              "      <th>...</th>\n",
              "      <td>...</td>\n",
              "      <td>...</td>\n",
              "      <td>...</td>\n",
              "      <td>...</td>\n",
              "      <td>...</td>\n",
              "      <td>...</td>\n",
              "      <td>...</td>\n",
              "      <td>...</td>\n",
              "      <td>...</td>\n",
              "      <td>...</td>\n",
              "      <td>...</td>\n",
              "      <td>...</td>\n",
              "    </tr>\n",
              "    <tr>\n",
              "      <th>zzTnhToV1XfDIsDJ1YaXM3Q05xV54T8Q0zTJkakXsks=</th>\n",
              "      <td>0.0</td>\n",
              "      <td>0.000</td>\n",
              "      <td>0.0</td>\n",
              "      <td>0.0</td>\n",
              "      <td>0.0</td>\n",
              "      <td>0.0</td>\n",
              "      <td>0.000</td>\n",
              "      <td>0.000</td>\n",
              "      <td>0.000</td>\n",
              "      <td>0.118</td>\n",
              "      <td>0.294</td>\n",
              "      <td>0.588</td>\n",
              "    </tr>\n",
              "    <tr>\n",
              "      <th>zzZBJUYXrb168A4Ff4sA8L2iOH0x4ciKdD6WkV53XaE=</th>\n",
              "      <td>0.0</td>\n",
              "      <td>0.004</td>\n",
              "      <td>0.0</td>\n",
              "      <td>0.0</td>\n",
              "      <td>0.0</td>\n",
              "      <td>0.0</td>\n",
              "      <td>0.000</td>\n",
              "      <td>0.004</td>\n",
              "      <td>0.000</td>\n",
              "      <td>0.028</td>\n",
              "      <td>0.107</td>\n",
              "      <td>0.858</td>\n",
              "    </tr>\n",
              "    <tr>\n",
              "      <th>zzompfSaMamqvjyCMYvgUBwYrxh8fHE40z3f73CQoak=</th>\n",
              "      <td>0.0</td>\n",
              "      <td>0.000</td>\n",
              "      <td>0.0</td>\n",
              "      <td>0.0</td>\n",
              "      <td>0.0</td>\n",
              "      <td>0.0</td>\n",
              "      <td>0.004</td>\n",
              "      <td>0.004</td>\n",
              "      <td>0.022</td>\n",
              "      <td>0.234</td>\n",
              "      <td>0.130</td>\n",
              "      <td>0.605</td>\n",
              "    </tr>\n",
              "    <tr>\n",
              "      <th>zzqc2ja7z10FtSpagYVcAZXg/gPRq7wcDZuNFj+zJSU=</th>\n",
              "      <td>0.0</td>\n",
              "      <td>0.000</td>\n",
              "      <td>0.0</td>\n",
              "      <td>0.0</td>\n",
              "      <td>0.0</td>\n",
              "      <td>0.0</td>\n",
              "      <td>0.000</td>\n",
              "      <td>0.000</td>\n",
              "      <td>0.004</td>\n",
              "      <td>0.208</td>\n",
              "      <td>0.181</td>\n",
              "      <td>0.608</td>\n",
              "    </tr>\n",
              "    <tr>\n",
              "      <th>zzzRi5ek1YCKTGns8C77xwAutE05PAPmz8T/pIIQhzE=</th>\n",
              "      <td>0.0</td>\n",
              "      <td>0.000</td>\n",
              "      <td>0.0</td>\n",
              "      <td>0.0</td>\n",
              "      <td>0.0</td>\n",
              "      <td>0.0</td>\n",
              "      <td>0.000</td>\n",
              "      <td>0.000</td>\n",
              "      <td>0.000</td>\n",
              "      <td>0.000</td>\n",
              "      <td>0.000</td>\n",
              "      <td>1.000</td>\n",
              "    </tr>\n",
              "  </tbody>\n",
              "</table>\n",
              "<p>30755 rows × 12 columns</p>\n",
              "</div>"
            ],
            "text/plain": [
              "                                              decade_0  ...  decade_2010\n",
              "msno                                                    ...             \n",
              "++5wYjoMgQHoRuD3GbbvmphZbBBwymzv5Q4l8sywtuU=       0.0  ...        0.458\n",
              "++AH7m/EQ4iKe6wSlfO/xXAJx50p+fCeTyF90GoE9Pg=       0.0  ...        0.895\n",
              "++e+jsxuQ8UEnmW40od9Rq3rW7+wAum4wooXyZTKJpk=       0.0  ...        0.444\n",
              "++xWL5Pbi2CpG4uUugigQahauM0J/sBIRloTNPBybIU=       0.0  ...        1.000\n",
              "+/SKX44s4ryWQzYzuV7ZKMXqIKQMN1cPz3M8CJ8CFKU=       0.0  ...        0.577\n",
              "...                                                ...  ...          ...\n",
              "zzTnhToV1XfDIsDJ1YaXM3Q05xV54T8Q0zTJkakXsks=       0.0  ...        0.588\n",
              "zzZBJUYXrb168A4Ff4sA8L2iOH0x4ciKdD6WkV53XaE=       0.0  ...        0.858\n",
              "zzompfSaMamqvjyCMYvgUBwYrxh8fHE40z3f73CQoak=       0.0  ...        0.605\n",
              "zzqc2ja7z10FtSpagYVcAZXg/gPRq7wcDZuNFj+zJSU=       0.0  ...        0.608\n",
              "zzzRi5ek1YCKTGns8C77xwAutE05PAPmz8T/pIIQhzE=       0.0  ...        1.000\n",
              "\n",
              "[30755 rows x 12 columns]"
            ]
          },
          "execution_count": 113,
          "metadata": {},
          "output_type": "execute_result"
        }
      ]
    },
    {
      "cell_type": "code",
      "metadata": {
        "id": "m4X-MeKkvrz6"
      },
      "source": [
        "train_df_user.to_csv(directory + 'train_' + column + '_user_norm.csv')"
      ],
      "execution_count": null,
      "outputs": []
    },
    {
      "cell_type": "markdown",
      "metadata": {
        "id": "wntZlQ3cw8r6"
      },
      "source": [
        "## Join song statistic to data"
      ]
    },
    {
      "cell_type": "markdown",
      "metadata": {
        "id": "DeVZr2RXsaxL"
      },
      "source": [
        "Save all this tables to different files, because their size too big\n"
      ]
    },
    {
      "cell_type": "code",
      "metadata": {
        "id": "0ljogzOpvkrV"
      },
      "source": [
        "name_data = ['genre', 'country', 'language', \n",
        "             'source_type', 'source_system_tab',\n",
        "             'song_length_cat', 'decade']"
      ],
      "execution_count": 4,
      "outputs": []
    },
    {
      "cell_type": "code",
      "metadata": {
        "id": "IY2MiG-lA3Jw"
      },
      "source": [
        "for col in name_data:\n",
        "  train_df_user = pd.read_csv(directory + 'train_' + col + '_user_norm.csv')\n",
        "  train_expanded_df = train_expanded[['msno']].merge(train_df_user, on=['msno'], how='left')\n",
        "  train_expanded_df.to_csv(directory + 'Train_data/train_' + col + '.csv', index=False)"
      ],
      "execution_count": null,
      "outputs": []
    },
    {
      "cell_type": "code",
      "metadata": {
        "colab": {
          "base_uri": "https://localhost:8080/"
        },
        "id": "uasAghEWeqFg",
        "outputId": "c37be802-79a1-46ee-8806-3a9deeea7574"
      },
      "source": [
        "test_expanded = pd.read_csv(directory + 'test_expanded_all.csv')"
      ],
      "execution_count": 5,
      "outputs": [
        {
          "output_type": "stream",
          "name": "stderr",
          "text": [
            "/usr/local/lib/python3.7/dist-packages/IPython/core/interactiveshell.py:2718: DtypeWarning: Columns (26) have mixed types.Specify dtype option on import or set low_memory=False.\n",
            "  interactivity=interactivity, compiler=compiler, result=result)\n"
          ]
        }
      ]
    },
    {
      "cell_type": "code",
      "metadata": {
        "id": "PZr0uOONeB9x"
      },
      "source": [
        "for col in name_data:\n",
        "  test_df_user = pd.read_csv(directory + 'train_' + col + '_user_norm.csv')\n",
        "  test_expanded_df = test_expanded[['msno']].merge(test_df_user, on=['msno'], how='left')\n",
        "  # if user are new, we don't khow information\n",
        "  test_expanded_df = test_expanded_df.fillna(0)\n",
        "  test_expanded_df.to_csv(directory + 'Train_data/test_' + col + '.csv', index=False)"
      ],
      "execution_count": 6,
      "outputs": []
    },
    {
      "cell_type": "code",
      "metadata": {
        "id": "EAE91hNXfGJg"
      },
      "source": [
        ""
      ],
      "execution_count": null,
      "outputs": []
    }
  ]
}