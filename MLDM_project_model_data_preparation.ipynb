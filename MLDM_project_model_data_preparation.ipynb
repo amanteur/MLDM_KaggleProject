{
  "nbformat": 4,
  "nbformat_minor": 0,
  "metadata": {
    "colab": {
      "name": "MLDM_project_model_data_preparation.ipynb",
      "provenance": [],
      "collapsed_sections": [],
      "mount_file_id": "1l_RBRgFRGk_gJck00hBtg0kBrqLjXhoI",
      "authorship_tag": "ABX9TyOIwFaDlGSYwNHtPU39p2te",
      "include_colab_link": true
    },
    "kernelspec": {
      "name": "python3",
      "display_name": "Python 3"
    },
    "language_info": {
      "name": "python"
    }
  },
  "cells": [
    {
      "cell_type": "markdown",
      "metadata": {
        "id": "view-in-github",
        "colab_type": "text"
      },
      "source": [
        "<a href=\"https://colab.research.google.com/github/amanteur/MLDM_KaggleProject/blob/main/MLDM_project_model_data_preparation.ipynb\" target=\"_parent\"><img src=\"https://colab.research.google.com/assets/colab-badge.svg\" alt=\"Open In Colab\"/></a>"
      ]
    },
    {
      "cell_type": "code",
      "execution_count": null,
      "metadata": {
        "id": "BGCLoG2DFvna"
      },
      "outputs": [],
      "source": [
        "import pandas as pd\n",
        "import numpy as np\n",
        "import matplotlib.pyplot as plt\n",
        "import seaborn as sns\n",
        "from typing import List\n",
        "import random\n",
        "\n",
        "%matplotlib inline"
      ]
    },
    {
      "cell_type": "markdown",
      "source": [
        "# Errors handling"
      ],
      "metadata": {
        "id": "ndgnat5HV4q5"
      }
    },
    {
      "cell_type": "code",
      "source": [
        "# PATHS\n",
        "PATH = '/content/drive/MyDrive/datasets/kaggle_musrec/preprocessed/'\n",
        "FEATURES_PATHS = {'train': 'train_expanded_result.csv',\n",
        "                  'test': 'test_expanded_result.csv'}"
      ],
      "metadata": {
        "id": "1iw8rUD3Fzho"
      },
      "execution_count": null,
      "outputs": []
    },
    {
      "cell_type": "code",
      "source": [
        "cols = ['msno', 'song_id', 'source_system_tab', 'source_screen_name', 'source_type',\n",
        "        'target', 'user_plays', 'song_plays', 'user_repeat_ratio', 'song_repeat_ratio', 'city', 'bd', 'gender', 'registered_via',\n",
        "        'membership_days', 'artist_name', 'composer', 'lyricist', 'language', 'genre_ids',\n",
        "        'song_length_cat', 'artist_name_number', 'composer_number', 'lyricist_number',\n",
        "        'genre_number', 'name', 'decade', 'country', 'genre_first', 'source_type_ratio', \n",
        "        'source_system_tab_ratio', 'artist_name_ratio', 'composer_ratio']\n",
        "test_cols = ['msno', 'song_id', 'source_system_tab', 'source_screen_name', 'source_type', 'user_plays', 'song_plays',\n",
        "            'user_repeat_ratio', 'song_repeat_ratio', 'city', 'bd', 'gender', 'registered_via',\n",
        "            'membership_days', 'artist_name', 'composer', 'lyricist', 'language', 'genre_ids',\n",
        "            'song_length_cat', 'artist_name_number', 'composer_number', 'lyricist_number',\n",
        "            'genre_number', 'name', 'decade', 'country', 'genre_first', 'source_type_ratio', \n",
        "            'source_system_tab_ratio', 'artist_name_ratio', 'composer_ratio']"
      ],
      "metadata": {
        "id": "IX_7LH6LHrNg"
      },
      "execution_count": null,
      "outputs": []
    },
    {
      "cell_type": "code",
      "source": [
        "train = pd.read_csv(PATH + FEATURES_PATHS['train'], usecols=cols)"
      ],
      "metadata": {
        "colab": {
          "base_uri": "https://localhost:8080/"
        },
        "id": "bgBIN6wYF0eL",
        "outputId": "075e01be-82e8-425d-fa0c-b8b1e7fa9572"
      },
      "execution_count": null,
      "outputs": [
        {
          "output_type": "stream",
          "name": "stderr",
          "text": [
            "/usr/local/lib/python3.7/dist-packages/IPython/core/interactiveshell.py:2718: DtypeWarning: Columns (21,23,24,25,26,27,29) have mixed types.Specify dtype option on import or set low_memory=False.\n",
            "  interactivity=interactivity, compiler=compiler, result=result)\n"
          ]
        }
      ]
    },
    {
      "cell_type": "code",
      "source": [
        "test = pd.read_csv(PATH + FEATURES_PATHS['test'], usecols=test_cols)"
      ],
      "metadata": {
        "colab": {
          "base_uri": "https://localhost:8080/"
        },
        "id": "BcxmvJx5IX8X",
        "outputId": "967dcc7d-8a13-4464-dc68-27e9f50935b0"
      },
      "execution_count": null,
      "outputs": [
        {
          "output_type": "stream",
          "name": "stderr",
          "text": [
            "/usr/local/lib/python3.7/dist-packages/IPython/core/interactiveshell.py:2718: DtypeWarning: Columns (18,20,21,22,23,24,26,28) have mixed types.Specify dtype option on import or set low_memory=False.\n",
            "  interactivity=interactivity, compiler=compiler, result=result)\n"
          ]
        }
      ]
    },
    {
      "cell_type": "markdown",
      "source": [
        "## Clearing data"
      ],
      "metadata": {
        "id": "OY8nOCrIHT6g"
      }
    },
    {
      "cell_type": "code",
      "source": [
        "def preprocess(df, test=False):\n",
        "  # language\n",
        "  df['language'] = df['language'].apply(str)\n",
        "  # song_length_cat\n",
        "  df['song_length_cat'] = df['song_length_cat'].apply(str)\n",
        "  # decade\n",
        "  df['decade'] = df['decade'].apply(str)\n",
        "  # artist_name_number \n",
        "  df['artist_name_number'] = pd.to_numeric(df['artist_name_number'], errors='coerce').clip(upper=4)\n",
        "  # composer_number\n",
        "  df['composer_number'] = pd.to_numeric(df['composer_number'], errors='coerce').clip(upper=6)\n",
        "  # lyricist number\n",
        "  df['lyricist_number'] = pd.to_numeric(df['lyricist_number'], errors='coerce').clip(upper=4)\n",
        "  # genre_number\n",
        "  df['genre_number'] = pd.to_numeric(df['genre_number'], errors='coerce').clip(upper=3)\n",
        "  if test:\n",
        "    df['genre_first'] = df['genre_first'].apply(str)\n",
        "    df['user_repeat_ratio'] = pd.to_numeric(df['user_repeat_ratio'], errors='coerce')\n",
        "    df['song_repeat_ratio'] = pd.to_numeric(df['song_repeat_ratio'], errors='coerce')\n",
        "  return df"
      ],
      "metadata": {
        "id": "ciYmPUhAG_d5"
      },
      "execution_count": null,
      "outputs": []
    },
    {
      "cell_type": "code",
      "source": [
        "train = preprocess(train)"
      ],
      "metadata": {
        "id": "o_DVvxxzJR40"
      },
      "execution_count": null,
      "outputs": []
    },
    {
      "cell_type": "code",
      "source": [
        "test = preprocess(test, test=True)"
      ],
      "metadata": {
        "id": "dFELzav7LaQq"
      },
      "execution_count": null,
      "outputs": []
    },
    {
      "cell_type": "code",
      "source": [
        "train.info()"
      ],
      "metadata": {
        "colab": {
          "base_uri": "https://localhost:8080/"
        },
        "id": "Dq230l1nNpqS",
        "outputId": "cb0f16e5-3f98-4ba9-94e8-af551c27ab01"
      },
      "execution_count": null,
      "outputs": [
        {
          "output_type": "stream",
          "name": "stdout",
          "text": [
            "<class 'pandas.core.frame.DataFrame'>\n",
            "RangeIndex: 7377418 entries, 0 to 7377417\n",
            "Data columns (total 33 columns):\n",
            " #   Column                   Dtype  \n",
            "---  ------                   -----  \n",
            " 0   msno                     object \n",
            " 1   song_id                  object \n",
            " 2   source_system_tab        object \n",
            " 3   source_screen_name       object \n",
            " 4   source_type              object \n",
            " 5   target                   int64  \n",
            " 6   user_plays               int64  \n",
            " 7   song_plays               int64  \n",
            " 8   user_repeat_ratio        float64\n",
            " 9   song_repeat_ratio        float64\n",
            " 10  city                     int64  \n",
            " 11  bd                       int64  \n",
            " 12  gender                   float64\n",
            " 13  registered_via           int64  \n",
            " 14  membership_days          int64  \n",
            " 15  artist_name              object \n",
            " 16  composer                 object \n",
            " 17  lyricist                 object \n",
            " 18  language                 object \n",
            " 19  genre_ids                object \n",
            " 20  song_length_cat          object \n",
            " 21  artist_name_number       float64\n",
            " 22  composer_number          float64\n",
            " 23  lyricist_number          float64\n",
            " 24  genre_number             float64\n",
            " 25  name                     object \n",
            " 26  decade                   object \n",
            " 27  country                  object \n",
            " 28  genre_first              object \n",
            " 29  source_type_ratio        float64\n",
            " 30  source_system_tab_ratio  float64\n",
            " 31  artist_name_ratio        float64\n",
            " 32  composer_ratio           float64\n",
            "dtypes: float64(11), int64(7), object(15)\n",
            "memory usage: 1.8+ GB\n"
          ]
        }
      ]
    },
    {
      "cell_type": "code",
      "source": [
        "test.info()"
      ],
      "metadata": {
        "colab": {
          "base_uri": "https://localhost:8080/"
        },
        "id": "lC1w-IdONhbp",
        "outputId": "1bbf49c8-66d7-443e-cd31-2f6b9ec1a5fe"
      },
      "execution_count": null,
      "outputs": [
        {
          "output_type": "stream",
          "name": "stdout",
          "text": [
            "<class 'pandas.core.frame.DataFrame'>\n",
            "RangeIndex: 2556790 entries, 0 to 2556789\n",
            "Data columns (total 32 columns):\n",
            " #   Column                   Dtype  \n",
            "---  ------                   -----  \n",
            " 0   msno                     object \n",
            " 1   song_id                  object \n",
            " 2   source_system_tab        object \n",
            " 3   source_screen_name       object \n",
            " 4   source_type              object \n",
            " 5   user_plays               int64  \n",
            " 6   song_plays               int64  \n",
            " 7   user_repeat_ratio        float64\n",
            " 8   song_repeat_ratio        float64\n",
            " 9   city                     int64  \n",
            " 10  bd                       int64  \n",
            " 11  gender                   float64\n",
            " 12  registered_via           int64  \n",
            " 13  membership_days          int64  \n",
            " 14  artist_name              object \n",
            " 15  composer                 object \n",
            " 16  lyricist                 object \n",
            " 17  language                 object \n",
            " 18  genre_ids                object \n",
            " 19  song_length_cat          object \n",
            " 20  artist_name_number       float64\n",
            " 21  composer_number          float64\n",
            " 22  lyricist_number          float64\n",
            " 23  genre_number             float64\n",
            " 24  name                     object \n",
            " 25  decade                   object \n",
            " 26  country                  object \n",
            " 27  genre_first              object \n",
            " 28  source_type_ratio        float64\n",
            " 29  source_system_tab_ratio  float64\n",
            " 30  artist_name_ratio        float64\n",
            " 31  composer_ratio           float64\n",
            "dtypes: float64(11), int64(6), object(15)\n",
            "memory usage: 624.2+ MB\n"
          ]
        }
      ]
    },
    {
      "cell_type": "markdown",
      "source": [
        "## train val split"
      ],
      "metadata": {
        "id": "XtGVDKzwMWfK"
      }
    },
    {
      "cell_type": "code",
      "source": [
        "train_size = train.shape[0]\n",
        "alpha = 0.8\n",
        "pct = int(alpha * train_size)\n",
        "train_split = train[:pct].copy()\n",
        "val_split = train[pct:].copy()"
      ],
      "metadata": {
        "id": "pcHqBlxbMV_k"
      },
      "execution_count": null,
      "outputs": []
    },
    {
      "cell_type": "code",
      "source": [
        "val_split.drop(columns=['user_repeat_ratio', 'song_repeat_ratio', 'source_type_ratio', 'source_system_tab_ratio', 'artist_name_ratio', 'composer_ratio'], inplace=True)"
      ],
      "metadata": {
        "id": "HYdQOXIbFrGM"
      },
      "execution_count": null,
      "outputs": []
    },
    {
      "cell_type": "code",
      "source": [
        "SAVE_PATH = '/content/drive/MyDrive/datasets/kaggle_musrec/prepr_v2/'"
      ],
      "metadata": {
        "id": "D6gmTK9PSk_z"
      },
      "execution_count": null,
      "outputs": []
    },
    {
      "cell_type": "code",
      "source": [
        "train_split.to_csv(SAVE_PATH + 'train.csv')\n",
        "val_split.to_csv(SAVE_PATH + 'val.csv')\n",
        "test.to_csv(SAVE_PATH + 'test.csv')"
      ],
      "metadata": {
        "id": "qpWbxlqlSbtK"
      },
      "execution_count": null,
      "outputs": []
    },
    {
      "cell_type": "markdown",
      "source": [
        "# Reading again"
      ],
      "metadata": {
        "id": "Vtk0PggkUWqX"
      }
    },
    {
      "cell_type": "code",
      "source": [
        "SAVE_PATH = '/content/drive/MyDrive/datasets/kaggle_musrec/prepr_v2/'"
      ],
      "metadata": {
        "id": "vg6m7thtV8l_"
      },
      "execution_count": null,
      "outputs": []
    },
    {
      "cell_type": "code",
      "source": [
        "train = pd.read_csv(SAVE_PATH + 'train.csv', \n",
        "                    dtype={'language': str,\n",
        "                          'song_length_cat': str,\n",
        "                          'decade': str},\n",
        "                    index_col=0)\n",
        "val = pd.read_csv(SAVE_PATH + 'val.csv', dtype={'language': str,\n",
        "                                                'song_length_cat': str,\n",
        "                                                'decade': str},\n",
        "                    index_col = 0)\n",
        "test = pd.read_csv(SAVE_PATH + 'test.csv', dtype={'genre_first':str,\n",
        "                                                  'language': str,\n",
        "                                                  'song_length_cat': str,\n",
        "                                                  'decade': str},\n",
        "                    index_col = 0)"
      ],
      "metadata": {
        "colab": {
          "base_uri": "https://localhost:8080/"
        },
        "id": "g7kqKjZwUNYg",
        "outputId": "67da26ab-4aa0-4d09-c0cd-eb562ff90f07"
      },
      "execution_count": null,
      "outputs": [
        {
          "output_type": "stream",
          "name": "stderr",
          "text": [
            "/usr/local/lib/python3.7/dist-packages/numpy/lib/arraysetops.py:580: FutureWarning: elementwise comparison failed; returning scalar instead, but in the future will perform elementwise comparison\n",
            "  mask |= (ar1 == a)\n"
          ]
        }
      ]
    },
    {
      "cell_type": "code",
      "source": [
        "for col in train.columns:\n",
        "  if train[col].dtype == object:\n",
        "    train[col] = train[col].astype('category')\n",
        "    val[col] = val[col].astype('category')"
      ],
      "metadata": {
        "id": "GfT-1f-hZ2we"
      },
      "execution_count": null,
      "outputs": []
    },
    {
      "cell_type": "code",
      "source": [
        "for col in test.columns:\n",
        "  if test[col].dtype == object:\n",
        "    test[col] = test[col].astype('category')"
      ],
      "metadata": {
        "id": "QQinQT4LGmuA"
      },
      "execution_count": null,
      "outputs": []
    },
    {
      "cell_type": "code",
      "source": [
        "train.info()"
      ],
      "metadata": {
        "colab": {
          "base_uri": "https://localhost:8080/"
        },
        "id": "e0eePZoAZ_SF",
        "outputId": "3ae2e57c-fa2a-4324-d6e0-f4315eb31667"
      },
      "execution_count": null,
      "outputs": [
        {
          "output_type": "stream",
          "name": "stdout",
          "text": [
            "<class 'pandas.core.frame.DataFrame'>\n",
            "Int64Index: 5901934 entries, 0 to 5901933\n",
            "Data columns (total 33 columns):\n",
            " #   Column                   Dtype   \n",
            "---  ------                   -----   \n",
            " 0   msno                     category\n",
            " 1   song_id                  category\n",
            " 2   source_system_tab        category\n",
            " 3   source_screen_name       category\n",
            " 4   source_type              category\n",
            " 5   target                   int64   \n",
            " 6   user_plays               int64   \n",
            " 7   song_plays               int64   \n",
            " 8   user_repeat_ratio        float64 \n",
            " 9   song_repeat_ratio        float64 \n",
            " 10  city                     int64   \n",
            " 11  bd                       int64   \n",
            " 12  gender                   float64 \n",
            " 13  registered_via           int64   \n",
            " 14  membership_days          int64   \n",
            " 15  artist_name              category\n",
            " 16  composer                 category\n",
            " 17  lyricist                 category\n",
            " 18  language                 category\n",
            " 19  genre_ids                category\n",
            " 20  song_length_cat          category\n",
            " 21  artist_name_number       float64 \n",
            " 22  composer_number          float64 \n",
            " 23  lyricist_number          float64 \n",
            " 24  genre_number             float64 \n",
            " 25  name                     category\n",
            " 26  decade                   category\n",
            " 27  country                  category\n",
            " 28  genre_first              category\n",
            " 29  source_type_ratio        float64 \n",
            " 30  source_system_tab_ratio  float64 \n",
            " 31  artist_name_ratio        float64 \n",
            " 32  composer_ratio           float64 \n",
            "dtypes: category(15), float64(11), int64(7)\n",
            "memory usage: 1.0 GB\n"
          ]
        }
      ]
    },
    {
      "cell_type": "code",
      "source": [
        "val.info()"
      ],
      "metadata": {
        "colab": {
          "base_uri": "https://localhost:8080/"
        },
        "id": "kqFYLjISGbOb",
        "outputId": "bbe2eda1-73ba-4ba7-beaf-1d6f6871135f"
      },
      "execution_count": null,
      "outputs": [
        {
          "output_type": "stream",
          "name": "stdout",
          "text": [
            "<class 'pandas.core.frame.DataFrame'>\n",
            "Int64Index: 1475484 entries, 5901934 to 7377417\n",
            "Data columns (total 27 columns):\n",
            " #   Column              Non-Null Count    Dtype   \n",
            "---  ------              --------------    -----   \n",
            " 0   msno                1475484 non-null  category\n",
            " 1   song_id             1475484 non-null  category\n",
            " 2   source_system_tab   1475484 non-null  category\n",
            " 3   source_screen_name  1475484 non-null  category\n",
            " 4   source_type         1475484 non-null  category\n",
            " 5   target              1475484 non-null  int64   \n",
            " 6   user_plays          1475484 non-null  int64   \n",
            " 7   song_plays          1475484 non-null  int64   \n",
            " 8   city                1475484 non-null  int64   \n",
            " 9   bd                  1475484 non-null  int64   \n",
            " 10  gender              1475484 non-null  float64 \n",
            " 11  registered_via      1475484 non-null  int64   \n",
            " 12  membership_days     1475484 non-null  int64   \n",
            " 13  artist_name         1475484 non-null  category\n",
            " 14  composer            1475484 non-null  category\n",
            " 15  lyricist            1475484 non-null  category\n",
            " 16  language            1475484 non-null  category\n",
            " 17  genre_ids           1475484 non-null  category\n",
            " 18  song_length_cat     1475484 non-null  category\n",
            " 19  artist_name_number  1475468 non-null  float64 \n",
            " 20  composer_number     1475468 non-null  float64 \n",
            " 21  lyricist_number     1475468 non-null  float64 \n",
            " 22  genre_number        1475468 non-null  float64 \n",
            " 23  name                1475484 non-null  category\n",
            " 24  decade              1475484 non-null  category\n",
            " 25  country             1475484 non-null  category\n",
            " 26  genre_first         1475484 non-null  category\n",
            "dtypes: category(15), float64(5), int64(7)\n",
            "memory usage: 203.2 MB\n"
          ]
        }
      ]
    },
    {
      "cell_type": "markdown",
      "source": [
        "## RATIOS!!!"
      ],
      "metadata": {
        "id": "a5thO1LuB2qv"
      }
    },
    {
      "cell_type": "code",
      "source": [
        "# 'user_repeat_ratio', 'song_repeat_ratio', 'source_type_ratio', 'source_system_tab_ratio', 'artist_name_ratio', 'composer_ratio'\n",
        "def add_ratio_column(val_df: pd.DataFrame, \n",
        "                     train_df: pd.DataFrame, \n",
        "                     target_col: str, \n",
        "                     id_col: list):\n",
        "  if len(id_col) == 1:\n",
        "    id_col = id_col[0]\n",
        "    # adding new column\n",
        "    val_list = set(train_df[id_col]).intersection(val_df[id_col])\n",
        "    val_dict = train_df.loc[train_df[id_col].isin(val_list)][[id_col, target_col]].set_index(id_col).to_dict()\n",
        "    val_df[target_col] = val_df[id_col].map(val_dict[target_col])\n",
        "    # dealing with nans\n",
        "    val_df[target_col] = val_df[target_col].fillna(train_df[target_col].median())\n",
        "  else:\n",
        "    val_df = val_df.merge(train_df.drop_duplicates(subset=id_col)[id_col+[target_col]], how='left', on=id_col)\n",
        "    for col in id_col:\n",
        "      df_ratio = val_df[[col]].merge(train_df.groupby(col)[target_col].median().reset_index(), how='left', on=[col])\n",
        "      val_df[target_col] = np.where(val_df[target_col].isna(), df_ratio[target_col], val_df[target_col])\n",
        "    val_df[target_col] = val_df[target_col].fillna(train_df[target_col].median())\n",
        "  return val_df"
      ],
      "metadata": {
        "id": "INOwIMTLCqGn"
      },
      "execution_count": null,
      "outputs": []
    },
    {
      "cell_type": "code",
      "source": [
        "col_dict = {'user_repeat_ratio': ['msno'], \n",
        "            'song_repeat_ratio': ['song_id'],\n",
        "            'source_type_ratio': ['msno', 'source_type'],\n",
        "            'source_system_tab_ratio': ['msno', 'source_system_tab'], \n",
        "            'artist_name_ratio': ['msno', 'artist_name'], \n",
        "            'composer_ratio': ['msno', 'composer']}"
      ],
      "metadata": {
        "id": "Rxuwlu4ILQEy"
      },
      "execution_count": null,
      "outputs": []
    },
    {
      "cell_type": "code",
      "source": [
        "for k, v in col_dict.items():\n",
        "  val = add_ratio_column(val, train, k, v)"
      ],
      "metadata": {
        "id": "Elp8Ve7GDqbh"
      },
      "execution_count": null,
      "outputs": []
    },
    {
      "cell_type": "code",
      "source": [
        ""
      ],
      "metadata": {
        "id": "BxhriG3LZ7Nz"
      },
      "execution_count": null,
      "outputs": []
    },
    {
      "cell_type": "markdown",
      "source": [
        "## Saving again"
      ],
      "metadata": {
        "id": "RVO9f3L0ZCzv"
      }
    },
    {
      "cell_type": "code",
      "source": [
        "SAVE_PATH_v3 = '/content/drive/MyDrive/datasets/kaggle_musrec/prepr_v3/'"
      ],
      "metadata": {
        "id": "ZR2o-Hi9ZHed"
      },
      "execution_count": null,
      "outputs": []
    },
    {
      "cell_type": "code",
      "source": [
        "train.to_csv(SAVE_PATH_v3 + 'train.csv')\n",
        "val.to_csv(SAVE_PATH_v3 + 'val.csv')\n",
        "test.to_csv(SAVE_PATH_v3 + 'test.csv')"
      ],
      "metadata": {
        "id": "kF221UuOZB4b"
      },
      "execution_count": null,
      "outputs": []
    },
    {
      "cell_type": "markdown",
      "source": [
        "# Reading again again"
      ],
      "metadata": {
        "id": "iu45uqLnZ-es"
      }
    },
    {
      "cell_type": "code",
      "source": [
        "train = pd.read_csv(SAVE_PATH + 'train.csv', \n",
        "                    dtype={'language': str,\n",
        "                          'song_length_cat': str,\n",
        "                          'decade': str},\n",
        "                    index_col=0)\n",
        "val = pd.read_csv(SAVE_PATH + 'val.csv', dtype={'language': str,\n",
        "                                                'song_length_cat': str,\n",
        "                                                'decade': str},\n",
        "                    index_col = 0)\n",
        "test = pd.read_csv(SAVE_PATH + 'test.csv', dtype={'genre_first':str,\n",
        "                                                  'language': str,\n",
        "                                                  'song_length_cat': str,\n",
        "                                                  'decade': str},\n",
        "                    index_col = 0)"
      ],
      "metadata": {
        "id": "Mz1LNJdNaBCK"
      },
      "execution_count": null,
      "outputs": []
    },
    {
      "cell_type": "markdown",
      "source": [
        "# Model"
      ],
      "metadata": {
        "id": "4rH6netmMMoj"
      }
    },
    {
      "cell_type": "code",
      "source": [
        "import lightgbm as lgb\n",
        "import gc"
      ],
      "metadata": {
        "id": "XDOB5F5UMH6p"
      },
      "execution_count": null,
      "outputs": []
    },
    {
      "cell_type": "code",
      "source": [
        "X_train = train.drop(['target'], axis=1)\n",
        "y_train = train['target'].values\n",
        "\n",
        "X_val = val.drop(['target'], axis=1)\n",
        "y_val = val['target'].values\n",
        "\n",
        "del train, val; gc.collect()\n",
        "\n",
        "d_train = lgb.Dataset(X_train, y_train)\n",
        "d_val = lgb.Dataset(X_val, y_val)"
      ],
      "metadata": {
        "id": "cQQFHEV-ZZaT"
      },
      "execution_count": null,
      "outputs": []
    },
    {
      "cell_type": "code",
      "source": [
        "print('Training LGBM model...')\n",
        "params = {}\n",
        "params['learning_rate'] = 0.2\n",
        "params['application'] = 'binary'\n",
        "params['max_depth'] = 8\n",
        "params['num_leaves'] = 2**8\n",
        "params['verbosity'] = 0\n",
        "params['metric'] = 'auc'\n",
        "\n",
        "model = lgb.train(params, \n",
        "                  train_set=d_train, \n",
        "                  num_boost_round=50, \n",
        "                  valid_sets=d_val,\n",
        "                  verbose_eval=5)"
      ],
      "metadata": {
        "colab": {
          "base_uri": "https://localhost:8080/"
        },
        "id": "j5e-TmfXbjf5",
        "outputId": "46766ca9-accc-4137-8469-ca9651ab621b"
      },
      "execution_count": null,
      "outputs": [
        {
          "output_type": "stream",
          "name": "stdout",
          "text": [
            "Training LGBM model...\n",
            "[5]\tvalid_0's auc: 0.530634\n",
            "[10]\tvalid_0's auc: 0.608904\n",
            "[15]\tvalid_0's auc: 0.623791\n",
            "[20]\tvalid_0's auc: 0.629328\n",
            "[25]\tvalid_0's auc: 0.644016\n",
            "[30]\tvalid_0's auc: 0.66177\n",
            "[35]\tvalid_0's auc: 0.663229\n",
            "[40]\tvalid_0's auc: 0.6667\n",
            "[45]\tvalid_0's auc: 0.665565\n",
            "[50]\tvalid_0's auc: 0.665001\n"
          ]
        }
      ]
    },
    {
      "cell_type": "code",
      "source": [
        "print('Making predictions and saving them...')\n",
        "X_val = val.drop(['target'], axis=1)\n",
        "y_val = val['target'].values\n",
        "val_pred = model.predict(X_val)"
      ],
      "metadata": {
        "id": "lt-UbuTwcYMT"
      },
      "execution_count": null,
      "outputs": []
    }
  ]
}