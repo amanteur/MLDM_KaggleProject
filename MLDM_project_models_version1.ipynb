{
  "cells": [
    {
      "cell_type": "code",
      "execution_count": 1,
      "metadata": {
        "id": "0QLJzt4ivU54"
      },
      "outputs": [],
      "source": [
        "import pandas as pd\n",
        "import numpy as np\n",
        "import matplotlib.pyplot as plt\n",
        "import seaborn as sns\n",
        "from typing import List\n",
        "import random\n",
        "\n",
        "%matplotlib inline\n",
        "\n",
        "import numpy as np\n",
        "import pandas as pd\n",
        "import matplotlib.pyplot as plt\n",
        "import seaborn as sns\n",
        "import time\n",
        "import gc\n",
        "from sklearn.preprocessing import StandardScaler\n",
        "from sklearn.linear_model import LogisticRegression\n",
        "from sklearn.preprocessing import LabelEncoder\n",
        "from sklearn.preprocessing import MinMaxScaler\n",
        "from sklearn.preprocessing import LabelEncoder\n",
        "from sklearn.linear_model import SGDClassifier\n",
        "from sklearn.model_selection import GridSearchCV\n",
        "from sklearn.tree import DecisionTreeClassifier\n",
        "from sklearn.ensemble import RandomForestClassifier, VotingClassifier, StackingClassifier\n",
        "from sklearn.model_selection import RandomizedSearchCV\n",
        "from sklearn.feature_selection import SelectKBest, chi2, f_classif\n",
        "from sklearn.decomposition import PCA\n",
        "import xgboost\n",
        "from sklearn import tree\n",
        "import seaborn as sns\n",
        "import matplotlib.pyplot as plt\n",
        "import time\n",
        "# Deep learning libraries\n",
        "import tensorflow as tf\n",
        "from tensorflow import keras\n",
        "from tensorflow.keras import layers, Input, Model\n",
        "from tensorflow.keras.layers import Dense, Dropout, BatchNormalization\n",
        "from sklearn.metrics import roc_auc_score\n",
        "\n",
        "import lightgbm as lgb\n",
        "import gc"
      ]
    },
    {
      "cell_type": "code",
      "execution_count": 2,
      "metadata": {
        "colab": {
          "base_uri": "https://localhost:8080/"
        },
        "id": "6ytoHhBfvmyG",
        "outputId": "db7b99a6-60e3-46bf-8041-708bd5465aa7"
      },
      "outputs": [
        {
          "output_type": "stream",
          "name": "stdout",
          "text": [
            "Mounted at /content/drive\n"
          ]
        }
      ],
      "source": [
        "from google.colab import drive\n",
        "drive.mount('/content/drive')"
      ]
    },
    {
      "cell_type": "code",
      "execution_count": 3,
      "metadata": {
        "id": "vjIenYhH5Wd3"
      },
      "outputs": [],
      "source": [
        "SAVE_PATH = '/content/drive/MyDrive/kaggle_project_data/'"
      ]
    },
    {
      "cell_type": "code",
      "execution_count": 4,
      "metadata": {
        "id": "e97Vkq_vv_U8"
      },
      "outputs": [],
      "source": [
        "train = pd.read_csv(SAVE_PATH + 'train.csv', dtype={'language': str,\n",
        "                                                    'song_length_cat': str,\n",
        "                                                    'decade': str})\n",
        "val = pd.read_csv(SAVE_PATH + 'val.csv', dtype={'language': str,\n",
        "                                                'song_length_cat': str,\n",
        "                                                'decade': str})\n",
        "test = pd.read_csv(SAVE_PATH + 'test.csv', dtype={'genre_first':str,\n",
        "                                                  'language': str,\n",
        "                                                  'song_length_cat': str,\n",
        "                                                  'decade': str})"
      ]
    },
    {
      "cell_type": "code",
      "execution_count": 5,
      "metadata": {
        "colab": {
          "base_uri": "https://localhost:8080/"
        },
        "id": "B-aOyDvh9Ttw",
        "outputId": "4e45f991-7ce1-48bc-ecd5-df21749aff6f"
      },
      "outputs": [
        {
          "output_type": "execute_result",
          "data": {
            "text/plain": [
              "(5901934, 34)"
            ]
          },
          "metadata": {},
          "execution_count": 5
        }
      ],
      "source": [
        "train.shape"
      ]
    },
    {
      "cell_type": "code",
      "execution_count": 6,
      "metadata": {
        "colab": {
          "base_uri": "https://localhost:8080/"
        },
        "id": "bwUcOiEYQiH2",
        "outputId": "dcf35ebf-32cf-437f-8ae4-6998061fc7fd"
      },
      "outputs": [
        {
          "output_type": "execute_result",
          "data": {
            "text/plain": [
              "(1475484, 34)"
            ]
          },
          "metadata": {},
          "execution_count": 6
        }
      ],
      "source": [
        "val.shape"
      ]
    },
    {
      "cell_type": "code",
      "execution_count": 7,
      "metadata": {
        "id": "_nfClm275_Ey"
      },
      "outputs": [],
      "source": [
        "# train = train[4401934:] # 1.5M data points\n",
        "# #tr_data = train_all[3401934:] # 2.5M data points\n",
        "# val = val[:500000]\n",
        "\n",
        "# print('size of train data : ', train.shape, 'size of val data : ', val.shape)"
      ]
    },
    {
      "cell_type": "code",
      "execution_count": 8,
      "metadata": {
        "colab": {
          "base_uri": "https://localhost:8080/"
        },
        "id": "4GJJjn5K-C-W",
        "outputId": "c8db0369-6763-4814-d2f1-ace3b8671052"
      },
      "outputs": [
        {
          "output_type": "stream",
          "name": "stderr",
          "text": [
            "/usr/local/lib/python3.7/dist-packages/sklearn/preprocessing/_label.py:133: DataConversionWarning: A column-vector y was passed when a 1d array was expected. Please change the shape of y to (n_samples, ), for example using ravel().\n",
            "  y = column_or_1d(y, warn=True)\n"
          ]
        }
      ],
      "source": [
        "# turning some categorical features into categorical ones and encoding labels\n",
        "categor_ft = ['msno', 'song_id', 'source_system_tab', 'source_screen_name', 'source_type', 'artist_name', 'composer',\n",
        "              'lyricist', 'language', 'genre_ids', 'song_length_cat', 'name', 'decade', 'country', 'genre_first']\n",
        "\n",
        "for feature in categor_ft:\n",
        "  le = LabelEncoder()\n",
        "  comb = train[feature].append(val[feature])\n",
        "  comb = set(comb.append(test[feature]))\n",
        "  comb = np.array(list(comb))\n",
        "  le = le.fit(comb)\n",
        "  train[feature] = le.transform(train[feature].values.reshape(-1,1))\n",
        "  val[feature] = le.transform(val[feature].values.reshape(-1,1))\n",
        "  test[feature] = le.transform(test[feature].values.reshape(-1,1))"
      ]
    },
    {
      "cell_type": "code",
      "execution_count": 9,
      "metadata": {
        "id": "8sjXANZQ9bwq"
      },
      "outputs": [],
      "source": [
        "X_train = train.drop(['target'], axis=1)\n",
        "y_train = train['target'].values\n",
        "\n",
        "X_val = val.drop(['target'], axis=1)\n",
        "X_val = X_val[['Unnamed: 0', 'msno', 'song_id', 'source_system_tab',\n",
        "       'source_screen_name', 'source_type', 'user_plays', 'song_plays',\n",
        "       'user_repeat_ratio', 'song_repeat_ratio', 'city', 'bd', 'gender',\n",
        "       'registered_via', 'membership_days', 'artist_name', 'composer',\n",
        "       'lyricist', 'language', 'genre_ids', 'song_length_cat',\n",
        "       'artist_name_number', 'composer_number', 'lyricist_number',\n",
        "       'genre_number', 'name', 'decade', 'country', 'genre_first',\n",
        "       'source_type_ratio', 'source_system_tab_ratio', 'artist_name_ratio',\n",
        "       'composer_ratio']]\n",
        "y_val = val['target'].values\n",
        "\n",
        "\n",
        "del train, val; gc.collect()\n",
        "\n",
        "d_train = lgb.Dataset(X_train, y_train)\n",
        "d_val = lgb.Dataset(X_val, y_val)"
      ]
    },
    {
      "cell_type": "code",
      "execution_count": 10,
      "metadata": {
        "id": "EBljPucEt1SG",
        "colab": {
          "base_uri": "https://localhost:8080/",
          "height": 221
        },
        "outputId": "b1b9404e-8467-4e6f-9267-2b44f85f5e96"
      },
      "outputs": [
        {
          "output_type": "execute_result",
          "data": {
            "text/html": [
              "\n",
              "  <div id=\"df-b06cf59e-9839-4c9a-9f55-cb1d1fbd5bf7\">\n",
              "    <div class=\"colab-df-container\">\n",
              "      <div>\n",
              "<style scoped>\n",
              "    .dataframe tbody tr th:only-of-type {\n",
              "        vertical-align: middle;\n",
              "    }\n",
              "\n",
              "    .dataframe tbody tr th {\n",
              "        vertical-align: top;\n",
              "    }\n",
              "\n",
              "    .dataframe thead th {\n",
              "        text-align: right;\n",
              "    }\n",
              "</style>\n",
              "<table border=\"1\" class=\"dataframe\">\n",
              "  <thead>\n",
              "    <tr style=\"text-align: right;\">\n",
              "      <th></th>\n",
              "      <th>Unnamed: 0</th>\n",
              "      <th>msno</th>\n",
              "      <th>song_id</th>\n",
              "      <th>source_system_tab</th>\n",
              "      <th>source_screen_name</th>\n",
              "      <th>source_type</th>\n",
              "      <th>user_plays</th>\n",
              "      <th>song_plays</th>\n",
              "      <th>user_repeat_ratio</th>\n",
              "      <th>song_repeat_ratio</th>\n",
              "      <th>city</th>\n",
              "      <th>bd</th>\n",
              "      <th>gender</th>\n",
              "      <th>registered_via</th>\n",
              "      <th>membership_days</th>\n",
              "      <th>artist_name</th>\n",
              "      <th>composer</th>\n",
              "      <th>lyricist</th>\n",
              "      <th>language</th>\n",
              "      <th>genre_ids</th>\n",
              "      <th>song_length_cat</th>\n",
              "      <th>artist_name_number</th>\n",
              "      <th>composer_number</th>\n",
              "      <th>lyricist_number</th>\n",
              "      <th>genre_number</th>\n",
              "      <th>name</th>\n",
              "      <th>decade</th>\n",
              "      <th>country</th>\n",
              "      <th>genre_first</th>\n",
              "      <th>source_type_ratio</th>\n",
              "      <th>source_system_tab_ratio</th>\n",
              "      <th>artist_name_ratio</th>\n",
              "      <th>composer_ratio</th>\n",
              "    </tr>\n",
              "  </thead>\n",
              "  <tbody>\n",
              "    <tr>\n",
              "      <th>0</th>\n",
              "      <td>0</td>\n",
              "      <td>9176</td>\n",
              "      <td>86884</td>\n",
              "      <td>1</td>\n",
              "      <td>7</td>\n",
              "      <td>6</td>\n",
              "      <td>5511</td>\n",
              "      <td>215</td>\n",
              "      <td>0.506442</td>\n",
              "      <td>0.474419</td>\n",
              "      <td>1</td>\n",
              "      <td>0</td>\n",
              "      <td>2.0</td>\n",
              "      <td>7</td>\n",
              "      <td>2103</td>\n",
              "      <td>3784</td>\n",
              "      <td>16653</td>\n",
              "      <td>24099</td>\n",
              "      <td>8</td>\n",
              "      <td>337</td>\n",
              "      <td>1</td>\n",
              "      <td>1.0</td>\n",
              "      <td>2.0</td>\n",
              "      <td>0.0</td>\n",
              "      <td>1.0</td>\n",
              "      <td>60284</td>\n",
              "      <td>10</td>\n",
              "      <td>33</td>\n",
              "      <td>104</td>\n",
              "      <td>0.642</td>\n",
              "      <td>0.604</td>\n",
              "      <td>0.667</td>\n",
              "      <td>0.500</td>\n",
              "    </tr>\n",
              "    <tr>\n",
              "      <th>1</th>\n",
              "      <td>1</td>\n",
              "      <td>19273</td>\n",
              "      <td>260594</td>\n",
              "      <td>3</td>\n",
              "      <td>8</td>\n",
              "      <td>4</td>\n",
              "      <td>622</td>\n",
              "      <td>1</td>\n",
              "      <td>0.742765</td>\n",
              "      <td>1.000000</td>\n",
              "      <td>13</td>\n",
              "      <td>24</td>\n",
              "      <td>0.0</td>\n",
              "      <td>9</td>\n",
              "      <td>2301</td>\n",
              "      <td>36868</td>\n",
              "      <td>69766</td>\n",
              "      <td>24099</td>\n",
              "      <td>8</td>\n",
              "      <td>99</td>\n",
              "      <td>1</td>\n",
              "      <td>1.0</td>\n",
              "      <td>0.0</td>\n",
              "      <td>0.0</td>\n",
              "      <td>1.0</td>\n",
              "      <td>95288</td>\n",
              "      <td>8</td>\n",
              "      <td>109</td>\n",
              "      <td>33</td>\n",
              "      <td>0.662</td>\n",
              "      <td>0.788</td>\n",
              "      <td>0.875</td>\n",
              "      <td>0.766</td>\n",
              "    </tr>\n",
              "    <tr>\n",
              "      <th>2</th>\n",
              "      <td>2</td>\n",
              "      <td>19273</td>\n",
              "      <td>140755</td>\n",
              "      <td>3</td>\n",
              "      <td>8</td>\n",
              "      <td>4</td>\n",
              "      <td>622</td>\n",
              "      <td>4</td>\n",
              "      <td>0.742765</td>\n",
              "      <td>0.500000</td>\n",
              "      <td>13</td>\n",
              "      <td>24</td>\n",
              "      <td>0.0</td>\n",
              "      <td>9</td>\n",
              "      <td>2301</td>\n",
              "      <td>24601</td>\n",
              "      <td>51540</td>\n",
              "      <td>24099</td>\n",
              "      <td>8</td>\n",
              "      <td>99</td>\n",
              "      <td>1</td>\n",
              "      <td>1.0</td>\n",
              "      <td>1.0</td>\n",
              "      <td>0.0</td>\n",
              "      <td>1.0</td>\n",
              "      <td>67086</td>\n",
              "      <td>9</td>\n",
              "      <td>109</td>\n",
              "      <td>33</td>\n",
              "      <td>0.662</td>\n",
              "      <td>0.788</td>\n",
              "      <td>1.000</td>\n",
              "      <td>1.000</td>\n",
              "    </tr>\n",
              "    <tr>\n",
              "      <th>3</th>\n",
              "      <td>3</td>\n",
              "      <td>19273</td>\n",
              "      <td>27577</td>\n",
              "      <td>3</td>\n",
              "      <td>8</td>\n",
              "      <td>4</td>\n",
              "      <td>622</td>\n",
              "      <td>1</td>\n",
              "      <td>0.742765</td>\n",
              "      <td>1.000000</td>\n",
              "      <td>13</td>\n",
              "      <td>24</td>\n",
              "      <td>0.0</td>\n",
              "      <td>9</td>\n",
              "      <td>2301</td>\n",
              "      <td>31651</td>\n",
              "      <td>41991</td>\n",
              "      <td>24099</td>\n",
              "      <td>0</td>\n",
              "      <td>6</td>\n",
              "      <td>1</td>\n",
              "      <td>1.0</td>\n",
              "      <td>1.0</td>\n",
              "      <td>0.0</td>\n",
              "      <td>1.0</td>\n",
              "      <td>40702</td>\n",
              "      <td>10</td>\n",
              "      <td>33</td>\n",
              "      <td>3</td>\n",
              "      <td>0.662</td>\n",
              "      <td>0.788</td>\n",
              "      <td>1.000</td>\n",
              "      <td>1.000</td>\n",
              "    </tr>\n",
              "    <tr>\n",
              "      <th>4</th>\n",
              "      <td>4</td>\n",
              "      <td>9176</td>\n",
              "      <td>38706</td>\n",
              "      <td>1</td>\n",
              "      <td>7</td>\n",
              "      <td>6</td>\n",
              "      <td>5511</td>\n",
              "      <td>412</td>\n",
              "      <td>0.506442</td>\n",
              "      <td>0.364078</td>\n",
              "      <td>1</td>\n",
              "      <td>0</td>\n",
              "      <td>2.0</td>\n",
              "      <td>7</td>\n",
              "      <td>2103</td>\n",
              "      <td>5190</td>\n",
              "      <td>9701</td>\n",
              "      <td>24099</td>\n",
              "      <td>8</td>\n",
              "      <td>2</td>\n",
              "      <td>1</td>\n",
              "      <td>1.0</td>\n",
              "      <td>3.0</td>\n",
              "      <td>0.0</td>\n",
              "      <td>1.0</td>\n",
              "      <td>142810</td>\n",
              "      <td>10</td>\n",
              "      <td>84</td>\n",
              "      <td>2</td>\n",
              "      <td>0.642</td>\n",
              "      <td>0.604</td>\n",
              "      <td>1.000</td>\n",
              "      <td>1.000</td>\n",
              "    </tr>\n",
              "  </tbody>\n",
              "</table>\n",
              "</div>\n",
              "      <button class=\"colab-df-convert\" onclick=\"convertToInteractive('df-b06cf59e-9839-4c9a-9f55-cb1d1fbd5bf7')\"\n",
              "              title=\"Convert this dataframe to an interactive table.\"\n",
              "              style=\"display:none;\">\n",
              "        \n",
              "  <svg xmlns=\"http://www.w3.org/2000/svg\" height=\"24px\"viewBox=\"0 0 24 24\"\n",
              "       width=\"24px\">\n",
              "    <path d=\"M0 0h24v24H0V0z\" fill=\"none\"/>\n",
              "    <path d=\"M18.56 5.44l.94 2.06.94-2.06 2.06-.94-2.06-.94-.94-2.06-.94 2.06-2.06.94zm-11 1L8.5 8.5l.94-2.06 2.06-.94-2.06-.94L8.5 2.5l-.94 2.06-2.06.94zm10 10l.94 2.06.94-2.06 2.06-.94-2.06-.94-.94-2.06-.94 2.06-2.06.94z\"/><path d=\"M17.41 7.96l-1.37-1.37c-.4-.4-.92-.59-1.43-.59-.52 0-1.04.2-1.43.59L10.3 9.45l-7.72 7.72c-.78.78-.78 2.05 0 2.83L4 21.41c.39.39.9.59 1.41.59.51 0 1.02-.2 1.41-.59l7.78-7.78 2.81-2.81c.8-.78.8-2.07 0-2.86zM5.41 20L4 18.59l7.72-7.72 1.47 1.35L5.41 20z\"/>\n",
              "  </svg>\n",
              "      </button>\n",
              "      \n",
              "  <style>\n",
              "    .colab-df-container {\n",
              "      display:flex;\n",
              "      flex-wrap:wrap;\n",
              "      gap: 12px;\n",
              "    }\n",
              "\n",
              "    .colab-df-convert {\n",
              "      background-color: #E8F0FE;\n",
              "      border: none;\n",
              "      border-radius: 50%;\n",
              "      cursor: pointer;\n",
              "      display: none;\n",
              "      fill: #1967D2;\n",
              "      height: 32px;\n",
              "      padding: 0 0 0 0;\n",
              "      width: 32px;\n",
              "    }\n",
              "\n",
              "    .colab-df-convert:hover {\n",
              "      background-color: #E2EBFA;\n",
              "      box-shadow: 0px 1px 2px rgba(60, 64, 67, 0.3), 0px 1px 3px 1px rgba(60, 64, 67, 0.15);\n",
              "      fill: #174EA6;\n",
              "    }\n",
              "\n",
              "    [theme=dark] .colab-df-convert {\n",
              "      background-color: #3B4455;\n",
              "      fill: #D2E3FC;\n",
              "    }\n",
              "\n",
              "    [theme=dark] .colab-df-convert:hover {\n",
              "      background-color: #434B5C;\n",
              "      box-shadow: 0px 1px 3px 1px rgba(0, 0, 0, 0.15);\n",
              "      filter: drop-shadow(0px 1px 2px rgba(0, 0, 0, 0.3));\n",
              "      fill: #FFFFFF;\n",
              "    }\n",
              "  </style>\n",
              "\n",
              "      <script>\n",
              "        const buttonEl =\n",
              "          document.querySelector('#df-b06cf59e-9839-4c9a-9f55-cb1d1fbd5bf7 button.colab-df-convert');\n",
              "        buttonEl.style.display =\n",
              "          google.colab.kernel.accessAllowed ? 'block' : 'none';\n",
              "\n",
              "        async function convertToInteractive(key) {\n",
              "          const element = document.querySelector('#df-b06cf59e-9839-4c9a-9f55-cb1d1fbd5bf7');\n",
              "          const dataTable =\n",
              "            await google.colab.kernel.invokeFunction('convertToInteractive',\n",
              "                                                     [key], {});\n",
              "          if (!dataTable) return;\n",
              "\n",
              "          const docLinkHtml = 'Like what you see? Visit the ' +\n",
              "            '<a target=\"_blank\" href=https://colab.research.google.com/notebooks/data_table.ipynb>data table notebook</a>'\n",
              "            + ' to learn more about interactive tables.';\n",
              "          element.innerHTML = '';\n",
              "          dataTable['output_type'] = 'display_data';\n",
              "          await google.colab.output.renderOutput(dataTable, element);\n",
              "          const docLink = document.createElement('div');\n",
              "          docLink.innerHTML = docLinkHtml;\n",
              "          element.appendChild(docLink);\n",
              "        }\n",
              "      </script>\n",
              "    </div>\n",
              "  </div>\n",
              "  "
            ],
            "text/plain": [
              "   Unnamed: 0   msno  ...  artist_name_ratio  composer_ratio\n",
              "0           0   9176  ...              0.667           0.500\n",
              "1           1  19273  ...              0.875           0.766\n",
              "2           2  19273  ...              1.000           1.000\n",
              "3           3  19273  ...              1.000           1.000\n",
              "4           4   9176  ...              1.000           1.000\n",
              "\n",
              "[5 rows x 33 columns]"
            ]
          },
          "metadata": {},
          "execution_count": 10
        },
        {
          "output_type": "stream",
          "name": "stdout",
          "text": [
            "Warning: Total number of columns (33) exceeds max_columns (20) limiting to first (20) columns.\n"
          ]
        }
      ],
      "source": [
        "X_train.head()"
      ]
    },
    {
      "cell_type": "code",
      "execution_count": 11,
      "metadata": {
        "id": "sfPYXT15pHt1"
      },
      "outputs": [],
      "source": [
        "# replacing NA with 0\n",
        "X_train[['artist_name_number', 'composer_number', 'lyricist_number',\n",
        "       'genre_number']] = X_train[['artist_name_number', 'composer_number', 'lyricist_number',\n",
        "       'genre_number']].fillna(0, inplace=False)\n",
        "\n",
        "\n",
        "X_val[['artist_name_number', 'composer_number', 'lyricist_number',\n",
        "       'genre_number']] = X_val[['artist_name_number', 'composer_number', 'lyricist_number',\n",
        "       'genre_number']].fillna(0, inplace=False)\n",
        "\n",
        "test[['artist_name_number', 'composer_number', 'lyricist_number',\n",
        "       'genre_number', 'user_repeat_ratio', 'song_repeat_ratio']] = test[['artist_name_number', 'composer_number', 'lyricist_number',\n",
        "       'genre_number', 'user_repeat_ratio', 'song_repeat_ratio']].fillna(0, inplace=False)"
      ]
    },
    {
      "cell_type": "code",
      "execution_count": 12,
      "metadata": {
        "colab": {
          "base_uri": "https://localhost:8080/"
        },
        "id": "N6Nv98mzpiSM",
        "outputId": "a098fb23-d9de-4ba3-cc23-db055cab5130"
      },
      "outputs": [
        {
          "output_type": "stream",
          "name": "stdout",
          "text": [
            "nan:  Index([], dtype='object')\n"
          ]
        }
      ],
      "source": [
        "print('nan: ', X_train.columns[X_train.isin([np.nan]).any()])"
      ]
    },
    {
      "cell_type": "code",
      "execution_count": 13,
      "metadata": {
        "colab": {
          "base_uri": "https://localhost:8080/"
        },
        "id": "gjixjUa6q089",
        "outputId": "70d14e38-ad10-4b85-8d97-1988054263a9"
      },
      "outputs": [
        {
          "output_type": "stream",
          "name": "stdout",
          "text": [
            "nan:  Index([], dtype='object')\n"
          ]
        }
      ],
      "source": [
        "print('nan: ', X_val.columns[X_train.isin([np.nan]).any()])"
      ]
    },
    {
      "cell_type": "code",
      "execution_count": null,
      "metadata": {
        "colab": {
          "base_uri": "https://localhost:8080/"
        },
        "id": "tIjyCer58hbG",
        "outputId": "b0e9fff3-63fe-4163-ba8e-75750da1d88d"
      },
      "outputs": [
        {
          "output_type": "stream",
          "name": "stdout",
          "text": [
            "nan:  Index([], dtype='object')\n"
          ]
        }
      ],
      "source": [
        "print('nan: ', test.columns[test.isin([np.nan]).any()])"
      ]
    },
    {
      "cell_type": "markdown",
      "metadata": {
        "id": "qDu6ITIklLR8"
      },
      "source": [
        "### Log reg"
      ]
    },
    {
      "cell_type": "markdown",
      "source": [
        "Using GridSearchCV for hyper-parameter tuning"
      ],
      "metadata": {
        "id": "0gvuXqotivTA"
      }
    },
    {
      "cell_type": "code",
      "execution_count": null,
      "metadata": {
        "colab": {
          "base_uri": "https://localhost:8080/"
        },
        "id": "ZjD_a4OQohpZ",
        "outputId": "8b1c0290-02d0-4dea-a223-647e95055ca8"
      },
      "outputs": [
        {
          "name": "stdout",
          "output_type": "stream",
          "text": [
            "Fitting 3 folds for each of 6 candidates, totalling 18 fits\n"
          ]
        },
        {
          "name": "stderr",
          "output_type": "stream",
          "text": [
            "/usr/local/lib/python3.7/dist-packages/sklearn/linear_model/_stochastic_gradient.py:700: ConvergenceWarning: Maximum number of iteration reached before convergence. Consider increasing max_iter to improve the fit.\n",
            "  ConvergenceWarning,\n"
          ]
        },
        {
          "name": "stdout",
          "output_type": "stream",
          "text": [
            "SGDClassifier(alpha=0.05, class_weight='balanced', n_jobs=-1, random_state=23)\n",
            "AUC_train =  0.5628199284167301\n",
            "AUC_val =  0.5711617145251036\n",
            "Time :  3404.0597376823425\n"
          ]
        }
      ],
      "source": [
        "start = time.time()\n",
        "parameters = {'penalty':['l2', 'l1'], \n",
        "                'alpha':[0.01, 0.05, 0.1]}\n",
        "                \n",
        "clf = SGDClassifier(loss='hinge', n_jobs=-1, random_state=23, class_weight='balanced' )\n",
        "model = GridSearchCV(clf, parameters, scoring = 'roc_auc', n_jobs=-1, verbose=2, cv=3)\n",
        "model.fit(X_train, y_train)\n",
        "\n",
        "print(model.best_estimator_)\n",
        "print('AUC_train = ',model.score(X_train, y_train))\n",
        "print('AUC_val = ',model.score(X_val, y_val))\n",
        "print('Time : ', (time.time() -  start))"
      ]
    },
    {
      "cell_type": "code",
      "execution_count": null,
      "metadata": {
        "colab": {
          "base_uri": "https://localhost:8080/"
        },
        "id": "KjI3WAv_yqLv",
        "outputId": "d8731679-c7a5-42fe-a6d1-cd842ce8266d"
      },
      "outputs": [
        {
          "name": "stderr",
          "output_type": "stream",
          "text": [
            "/usr/local/lib/python3.7/dist-packages/sklearn/linear_model/_stochastic_gradient.py:700: ConvergenceWarning: Maximum number of iteration reached before convergence. Consider increasing max_iter to improve the fit.\n",
            "  ConvergenceWarning,\n"
          ]
        },
        {
          "data": {
            "text/plain": [
              "SGDClassifier(alpha=0.05, class_weight='balanced', n_jobs=-1, random_state=23)"
            ]
          },
          "execution_count": 25,
          "metadata": {},
          "output_type": "execute_result"
        }
      ],
      "source": [
        "lr = SGDClassifier(alpha=0.05, class_weight='balanced', n_jobs=-1, random_state=23)\n",
        "lr.fit(X_train, y_train)"
      ]
    },
    {
      "cell_type": "code",
      "execution_count": null,
      "metadata": {
        "colab": {
          "base_uri": "https://localhost:8080/"
        },
        "id": "Yam9TD76hqcx",
        "outputId": "5665a82f-94e6-44ae-e9a7-e3b22dc51d67"
      },
      "outputs": [
        {
          "name": "stdout",
          "output_type": "stream",
          "text": [
            "AUC_train =  0.5723286666666667\n",
            "AUC_val =  0.444506\n"
          ]
        }
      ],
      "source": [
        "print('AUC_train = ',lr.score(X_train, y_train))\n",
        "print('AUC_val = ',lr.score(X_val, y_val))"
      ]
    },
    {
      "cell_type": "code",
      "execution_count": null,
      "metadata": {
        "id": "OdQPtqc28ccn"
      },
      "outputs": [],
      "source": [
        ""
      ]
    },
    {
      "cell_type": "markdown",
      "metadata": {
        "id": "PdQxHz0HOe4Q"
      },
      "source": [
        "### SVM"
      ]
    },
    {
      "cell_type": "code",
      "execution_count": null,
      "metadata": {
        "colab": {
          "base_uri": "https://localhost:8080/"
        },
        "id": "1-n65M-9Ogn2",
        "outputId": "a4c9cef5-3614-4951-ac1f-bdb022c460b2"
      },
      "outputs": [
        {
          "name": "stdout",
          "output_type": "stream",
          "text": [
            "Fitting 3 folds for each of 6 candidates, totalling 18 fits\n",
            "SGDClassifier(class_weight='balanced', n_jobs=-1, penalty='l1', random_state=23)\n",
            "AUC_train =  0.5639613039898813\n",
            "AUC_val =  0.5693538726333014\n",
            "Time :  4025.5501539707184\n"
          ]
        }
      ],
      "source": [
        "start = time.time()\n",
        "parameters = {'penalty':['l2', 'l1'], \n",
        "                'alpha':[0.0001, 0.01, 0.1]}\n",
        "                \n",
        "clf = SGDClassifier(loss='hinge', n_jobs=-1, random_state=23, class_weight='balanced' )\n",
        "model = GridSearchCV(clf, parameters, scoring = 'roc_auc', n_jobs=-1, verbose=2, cv=3)\n",
        "model.fit(X_train, y_train)\n",
        "\n",
        "print(model.best_estimator_)\n",
        "print('AUC_train = ',model.score(X_train, y_train))\n",
        "print('AUC_val = ',model.score(X_val, y_val))\n",
        "print('Time : ', (time.time() -  start))"
      ]
    },
    {
      "cell_type": "code",
      "execution_count": null,
      "metadata": {
        "id": "RfrwRFC5iukv",
        "colab": {
          "base_uri": "https://localhost:8080/"
        },
        "outputId": "fb957138-8c12-496d-b8ce-5f5c03dbb913"
      },
      "outputs": [
        {
          "output_type": "execute_result",
          "data": {
            "text/plain": [
              "(5901934, 33)"
            ]
          },
          "metadata": {},
          "execution_count": 18
        }
      ],
      "source": [
        "X_train.shape"
      ]
    },
    {
      "cell_type": "code",
      "source": [
        "5901934 - 1500000"
      ],
      "metadata": {
        "colab": {
          "base_uri": "https://localhost:8080/"
        },
        "id": "VuxlUYF5p1nd",
        "outputId": "fe6275ed-7967-4973-c55f-c09bd430dcd5"
      },
      "execution_count": null,
      "outputs": [
        {
          "output_type": "execute_result",
          "data": {
            "text/plain": [
              "4401934"
            ]
          },
          "metadata": {},
          "execution_count": 19
        }
      ]
    },
    {
      "cell_type": "code",
      "source": [
        "X_val.shape"
      ],
      "metadata": {
        "colab": {
          "base_uri": "https://localhost:8080/"
        },
        "id": "ZDr8RpA2p9_i",
        "outputId": "b8b6cd20-c3a3-4eab-d532-05da76a2adde"
      },
      "execution_count": null,
      "outputs": [
        {
          "output_type": "execute_result",
          "data": {
            "text/plain": [
              "(1475484, 33)"
            ]
          },
          "metadata": {},
          "execution_count": 21
        }
      ]
    },
    {
      "cell_type": "markdown",
      "metadata": {
        "id": "bRh1qwEE87nn"
      },
      "source": [
        "### Random Forest"
      ]
    },
    {
      "cell_type": "markdown",
      "source": [
        "Problems with RAM on this large data. Using samples for those models"
      ],
      "metadata": {
        "id": "0-IycjT_i3-d"
      }
    },
    {
      "cell_type": "code",
      "source": [
        "# sampling\n",
        "\n",
        "X_train_sample = X_train[4401934:] \n",
        "y_train_sample = y_train[4401934:] \n",
        "\n",
        "X_val_sample = X_val[:150000]\n",
        "y_val_sample = y_val[:150000]\n",
        "\n",
        "\n",
        "print(X_train_sample.shape, X_val_sample.shape)"
      ],
      "metadata": {
        "id": "sEHJ3cILpgVm",
        "colab": {
          "base_uri": "https://localhost:8080/"
        },
        "outputId": "a6f8c1ff-957e-402f-99f6-e3714ee50fd4"
      },
      "execution_count": 14,
      "outputs": [
        {
          "output_type": "stream",
          "name": "stdout",
          "text": [
            "(1500000, 33) (150000, 33)\n"
          ]
        }
      ]
    },
    {
      "cell_type": "code",
      "execution_count": 15,
      "metadata": {
        "id": "mjIdzoxl9CZM"
      },
      "outputs": [],
      "source": [
        "# start = time.time()\n",
        "# parameters = {'n_estimators':[100, 300, 1000],\n",
        "#               'max_depth': [15, 25, 35],\n",
        "#               'min_samples_split':[3, 5, 10]\n",
        "#               }\n",
        "# clf = RandomForestClassifier(random_state=23, class_weight='balanced', n_jobs=-1)\n",
        "# model = GridSearchCV(clf, parameters, scoring = 'roc_auc', verbose=2, cv=3)\n",
        "# model.fit(X_train_sample, y_train_sample)\n",
        "\n",
        "# print(model.best_estimator_)\n",
        "# print('AUC_train = ',model.score(X_train_sample, y_train_sample))\n",
        "# print('AUC_val = ',model.score(X_val_sample, y_val_sample))\n",
        "# print('Time : ', (time.time() -  start))"
      ]
    },
    {
      "cell_type": "code",
      "source": [
        "start = time.time()\n",
        "\n",
        "model = RandomForestClassifier(random_state=23, class_weight='balanced', n_jobs=-1)\n",
        "\n",
        "model.fit(X_train_sample, y_train_sample)\n",
        "\n"
      ],
      "metadata": {
        "colab": {
          "base_uri": "https://localhost:8080/"
        },
        "id": "Ys-b8FU8t5tG",
        "outputId": "1fcf5840-bd87-4940-c2b9-b15a801c339c"
      },
      "execution_count": 21,
      "outputs": [
        {
          "output_type": "execute_result",
          "data": {
            "text/plain": [
              "RandomForestClassifier(class_weight='balanced', n_jobs=-1, random_state=23)"
            ]
          },
          "metadata": {},
          "execution_count": 21
        }
      ]
    },
    {
      "cell_type": "code",
      "source": [
        "print('AUC_train = ',model.score(X_train_sample, y_train_sample))\n",
        "print('AUC_val = ',model.score(X_val_sample, y_val_sample))\n",
        "print('Time : ', (time.time() -  start))"
      ],
      "metadata": {
        "colab": {
          "base_uri": "https://localhost:8080/"
        },
        "id": "omOb5G0KfsKX",
        "outputId": "974e76cd-af42-4e5e-a732-5d86a124f0ac"
      },
      "execution_count": 22,
      "outputs": [
        {
          "output_type": "stream",
          "name": "stdout",
          "text": [
            "AUC_train =  0.999998\n",
            "AUC_val =  0.6999666666666666\n",
            "Time :  481.1014447212219\n"
          ]
        }
      ]
    },
    {
      "cell_type": "markdown",
      "metadata": {
        "id": "FbVRhp91AD-a"
      },
      "source": [
        "### Decision Tree"
      ]
    },
    {
      "cell_type": "code",
      "execution_count": null,
      "metadata": {
        "id": "BIBXXzQGALi6"
      },
      "outputs": [],
      "source": [
        "# start = time.time()\n",
        "# parameters = {'max_depth':[10, 15, 20], \n",
        "#                 'min_samples_split':[5, 10, 20],\n",
        "#                 'max_leaf_nodes': [10, 50, 100]}\n",
        "\n",
        "# clf = RandomForestClassifier(random_state=23, class_weight='balanced')\n",
        "# model = GridSearchCV(clf, parameters, scoring = 'roc_auc', verbose=2, cv=3)\n",
        "# model.fit(X_train_sample, y_train_sample)\n",
        "\n",
        "# print(model.best_estimator_)\n",
        "# print('AUC_train = ',model.score(X_train_sample, y_train_sample))\n",
        "# print('AUC_val = ',model.score(X_val_sample, y_val_sample))\n",
        "# print('Time : ', (time.time() -  start))"
      ]
    },
    {
      "cell_type": "code",
      "source": [
        "model = DecisionTreeClassifier(random_state=23, class_weight='balanced' )\n",
        "\n",
        "model.fit(X_train_sample, y_train_sample)\n",
        "\n"
      ],
      "metadata": {
        "id": "vOxuJ58juCrp",
        "colab": {
          "base_uri": "https://localhost:8080/"
        },
        "outputId": "7e08429a-646b-4217-9a24-51f035256f65"
      },
      "execution_count": 19,
      "outputs": [
        {
          "output_type": "execute_result",
          "data": {
            "text/plain": [
              "DecisionTreeClassifier(class_weight='balanced', random_state=23)"
            ]
          },
          "metadata": {},
          "execution_count": 19
        }
      ]
    },
    {
      "cell_type": "code",
      "source": [
        "print('AUC_train = ',model.score(X_train_sample, y_train_sample))\n",
        "print('AUC_val = ',model.score(X_val_sample, y_val_sample))\n",
        "print('Time : ', (time.time() -  start))"
      ],
      "metadata": {
        "colab": {
          "base_uri": "https://localhost:8080/"
        },
        "id": "EUKrzOJjf8k1",
        "outputId": "b6aac639-5d3d-4fca-fc94-70d71849a5b2"
      },
      "execution_count": 20,
      "outputs": [
        {
          "output_type": "stream",
          "name": "stdout",
          "text": [
            "AUC_train =  1.0\n",
            "AUC_val =  0.6264666666666666\n",
            "Time :  635.3794229030609\n"
          ]
        }
      ]
    },
    {
      "cell_type": "markdown",
      "metadata": {
        "id": "jcarOI8QjPDb"
      },
      "source": [
        "### LightGBM"
      ]
    },
    {
      "cell_type": "code",
      "execution_count": null,
      "metadata": {
        "id": "LljKTfxgsX7v"
      },
      "outputs": [],
      "source": [
        "d_train = lgb.Dataset(X_train, y_train)\n",
        "d_val = lgb.Dataset(X_val, y_val)"
      ]
    },
    {
      "cell_type": "code",
      "execution_count": null,
      "metadata": {
        "colab": {
          "base_uri": "https://localhost:8080/"
        },
        "id": "eW7dEhKTb_3p",
        "outputId": "468adfae-7183-4304-a51c-0e695b72335e"
      },
      "outputs": [
        {
          "name": "stdout",
          "output_type": "stream",
          "text": [
            "Training LGBM model...\n",
            "Training until validation scores don't improve for 100 rounds.\n",
            "Early stopping, best iteration is:\n",
            "[36]\tvalid_0's auc: 0.749607\n"
          ]
        }
      ],
      "source": [
        "print('Training LGBM model...')\n",
        "params = {}\n",
        "params['learning_rate'] = 0.2\n",
        "params['objective'] = 'binary'\n",
        "params['min_child_samples'] = 100\n",
        "params['bagging_fraction'] = 0.7\n",
        "params['feature_fraction'] = 0.7\n",
        "params['bagging_frequency'] = 5\n",
        "params['metric'] = 'auc'\n",
        "\n",
        "model = lgb.train(params, \n",
        "                  train_set=d_train, \n",
        "                  num_boost_round=15000, early_stopping_rounds=100, \n",
        "                  valid_sets=d_val,\n",
        "                  verbose_eval=500)"
      ]
    },
    {
      "cell_type": "markdown",
      "source": [
        "the best result so far"
      ],
      "metadata": {
        "id": "lD84ZG8BYrPN"
      }
    },
    {
      "cell_type": "code",
      "execution_count": null,
      "metadata": {
        "id": "NFE51Zhrjji3"
      },
      "outputs": [],
      "source": [
        "test = test.rename(columns={\"Unnamed: 0\": \"id\"})"
      ]
    },
    {
      "cell_type": "code",
      "execution_count": null,
      "metadata": {
        "id": "vNVuV9URnO9C"
      },
      "outputs": [],
      "source": [
        "ids = test['id'].values"
      ]
    },
    {
      "cell_type": "code",
      "execution_count": null,
      "metadata": {
        "id": "Uf6jFCYEnVTb"
      },
      "outputs": [],
      "source": [
        "# saving test results\n",
        "def predict_and_save(clf, x_te, model):\n",
        "  file_name = 'submission_' + model +'.csv.gz'\n",
        "  p_test = clf.predict(x_te)\n",
        "  subm = pd.DataFrame()\n",
        "  subm['id'] = ids\n",
        "  subm['target'] = p_test\n",
        "  subm.to_csv(file_name, compression = 'gzip', index=False, float_format = '%.5f')\n"
      ]
    },
    {
      "cell_type": "code",
      "source": [
        "predict_and_save(model, test, 'lgb')"
      ],
      "metadata": {
        "id": "drZTEoyfjIkO"
      },
      "execution_count": null,
      "outputs": []
    },
    {
      "cell_type": "markdown",
      "metadata": {
        "id": "As-uoV4EbFnY"
      },
      "source": [
        "### CatBoosting"
      ]
    },
    {
      "cell_type": "code",
      "execution_count": null,
      "metadata": {
        "colab": {
          "base_uri": "https://localhost:8080/"
        },
        "id": "N5o5fGHarf_q",
        "outputId": "7c69f981-3eed-4b52-9e8c-77b523463be8"
      },
      "outputs": [
        {
          "name": "stdout",
          "output_type": "stream",
          "text": [
            "Collecting catboost\n",
            "  Downloading catboost-1.0.3-cp37-none-manylinux1_x86_64.whl (76.3 MB)\n",
            "\u001b[K     |████████████████████████████████| 76.3 MB 1.4 MB/s \n",
            "\u001b[?25hRequirement already satisfied: six in /usr/local/lib/python3.7/dist-packages (from catboost) (1.15.0)\n",
            "Requirement already satisfied: plotly in /usr/local/lib/python3.7/dist-packages (from catboost) (4.4.1)\n",
            "Requirement already satisfied: pandas>=0.24.0 in /usr/local/lib/python3.7/dist-packages (from catboost) (1.1.5)\n",
            "Requirement already satisfied: scipy in /usr/local/lib/python3.7/dist-packages (from catboost) (1.4.1)\n",
            "Requirement already satisfied: matplotlib in /usr/local/lib/python3.7/dist-packages (from catboost) (3.2.2)\n",
            "Requirement already satisfied: numpy>=1.16.0 in /usr/local/lib/python3.7/dist-packages (from catboost) (1.19.5)\n",
            "Requirement already satisfied: graphviz in /usr/local/lib/python3.7/dist-packages (from catboost) (0.10.1)\n",
            "Requirement already satisfied: python-dateutil>=2.7.3 in /usr/local/lib/python3.7/dist-packages (from pandas>=0.24.0->catboost) (2.8.2)\n",
            "Requirement already satisfied: pytz>=2017.2 in /usr/local/lib/python3.7/dist-packages (from pandas>=0.24.0->catboost) (2018.9)\n",
            "Requirement already satisfied: kiwisolver>=1.0.1 in /usr/local/lib/python3.7/dist-packages (from matplotlib->catboost) (1.3.2)\n",
            "Requirement already satisfied: cycler>=0.10 in /usr/local/lib/python3.7/dist-packages (from matplotlib->catboost) (0.11.0)\n",
            "Requirement already satisfied: pyparsing!=2.0.4,!=2.1.2,!=2.1.6,>=2.0.1 in /usr/local/lib/python3.7/dist-packages (from matplotlib->catboost) (3.0.6)\n",
            "Requirement already satisfied: retrying>=1.3.3 in /usr/local/lib/python3.7/dist-packages (from plotly->catboost) (1.3.3)\n",
            "Installing collected packages: catboost\n",
            "Successfully installed catboost-1.0.3\n"
          ]
        }
      ],
      "source": [
        "!pip install catboost"
      ]
    },
    {
      "cell_type": "code",
      "execution_count": null,
      "metadata": {
        "id": "Nuspzqs4rdwW"
      },
      "outputs": [],
      "source": [
        "import catboost as cb\n",
        "from catboost import CatBoostClassifier, Pool\n"
      ]
    },
    {
      "cell_type": "code",
      "execution_count": null,
      "metadata": {
        "colab": {
          "base_uri": "https://localhost:8080/"
        },
        "id": "83XJQvQCb5eO",
        "outputId": "4c7458ad-67aa-4f57-80bf-495b080d892e"
      },
      "outputs": [
        {
          "name": "stdout",
          "output_type": "stream",
          "text": [
            "0:\tlearn: 0.4628597\ttest: 0.6575037\tbest: 0.6575037 (0)\ttotal: 29.2s\tremaining: 2h 25m 25s\n"
          ]
        }
      ],
      "source": [
        "model_cb = cb.CatBoostClassifier(\n",
        "        iterations=300, \n",
        "        learning_rate=0.1, \n",
        "        depth=6, \n",
        "        loss_function='Logloss',\n",
        "        thread_count=30,\n",
        "        random_seed=229,\n",
        "        use_best_model = True,\n",
        "        l2_leaf_reg = 2\n",
        "    )\n",
        "\n",
        "cat_features = ['msno', 'song_id', 'source_system_tab', 'source_screen_name', 'source_type', 'artist_name', 'composer',\n",
        "              'lyricist', 'language', 'genre_ids', 'song_length_cat', 'name', 'decade', 'country', 'genre_first']\n",
        "eval_dataset = Pool(X_val,y_val,cat_features=cat_features)\n",
        "\n",
        "model_cat = model_cb.fit(X_train, y_train,cat_features,eval_set=eval_dataset,verbose_eval=25,early_stopping_rounds = 100)"
      ]
    },
    {
      "cell_type": "code",
      "execution_count": null,
      "metadata": {
        "id": "rfknzQTztgsJ"
      },
      "outputs": [],
      "source": [
        "model_cb, y_val_pred = run_cb(X_train, y_train['target'], X_val, y_val['target'],cat_features)\n",
        "\n"
      ]
    },
    {
      "cell_type": "code",
      "execution_count": null,
      "metadata": {
        "id": "cUuBa44Ab5pe"
      },
      "outputs": [],
      "source": [
        "print(roc_auc_score(y_val['target'],y_val_pred))"
      ]
    },
    {
      "cell_type": "code",
      "execution_count": null,
      "metadata": {
        "id": "Werz0Ym0b5su"
      },
      "outputs": [],
      "source": [
        ""
      ]
    },
    {
      "cell_type": "markdown",
      "metadata": {
        "id": "mVMhbv-WsYd2"
      },
      "source": [
        "### PCA"
      ]
    },
    {
      "cell_type": "code",
      "execution_count": null,
      "metadata": {
        "colab": {
          "background_save": true
        },
        "id": "RHRkJDcttYJF",
        "outputId": "c84d0d34-5bae-4caa-ab3d-65af7d1675e0"
      },
      "outputs": [
        {
          "data": {
            "text/plain": [
              "33"
            ]
          },
          "execution_count": null,
          "metadata": {},
          "output_type": "execute_result"
        }
      ],
      "source": [
        "len(X_train.keys())"
      ]
    },
    {
      "cell_type": "code",
      "execution_count": null,
      "metadata": {
        "id": "fW40wyCWsaRN"
      },
      "outputs": [],
      "source": [
        "pca = PCA(n_components=33)"
      ]
    },
    {
      "cell_type": "code",
      "execution_count": null,
      "metadata": {
        "id": "TkrAN_dnslRC"
      },
      "outputs": [],
      "source": [
        "pca.fit(X_train)"
      ]
    },
    {
      "cell_type": "code",
      "execution_count": null,
      "metadata": {
        "id": "lBZ_6Ze_tGFn"
      },
      "outputs": [],
      "source": [
        "plt.plot(np.cumsum(pca.explained_variance_ratio_))\n",
        "plt.xlabel('№ of components')\n",
        "plt.ylabel('Cumul. explained variance')"
      ]
    },
    {
      "cell_type": "code",
      "execution_count": null,
      "metadata": {
        "id": "YND134rXtwKA"
      },
      "outputs": [],
      "source": [
        "Pca = PCA(n_components=10)\n",
        "pca = Pca.fit(X_train)\n",
        "X_train_pca =  pca.transform(X_train)\n",
        "X_val_pca = pca.transform(X_val)\n",
        "test_pca = pca.transform(test)"
      ]
    },
    {
      "cell_type": "code",
      "execution_count": null,
      "metadata": {
        "id": "0N3vyE046iAi"
      },
      "outputs": [],
      "source": [
        "X_train_pca.shape"
      ]
    },
    {
      "cell_type": "code",
      "execution_count": null,
      "metadata": {
        "id": "01oAkX276IBp"
      },
      "outputs": [],
      "source": [
        "del X_train, X_val, test"
      ]
    },
    {
      "cell_type": "markdown",
      "metadata": {
        "id": "KenyAk0cFrwK"
      },
      "source": [
        "### LightGBM_PCA"
      ]
    },
    {
      "cell_type": "code",
      "execution_count": null,
      "metadata": {
        "id": "Nzqe3NV7xsRq"
      },
      "outputs": [],
      "source": [
        "d_train = lgb.Dataset(X_train_pca, y_train)\n",
        "d_val = lgb.Dataset(X_val, y_val)\n",
        "\n",
        "print('Training LGBM model...')\n",
        "params = {}\n",
        "params['learning_rate'] = 0.2\n",
        "params['objective'] = 'binary'\n",
        "params['min_child_samples'] = 100\n",
        "params['bagging_fraction'] = 0.7\n",
        "params['feature_fraction'] = 0.7\n",
        "params['bagging_frequency'] = 5\n",
        "params['metric'] = 'auc'\n",
        "\n",
        "model = lgb.train(params, \n",
        "                  train_set=d_train, \n",
        "                  num_boost_round=15000, early_stopping_rounds=100, \n",
        "                  valid_sets=d_val,\n",
        "                  verbose_eval=500)\n",
        "\n",
        "\n"
      ]
    },
    {
      "cell_type": "code",
      "execution_count": null,
      "metadata": {
        "id": "-60_xJnkxsbd"
      },
      "outputs": [],
      "source": [
        "test = test.rename(columns={\"Unnamed: 0\": \"id\"})\n",
        "\n",
        "ids = test['id'].values\n",
        "\n",
        "def predict_and_save(clf, x_te, model):\n",
        "  file_name = 'submission_' + model +'.csv.gz'\n",
        "  p_test = clf.predict(x_te)\n",
        "  subm = pd.DataFrame()\n",
        "  subm['id'] = ids\n",
        "  subm['target'] = p_test\n",
        "  subm.to_csv(file_name, compression = 'gzip', index=False, float_format = '%.5f')\n",
        "\n",
        "predict_and_save(model, test, 'lgb')"
      ]
    },
    {
      "cell_type": "code",
      "execution_count": null,
      "metadata": {
        "id": "ENaQGYjjxsd9"
      },
      "outputs": [],
      "source": [
        ""
      ]
    },
    {
      "cell_type": "code",
      "execution_count": null,
      "metadata": {
        "id": "JBhHpeOIxshL"
      },
      "outputs": [],
      "source": [
        ""
      ]
    },
    {
      "cell_type": "code",
      "execution_count": null,
      "metadata": {
        "id": "Pmnua2xqxskL"
      },
      "outputs": [],
      "source": [
        ""
      ]
    },
    {
      "cell_type": "code",
      "execution_count": null,
      "metadata": {
        "id": "9adxYmXsF1sJ"
      },
      "outputs": [],
      "source": [
        "# start = time.time()\n",
        "# parameters = { 'learning_rate' : [0.05, 0.10, 0.15],\n",
        "#               'max_depth': [10, 12, 15],\n",
        "#               'min_child_weight' : [3, 5, 7]}\n",
        "\n",
        "# clf = xgboost.XGBClassifier(objective='binary:logistic', random_state=2)\n",
        "# model = GridSearchCV(clf, parameters, scoring = 'roc_auc', verbose=2, cv=3)\n",
        "# model.fit(X_train_pca, y_train)\n",
        "\n",
        "# print(model.best_estimator_)\n",
        "# print('AUC_train = ',model.score(X_train_pca, y_train))\n",
        "# print('AUC_val = ',model.score(X_val_pca, y_val))\n",
        "# print('Time : ', (time.time() -  start))"
      ]
    },
    {
      "cell_type": "code",
      "execution_count": null,
      "metadata": {
        "colab": {
          "base_uri": "https://localhost:8080/"
        },
        "id": "GlYWSmYgGZP8",
        "outputId": "bb3f852f-1341-4428-bf20-7469d154c52d"
      },
      "outputs": [
        {
          "name": "stdout",
          "output_type": "stream",
          "text": [
            "[12:51:33] WARNING: /workspace/src/learner.cc:686: Tree method is automatically selected to be 'approx' for faster speed. To use old behavior (exact greedy algorithm on single machine), set tree_method to 'exact'.\n"
          ]
        },
        {
          "data": {
            "text/plain": [
              "XGBClassifier(colsample_bytree=0.5, gamma=0.3, learning_rate=0.05, max_depth=15,\n",
              "              min_child_weight=7, random_state=2)"
            ]
          },
          "execution_count": 31,
          "metadata": {},
          "output_type": "execute_result"
        }
      ],
      "source": [
        "xgb = xgboost.XGBClassifier(base_score=0.5, booster='gbtree', colsample_bylevel=1,\n",
        "              colsample_bynode=1, colsample_bytree=0.5, gamma=0.3,\n",
        "              reg_alpha=0, reg_lambda=1, scale_pos_weight=1, seed=None,\n",
        "              silent=None, subsample=1, verbosity=1)\n",
        "\n",
        "xgb.fit(X_train_pca, y_train)"
      ]
    },
    {
      "cell_type": "code",
      "execution_count": null,
      "metadata": {
        "id": "WkpZbHFBS4q9"
      },
      "outputs": [],
      "source": [
        "xgb = xgboost.XGBClassifier(base_score=0.5, booster='gbtree', colsample_bylevel=1,\n",
        "              colsample_bynode=1, colsample_bytree=0.5, gamma=0.3,\n",
        "              learning_rate=0.05, max_delta_step=0, max_depth=15)\n",
        "\n",
        "xgb.fit(X_train_pca, y_train)"
      ]
    },
    {
      "cell_type": "code",
      "execution_count": null,
      "metadata": {
        "colab": {
          "base_uri": "https://localhost:8080/"
        },
        "id": "XSwt-RFrDLcS",
        "outputId": "7646961d-50c0-40bc-9c6c-d85188365580"
      },
      "outputs": [
        {
          "name": "stdout",
          "output_type": "stream",
          "text": [
            "AUC_train =  0.6104041488773002\n",
            "AUC_val =  0.4096181320841161\n"
          ]
        }
      ],
      "source": [
        "print('AUC_train = ',xgb.score(X_train_pca, y_train))\n",
        "print('AUC_val = ',xgb.score(X_val_pca, y_val))"
      ]
    }
  ],
  "metadata": {
    "accelerator": "GPU",
    "colab": {
      "collapsed_sections": [],
      "name": "Untitled4.ipynb",
      "provenance": []
    },
    "kernelspec": {
      "display_name": "Python 3",
      "name": "python3"
    },
    "language_info": {
      "name": "python"
    }
  },
  "nbformat": 4,
  "nbformat_minor": 0
}